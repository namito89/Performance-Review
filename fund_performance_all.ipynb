{
 "cells": [
  {
   "cell_type": "code",
   "execution_count": 1,
   "id": "75e149e2",
   "metadata": {},
   "outputs": [],
   "source": [
    "import pandas as pd\n",
    "import numpy as np\n",
    "import matplotlib.pyplot as plt\n",
    "import seaborn as sns\n",
    "import plotly.express as px\n",
    "import plotly.graph_objects as go\n",
    "import plotly.io as pio\n",
    "pio.templates.default = \"plotly_white\"\n",
    "import datetime\n",
    "\n",
    "import warnings\n",
    "\n",
    "# Suppress pandas-specific warnings\n",
    "warnings.filterwarnings(\"ignore\")"
   ]
  },
  {
   "cell_type": "code",
   "execution_count": 2,
   "id": "faa5f762",
   "metadata": {},
   "outputs": [],
   "source": [
    "years_cal = ['2019','2020','2021','2022','2023','2024']\n",
    "yearly_metric = {}\n",
    "for year in years_cal:\n",
    "    yearly_metric[year] = pd.read_excel('yearly_metric.xlsx', sheet_name=year, index_col=0)"
   ]
  },
  {
   "cell_type": "code",
   "execution_count": 16,
   "id": "8f1d1d6b",
   "metadata": {},
   "outputs": [],
   "source": [
    "inside_list = ['HIEP.NS', 'NAM.TH.CS', 'NAM.TH.PS','MANDATE VND', 'VNI']"
   ]
  },
  {
   "cell_type": "markdown",
   "id": "5494fa55",
   "metadata": {},
   "source": [
    "# So sánh performance hàng năm"
   ]
  },
  {
   "cell_type": "code",
   "execution_count": 45,
   "id": "97201ffa",
   "metadata": {
    "scrolled": false
   },
   "outputs": [
    {
     "data": {
      "application/vnd.plotly.v1+json": {
       "config": {
        "plotlyServerURL": "https://plot.ly"
       },
       "data": [
        {
         "marker": {
          "color": "bisque",
          "size": 5
         },
         "mode": "markers",
         "name": "VNM US Equity",
         "type": "scatter",
         "x": [
          0.09778068221703226
         ],
         "y": [
          -0.1129167322524803
         ]
        },
        {
         "marker": {
          "color": "bisque",
          "size": 5
         },
         "mode": "markers",
         "name": "AFCVICI KY Equity",
         "type": "scatter",
         "x": [
          0.01422723716857241
         ],
         "y": [
          -0.06200419198217083
         ]
        },
        {
         "marker": {
          "color": "bisque",
          "size": 5
         },
         "mode": "markers",
         "name": "LUMENUS LE Equity",
         "type": "scatter",
         "x": [
          0.06148246988488644
         ],
         "y": [
          -0.07915163441565604
         ]
        },
        {
         "marker": {
          "color": "bisque",
          "size": 5
         },
         "mode": "markers",
         "name": "XFVT GY Equity",
         "type": "scatter",
         "x": [
          0.0636996343030547
         ],
         "y": [
          -0.1158777120315591
         ]
        },
        {
         "marker": {
          "color": "bisque",
          "size": 5
         },
         "mode": "markers",
         "name": "GAVNBCU LX Equity",
         "type": "scatter",
         "x": [
          0.02118037075525106
         ],
         "y": [
          -0.07957366923030278
         ]
        },
        {
         "marker": {
          "color": "bisque",
          "size": 5
         },
         "mode": "markers",
         "name": "LCVIETU SP Equity",
         "type": "scatter",
         "x": [
          0.0638105387412847
         ],
         "y": [
          -0.08994708994708982
         ]
        },
        {
         "marker": {
          "color": "bisque",
          "size": 5
         },
         "mode": "markers",
         "name": "FOVCPVA LX Equity",
         "type": "scatter",
         "x": [
          0.004787277573086609
         ],
         "y": [
          -0.07744107744107728
         ]
        },
        {
         "marker": {
          "color": "bisque",
          "size": 5
         },
         "mode": "markers",
         "name": "GAVTNIU LX Equity",
         "type": "scatter",
         "x": [
          0.01791044097719903
         ],
         "y": [
          -0.07921998781230949
         ]
        },
        {
         "marker": {
          "color": "bisque",
          "size": 5
         },
         "mode": "markers",
         "name": "AFCVIET KY Equity",
         "type": "scatter",
         "x": [
          0.009374619484407615
         ],
         "y": [
          -0.06317362703293415
         ]
        },
        {
         "marker": {
          "color": "bisque",
          "size": 5
         },
         "mode": "markers",
         "name": "VIETNAM ID Equity",
         "type": "scatter",
         "x": [
          0.007357511744951143
         ],
         "y": [
          -0.07469576164498479
         ]
        },
        {
         "marker": {
          "color": "bisque",
          "size": 5
         },
         "mode": "markers",
         "name": "E1VFVN30 VN Equity",
         "type": "scatter",
         "x": [
          0.0402946436583531
         ],
         "y": [
          -0.09646302250803905
         ]
        },
        {
         "marker": {
          "color": "bisque",
          "size": 5
         },
         "mode": "markers",
         "name": "XVTD LN Equity",
         "type": "scatter",
         "x": [
          0.04821333342886622
         ],
         "y": [
          -0.1314717859220479
         ]
        },
        {
         "marker": {
          "color": "bisque",
          "size": 5
         },
         "mode": "markers",
         "name": "KVIETNE TB Equity",
         "type": "scatter",
         "x": [
          -0.03200511070906702
         ],
         "y": [
          -0.1450142052070247
         ]
        },
        {
         "marker": {
          "color": "bisque",
          "size": 5
         },
         "mode": "markers",
         "name": "3087 HK Equity",
         "type": "scatter",
         "x": [
          0.04681236931643609
         ],
         "y": [
          -0.1464311994113309
         ]
        },
        {
         "marker": {
          "color": "bisque",
          "size": 5
         },
         "mode": "markers",
         "name": "SSICOAD VN Equity",
         "type": "scatter",
         "x": [
          0.04251234085774218
         ],
         "y": [
          -0.07446902363869387
         ]
        },
        {
         "marker": {
          "color": "bisque",
          "size": 5
         },
         "mode": "markers",
         "name": "XFVT GR Equity",
         "type": "scatter",
         "x": [
          0.07216895844355728
         ],
         "y": [
          -0.168116842759477
         ]
        },
        {
         "marker": {
          "color": "bisque",
          "size": 5
         },
         "mode": "markers",
         "name": "LCVIETS SP Equity",
         "type": "scatter",
         "x": [
          0.04758040441100629
         ],
         "y": [
          -0.09443725743855104
         ]
        },
        {
         "marker": {
          "color": "bisque",
          "size": 5
         },
         "mode": "markers",
         "name": "LUMENCH LE Equity",
         "type": "scatter",
         "x": [
          0.02214293502549894
         ],
         "y": [
          -0.08785271162697621
         ]
        },
        {
         "marker": {
          "color": "bisque",
          "size": 5
         },
         "mode": "markers",
         "name": "VTNPHXA KY Equity",
         "type": "scatter",
         "x": [
          0.07770596663931886
         ],
         "y": [
          -0.0583875359249733
         ]
        },
        {
         "marker": {
          "color": "bisque",
          "size": 5
         },
         "mode": "markers",
         "name": "CPVNEQA TB Equity",
         "type": "scatter",
         "x": [
          -0.08956453845852658
         ],
         "y": [
          -0.1566498929223235
         ]
        },
        {
         "marker": {
          "color": "bisque",
          "size": 5
         },
         "mode": "markers",
         "name": "KIMVGIU LX Equity",
         "type": "scatter",
         "x": [
          0.05308333884071526
         ],
         "y": [
          -0.08956388720524186
         ]
        },
        {
         "marker": {
          "color": "bisque",
          "size": 5
         },
         "mode": "markers",
         "name": "VIETEUR ID Equity",
         "type": "scatter",
         "x": [
          0.03381121265388567
         ],
         "y": [
          -0.08424301739065014
         ]
        },
        {
         "marker": {
          "color": "bisque",
          "size": 5
         },
         "mode": "markers",
         "name": "9A311108 JP Equity",
         "type": "scatter",
         "x": [
          0.04819244152459071
         ],
         "y": [
          -0.1019625991413809
         ]
        },
        {
         "marker": {
          "color": "bisque",
          "size": 5
         },
         "mode": "markers",
         "name": "XFVT GT Equity",
         "type": "scatter",
         "x": [
          0.0636996343030547
         ],
         "y": [
          -0.1158777120315591
         ]
        },
        {
         "marker": {
          "color": "bisque",
          "size": 5
         },
         "mode": "markers",
         "name": "XFVT SP Equity",
         "type": "scatter",
         "x": [
          0.04933057399820366
         ],
         "y": [
          -0.1247072599531638
         ]
        },
        {
         "marker": {
          "color": "bisque",
          "size": 5
         },
         "mode": "markers",
         "name": "TCMVN NA Equity",
         "type": "scatter",
         "x": [
          0.05408944348499214
         ],
         "y": [
          -0.07931092923958269
         ]
        },
        {
         "marker": {
          "color": "bisque",
          "size": 5
         },
         "mode": "markers",
         "name": "VCVOF US Equity",
         "type": "scatter",
         "x": [
          0.09799411654585602
         ],
         "y": [
          -0.08989346535680044
         ]
        },
        {
         "marker": {
          "color": "bisque",
          "size": 5
         },
         "mode": "markers",
         "name": "FUESSV50 VN Equity",
         "type": "scatter",
         "x": [
          0.039012566802324
         ],
         "y": [
          -0.08888888888888945
         ]
        },
        {
         "marker": {
          "color": "bisque",
          "size": 5
         },
         "mode": "markers",
         "name": "AB311171 JP Equity",
         "type": "scatter",
         "x": [
          0.02525141778452109
         ],
         "y": [
          -0.09134252608868129
         ]
        },
        {
         "marker": {
          "color": "bisque",
          "size": 5
         },
         "mode": "markers",
         "name": "IOFVTEQ LX Equity",
         "type": "scatter",
         "x": [
          0.06414348148378268
         ],
         "y": [
          -0.07505573445627894
         ]
        },
        {
         "marker": {
          "color": "bisque",
          "size": 5
         },
         "mode": "markers",
         "name": "SGVIEOP HK Equity",
         "type": "scatter",
         "x": [
          0.07585556625369538
         ],
         "y": [
          -0.08080435384189645
         ]
        },
        {
         "marker": {
          "color": "maroon",
          "size": 15,
          "symbol": "diamond"
         },
         "mode": "markers",
         "name": "VFMVF1 VN Equity",
         "type": "scatter",
         "x": [
          0.1021660350805504
         ],
         "y": [
          -0.06763460261300379
         ]
        },
        {
         "marker": {
          "color": "bisque",
          "size": 5
         },
         "mode": "markers",
         "name": "FOVIEDE LX Equity",
         "type": "scatter",
         "x": [
          0.01871803122613609
         ],
         "y": [
          -0.09104151493080836
         ]
        },
        {
         "marker": {
          "color": "bisque",
          "size": 5
         },
         "mode": "markers",
         "name": "GELIONV SP Equity",
         "type": "scatter",
         "x": [
          0.04769565139886059
         ],
         "y": [
          -0.0934479054779807
         ]
        },
        {
         "marker": {
          "color": "bisque",
          "size": 5
         },
         "mode": "markers",
         "name": "0431216C JP Equity",
         "type": "scatter",
         "x": [
          0.04036851686901947
         ],
         "y": [
          -0.09812901060733417
         ]
        },
        {
         "marker": {
          "color": "bisque",
          "size": 5
         },
         "mode": "markers",
         "name": "VFMVFA VN Equity",
         "type": "scatter",
         "x": [
          0
         ],
         "y": [
          0
         ]
        },
        {
         "marker": {
          "color": "bisque",
          "size": 5
         },
         "mode": "markers",
         "name": "HLGVIET MK Equity",
         "type": "scatter",
         "x": [
          0
         ],
         "y": [
          0
         ]
        },
        {
         "marker": {
          "color": "bisque",
          "size": 5
         },
         "mode": "markers",
         "name": "HAVNEAF IT Equity",
         "type": "scatter",
         "x": [
          0
         ],
         "y": [
          0
         ]
        },
        {
         "marker": {
          "color": "bisque",
          "size": 5
         },
         "mode": "markers",
         "name": "49311186 JP Equity",
         "type": "scatter",
         "x": [
          -0.007894628859454175
         ],
         "y": [
          -0.1252232695849223
         ]
        },
        {
         "marker": {
          "color": "bisque",
          "size": 5
         },
         "mode": "markers",
         "name": "ASPVIET TB Equity",
         "type": "scatter",
         "x": [
          0.02506666393005549
         ],
         "y": [
          -0.09401719856637857
         ]
        },
        {
         "marker": {
          "color": "bisque",
          "size": 5
         },
         "mode": "markers",
         "name": "1AR0081 KS Equity",
         "type": "scatter",
         "x": [
          0.02478349625231931
         ],
         "y": [
          -0.1052102605821387
         ]
        },
        {
         "marker": {
          "color": "bisque",
          "size": 5
         },
         "mode": "markers",
         "name": "HLVIETS MK Equity",
         "type": "scatter",
         "x": [
          0
         ],
         "y": [
          0
         ]
        },
        {
         "marker": {
          "color": "bisque",
          "size": 5
         },
         "mode": "markers",
         "name": "47311156 JP Equity",
         "type": "scatter",
         "x": [
          -0.004810965329490003
         ],
         "y": [
          -0.133825944170772
         ]
        },
        {
         "marker": {
          "color": "bisque",
          "size": 5
         },
         "mode": "markers",
         "name": "ASPVRMF TB Equity",
         "type": "scatter",
         "x": [
          -0.03178631540267303
         ],
         "y": [
          -0.1176949787684687
         ]
        },
        {
         "marker": {
          "color": "bisque",
          "size": 5
         },
         "mode": "markers",
         "name": "VCBFTBF VN Equity",
         "type": "scatter",
         "x": [
          0.04835224255408617
         ],
         "y": [
          -0.05667669473350228
         ]
        },
        {
         "marker": {
          "color": "bisque",
          "size": 5
         },
         "mode": "markers",
         "name": "VG6 GR Equity",
         "type": "scatter",
         "x": [
          0
         ],
         "y": [
          0
         ]
        },
        {
         "marker": {
          "color": "bisque",
          "size": 5
         },
         "mode": "markers",
         "name": "VNF LN Equity",
         "type": "scatter",
         "x": [
          0
         ],
         "y": [
          0
         ]
        },
        {
         "marker": {
          "color": "bisque",
          "size": 5
         },
         "mode": "markers",
         "name": "SSISCA",
         "type": "scatter",
         "x": [
          0.04637251534983482
         ],
         "y": [
          -0.07446902363869397
         ]
        },
        {
         "marker": {
          "color": "bisque",
          "size": 5
         },
         "mode": "markers",
         "name": "BVPF",
         "type": "scatter",
         "x": [
          0.08283534144463647
         ],
         "y": [
          -0.04478897502153353
         ]
        },
        {
         "marker": {
          "color": "maroon",
          "size": 15,
          "symbol": "diamond"
         },
         "mode": "markers",
         "name": "VESAF",
         "type": "scatter",
         "x": [
          0.1063687113678078
         ],
         "y": [
          -0.1433871671759059
         ]
        },
        {
         "marker": {
          "color": "bisque",
          "size": 5
         },
         "mode": "markers",
         "name": "VCBF-BCF",
         "type": "scatter",
         "x": [
          0.03430347673463104
         ],
         "y": [
          -0.07266850952871168
         ]
        },
        {
         "marker": {
          "color": "bisque",
          "size": 5
         },
         "mode": "markers",
         "name": "VEOF",
         "type": "scatter",
         "x": [
          0.08707891766621892
         ],
         "y": [
          -0.0830960243871463
         ]
        },
        {
         "marker": {
          "color": "maroon",
          "size": 15,
          "symbol": "diamond"
         },
         "mode": "markers",
         "name": "DCDS",
         "type": "scatter",
         "x": [
          0.1022556757106285
         ],
         "y": [
          -0.06763460261300375
         ]
        },
        {
         "marker": {
          "color": "bisque",
          "size": 5
         },
         "mode": "markers",
         "name": "VNDAF",
         "type": "scatter",
         "x": [
          0.01290406727040605
         ],
         "y": [
          -0.05520502256229158
         ]
        },
        {
         "marker": {
          "color": "bisque",
          "size": 5
         },
         "mode": "markers",
         "name": "DCDE",
         "type": "scatter",
         "x": [
          0.08430515942468084
         ],
         "y": [
          -0.07634251804171217
         ]
        },
        {
         "marker": {
          "color": "bisque",
          "size": 5
         },
         "mode": "markers",
         "name": "BVFED",
         "type": "scatter",
         "x": [
          0.02367491671489938
         ],
         "y": [
          -0.0791048659901116
         ]
        },
        {
         "marker": {
          "color": "bisque",
          "size": 5
         },
         "mode": "markers",
         "name": "MAFEQI",
         "type": "scatter",
         "x": [
          0.03676616069172188
         ],
         "y": [
          -0.09444136071683402
         ]
        },
        {
         "marker": {
          "color": "purple",
          "size": 25,
          "symbol": "square"
         },
         "mode": "markers",
         "name": "VNI",
         "type": "scatter",
         "x": [
          0.07726903066911983
         ],
         "y": [
          -0.07198680859782848
         ]
        },
        {
         "marker": {
          "color": "blue",
          "size": 30
         },
         "mode": "markers",
         "name": "HIEP.NS",
         "type": "scatter",
         "x": [
          0.041
         ],
         "y": [
          -0.07
         ]
        },
        {
         "marker": {
          "color": "orange",
          "size": 30
         },
         "mode": "markers",
         "name": "MANDATE VND",
         "type": "scatter",
         "x": [
          0.15
         ],
         "y": [
          -0.18
         ]
        }
       ],
       "layout": {
        "template": {
         "data": {
          "bar": [
           {
            "error_x": {
             "color": "#2a3f5f"
            },
            "error_y": {
             "color": "#2a3f5f"
            },
            "marker": {
             "line": {
              "color": "white",
              "width": 0.5
             },
             "pattern": {
              "fillmode": "overlay",
              "size": 10,
              "solidity": 0.2
             }
            },
            "type": "bar"
           }
          ],
          "barpolar": [
           {
            "marker": {
             "line": {
              "color": "white",
              "width": 0.5
             },
             "pattern": {
              "fillmode": "overlay",
              "size": 10,
              "solidity": 0.2
             }
            },
            "type": "barpolar"
           }
          ],
          "carpet": [
           {
            "aaxis": {
             "endlinecolor": "#2a3f5f",
             "gridcolor": "#C8D4E3",
             "linecolor": "#C8D4E3",
             "minorgridcolor": "#C8D4E3",
             "startlinecolor": "#2a3f5f"
            },
            "baxis": {
             "endlinecolor": "#2a3f5f",
             "gridcolor": "#C8D4E3",
             "linecolor": "#C8D4E3",
             "minorgridcolor": "#C8D4E3",
             "startlinecolor": "#2a3f5f"
            },
            "type": "carpet"
           }
          ],
          "choropleth": [
           {
            "colorbar": {
             "outlinewidth": 0,
             "ticks": ""
            },
            "type": "choropleth"
           }
          ],
          "contour": [
           {
            "colorbar": {
             "outlinewidth": 0,
             "ticks": ""
            },
            "colorscale": [
             [
              0,
              "#0d0887"
             ],
             [
              0.1111111111111111,
              "#46039f"
             ],
             [
              0.2222222222222222,
              "#7201a8"
             ],
             [
              0.3333333333333333,
              "#9c179e"
             ],
             [
              0.4444444444444444,
              "#bd3786"
             ],
             [
              0.5555555555555556,
              "#d8576b"
             ],
             [
              0.6666666666666666,
              "#ed7953"
             ],
             [
              0.7777777777777778,
              "#fb9f3a"
             ],
             [
              0.8888888888888888,
              "#fdca26"
             ],
             [
              1,
              "#f0f921"
             ]
            ],
            "type": "contour"
           }
          ],
          "contourcarpet": [
           {
            "colorbar": {
             "outlinewidth": 0,
             "ticks": ""
            },
            "type": "contourcarpet"
           }
          ],
          "heatmap": [
           {
            "colorbar": {
             "outlinewidth": 0,
             "ticks": ""
            },
            "colorscale": [
             [
              0,
              "#0d0887"
             ],
             [
              0.1111111111111111,
              "#46039f"
             ],
             [
              0.2222222222222222,
              "#7201a8"
             ],
             [
              0.3333333333333333,
              "#9c179e"
             ],
             [
              0.4444444444444444,
              "#bd3786"
             ],
             [
              0.5555555555555556,
              "#d8576b"
             ],
             [
              0.6666666666666666,
              "#ed7953"
             ],
             [
              0.7777777777777778,
              "#fb9f3a"
             ],
             [
              0.8888888888888888,
              "#fdca26"
             ],
             [
              1,
              "#f0f921"
             ]
            ],
            "type": "heatmap"
           }
          ],
          "heatmapgl": [
           {
            "colorbar": {
             "outlinewidth": 0,
             "ticks": ""
            },
            "colorscale": [
             [
              0,
              "#0d0887"
             ],
             [
              0.1111111111111111,
              "#46039f"
             ],
             [
              0.2222222222222222,
              "#7201a8"
             ],
             [
              0.3333333333333333,
              "#9c179e"
             ],
             [
              0.4444444444444444,
              "#bd3786"
             ],
             [
              0.5555555555555556,
              "#d8576b"
             ],
             [
              0.6666666666666666,
              "#ed7953"
             ],
             [
              0.7777777777777778,
              "#fb9f3a"
             ],
             [
              0.8888888888888888,
              "#fdca26"
             ],
             [
              1,
              "#f0f921"
             ]
            ],
            "type": "heatmapgl"
           }
          ],
          "histogram": [
           {
            "marker": {
             "pattern": {
              "fillmode": "overlay",
              "size": 10,
              "solidity": 0.2
             }
            },
            "type": "histogram"
           }
          ],
          "histogram2d": [
           {
            "colorbar": {
             "outlinewidth": 0,
             "ticks": ""
            },
            "colorscale": [
             [
              0,
              "#0d0887"
             ],
             [
              0.1111111111111111,
              "#46039f"
             ],
             [
              0.2222222222222222,
              "#7201a8"
             ],
             [
              0.3333333333333333,
              "#9c179e"
             ],
             [
              0.4444444444444444,
              "#bd3786"
             ],
             [
              0.5555555555555556,
              "#d8576b"
             ],
             [
              0.6666666666666666,
              "#ed7953"
             ],
             [
              0.7777777777777778,
              "#fb9f3a"
             ],
             [
              0.8888888888888888,
              "#fdca26"
             ],
             [
              1,
              "#f0f921"
             ]
            ],
            "type": "histogram2d"
           }
          ],
          "histogram2dcontour": [
           {
            "colorbar": {
             "outlinewidth": 0,
             "ticks": ""
            },
            "colorscale": [
             [
              0,
              "#0d0887"
             ],
             [
              0.1111111111111111,
              "#46039f"
             ],
             [
              0.2222222222222222,
              "#7201a8"
             ],
             [
              0.3333333333333333,
              "#9c179e"
             ],
             [
              0.4444444444444444,
              "#bd3786"
             ],
             [
              0.5555555555555556,
              "#d8576b"
             ],
             [
              0.6666666666666666,
              "#ed7953"
             ],
             [
              0.7777777777777778,
              "#fb9f3a"
             ],
             [
              0.8888888888888888,
              "#fdca26"
             ],
             [
              1,
              "#f0f921"
             ]
            ],
            "type": "histogram2dcontour"
           }
          ],
          "mesh3d": [
           {
            "colorbar": {
             "outlinewidth": 0,
             "ticks": ""
            },
            "type": "mesh3d"
           }
          ],
          "parcoords": [
           {
            "line": {
             "colorbar": {
              "outlinewidth": 0,
              "ticks": ""
             }
            },
            "type": "parcoords"
           }
          ],
          "pie": [
           {
            "automargin": true,
            "type": "pie"
           }
          ],
          "scatter": [
           {
            "fillpattern": {
             "fillmode": "overlay",
             "size": 10,
             "solidity": 0.2
            },
            "type": "scatter"
           }
          ],
          "scatter3d": [
           {
            "line": {
             "colorbar": {
              "outlinewidth": 0,
              "ticks": ""
             }
            },
            "marker": {
             "colorbar": {
              "outlinewidth": 0,
              "ticks": ""
             }
            },
            "type": "scatter3d"
           }
          ],
          "scattercarpet": [
           {
            "marker": {
             "colorbar": {
              "outlinewidth": 0,
              "ticks": ""
             }
            },
            "type": "scattercarpet"
           }
          ],
          "scattergeo": [
           {
            "marker": {
             "colorbar": {
              "outlinewidth": 0,
              "ticks": ""
             }
            },
            "type": "scattergeo"
           }
          ],
          "scattergl": [
           {
            "marker": {
             "colorbar": {
              "outlinewidth": 0,
              "ticks": ""
             }
            },
            "type": "scattergl"
           }
          ],
          "scattermapbox": [
           {
            "marker": {
             "colorbar": {
              "outlinewidth": 0,
              "ticks": ""
             }
            },
            "type": "scattermapbox"
           }
          ],
          "scatterpolar": [
           {
            "marker": {
             "colorbar": {
              "outlinewidth": 0,
              "ticks": ""
             }
            },
            "type": "scatterpolar"
           }
          ],
          "scatterpolargl": [
           {
            "marker": {
             "colorbar": {
              "outlinewidth": 0,
              "ticks": ""
             }
            },
            "type": "scatterpolargl"
           }
          ],
          "scatterternary": [
           {
            "marker": {
             "colorbar": {
              "outlinewidth": 0,
              "ticks": ""
             }
            },
            "type": "scatterternary"
           }
          ],
          "surface": [
           {
            "colorbar": {
             "outlinewidth": 0,
             "ticks": ""
            },
            "colorscale": [
             [
              0,
              "#0d0887"
             ],
             [
              0.1111111111111111,
              "#46039f"
             ],
             [
              0.2222222222222222,
              "#7201a8"
             ],
             [
              0.3333333333333333,
              "#9c179e"
             ],
             [
              0.4444444444444444,
              "#bd3786"
             ],
             [
              0.5555555555555556,
              "#d8576b"
             ],
             [
              0.6666666666666666,
              "#ed7953"
             ],
             [
              0.7777777777777778,
              "#fb9f3a"
             ],
             [
              0.8888888888888888,
              "#fdca26"
             ],
             [
              1,
              "#f0f921"
             ]
            ],
            "type": "surface"
           }
          ],
          "table": [
           {
            "cells": {
             "fill": {
              "color": "#EBF0F8"
             },
             "line": {
              "color": "white"
             }
            },
            "header": {
             "fill": {
              "color": "#C8D4E3"
             },
             "line": {
              "color": "white"
             }
            },
            "type": "table"
           }
          ]
         },
         "layout": {
          "annotationdefaults": {
           "arrowcolor": "#2a3f5f",
           "arrowhead": 0,
           "arrowwidth": 1
          },
          "autotypenumbers": "strict",
          "coloraxis": {
           "colorbar": {
            "outlinewidth": 0,
            "ticks": ""
           }
          },
          "colorscale": {
           "diverging": [
            [
             0,
             "#8e0152"
            ],
            [
             0.1,
             "#c51b7d"
            ],
            [
             0.2,
             "#de77ae"
            ],
            [
             0.3,
             "#f1b6da"
            ],
            [
             0.4,
             "#fde0ef"
            ],
            [
             0.5,
             "#f7f7f7"
            ],
            [
             0.6,
             "#e6f5d0"
            ],
            [
             0.7,
             "#b8e186"
            ],
            [
             0.8,
             "#7fbc41"
            ],
            [
             0.9,
             "#4d9221"
            ],
            [
             1,
             "#276419"
            ]
           ],
           "sequential": [
            [
             0,
             "#0d0887"
            ],
            [
             0.1111111111111111,
             "#46039f"
            ],
            [
             0.2222222222222222,
             "#7201a8"
            ],
            [
             0.3333333333333333,
             "#9c179e"
            ],
            [
             0.4444444444444444,
             "#bd3786"
            ],
            [
             0.5555555555555556,
             "#d8576b"
            ],
            [
             0.6666666666666666,
             "#ed7953"
            ],
            [
             0.7777777777777778,
             "#fb9f3a"
            ],
            [
             0.8888888888888888,
             "#fdca26"
            ],
            [
             1,
             "#f0f921"
            ]
           ],
           "sequentialminus": [
            [
             0,
             "#0d0887"
            ],
            [
             0.1111111111111111,
             "#46039f"
            ],
            [
             0.2222222222222222,
             "#7201a8"
            ],
            [
             0.3333333333333333,
             "#9c179e"
            ],
            [
             0.4444444444444444,
             "#bd3786"
            ],
            [
             0.5555555555555556,
             "#d8576b"
            ],
            [
             0.6666666666666666,
             "#ed7953"
            ],
            [
             0.7777777777777778,
             "#fb9f3a"
            ],
            [
             0.8888888888888888,
             "#fdca26"
            ],
            [
             1,
             "#f0f921"
            ]
           ]
          },
          "colorway": [
           "#636efa",
           "#EF553B",
           "#00cc96",
           "#ab63fa",
           "#FFA15A",
           "#19d3f3",
           "#FF6692",
           "#B6E880",
           "#FF97FF",
           "#FECB52"
          ],
          "font": {
           "color": "#2a3f5f"
          },
          "geo": {
           "bgcolor": "white",
           "lakecolor": "white",
           "landcolor": "white",
           "showlakes": true,
           "showland": true,
           "subunitcolor": "#C8D4E3"
          },
          "hoverlabel": {
           "align": "left"
          },
          "hovermode": "closest",
          "mapbox": {
           "style": "light"
          },
          "paper_bgcolor": "white",
          "plot_bgcolor": "white",
          "polar": {
           "angularaxis": {
            "gridcolor": "#EBF0F8",
            "linecolor": "#EBF0F8",
            "ticks": ""
           },
           "bgcolor": "white",
           "radialaxis": {
            "gridcolor": "#EBF0F8",
            "linecolor": "#EBF0F8",
            "ticks": ""
           }
          },
          "scene": {
           "xaxis": {
            "backgroundcolor": "white",
            "gridcolor": "#DFE8F3",
            "gridwidth": 2,
            "linecolor": "#EBF0F8",
            "showbackground": true,
            "ticks": "",
            "zerolinecolor": "#EBF0F8"
           },
           "yaxis": {
            "backgroundcolor": "white",
            "gridcolor": "#DFE8F3",
            "gridwidth": 2,
            "linecolor": "#EBF0F8",
            "showbackground": true,
            "ticks": "",
            "zerolinecolor": "#EBF0F8"
           },
           "zaxis": {
            "backgroundcolor": "white",
            "gridcolor": "#DFE8F3",
            "gridwidth": 2,
            "linecolor": "#EBF0F8",
            "showbackground": true,
            "ticks": "",
            "zerolinecolor": "#EBF0F8"
           }
          },
          "shapedefaults": {
           "line": {
            "color": "#2a3f5f"
           }
          },
          "ternary": {
           "aaxis": {
            "gridcolor": "#DFE8F3",
            "linecolor": "#A2B1C6",
            "ticks": ""
           },
           "baxis": {
            "gridcolor": "#DFE8F3",
            "linecolor": "#A2B1C6",
            "ticks": ""
           },
           "bgcolor": "white",
           "caxis": {
            "gridcolor": "#DFE8F3",
            "linecolor": "#A2B1C6",
            "ticks": ""
           }
          },
          "title": {
           "x": 0.05
          },
          "xaxis": {
           "automargin": true,
           "gridcolor": "#EBF0F8",
           "linecolor": "#EBF0F8",
           "ticks": "",
           "title": {
            "standoff": 15
           },
           "zerolinecolor": "#EBF0F8",
           "zerolinewidth": 2
          },
          "yaxis": {
           "automargin": true,
           "gridcolor": "#EBF0F8",
           "linecolor": "#EBF0F8",
           "ticks": "",
           "title": {
            "standoff": 15
           },
           "zerolinecolor": "#EBF0F8",
           "zerolinewidth": 2
          }
         }
        },
        "title": {
         "text": "Compare Annual Return / Max Drawdown 2019"
        },
        "xaxis": {
         "title": {
          "text": "Annual Return"
         }
        },
        "yaxis": {
         "title": {
          "text": "Max Drawdown"
         }
        }
       }
      },
      "text/html": [
       "<div>                            <div id=\"8aeaad4f-2b52-45fd-9389-22b16b37f292\" class=\"plotly-graph-div\" style=\"height:525px; width:100%;\"></div>            <script type=\"text/javascript\">                require([\"plotly\"], function(Plotly) {                    window.PLOTLYENV=window.PLOTLYENV || {};                                    if (document.getElementById(\"8aeaad4f-2b52-45fd-9389-22b16b37f292\")) {                    Plotly.newPlot(                        \"8aeaad4f-2b52-45fd-9389-22b16b37f292\",                        [{\"marker\":{\"color\":\"bisque\",\"size\":5},\"mode\":\"markers\",\"name\":\"VNM US Equity\",\"x\":[0.09778068221703226],\"y\":[-0.1129167322524803],\"type\":\"scatter\"},{\"marker\":{\"color\":\"bisque\",\"size\":5},\"mode\":\"markers\",\"name\":\"AFCVICI KY Equity\",\"x\":[0.01422723716857241],\"y\":[-0.06200419198217083],\"type\":\"scatter\"},{\"marker\":{\"color\":\"bisque\",\"size\":5},\"mode\":\"markers\",\"name\":\"LUMENUS LE Equity\",\"x\":[0.06148246988488644],\"y\":[-0.07915163441565604],\"type\":\"scatter\"},{\"marker\":{\"color\":\"bisque\",\"size\":5},\"mode\":\"markers\",\"name\":\"XFVT GY Equity\",\"x\":[0.0636996343030547],\"y\":[-0.1158777120315591],\"type\":\"scatter\"},{\"marker\":{\"color\":\"bisque\",\"size\":5},\"mode\":\"markers\",\"name\":\"GAVNBCU LX Equity\",\"x\":[0.02118037075525106],\"y\":[-0.07957366923030278],\"type\":\"scatter\"},{\"marker\":{\"color\":\"bisque\",\"size\":5},\"mode\":\"markers\",\"name\":\"LCVIETU SP Equity\",\"x\":[0.0638105387412847],\"y\":[-0.08994708994708982],\"type\":\"scatter\"},{\"marker\":{\"color\":\"bisque\",\"size\":5},\"mode\":\"markers\",\"name\":\"FOVCPVA LX Equity\",\"x\":[0.004787277573086609],\"y\":[-0.07744107744107728],\"type\":\"scatter\"},{\"marker\":{\"color\":\"bisque\",\"size\":5},\"mode\":\"markers\",\"name\":\"GAVTNIU LX Equity\",\"x\":[0.01791044097719903],\"y\":[-0.07921998781230949],\"type\":\"scatter\"},{\"marker\":{\"color\":\"bisque\",\"size\":5},\"mode\":\"markers\",\"name\":\"AFCVIET KY Equity\",\"x\":[0.009374619484407615],\"y\":[-0.06317362703293415],\"type\":\"scatter\"},{\"marker\":{\"color\":\"bisque\",\"size\":5},\"mode\":\"markers\",\"name\":\"VIETNAM ID Equity\",\"x\":[0.007357511744951143],\"y\":[-0.07469576164498479],\"type\":\"scatter\"},{\"marker\":{\"color\":\"bisque\",\"size\":5},\"mode\":\"markers\",\"name\":\"E1VFVN30 VN Equity\",\"x\":[0.0402946436583531],\"y\":[-0.09646302250803905],\"type\":\"scatter\"},{\"marker\":{\"color\":\"bisque\",\"size\":5},\"mode\":\"markers\",\"name\":\"XVTD LN Equity\",\"x\":[0.04821333342886622],\"y\":[-0.1314717859220479],\"type\":\"scatter\"},{\"marker\":{\"color\":\"bisque\",\"size\":5},\"mode\":\"markers\",\"name\":\"KVIETNE TB Equity\",\"x\":[-0.03200511070906702],\"y\":[-0.1450142052070247],\"type\":\"scatter\"},{\"marker\":{\"color\":\"bisque\",\"size\":5},\"mode\":\"markers\",\"name\":\"3087 HK Equity\",\"x\":[0.04681236931643609],\"y\":[-0.1464311994113309],\"type\":\"scatter\"},{\"marker\":{\"color\":\"bisque\",\"size\":5},\"mode\":\"markers\",\"name\":\"SSICOAD VN Equity\",\"x\":[0.04251234085774218],\"y\":[-0.07446902363869387],\"type\":\"scatter\"},{\"marker\":{\"color\":\"bisque\",\"size\":5},\"mode\":\"markers\",\"name\":\"XFVT GR Equity\",\"x\":[0.07216895844355728],\"y\":[-0.168116842759477],\"type\":\"scatter\"},{\"marker\":{\"color\":\"bisque\",\"size\":5},\"mode\":\"markers\",\"name\":\"LCVIETS SP Equity\",\"x\":[0.04758040441100629],\"y\":[-0.09443725743855104],\"type\":\"scatter\"},{\"marker\":{\"color\":\"bisque\",\"size\":5},\"mode\":\"markers\",\"name\":\"LUMENCH LE Equity\",\"x\":[0.02214293502549894],\"y\":[-0.08785271162697621],\"type\":\"scatter\"},{\"marker\":{\"color\":\"bisque\",\"size\":5},\"mode\":\"markers\",\"name\":\"VTNPHXA KY Equity\",\"x\":[0.07770596663931886],\"y\":[-0.0583875359249733],\"type\":\"scatter\"},{\"marker\":{\"color\":\"bisque\",\"size\":5},\"mode\":\"markers\",\"name\":\"CPVNEQA TB Equity\",\"x\":[-0.08956453845852658],\"y\":[-0.1566498929223235],\"type\":\"scatter\"},{\"marker\":{\"color\":\"bisque\",\"size\":5},\"mode\":\"markers\",\"name\":\"KIMVGIU LX Equity\",\"x\":[0.05308333884071526],\"y\":[-0.08956388720524186],\"type\":\"scatter\"},{\"marker\":{\"color\":\"bisque\",\"size\":5},\"mode\":\"markers\",\"name\":\"VIETEUR ID Equity\",\"x\":[0.03381121265388567],\"y\":[-0.08424301739065014],\"type\":\"scatter\"},{\"marker\":{\"color\":\"bisque\",\"size\":5},\"mode\":\"markers\",\"name\":\"9A311108 JP Equity\",\"x\":[0.04819244152459071],\"y\":[-0.1019625991413809],\"type\":\"scatter\"},{\"marker\":{\"color\":\"bisque\",\"size\":5},\"mode\":\"markers\",\"name\":\"XFVT GT Equity\",\"x\":[0.0636996343030547],\"y\":[-0.1158777120315591],\"type\":\"scatter\"},{\"marker\":{\"color\":\"bisque\",\"size\":5},\"mode\":\"markers\",\"name\":\"XFVT SP Equity\",\"x\":[0.04933057399820366],\"y\":[-0.1247072599531638],\"type\":\"scatter\"},{\"marker\":{\"color\":\"bisque\",\"size\":5},\"mode\":\"markers\",\"name\":\"TCMVN NA Equity\",\"x\":[0.05408944348499214],\"y\":[-0.07931092923958269],\"type\":\"scatter\"},{\"marker\":{\"color\":\"bisque\",\"size\":5},\"mode\":\"markers\",\"name\":\"VCVOF US Equity\",\"x\":[0.09799411654585602],\"y\":[-0.08989346535680044],\"type\":\"scatter\"},{\"marker\":{\"color\":\"bisque\",\"size\":5},\"mode\":\"markers\",\"name\":\"FUESSV50 VN Equity\",\"x\":[0.039012566802324],\"y\":[-0.08888888888888945],\"type\":\"scatter\"},{\"marker\":{\"color\":\"bisque\",\"size\":5},\"mode\":\"markers\",\"name\":\"AB311171 JP Equity\",\"x\":[0.02525141778452109],\"y\":[-0.09134252608868129],\"type\":\"scatter\"},{\"marker\":{\"color\":\"bisque\",\"size\":5},\"mode\":\"markers\",\"name\":\"IOFVTEQ LX Equity\",\"x\":[0.06414348148378268],\"y\":[-0.07505573445627894],\"type\":\"scatter\"},{\"marker\":{\"color\":\"bisque\",\"size\":5},\"mode\":\"markers\",\"name\":\"SGVIEOP HK Equity\",\"x\":[0.07585556625369538],\"y\":[-0.08080435384189645],\"type\":\"scatter\"},{\"marker\":{\"color\":\"maroon\",\"size\":15,\"symbol\":\"diamond\"},\"mode\":\"markers\",\"name\":\"VFMVF1 VN Equity\",\"x\":[0.1021660350805504],\"y\":[-0.06763460261300379],\"type\":\"scatter\"},{\"marker\":{\"color\":\"bisque\",\"size\":5},\"mode\":\"markers\",\"name\":\"FOVIEDE LX Equity\",\"x\":[0.01871803122613609],\"y\":[-0.09104151493080836],\"type\":\"scatter\"},{\"marker\":{\"color\":\"bisque\",\"size\":5},\"mode\":\"markers\",\"name\":\"GELIONV SP Equity\",\"x\":[0.04769565139886059],\"y\":[-0.0934479054779807],\"type\":\"scatter\"},{\"marker\":{\"color\":\"bisque\",\"size\":5},\"mode\":\"markers\",\"name\":\"0431216C JP Equity\",\"x\":[0.04036851686901947],\"y\":[-0.09812901060733417],\"type\":\"scatter\"},{\"marker\":{\"color\":\"bisque\",\"size\":5},\"mode\":\"markers\",\"name\":\"VFMVFA VN Equity\",\"x\":[0.0],\"y\":[0.0],\"type\":\"scatter\"},{\"marker\":{\"color\":\"bisque\",\"size\":5},\"mode\":\"markers\",\"name\":\"HLGVIET MK Equity\",\"x\":[0.0],\"y\":[0.0],\"type\":\"scatter\"},{\"marker\":{\"color\":\"bisque\",\"size\":5},\"mode\":\"markers\",\"name\":\"HAVNEAF IT Equity\",\"x\":[0.0],\"y\":[0.0],\"type\":\"scatter\"},{\"marker\":{\"color\":\"bisque\",\"size\":5},\"mode\":\"markers\",\"name\":\"49311186 JP Equity\",\"x\":[-0.007894628859454175],\"y\":[-0.1252232695849223],\"type\":\"scatter\"},{\"marker\":{\"color\":\"bisque\",\"size\":5},\"mode\":\"markers\",\"name\":\"ASPVIET TB Equity\",\"x\":[0.02506666393005549],\"y\":[-0.09401719856637857],\"type\":\"scatter\"},{\"marker\":{\"color\":\"bisque\",\"size\":5},\"mode\":\"markers\",\"name\":\"1AR0081 KS Equity\",\"x\":[0.02478349625231931],\"y\":[-0.1052102605821387],\"type\":\"scatter\"},{\"marker\":{\"color\":\"bisque\",\"size\":5},\"mode\":\"markers\",\"name\":\"HLVIETS MK Equity\",\"x\":[0.0],\"y\":[0.0],\"type\":\"scatter\"},{\"marker\":{\"color\":\"bisque\",\"size\":5},\"mode\":\"markers\",\"name\":\"47311156 JP Equity\",\"x\":[-0.004810965329490003],\"y\":[-0.133825944170772],\"type\":\"scatter\"},{\"marker\":{\"color\":\"bisque\",\"size\":5},\"mode\":\"markers\",\"name\":\"ASPVRMF TB Equity\",\"x\":[-0.03178631540267303],\"y\":[-0.1176949787684687],\"type\":\"scatter\"},{\"marker\":{\"color\":\"bisque\",\"size\":5},\"mode\":\"markers\",\"name\":\"VCBFTBF VN Equity\",\"x\":[0.04835224255408617],\"y\":[-0.05667669473350228],\"type\":\"scatter\"},{\"marker\":{\"color\":\"bisque\",\"size\":5},\"mode\":\"markers\",\"name\":\"VG6 GR Equity\",\"x\":[0.0],\"y\":[0.0],\"type\":\"scatter\"},{\"marker\":{\"color\":\"bisque\",\"size\":5},\"mode\":\"markers\",\"name\":\"VNF LN Equity\",\"x\":[0.0],\"y\":[0.0],\"type\":\"scatter\"},{\"marker\":{\"color\":\"bisque\",\"size\":5},\"mode\":\"markers\",\"name\":\"SSISCA\",\"x\":[0.04637251534983482],\"y\":[-0.07446902363869397],\"type\":\"scatter\"},{\"marker\":{\"color\":\"bisque\",\"size\":5},\"mode\":\"markers\",\"name\":\"BVPF\",\"x\":[0.08283534144463647],\"y\":[-0.04478897502153353],\"type\":\"scatter\"},{\"marker\":{\"color\":\"maroon\",\"size\":15,\"symbol\":\"diamond\"},\"mode\":\"markers\",\"name\":\"VESAF\",\"x\":[0.1063687113678078],\"y\":[-0.1433871671759059],\"type\":\"scatter\"},{\"marker\":{\"color\":\"bisque\",\"size\":5},\"mode\":\"markers\",\"name\":\"VCBF-BCF\",\"x\":[0.03430347673463104],\"y\":[-0.07266850952871168],\"type\":\"scatter\"},{\"marker\":{\"color\":\"bisque\",\"size\":5},\"mode\":\"markers\",\"name\":\"VEOF\",\"x\":[0.08707891766621892],\"y\":[-0.0830960243871463],\"type\":\"scatter\"},{\"marker\":{\"color\":\"maroon\",\"size\":15,\"symbol\":\"diamond\"},\"mode\":\"markers\",\"name\":\"DCDS\",\"x\":[0.1022556757106285],\"y\":[-0.06763460261300375],\"type\":\"scatter\"},{\"marker\":{\"color\":\"bisque\",\"size\":5},\"mode\":\"markers\",\"name\":\"VNDAF\",\"x\":[0.01290406727040605],\"y\":[-0.05520502256229158],\"type\":\"scatter\"},{\"marker\":{\"color\":\"bisque\",\"size\":5},\"mode\":\"markers\",\"name\":\"DCDE\",\"x\":[0.08430515942468084],\"y\":[-0.07634251804171217],\"type\":\"scatter\"},{\"marker\":{\"color\":\"bisque\",\"size\":5},\"mode\":\"markers\",\"name\":\"BVFED\",\"x\":[0.02367491671489938],\"y\":[-0.0791048659901116],\"type\":\"scatter\"},{\"marker\":{\"color\":\"bisque\",\"size\":5},\"mode\":\"markers\",\"name\":\"MAFEQI\",\"x\":[0.03676616069172188],\"y\":[-0.09444136071683402],\"type\":\"scatter\"},{\"marker\":{\"color\":\"purple\",\"size\":25,\"symbol\":\"square\"},\"mode\":\"markers\",\"name\":\"VNI\",\"x\":[0.07726903066911983],\"y\":[-0.07198680859782848],\"type\":\"scatter\"},{\"marker\":{\"color\":\"blue\",\"size\":30},\"mode\":\"markers\",\"name\":\"HIEP.NS\",\"x\":[0.041],\"y\":[-0.07],\"type\":\"scatter\"},{\"marker\":{\"color\":\"orange\",\"size\":30},\"mode\":\"markers\",\"name\":\"MANDATE VND\",\"x\":[0.15],\"y\":[-0.18],\"type\":\"scatter\"}],                        {\"template\":{\"data\":{\"histogram2dcontour\":[{\"type\":\"histogram2dcontour\",\"colorbar\":{\"outlinewidth\":0,\"ticks\":\"\"},\"colorscale\":[[0.0,\"#0d0887\"],[0.1111111111111111,\"#46039f\"],[0.2222222222222222,\"#7201a8\"],[0.3333333333333333,\"#9c179e\"],[0.4444444444444444,\"#bd3786\"],[0.5555555555555556,\"#d8576b\"],[0.6666666666666666,\"#ed7953\"],[0.7777777777777778,\"#fb9f3a\"],[0.8888888888888888,\"#fdca26\"],[1.0,\"#f0f921\"]]}],\"choropleth\":[{\"type\":\"choropleth\",\"colorbar\":{\"outlinewidth\":0,\"ticks\":\"\"}}],\"histogram2d\":[{\"type\":\"histogram2d\",\"colorbar\":{\"outlinewidth\":0,\"ticks\":\"\"},\"colorscale\":[[0.0,\"#0d0887\"],[0.1111111111111111,\"#46039f\"],[0.2222222222222222,\"#7201a8\"],[0.3333333333333333,\"#9c179e\"],[0.4444444444444444,\"#bd3786\"],[0.5555555555555556,\"#d8576b\"],[0.6666666666666666,\"#ed7953\"],[0.7777777777777778,\"#fb9f3a\"],[0.8888888888888888,\"#fdca26\"],[1.0,\"#f0f921\"]]}],\"heatmap\":[{\"type\":\"heatmap\",\"colorbar\":{\"outlinewidth\":0,\"ticks\":\"\"},\"colorscale\":[[0.0,\"#0d0887\"],[0.1111111111111111,\"#46039f\"],[0.2222222222222222,\"#7201a8\"],[0.3333333333333333,\"#9c179e\"],[0.4444444444444444,\"#bd3786\"],[0.5555555555555556,\"#d8576b\"],[0.6666666666666666,\"#ed7953\"],[0.7777777777777778,\"#fb9f3a\"],[0.8888888888888888,\"#fdca26\"],[1.0,\"#f0f921\"]]}],\"heatmapgl\":[{\"type\":\"heatmapgl\",\"colorbar\":{\"outlinewidth\":0,\"ticks\":\"\"},\"colorscale\":[[0.0,\"#0d0887\"],[0.1111111111111111,\"#46039f\"],[0.2222222222222222,\"#7201a8\"],[0.3333333333333333,\"#9c179e\"],[0.4444444444444444,\"#bd3786\"],[0.5555555555555556,\"#d8576b\"],[0.6666666666666666,\"#ed7953\"],[0.7777777777777778,\"#fb9f3a\"],[0.8888888888888888,\"#fdca26\"],[1.0,\"#f0f921\"]]}],\"contourcarpet\":[{\"type\":\"contourcarpet\",\"colorbar\":{\"outlinewidth\":0,\"ticks\":\"\"}}],\"contour\":[{\"type\":\"contour\",\"colorbar\":{\"outlinewidth\":0,\"ticks\":\"\"},\"colorscale\":[[0.0,\"#0d0887\"],[0.1111111111111111,\"#46039f\"],[0.2222222222222222,\"#7201a8\"],[0.3333333333333333,\"#9c179e\"],[0.4444444444444444,\"#bd3786\"],[0.5555555555555556,\"#d8576b\"],[0.6666666666666666,\"#ed7953\"],[0.7777777777777778,\"#fb9f3a\"],[0.8888888888888888,\"#fdca26\"],[1.0,\"#f0f921\"]]}],\"surface\":[{\"type\":\"surface\",\"colorbar\":{\"outlinewidth\":0,\"ticks\":\"\"},\"colorscale\":[[0.0,\"#0d0887\"],[0.1111111111111111,\"#46039f\"],[0.2222222222222222,\"#7201a8\"],[0.3333333333333333,\"#9c179e\"],[0.4444444444444444,\"#bd3786\"],[0.5555555555555556,\"#d8576b\"],[0.6666666666666666,\"#ed7953\"],[0.7777777777777778,\"#fb9f3a\"],[0.8888888888888888,\"#fdca26\"],[1.0,\"#f0f921\"]]}],\"mesh3d\":[{\"type\":\"mesh3d\",\"colorbar\":{\"outlinewidth\":0,\"ticks\":\"\"}}],\"scatter\":[{\"fillpattern\":{\"fillmode\":\"overlay\",\"size\":10,\"solidity\":0.2},\"type\":\"scatter\"}],\"parcoords\":[{\"type\":\"parcoords\",\"line\":{\"colorbar\":{\"outlinewidth\":0,\"ticks\":\"\"}}}],\"scatterpolargl\":[{\"type\":\"scatterpolargl\",\"marker\":{\"colorbar\":{\"outlinewidth\":0,\"ticks\":\"\"}}}],\"bar\":[{\"error_x\":{\"color\":\"#2a3f5f\"},\"error_y\":{\"color\":\"#2a3f5f\"},\"marker\":{\"line\":{\"color\":\"white\",\"width\":0.5},\"pattern\":{\"fillmode\":\"overlay\",\"size\":10,\"solidity\":0.2}},\"type\":\"bar\"}],\"scattergeo\":[{\"type\":\"scattergeo\",\"marker\":{\"colorbar\":{\"outlinewidth\":0,\"ticks\":\"\"}}}],\"scatterpolar\":[{\"type\":\"scatterpolar\",\"marker\":{\"colorbar\":{\"outlinewidth\":0,\"ticks\":\"\"}}}],\"histogram\":[{\"marker\":{\"pattern\":{\"fillmode\":\"overlay\",\"size\":10,\"solidity\":0.2}},\"type\":\"histogram\"}],\"scattergl\":[{\"type\":\"scattergl\",\"marker\":{\"colorbar\":{\"outlinewidth\":0,\"ticks\":\"\"}}}],\"scatter3d\":[{\"type\":\"scatter3d\",\"line\":{\"colorbar\":{\"outlinewidth\":0,\"ticks\":\"\"}},\"marker\":{\"colorbar\":{\"outlinewidth\":0,\"ticks\":\"\"}}}],\"scattermapbox\":[{\"type\":\"scattermapbox\",\"marker\":{\"colorbar\":{\"outlinewidth\":0,\"ticks\":\"\"}}}],\"scatterternary\":[{\"type\":\"scatterternary\",\"marker\":{\"colorbar\":{\"outlinewidth\":0,\"ticks\":\"\"}}}],\"scattercarpet\":[{\"type\":\"scattercarpet\",\"marker\":{\"colorbar\":{\"outlinewidth\":0,\"ticks\":\"\"}}}],\"carpet\":[{\"aaxis\":{\"endlinecolor\":\"#2a3f5f\",\"gridcolor\":\"#C8D4E3\",\"linecolor\":\"#C8D4E3\",\"minorgridcolor\":\"#C8D4E3\",\"startlinecolor\":\"#2a3f5f\"},\"baxis\":{\"endlinecolor\":\"#2a3f5f\",\"gridcolor\":\"#C8D4E3\",\"linecolor\":\"#C8D4E3\",\"minorgridcolor\":\"#C8D4E3\",\"startlinecolor\":\"#2a3f5f\"},\"type\":\"carpet\"}],\"table\":[{\"cells\":{\"fill\":{\"color\":\"#EBF0F8\"},\"line\":{\"color\":\"white\"}},\"header\":{\"fill\":{\"color\":\"#C8D4E3\"},\"line\":{\"color\":\"white\"}},\"type\":\"table\"}],\"barpolar\":[{\"marker\":{\"line\":{\"color\":\"white\",\"width\":0.5},\"pattern\":{\"fillmode\":\"overlay\",\"size\":10,\"solidity\":0.2}},\"type\":\"barpolar\"}],\"pie\":[{\"automargin\":true,\"type\":\"pie\"}]},\"layout\":{\"autotypenumbers\":\"strict\",\"colorway\":[\"#636efa\",\"#EF553B\",\"#00cc96\",\"#ab63fa\",\"#FFA15A\",\"#19d3f3\",\"#FF6692\",\"#B6E880\",\"#FF97FF\",\"#FECB52\"],\"font\":{\"color\":\"#2a3f5f\"},\"hovermode\":\"closest\",\"hoverlabel\":{\"align\":\"left\"},\"paper_bgcolor\":\"white\",\"plot_bgcolor\":\"white\",\"polar\":{\"bgcolor\":\"white\",\"angularaxis\":{\"gridcolor\":\"#EBF0F8\",\"linecolor\":\"#EBF0F8\",\"ticks\":\"\"},\"radialaxis\":{\"gridcolor\":\"#EBF0F8\",\"linecolor\":\"#EBF0F8\",\"ticks\":\"\"}},\"ternary\":{\"bgcolor\":\"white\",\"aaxis\":{\"gridcolor\":\"#DFE8F3\",\"linecolor\":\"#A2B1C6\",\"ticks\":\"\"},\"baxis\":{\"gridcolor\":\"#DFE8F3\",\"linecolor\":\"#A2B1C6\",\"ticks\":\"\"},\"caxis\":{\"gridcolor\":\"#DFE8F3\",\"linecolor\":\"#A2B1C6\",\"ticks\":\"\"}},\"coloraxis\":{\"colorbar\":{\"outlinewidth\":0,\"ticks\":\"\"}},\"colorscale\":{\"sequential\":[[0.0,\"#0d0887\"],[0.1111111111111111,\"#46039f\"],[0.2222222222222222,\"#7201a8\"],[0.3333333333333333,\"#9c179e\"],[0.4444444444444444,\"#bd3786\"],[0.5555555555555556,\"#d8576b\"],[0.6666666666666666,\"#ed7953\"],[0.7777777777777778,\"#fb9f3a\"],[0.8888888888888888,\"#fdca26\"],[1.0,\"#f0f921\"]],\"sequentialminus\":[[0.0,\"#0d0887\"],[0.1111111111111111,\"#46039f\"],[0.2222222222222222,\"#7201a8\"],[0.3333333333333333,\"#9c179e\"],[0.4444444444444444,\"#bd3786\"],[0.5555555555555556,\"#d8576b\"],[0.6666666666666666,\"#ed7953\"],[0.7777777777777778,\"#fb9f3a\"],[0.8888888888888888,\"#fdca26\"],[1.0,\"#f0f921\"]],\"diverging\":[[0,\"#8e0152\"],[0.1,\"#c51b7d\"],[0.2,\"#de77ae\"],[0.3,\"#f1b6da\"],[0.4,\"#fde0ef\"],[0.5,\"#f7f7f7\"],[0.6,\"#e6f5d0\"],[0.7,\"#b8e186\"],[0.8,\"#7fbc41\"],[0.9,\"#4d9221\"],[1,\"#276419\"]]},\"xaxis\":{\"gridcolor\":\"#EBF0F8\",\"linecolor\":\"#EBF0F8\",\"ticks\":\"\",\"title\":{\"standoff\":15},\"zerolinecolor\":\"#EBF0F8\",\"automargin\":true,\"zerolinewidth\":2},\"yaxis\":{\"gridcolor\":\"#EBF0F8\",\"linecolor\":\"#EBF0F8\",\"ticks\":\"\",\"title\":{\"standoff\":15},\"zerolinecolor\":\"#EBF0F8\",\"automargin\":true,\"zerolinewidth\":2},\"scene\":{\"xaxis\":{\"backgroundcolor\":\"white\",\"gridcolor\":\"#DFE8F3\",\"linecolor\":\"#EBF0F8\",\"showbackground\":true,\"ticks\":\"\",\"zerolinecolor\":\"#EBF0F8\",\"gridwidth\":2},\"yaxis\":{\"backgroundcolor\":\"white\",\"gridcolor\":\"#DFE8F3\",\"linecolor\":\"#EBF0F8\",\"showbackground\":true,\"ticks\":\"\",\"zerolinecolor\":\"#EBF0F8\",\"gridwidth\":2},\"zaxis\":{\"backgroundcolor\":\"white\",\"gridcolor\":\"#DFE8F3\",\"linecolor\":\"#EBF0F8\",\"showbackground\":true,\"ticks\":\"\",\"zerolinecolor\":\"#EBF0F8\",\"gridwidth\":2}},\"shapedefaults\":{\"line\":{\"color\":\"#2a3f5f\"}},\"annotationdefaults\":{\"arrowcolor\":\"#2a3f5f\",\"arrowhead\":0,\"arrowwidth\":1},\"geo\":{\"bgcolor\":\"white\",\"landcolor\":\"white\",\"subunitcolor\":\"#C8D4E3\",\"showland\":true,\"showlakes\":true,\"lakecolor\":\"white\"},\"title\":{\"x\":0.05},\"mapbox\":{\"style\":\"light\"}}},\"title\":{\"text\":\"Compare Annual Return / Max Drawdown 2019\"},\"xaxis\":{\"title\":{\"text\":\"Annual Return\"}},\"yaxis\":{\"title\":{\"text\":\"Max Drawdown\"}}},                        {\"responsive\": true}                    ).then(function(){\n",
       "                            \n",
       "var gd = document.getElementById('8aeaad4f-2b52-45fd-9389-22b16b37f292');\n",
       "var x = new MutationObserver(function (mutations, observer) {{\n",
       "        var display = window.getComputedStyle(gd).display;\n",
       "        if (!display || display === 'none') {{\n",
       "            console.log([gd, 'removed!']);\n",
       "            Plotly.purge(gd);\n",
       "            observer.disconnect();\n",
       "        }}\n",
       "}});\n",
       "\n",
       "// Listen for the removal of the full notebook cells\n",
       "var notebookContainer = gd.closest('#notebook-container');\n",
       "if (notebookContainer) {{\n",
       "    x.observe(notebookContainer, {childList: true});\n",
       "}}\n",
       "\n",
       "// Listen for the clearing of the current output cell\n",
       "var outputEl = gd.closest('.output');\n",
       "if (outputEl) {{\n",
       "    x.observe(outputEl, {childList: true});\n",
       "}}\n",
       "\n",
       "                        })                };                });            </script>        </div>"
      ]
     },
     "metadata": {},
     "output_type": "display_data"
    },
    {
     "data": {
      "application/vnd.plotly.v1+json": {
       "config": {
        "plotlyServerURL": "https://plot.ly"
       },
       "data": [
        {
         "marker": {
          "color": "bisque",
          "size": 5
         },
         "mode": "markers",
         "name": "VNM US Equity",
         "type": "scatter",
         "x": [
          0.1443711953667099
         ],
         "y": [
          -0.4034448383540302
         ]
        },
        {
         "marker": {
          "color": "maroon",
          "size": 15,
          "symbol": "diamond"
         },
         "mode": "markers",
         "name": "AFCVICI KY Equity",
         "type": "scatter",
         "x": [
          0.2892361969525837
         ],
         "y": [
          -0.2265014738393515
         ]
        },
        {
         "marker": {
          "color": "bisque",
          "size": 5
         },
         "mode": "markers",
         "name": "LUMENUS LE Equity",
         "type": "scatter",
         "x": [
          0.2597488098271664
         ],
         "y": [
          -0.363805752882264
         ]
        },
        {
         "marker": {
          "color": "bisque",
          "size": 5
         },
         "mode": "markers",
         "name": "XFVT GY Equity",
         "type": "scatter",
         "x": [
          0.1072848227571707
         ],
         "y": [
          -0.3167206040992446
         ]
        },
        {
         "marker": {
          "color": "bisque",
          "size": 5
         },
         "mode": "markers",
         "name": "GAVNBCU LX Equity",
         "type": "scatter",
         "x": [
          0.2787393161113793
         ],
         "y": [
          -0.2946822308690011
         ]
        },
        {
         "marker": {
          "color": "bisque",
          "size": 5
         },
         "mode": "markers",
         "name": "LCVIETU SP Equity",
         "type": "scatter",
         "x": [
          0.2286687071340666
         ],
         "y": [
          -0.3489681050656662
         ]
        },
        {
         "marker": {
          "color": "bisque",
          "size": 5
         },
         "mode": "markers",
         "name": "FOVCPVA LX Equity",
         "type": "scatter",
         "x": [
          0.222120696194047
         ],
         "y": [
          -0.3176972281449894
         ]
        },
        {
         "marker": {
          "color": "bisque",
          "size": 5
         },
         "mode": "markers",
         "name": "GAVTNIU LX Equity",
         "type": "scatter",
         "x": [
          0.2645156511526927
         ],
         "y": [
          -0.294539761236871
         ]
        },
        {
         "marker": {
          "color": "bisque",
          "size": 5
         },
         "mode": "markers",
         "name": "AFCVIET KY Equity",
         "type": "scatter",
         "x": [
          0.2802281442760884
         ],
         "y": [
          -0.2274670675750445
         ]
        },
        {
         "marker": {
          "color": "bisque",
          "size": 5
         },
         "mode": "markers",
         "name": "VIETNAM ID Equity",
         "type": "scatter",
         "x": [
          0.1759008243537059
         ],
         "y": [
          -0.369651521835024
         ]
        },
        {
         "marker": {
          "color": "bisque",
          "size": 5
         },
         "mode": "markers",
         "name": "E1VFVN30 VN Equity",
         "type": "scatter",
         "x": [
          0.230010833068143
         ],
         "y": [
          -0.3607594936708859
         ]
        },
        {
         "marker": {
          "color": "bisque",
          "size": 5
         },
         "mode": "markers",
         "name": "XVTD LN Equity",
         "type": "scatter",
         "x": [
          0.2055295609831861
         ],
         "y": [
          -0.339285714285714
         ]
        },
        {
         "marker": {
          "color": "bisque",
          "size": 5
         },
         "mode": "markers",
         "name": "KVIETNE TB Equity",
         "type": "scatter",
         "x": [
          0.1734278970524114
         ],
         "y": [
          -0.2883232222152726
         ]
        },
        {
         "marker": {
          "color": "bisque",
          "size": 5
         },
         "mode": "markers",
         "name": "3087 HK Equity",
         "type": "scatter",
         "x": [
          0.1699544850445921
         ],
         "y": [
          -0.3308395677472987
         ]
        },
        {
         "marker": {
          "color": "bisque",
          "size": 5
         },
         "mode": "markers",
         "name": "SSICOAD VN Equity",
         "type": "scatter",
         "x": [
          0.1867144882029368
         ],
         "y": [
          -0.321858466409803
         ]
        },
        {
         "marker": {
          "color": "bisque",
          "size": 5
         },
         "mode": "markers",
         "name": "XFVT GR Equity",
         "type": "scatter",
         "x": [
          0.1124520690479508
         ],
         "y": [
          -0.322049801515698
         ]
        },
        {
         "marker": {
          "color": "bisque",
          "size": 5
         },
         "mode": "markers",
         "name": "LCVIETS SP Equity",
         "type": "scatter",
         "x": [
          0.2114722803380651
         ],
         "y": [
          -0.3125000000000002
         ]
        },
        {
         "marker": {
          "color": "bisque",
          "size": 5
         },
         "mode": "markers",
         "name": "LUMENCH LE Equity",
         "type": "scatter",
         "x": [
          0.2365045528530375
         ],
         "y": [
          -0.3648444252376836
         ]
        },
        {
         "marker": {
          "color": "bisque",
          "size": 5
         },
         "mode": "markers",
         "name": "VTNPHXA KY Equity",
         "type": "scatter",
         "x": [
          0.2542104147459716
         ],
         "y": [
          -0.1900900900900901
         ]
        },
        {
         "marker": {
          "color": "bisque",
          "size": 5
         },
         "mode": "markers",
         "name": "CPVNEQA TB Equity",
         "type": "scatter",
         "x": [
          0.2096658579979354
         ],
         "y": [
          -0.3007471452271107
         ]
        },
        {
         "marker": {
          "color": "bisque",
          "size": 5
         },
         "mode": "markers",
         "name": "KIMVGIU LX Equity",
         "type": "scatter",
         "x": [
          0.2522355712518725
         ],
         "y": [
          -0.3390804502579499
         ]
        },
        {
         "marker": {
          "color": "bisque",
          "size": 5
         },
         "mode": "markers",
         "name": "VIETEUR ID Equity",
         "type": "scatter",
         "x": [
          0.08809858383609309
         ],
         "y": [
          -0.3670311988896058
         ]
        },
        {
         "marker": {
          "color": "bisque",
          "size": 5
         },
         "mode": "markers",
         "name": "9A311108 JP Equity",
         "type": "scatter",
         "x": [
          0.09584651763483447
         ],
         "y": [
          -0.3794119380119025
         ]
        },
        {
         "marker": {
          "color": "bisque",
          "size": 5
         },
         "mode": "markers",
         "name": "LUMCHFI LE Equity",
         "type": "scatter",
         "x": [
          0.2424666071761027
         ],
         "y": [
          -0.3637996618765856
         ]
        },
        {
         "marker": {
          "color": "bisque",
          "size": 5
         },
         "mode": "markers",
         "name": "XFVT GT Equity",
         "type": "scatter",
         "x": [
          0.1072848227571707
         ],
         "y": [
          -0.3167206040992446
         ]
        },
        {
         "marker": {
          "color": "bisque",
          "size": 5
         },
         "mode": "markers",
         "name": "XFVT SP Equity",
         "type": "scatter",
         "x": [
          0.1804559071251355
         ],
         "y": [
          -0.3371040723981902
         ]
        },
        {
         "marker": {
          "color": "bisque",
          "size": 5
         },
         "mode": "markers",
         "name": "TCMVN NA Equity",
         "type": "scatter",
         "x": [
          0.148237762544869
         ],
         "y": [
          -0.3028177629164457
         ]
        },
        {
         "marker": {
          "color": "bisque",
          "size": 5
         },
         "mode": "markers",
         "name": "2804 HK Equity",
         "type": "scatter",
         "x": [
          0.1503532310045146
         ],
         "y": [
          -0.3493898522800256
         ]
        },
        {
         "marker": {
          "color": "maroon",
          "size": 15,
          "symbol": "diamond"
         },
         "mode": "markers",
         "name": "VCVOF US Equity",
         "type": "scatter",
         "x": [
          0.3529063421223133
         ],
         "y": [
          -0.4438358969109102
         ]
        },
        {
         "marker": {
          "color": "bisque",
          "size": 5
         },
         "mode": "markers",
         "name": "FUESSV50 VN Equity",
         "type": "scatter",
         "x": [
          0.2444384900158755
         ],
         "y": [
          -0.325670498084291
         ]
        },
        {
         "marker": {
          "color": "bisque",
          "size": 5
         },
         "mode": "markers",
         "name": "AB311171 JP Equity",
         "type": "scatter",
         "x": [
          0.1837056483658856
         ],
         "y": [
          -0.3580258783156036
         ]
        },
        {
         "marker": {
          "color": "maroon",
          "size": 15,
          "symbol": "diamond"
         },
         "mode": "markers",
         "name": "IOFVTEQ LX Equity",
         "type": "scatter",
         "x": [
          0.304222192785304
         ],
         "y": [
          -0.2626359286646372
         ]
        },
        {
         "marker": {
          "color": "bisque",
          "size": 5
         },
         "mode": "markers",
         "name": "SGVIEOP HK Equity",
         "type": "scatter",
         "x": [
          0.1995540649412819
         ],
         "y": [
          -0.3397031539888684
         ]
        },
        {
         "marker": {
          "color": "bisque",
          "size": 5
         },
         "mode": "markers",
         "name": "VFMVF1 VN Equity",
         "type": "scatter",
         "x": [
          0.2410857763164186
         ],
         "y": [
          -0.2932934325660732
         ]
        },
        {
         "marker": {
          "color": "bisque",
          "size": 5
         },
         "mode": "markers",
         "name": "FOVIEDE LX Equity",
         "type": "scatter",
         "x": [
          0.1280476328953123
         ],
         "y": [
          -0.3183229813664597
         ]
        },
        {
         "marker": {
          "color": "bisque",
          "size": 5
         },
         "mode": "markers",
         "name": "GELIONV SP Equity",
         "type": "scatter",
         "x": [
          0.2105243723900052
         ],
         "y": [
          -0.3122119815668198
         ]
        },
        {
         "marker": {
          "color": "bisque",
          "size": 5
         },
         "mode": "markers",
         "name": "YDVNLDR KY Equity",
         "type": "scatter",
         "x": [
          0.2088591852086452
         ],
         "y": [
          -0.217148835992676
         ]
        },
        {
         "marker": {
          "color": "bisque",
          "size": 5
         },
         "mode": "markers",
         "name": "0431216C JP Equity",
         "type": "scatter",
         "x": [
          0.1413181989195539
         ],
         "y": [
          -0.3612460102622116
         ]
        },
        {
         "marker": {
          "color": "bisque",
          "size": 5
         },
         "mode": "markers",
         "name": "VFMVFA VN Equity",
         "type": "scatter",
         "x": [
          0
         ],
         "y": [
          0
         ]
        },
        {
         "marker": {
          "color": "bisque",
          "size": 5
         },
         "mode": "markers",
         "name": "HLGVIET MK Equity",
         "type": "scatter",
         "x": [
          0
         ],
         "y": [
          0
         ]
        },
        {
         "marker": {
          "color": "bisque",
          "size": 5
         },
         "mode": "markers",
         "name": "HAVNEAF IT Equity",
         "type": "scatter",
         "x": [
          0
         ],
         "y": [
          0
         ]
        },
        {
         "marker": {
          "color": "bisque",
          "size": 5
         },
         "mode": "markers",
         "name": "49311186 JP Equity",
         "type": "scatter",
         "x": [
          0.1287771880160456
         ],
         "y": [
          -0.3641499724041231
         ]
        },
        {
         "marker": {
          "color": "bisque",
          "size": 5
         },
         "mode": "markers",
         "name": "ASPVIET TB Equity",
         "type": "scatter",
         "x": [
          0.1591463520748577
         ],
         "y": [
          -0.3331539082625242
         ]
        },
        {
         "marker": {
          "color": "bisque",
          "size": 5
         },
         "mode": "markers",
         "name": "1AR0081 KS Equity",
         "type": "scatter",
         "x": [
          0.09074905979608827
         ],
         "y": [
          -0.2740919961340008
         ]
        },
        {
         "marker": {
          "color": "bisque",
          "size": 5
         },
         "mode": "markers",
         "name": "HLVIETS MK Equity",
         "type": "scatter",
         "x": [
          0
         ],
         "y": [
          0
         ]
        },
        {
         "marker": {
          "color": "bisque",
          "size": 5
         },
         "mode": "markers",
         "name": "47311156 JP Equity",
         "type": "scatter",
         "x": [
          0.1699655864783002
         ],
         "y": [
          -0.3516146491069824
         ]
        },
        {
         "marker": {
          "color": "bisque",
          "size": 5
         },
         "mode": "markers",
         "name": "ASPVRMF TB Equity",
         "type": "scatter",
         "x": [
          0.1377119115181231
         ],
         "y": [
          -0.3346941455886698
         ]
        },
        {
         "marker": {
          "color": "bisque",
          "size": 5
         },
         "mode": "markers",
         "name": "VCBFTBF VN Equity",
         "type": "scatter",
         "x": [
          0.1571017800752883
         ],
         "y": [
          -0.2093384471596949
         ]
        },
        {
         "marker": {
          "color": "bisque",
          "size": 5
         },
         "mode": "markers",
         "name": "VG6 GR Equity",
         "type": "scatter",
         "x": [
          0
         ],
         "y": [
          0
         ]
        },
        {
         "marker": {
          "color": "bisque",
          "size": 5
         },
         "mode": "markers",
         "name": "VNF LN Equity",
         "type": "scatter",
         "x": [
          0
         ],
         "y": [
          0
         ]
        },
        {
         "marker": {
          "color": "bisque",
          "size": 5
         },
         "mode": "markers",
         "name": "SSISCA",
         "type": "scatter",
         "x": [
          0.1813231398088899
         ],
         "y": [
          -0.3218584664098031
         ]
        },
        {
         "marker": {
          "color": "bisque",
          "size": 5
         },
         "mode": "markers",
         "name": "BVPF",
         "type": "scatter",
         "x": [
          0.1422937491053275
         ],
         "y": [
          -0.2088934850051708
         ]
        },
        {
         "marker": {
          "color": "bisque",
          "size": 5
         },
         "mode": "markers",
         "name": "VESAF",
         "type": "scatter",
         "x": [
          0.232500112165694
         ],
         "y": [
          -0.2807029392158437
         ]
        },
        {
         "marker": {
          "color": "bisque",
          "size": 5
         },
         "mode": "markers",
         "name": "VCBF-BCF",
         "type": "scatter",
         "x": [
          0.1772382993194132
         ],
         "y": [
          -0.3051933243495388
         ]
        },
        {
         "marker": {
          "color": "bisque",
          "size": 5
         },
         "mode": "markers",
         "name": "VEOF",
         "type": "scatter",
         "x": [
          0.1702029654311042
         ],
         "y": [
          -0.3166811459626026
         ]
        },
        {
         "marker": {
          "color": "bisque",
          "size": 5
         },
         "mode": "markers",
         "name": "MBVF",
         "type": "scatter",
         "x": [
          0.1745723485953774
         ],
         "y": [
          -0.1784142507858893
         ]
        },
        {
         "marker": {
          "color": "bisque",
          "size": 5
         },
         "mode": "markers",
         "name": "MAGEF",
         "type": "scatter",
         "x": [
          0.1819206345052063
         ],
         "y": [
          -0.2838009970495473
         ]
        },
        {
         "marker": {
          "color": "bisque",
          "size": 5
         },
         "mode": "markers",
         "name": "DCDS",
         "type": "scatter",
         "x": [
          0.2878970357223956
         ],
         "y": [
          -0.4260333589737111
         ]
        },
        {
         "marker": {
          "color": "bisque",
          "size": 5
         },
         "mode": "markers",
         "name": "VNDAF",
         "type": "scatter",
         "x": [
          0.1390528532048935
         ],
         "y": [
          -0.2209678191744086
         ]
        },
        {
         "marker": {
          "color": "bisque",
          "size": 5
         },
         "mode": "markers",
         "name": "DCDE",
         "type": "scatter",
         "x": [
          0.2126186320251988
         ],
         "y": [
          -0.442038914511398
         ]
        },
        {
         "marker": {
          "color": "bisque",
          "size": 5
         },
         "mode": "markers",
         "name": "DCAF",
         "type": "scatter",
         "x": [
          0.2073912160773215
         ],
         "y": [
          -0.2971944191405746
         ]
        },
        {
         "marker": {
          "color": "bisque",
          "size": 5
         },
         "mode": "markers",
         "name": "BVFED",
         "type": "scatter",
         "x": [
          0.1509609469401888
         ],
         "y": [
          -0.3078223243864514
         ]
        },
        {
         "marker": {
          "color": "bisque",
          "size": 5
         },
         "mode": "markers",
         "name": "MAFEQI",
         "type": "scatter",
         "x": [
          0.1639693874152279
         ],
         "y": [
          -0.3527093596059113
         ]
        },
        {
         "marker": {
          "color": "purple",
          "size": 25,
          "symbol": "square"
         },
         "mode": "markers",
         "name": "VNI",
         "type": "scatter",
         "x": [
          0.1603627745985564
         ],
         "y": [
          -0.3351118552437815
         ]
        },
        {
         "marker": {
          "color": "blue",
          "size": 30
         },
         "mode": "markers",
         "name": "HIEP.NS",
         "type": "scatter",
         "x": [
          0.23
         ],
         "y": [
          -0.14
         ]
        },
        {
         "marker": {
          "color": "orange",
          "size": 30
         },
         "mode": "markers",
         "name": "MANDATE VND",
         "type": "scatter",
         "x": [
          0.15
         ],
         "y": [
          -0.18
         ]
        }
       ],
       "layout": {
        "template": {
         "data": {
          "bar": [
           {
            "error_x": {
             "color": "#2a3f5f"
            },
            "error_y": {
             "color": "#2a3f5f"
            },
            "marker": {
             "line": {
              "color": "white",
              "width": 0.5
             },
             "pattern": {
              "fillmode": "overlay",
              "size": 10,
              "solidity": 0.2
             }
            },
            "type": "bar"
           }
          ],
          "barpolar": [
           {
            "marker": {
             "line": {
              "color": "white",
              "width": 0.5
             },
             "pattern": {
              "fillmode": "overlay",
              "size": 10,
              "solidity": 0.2
             }
            },
            "type": "barpolar"
           }
          ],
          "carpet": [
           {
            "aaxis": {
             "endlinecolor": "#2a3f5f",
             "gridcolor": "#C8D4E3",
             "linecolor": "#C8D4E3",
             "minorgridcolor": "#C8D4E3",
             "startlinecolor": "#2a3f5f"
            },
            "baxis": {
             "endlinecolor": "#2a3f5f",
             "gridcolor": "#C8D4E3",
             "linecolor": "#C8D4E3",
             "minorgridcolor": "#C8D4E3",
             "startlinecolor": "#2a3f5f"
            },
            "type": "carpet"
           }
          ],
          "choropleth": [
           {
            "colorbar": {
             "outlinewidth": 0,
             "ticks": ""
            },
            "type": "choropleth"
           }
          ],
          "contour": [
           {
            "colorbar": {
             "outlinewidth": 0,
             "ticks": ""
            },
            "colorscale": [
             [
              0,
              "#0d0887"
             ],
             [
              0.1111111111111111,
              "#46039f"
             ],
             [
              0.2222222222222222,
              "#7201a8"
             ],
             [
              0.3333333333333333,
              "#9c179e"
             ],
             [
              0.4444444444444444,
              "#bd3786"
             ],
             [
              0.5555555555555556,
              "#d8576b"
             ],
             [
              0.6666666666666666,
              "#ed7953"
             ],
             [
              0.7777777777777778,
              "#fb9f3a"
             ],
             [
              0.8888888888888888,
              "#fdca26"
             ],
             [
              1,
              "#f0f921"
             ]
            ],
            "type": "contour"
           }
          ],
          "contourcarpet": [
           {
            "colorbar": {
             "outlinewidth": 0,
             "ticks": ""
            },
            "type": "contourcarpet"
           }
          ],
          "heatmap": [
           {
            "colorbar": {
             "outlinewidth": 0,
             "ticks": ""
            },
            "colorscale": [
             [
              0,
              "#0d0887"
             ],
             [
              0.1111111111111111,
              "#46039f"
             ],
             [
              0.2222222222222222,
              "#7201a8"
             ],
             [
              0.3333333333333333,
              "#9c179e"
             ],
             [
              0.4444444444444444,
              "#bd3786"
             ],
             [
              0.5555555555555556,
              "#d8576b"
             ],
             [
              0.6666666666666666,
              "#ed7953"
             ],
             [
              0.7777777777777778,
              "#fb9f3a"
             ],
             [
              0.8888888888888888,
              "#fdca26"
             ],
             [
              1,
              "#f0f921"
             ]
            ],
            "type": "heatmap"
           }
          ],
          "heatmapgl": [
           {
            "colorbar": {
             "outlinewidth": 0,
             "ticks": ""
            },
            "colorscale": [
             [
              0,
              "#0d0887"
             ],
             [
              0.1111111111111111,
              "#46039f"
             ],
             [
              0.2222222222222222,
              "#7201a8"
             ],
             [
              0.3333333333333333,
              "#9c179e"
             ],
             [
              0.4444444444444444,
              "#bd3786"
             ],
             [
              0.5555555555555556,
              "#d8576b"
             ],
             [
              0.6666666666666666,
              "#ed7953"
             ],
             [
              0.7777777777777778,
              "#fb9f3a"
             ],
             [
              0.8888888888888888,
              "#fdca26"
             ],
             [
              1,
              "#f0f921"
             ]
            ],
            "type": "heatmapgl"
           }
          ],
          "histogram": [
           {
            "marker": {
             "pattern": {
              "fillmode": "overlay",
              "size": 10,
              "solidity": 0.2
             }
            },
            "type": "histogram"
           }
          ],
          "histogram2d": [
           {
            "colorbar": {
             "outlinewidth": 0,
             "ticks": ""
            },
            "colorscale": [
             [
              0,
              "#0d0887"
             ],
             [
              0.1111111111111111,
              "#46039f"
             ],
             [
              0.2222222222222222,
              "#7201a8"
             ],
             [
              0.3333333333333333,
              "#9c179e"
             ],
             [
              0.4444444444444444,
              "#bd3786"
             ],
             [
              0.5555555555555556,
              "#d8576b"
             ],
             [
              0.6666666666666666,
              "#ed7953"
             ],
             [
              0.7777777777777778,
              "#fb9f3a"
             ],
             [
              0.8888888888888888,
              "#fdca26"
             ],
             [
              1,
              "#f0f921"
             ]
            ],
            "type": "histogram2d"
           }
          ],
          "histogram2dcontour": [
           {
            "colorbar": {
             "outlinewidth": 0,
             "ticks": ""
            },
            "colorscale": [
             [
              0,
              "#0d0887"
             ],
             [
              0.1111111111111111,
              "#46039f"
             ],
             [
              0.2222222222222222,
              "#7201a8"
             ],
             [
              0.3333333333333333,
              "#9c179e"
             ],
             [
              0.4444444444444444,
              "#bd3786"
             ],
             [
              0.5555555555555556,
              "#d8576b"
             ],
             [
              0.6666666666666666,
              "#ed7953"
             ],
             [
              0.7777777777777778,
              "#fb9f3a"
             ],
             [
              0.8888888888888888,
              "#fdca26"
             ],
             [
              1,
              "#f0f921"
             ]
            ],
            "type": "histogram2dcontour"
           }
          ],
          "mesh3d": [
           {
            "colorbar": {
             "outlinewidth": 0,
             "ticks": ""
            },
            "type": "mesh3d"
           }
          ],
          "parcoords": [
           {
            "line": {
             "colorbar": {
              "outlinewidth": 0,
              "ticks": ""
             }
            },
            "type": "parcoords"
           }
          ],
          "pie": [
           {
            "automargin": true,
            "type": "pie"
           }
          ],
          "scatter": [
           {
            "fillpattern": {
             "fillmode": "overlay",
             "size": 10,
             "solidity": 0.2
            },
            "type": "scatter"
           }
          ],
          "scatter3d": [
           {
            "line": {
             "colorbar": {
              "outlinewidth": 0,
              "ticks": ""
             }
            },
            "marker": {
             "colorbar": {
              "outlinewidth": 0,
              "ticks": ""
             }
            },
            "type": "scatter3d"
           }
          ],
          "scattercarpet": [
           {
            "marker": {
             "colorbar": {
              "outlinewidth": 0,
              "ticks": ""
             }
            },
            "type": "scattercarpet"
           }
          ],
          "scattergeo": [
           {
            "marker": {
             "colorbar": {
              "outlinewidth": 0,
              "ticks": ""
             }
            },
            "type": "scattergeo"
           }
          ],
          "scattergl": [
           {
            "marker": {
             "colorbar": {
              "outlinewidth": 0,
              "ticks": ""
             }
            },
            "type": "scattergl"
           }
          ],
          "scattermapbox": [
           {
            "marker": {
             "colorbar": {
              "outlinewidth": 0,
              "ticks": ""
             }
            },
            "type": "scattermapbox"
           }
          ],
          "scatterpolar": [
           {
            "marker": {
             "colorbar": {
              "outlinewidth": 0,
              "ticks": ""
             }
            },
            "type": "scatterpolar"
           }
          ],
          "scatterpolargl": [
           {
            "marker": {
             "colorbar": {
              "outlinewidth": 0,
              "ticks": ""
             }
            },
            "type": "scatterpolargl"
           }
          ],
          "scatterternary": [
           {
            "marker": {
             "colorbar": {
              "outlinewidth": 0,
              "ticks": ""
             }
            },
            "type": "scatterternary"
           }
          ],
          "surface": [
           {
            "colorbar": {
             "outlinewidth": 0,
             "ticks": ""
            },
            "colorscale": [
             [
              0,
              "#0d0887"
             ],
             [
              0.1111111111111111,
              "#46039f"
             ],
             [
              0.2222222222222222,
              "#7201a8"
             ],
             [
              0.3333333333333333,
              "#9c179e"
             ],
             [
              0.4444444444444444,
              "#bd3786"
             ],
             [
              0.5555555555555556,
              "#d8576b"
             ],
             [
              0.6666666666666666,
              "#ed7953"
             ],
             [
              0.7777777777777778,
              "#fb9f3a"
             ],
             [
              0.8888888888888888,
              "#fdca26"
             ],
             [
              1,
              "#f0f921"
             ]
            ],
            "type": "surface"
           }
          ],
          "table": [
           {
            "cells": {
             "fill": {
              "color": "#EBF0F8"
             },
             "line": {
              "color": "white"
             }
            },
            "header": {
             "fill": {
              "color": "#C8D4E3"
             },
             "line": {
              "color": "white"
             }
            },
            "type": "table"
           }
          ]
         },
         "layout": {
          "annotationdefaults": {
           "arrowcolor": "#2a3f5f",
           "arrowhead": 0,
           "arrowwidth": 1
          },
          "autotypenumbers": "strict",
          "coloraxis": {
           "colorbar": {
            "outlinewidth": 0,
            "ticks": ""
           }
          },
          "colorscale": {
           "diverging": [
            [
             0,
             "#8e0152"
            ],
            [
             0.1,
             "#c51b7d"
            ],
            [
             0.2,
             "#de77ae"
            ],
            [
             0.3,
             "#f1b6da"
            ],
            [
             0.4,
             "#fde0ef"
            ],
            [
             0.5,
             "#f7f7f7"
            ],
            [
             0.6,
             "#e6f5d0"
            ],
            [
             0.7,
             "#b8e186"
            ],
            [
             0.8,
             "#7fbc41"
            ],
            [
             0.9,
             "#4d9221"
            ],
            [
             1,
             "#276419"
            ]
           ],
           "sequential": [
            [
             0,
             "#0d0887"
            ],
            [
             0.1111111111111111,
             "#46039f"
            ],
            [
             0.2222222222222222,
             "#7201a8"
            ],
            [
             0.3333333333333333,
             "#9c179e"
            ],
            [
             0.4444444444444444,
             "#bd3786"
            ],
            [
             0.5555555555555556,
             "#d8576b"
            ],
            [
             0.6666666666666666,
             "#ed7953"
            ],
            [
             0.7777777777777778,
             "#fb9f3a"
            ],
            [
             0.8888888888888888,
             "#fdca26"
            ],
            [
             1,
             "#f0f921"
            ]
           ],
           "sequentialminus": [
            [
             0,
             "#0d0887"
            ],
            [
             0.1111111111111111,
             "#46039f"
            ],
            [
             0.2222222222222222,
             "#7201a8"
            ],
            [
             0.3333333333333333,
             "#9c179e"
            ],
            [
             0.4444444444444444,
             "#bd3786"
            ],
            [
             0.5555555555555556,
             "#d8576b"
            ],
            [
             0.6666666666666666,
             "#ed7953"
            ],
            [
             0.7777777777777778,
             "#fb9f3a"
            ],
            [
             0.8888888888888888,
             "#fdca26"
            ],
            [
             1,
             "#f0f921"
            ]
           ]
          },
          "colorway": [
           "#636efa",
           "#EF553B",
           "#00cc96",
           "#ab63fa",
           "#FFA15A",
           "#19d3f3",
           "#FF6692",
           "#B6E880",
           "#FF97FF",
           "#FECB52"
          ],
          "font": {
           "color": "#2a3f5f"
          },
          "geo": {
           "bgcolor": "white",
           "lakecolor": "white",
           "landcolor": "white",
           "showlakes": true,
           "showland": true,
           "subunitcolor": "#C8D4E3"
          },
          "hoverlabel": {
           "align": "left"
          },
          "hovermode": "closest",
          "mapbox": {
           "style": "light"
          },
          "paper_bgcolor": "white",
          "plot_bgcolor": "white",
          "polar": {
           "angularaxis": {
            "gridcolor": "#EBF0F8",
            "linecolor": "#EBF0F8",
            "ticks": ""
           },
           "bgcolor": "white",
           "radialaxis": {
            "gridcolor": "#EBF0F8",
            "linecolor": "#EBF0F8",
            "ticks": ""
           }
          },
          "scene": {
           "xaxis": {
            "backgroundcolor": "white",
            "gridcolor": "#DFE8F3",
            "gridwidth": 2,
            "linecolor": "#EBF0F8",
            "showbackground": true,
            "ticks": "",
            "zerolinecolor": "#EBF0F8"
           },
           "yaxis": {
            "backgroundcolor": "white",
            "gridcolor": "#DFE8F3",
            "gridwidth": 2,
            "linecolor": "#EBF0F8",
            "showbackground": true,
            "ticks": "",
            "zerolinecolor": "#EBF0F8"
           },
           "zaxis": {
            "backgroundcolor": "white",
            "gridcolor": "#DFE8F3",
            "gridwidth": 2,
            "linecolor": "#EBF0F8",
            "showbackground": true,
            "ticks": "",
            "zerolinecolor": "#EBF0F8"
           }
          },
          "shapedefaults": {
           "line": {
            "color": "#2a3f5f"
           }
          },
          "ternary": {
           "aaxis": {
            "gridcolor": "#DFE8F3",
            "linecolor": "#A2B1C6",
            "ticks": ""
           },
           "baxis": {
            "gridcolor": "#DFE8F3",
            "linecolor": "#A2B1C6",
            "ticks": ""
           },
           "bgcolor": "white",
           "caxis": {
            "gridcolor": "#DFE8F3",
            "linecolor": "#A2B1C6",
            "ticks": ""
           }
          },
          "title": {
           "x": 0.05
          },
          "xaxis": {
           "automargin": true,
           "gridcolor": "#EBF0F8",
           "linecolor": "#EBF0F8",
           "ticks": "",
           "title": {
            "standoff": 15
           },
           "zerolinecolor": "#EBF0F8",
           "zerolinewidth": 2
          },
          "yaxis": {
           "automargin": true,
           "gridcolor": "#EBF0F8",
           "linecolor": "#EBF0F8",
           "ticks": "",
           "title": {
            "standoff": 15
           },
           "zerolinecolor": "#EBF0F8",
           "zerolinewidth": 2
          }
         }
        },
        "title": {
         "text": "Compare Annual Return / Max Drawdown 2020"
        },
        "xaxis": {
         "title": {
          "text": "Annual Return"
         }
        },
        "yaxis": {
         "title": {
          "text": "Max Drawdown"
         }
        }
       }
      },
      "text/html": [
       "<div>                            <div id=\"dd1bb6a2-cde0-4c36-b63c-0b58946bf079\" class=\"plotly-graph-div\" style=\"height:525px; width:100%;\"></div>            <script type=\"text/javascript\">                require([\"plotly\"], function(Plotly) {                    window.PLOTLYENV=window.PLOTLYENV || {};                                    if (document.getElementById(\"dd1bb6a2-cde0-4c36-b63c-0b58946bf079\")) {                    Plotly.newPlot(                        \"dd1bb6a2-cde0-4c36-b63c-0b58946bf079\",                        [{\"marker\":{\"color\":\"bisque\",\"size\":5},\"mode\":\"markers\",\"name\":\"VNM US Equity\",\"x\":[0.1443711953667099],\"y\":[-0.4034448383540302],\"type\":\"scatter\"},{\"marker\":{\"color\":\"maroon\",\"size\":15,\"symbol\":\"diamond\"},\"mode\":\"markers\",\"name\":\"AFCVICI KY Equity\",\"x\":[0.2892361969525837],\"y\":[-0.2265014738393515],\"type\":\"scatter\"},{\"marker\":{\"color\":\"bisque\",\"size\":5},\"mode\":\"markers\",\"name\":\"LUMENUS LE Equity\",\"x\":[0.2597488098271664],\"y\":[-0.363805752882264],\"type\":\"scatter\"},{\"marker\":{\"color\":\"bisque\",\"size\":5},\"mode\":\"markers\",\"name\":\"XFVT GY Equity\",\"x\":[0.1072848227571707],\"y\":[-0.3167206040992446],\"type\":\"scatter\"},{\"marker\":{\"color\":\"bisque\",\"size\":5},\"mode\":\"markers\",\"name\":\"GAVNBCU LX Equity\",\"x\":[0.2787393161113793],\"y\":[-0.2946822308690011],\"type\":\"scatter\"},{\"marker\":{\"color\":\"bisque\",\"size\":5},\"mode\":\"markers\",\"name\":\"LCVIETU SP Equity\",\"x\":[0.2286687071340666],\"y\":[-0.3489681050656662],\"type\":\"scatter\"},{\"marker\":{\"color\":\"bisque\",\"size\":5},\"mode\":\"markers\",\"name\":\"FOVCPVA LX Equity\",\"x\":[0.222120696194047],\"y\":[-0.3176972281449894],\"type\":\"scatter\"},{\"marker\":{\"color\":\"bisque\",\"size\":5},\"mode\":\"markers\",\"name\":\"GAVTNIU LX Equity\",\"x\":[0.2645156511526927],\"y\":[-0.294539761236871],\"type\":\"scatter\"},{\"marker\":{\"color\":\"bisque\",\"size\":5},\"mode\":\"markers\",\"name\":\"AFCVIET KY Equity\",\"x\":[0.2802281442760884],\"y\":[-0.2274670675750445],\"type\":\"scatter\"},{\"marker\":{\"color\":\"bisque\",\"size\":5},\"mode\":\"markers\",\"name\":\"VIETNAM ID Equity\",\"x\":[0.1759008243537059],\"y\":[-0.369651521835024],\"type\":\"scatter\"},{\"marker\":{\"color\":\"bisque\",\"size\":5},\"mode\":\"markers\",\"name\":\"E1VFVN30 VN Equity\",\"x\":[0.230010833068143],\"y\":[-0.3607594936708859],\"type\":\"scatter\"},{\"marker\":{\"color\":\"bisque\",\"size\":5},\"mode\":\"markers\",\"name\":\"XVTD LN Equity\",\"x\":[0.2055295609831861],\"y\":[-0.339285714285714],\"type\":\"scatter\"},{\"marker\":{\"color\":\"bisque\",\"size\":5},\"mode\":\"markers\",\"name\":\"KVIETNE TB Equity\",\"x\":[0.1734278970524114],\"y\":[-0.2883232222152726],\"type\":\"scatter\"},{\"marker\":{\"color\":\"bisque\",\"size\":5},\"mode\":\"markers\",\"name\":\"3087 HK Equity\",\"x\":[0.1699544850445921],\"y\":[-0.3308395677472987],\"type\":\"scatter\"},{\"marker\":{\"color\":\"bisque\",\"size\":5},\"mode\":\"markers\",\"name\":\"SSICOAD VN Equity\",\"x\":[0.1867144882029368],\"y\":[-0.321858466409803],\"type\":\"scatter\"},{\"marker\":{\"color\":\"bisque\",\"size\":5},\"mode\":\"markers\",\"name\":\"XFVT GR Equity\",\"x\":[0.1124520690479508],\"y\":[-0.322049801515698],\"type\":\"scatter\"},{\"marker\":{\"color\":\"bisque\",\"size\":5},\"mode\":\"markers\",\"name\":\"LCVIETS SP Equity\",\"x\":[0.2114722803380651],\"y\":[-0.3125000000000002],\"type\":\"scatter\"},{\"marker\":{\"color\":\"bisque\",\"size\":5},\"mode\":\"markers\",\"name\":\"LUMENCH LE Equity\",\"x\":[0.2365045528530375],\"y\":[-0.3648444252376836],\"type\":\"scatter\"},{\"marker\":{\"color\":\"bisque\",\"size\":5},\"mode\":\"markers\",\"name\":\"VTNPHXA KY Equity\",\"x\":[0.2542104147459716],\"y\":[-0.1900900900900901],\"type\":\"scatter\"},{\"marker\":{\"color\":\"bisque\",\"size\":5},\"mode\":\"markers\",\"name\":\"CPVNEQA TB Equity\",\"x\":[0.2096658579979354],\"y\":[-0.3007471452271107],\"type\":\"scatter\"},{\"marker\":{\"color\":\"bisque\",\"size\":5},\"mode\":\"markers\",\"name\":\"KIMVGIU LX Equity\",\"x\":[0.2522355712518725],\"y\":[-0.3390804502579499],\"type\":\"scatter\"},{\"marker\":{\"color\":\"bisque\",\"size\":5},\"mode\":\"markers\",\"name\":\"VIETEUR ID Equity\",\"x\":[0.08809858383609309],\"y\":[-0.3670311988896058],\"type\":\"scatter\"},{\"marker\":{\"color\":\"bisque\",\"size\":5},\"mode\":\"markers\",\"name\":\"9A311108 JP Equity\",\"x\":[0.09584651763483447],\"y\":[-0.3794119380119025],\"type\":\"scatter\"},{\"marker\":{\"color\":\"bisque\",\"size\":5},\"mode\":\"markers\",\"name\":\"LUMCHFI LE Equity\",\"x\":[0.2424666071761027],\"y\":[-0.3637996618765856],\"type\":\"scatter\"},{\"marker\":{\"color\":\"bisque\",\"size\":5},\"mode\":\"markers\",\"name\":\"XFVT GT Equity\",\"x\":[0.1072848227571707],\"y\":[-0.3167206040992446],\"type\":\"scatter\"},{\"marker\":{\"color\":\"bisque\",\"size\":5},\"mode\":\"markers\",\"name\":\"XFVT SP Equity\",\"x\":[0.1804559071251355],\"y\":[-0.3371040723981902],\"type\":\"scatter\"},{\"marker\":{\"color\":\"bisque\",\"size\":5},\"mode\":\"markers\",\"name\":\"TCMVN NA Equity\",\"x\":[0.148237762544869],\"y\":[-0.3028177629164457],\"type\":\"scatter\"},{\"marker\":{\"color\":\"bisque\",\"size\":5},\"mode\":\"markers\",\"name\":\"2804 HK Equity\",\"x\":[0.1503532310045146],\"y\":[-0.3493898522800256],\"type\":\"scatter\"},{\"marker\":{\"color\":\"maroon\",\"size\":15,\"symbol\":\"diamond\"},\"mode\":\"markers\",\"name\":\"VCVOF US Equity\",\"x\":[0.3529063421223133],\"y\":[-0.4438358969109102],\"type\":\"scatter\"},{\"marker\":{\"color\":\"bisque\",\"size\":5},\"mode\":\"markers\",\"name\":\"FUESSV50 VN Equity\",\"x\":[0.2444384900158755],\"y\":[-0.325670498084291],\"type\":\"scatter\"},{\"marker\":{\"color\":\"bisque\",\"size\":5},\"mode\":\"markers\",\"name\":\"AB311171 JP Equity\",\"x\":[0.1837056483658856],\"y\":[-0.3580258783156036],\"type\":\"scatter\"},{\"marker\":{\"color\":\"maroon\",\"size\":15,\"symbol\":\"diamond\"},\"mode\":\"markers\",\"name\":\"IOFVTEQ LX Equity\",\"x\":[0.304222192785304],\"y\":[-0.2626359286646372],\"type\":\"scatter\"},{\"marker\":{\"color\":\"bisque\",\"size\":5},\"mode\":\"markers\",\"name\":\"SGVIEOP HK Equity\",\"x\":[0.1995540649412819],\"y\":[-0.3397031539888684],\"type\":\"scatter\"},{\"marker\":{\"color\":\"bisque\",\"size\":5},\"mode\":\"markers\",\"name\":\"VFMVF1 VN Equity\",\"x\":[0.2410857763164186],\"y\":[-0.2932934325660732],\"type\":\"scatter\"},{\"marker\":{\"color\":\"bisque\",\"size\":5},\"mode\":\"markers\",\"name\":\"FOVIEDE LX Equity\",\"x\":[0.1280476328953123],\"y\":[-0.3183229813664597],\"type\":\"scatter\"},{\"marker\":{\"color\":\"bisque\",\"size\":5},\"mode\":\"markers\",\"name\":\"GELIONV SP Equity\",\"x\":[0.2105243723900052],\"y\":[-0.3122119815668198],\"type\":\"scatter\"},{\"marker\":{\"color\":\"bisque\",\"size\":5},\"mode\":\"markers\",\"name\":\"YDVNLDR KY Equity\",\"x\":[0.2088591852086452],\"y\":[-0.217148835992676],\"type\":\"scatter\"},{\"marker\":{\"color\":\"bisque\",\"size\":5},\"mode\":\"markers\",\"name\":\"0431216C JP Equity\",\"x\":[0.1413181989195539],\"y\":[-0.3612460102622116],\"type\":\"scatter\"},{\"marker\":{\"color\":\"bisque\",\"size\":5},\"mode\":\"markers\",\"name\":\"VFMVFA VN Equity\",\"x\":[0.0],\"y\":[0.0],\"type\":\"scatter\"},{\"marker\":{\"color\":\"bisque\",\"size\":5},\"mode\":\"markers\",\"name\":\"HLGVIET MK Equity\",\"x\":[0.0],\"y\":[0.0],\"type\":\"scatter\"},{\"marker\":{\"color\":\"bisque\",\"size\":5},\"mode\":\"markers\",\"name\":\"HAVNEAF IT Equity\",\"x\":[0.0],\"y\":[0.0],\"type\":\"scatter\"},{\"marker\":{\"color\":\"bisque\",\"size\":5},\"mode\":\"markers\",\"name\":\"49311186 JP Equity\",\"x\":[0.1287771880160456],\"y\":[-0.3641499724041231],\"type\":\"scatter\"},{\"marker\":{\"color\":\"bisque\",\"size\":5},\"mode\":\"markers\",\"name\":\"ASPVIET TB Equity\",\"x\":[0.1591463520748577],\"y\":[-0.3331539082625242],\"type\":\"scatter\"},{\"marker\":{\"color\":\"bisque\",\"size\":5},\"mode\":\"markers\",\"name\":\"1AR0081 KS Equity\",\"x\":[0.09074905979608827],\"y\":[-0.2740919961340008],\"type\":\"scatter\"},{\"marker\":{\"color\":\"bisque\",\"size\":5},\"mode\":\"markers\",\"name\":\"HLVIETS MK Equity\",\"x\":[0.0],\"y\":[0.0],\"type\":\"scatter\"},{\"marker\":{\"color\":\"bisque\",\"size\":5},\"mode\":\"markers\",\"name\":\"47311156 JP Equity\",\"x\":[0.1699655864783002],\"y\":[-0.3516146491069824],\"type\":\"scatter\"},{\"marker\":{\"color\":\"bisque\",\"size\":5},\"mode\":\"markers\",\"name\":\"ASPVRMF TB Equity\",\"x\":[0.1377119115181231],\"y\":[-0.3346941455886698],\"type\":\"scatter\"},{\"marker\":{\"color\":\"bisque\",\"size\":5},\"mode\":\"markers\",\"name\":\"VCBFTBF VN Equity\",\"x\":[0.1571017800752883],\"y\":[-0.2093384471596949],\"type\":\"scatter\"},{\"marker\":{\"color\":\"bisque\",\"size\":5},\"mode\":\"markers\",\"name\":\"VG6 GR Equity\",\"x\":[0.0],\"y\":[0.0],\"type\":\"scatter\"},{\"marker\":{\"color\":\"bisque\",\"size\":5},\"mode\":\"markers\",\"name\":\"VNF LN Equity\",\"x\":[0.0],\"y\":[0.0],\"type\":\"scatter\"},{\"marker\":{\"color\":\"bisque\",\"size\":5},\"mode\":\"markers\",\"name\":\"SSISCA\",\"x\":[0.1813231398088899],\"y\":[-0.3218584664098031],\"type\":\"scatter\"},{\"marker\":{\"color\":\"bisque\",\"size\":5},\"mode\":\"markers\",\"name\":\"BVPF\",\"x\":[0.1422937491053275],\"y\":[-0.2088934850051708],\"type\":\"scatter\"},{\"marker\":{\"color\":\"bisque\",\"size\":5},\"mode\":\"markers\",\"name\":\"VESAF\",\"x\":[0.232500112165694],\"y\":[-0.2807029392158437],\"type\":\"scatter\"},{\"marker\":{\"color\":\"bisque\",\"size\":5},\"mode\":\"markers\",\"name\":\"VCBF-BCF\",\"x\":[0.1772382993194132],\"y\":[-0.3051933243495388],\"type\":\"scatter\"},{\"marker\":{\"color\":\"bisque\",\"size\":5},\"mode\":\"markers\",\"name\":\"VEOF\",\"x\":[0.1702029654311042],\"y\":[-0.3166811459626026],\"type\":\"scatter\"},{\"marker\":{\"color\":\"bisque\",\"size\":5},\"mode\":\"markers\",\"name\":\"MBVF\",\"x\":[0.1745723485953774],\"y\":[-0.1784142507858893],\"type\":\"scatter\"},{\"marker\":{\"color\":\"bisque\",\"size\":5},\"mode\":\"markers\",\"name\":\"MAGEF\",\"x\":[0.1819206345052063],\"y\":[-0.2838009970495473],\"type\":\"scatter\"},{\"marker\":{\"color\":\"bisque\",\"size\":5},\"mode\":\"markers\",\"name\":\"DCDS\",\"x\":[0.2878970357223956],\"y\":[-0.4260333589737111],\"type\":\"scatter\"},{\"marker\":{\"color\":\"bisque\",\"size\":5},\"mode\":\"markers\",\"name\":\"VNDAF\",\"x\":[0.1390528532048935],\"y\":[-0.2209678191744086],\"type\":\"scatter\"},{\"marker\":{\"color\":\"bisque\",\"size\":5},\"mode\":\"markers\",\"name\":\"DCDE\",\"x\":[0.2126186320251988],\"y\":[-0.442038914511398],\"type\":\"scatter\"},{\"marker\":{\"color\":\"bisque\",\"size\":5},\"mode\":\"markers\",\"name\":\"DCAF\",\"x\":[0.2073912160773215],\"y\":[-0.2971944191405746],\"type\":\"scatter\"},{\"marker\":{\"color\":\"bisque\",\"size\":5},\"mode\":\"markers\",\"name\":\"BVFED\",\"x\":[0.1509609469401888],\"y\":[-0.3078223243864514],\"type\":\"scatter\"},{\"marker\":{\"color\":\"bisque\",\"size\":5},\"mode\":\"markers\",\"name\":\"MAFEQI\",\"x\":[0.1639693874152279],\"y\":[-0.3527093596059113],\"type\":\"scatter\"},{\"marker\":{\"color\":\"purple\",\"size\":25,\"symbol\":\"square\"},\"mode\":\"markers\",\"name\":\"VNI\",\"x\":[0.1603627745985564],\"y\":[-0.3351118552437815],\"type\":\"scatter\"},{\"marker\":{\"color\":\"blue\",\"size\":30},\"mode\":\"markers\",\"name\":\"HIEP.NS\",\"x\":[0.23],\"y\":[-0.14],\"type\":\"scatter\"},{\"marker\":{\"color\":\"orange\",\"size\":30},\"mode\":\"markers\",\"name\":\"MANDATE VND\",\"x\":[0.15],\"y\":[-0.18],\"type\":\"scatter\"}],                        {\"template\":{\"data\":{\"histogram2dcontour\":[{\"type\":\"histogram2dcontour\",\"colorbar\":{\"outlinewidth\":0,\"ticks\":\"\"},\"colorscale\":[[0.0,\"#0d0887\"],[0.1111111111111111,\"#46039f\"],[0.2222222222222222,\"#7201a8\"],[0.3333333333333333,\"#9c179e\"],[0.4444444444444444,\"#bd3786\"],[0.5555555555555556,\"#d8576b\"],[0.6666666666666666,\"#ed7953\"],[0.7777777777777778,\"#fb9f3a\"],[0.8888888888888888,\"#fdca26\"],[1.0,\"#f0f921\"]]}],\"choropleth\":[{\"type\":\"choropleth\",\"colorbar\":{\"outlinewidth\":0,\"ticks\":\"\"}}],\"histogram2d\":[{\"type\":\"histogram2d\",\"colorbar\":{\"outlinewidth\":0,\"ticks\":\"\"},\"colorscale\":[[0.0,\"#0d0887\"],[0.1111111111111111,\"#46039f\"],[0.2222222222222222,\"#7201a8\"],[0.3333333333333333,\"#9c179e\"],[0.4444444444444444,\"#bd3786\"],[0.5555555555555556,\"#d8576b\"],[0.6666666666666666,\"#ed7953\"],[0.7777777777777778,\"#fb9f3a\"],[0.8888888888888888,\"#fdca26\"],[1.0,\"#f0f921\"]]}],\"heatmap\":[{\"type\":\"heatmap\",\"colorbar\":{\"outlinewidth\":0,\"ticks\":\"\"},\"colorscale\":[[0.0,\"#0d0887\"],[0.1111111111111111,\"#46039f\"],[0.2222222222222222,\"#7201a8\"],[0.3333333333333333,\"#9c179e\"],[0.4444444444444444,\"#bd3786\"],[0.5555555555555556,\"#d8576b\"],[0.6666666666666666,\"#ed7953\"],[0.7777777777777778,\"#fb9f3a\"],[0.8888888888888888,\"#fdca26\"],[1.0,\"#f0f921\"]]}],\"heatmapgl\":[{\"type\":\"heatmapgl\",\"colorbar\":{\"outlinewidth\":0,\"ticks\":\"\"},\"colorscale\":[[0.0,\"#0d0887\"],[0.1111111111111111,\"#46039f\"],[0.2222222222222222,\"#7201a8\"],[0.3333333333333333,\"#9c179e\"],[0.4444444444444444,\"#bd3786\"],[0.5555555555555556,\"#d8576b\"],[0.6666666666666666,\"#ed7953\"],[0.7777777777777778,\"#fb9f3a\"],[0.8888888888888888,\"#fdca26\"],[1.0,\"#f0f921\"]]}],\"contourcarpet\":[{\"type\":\"contourcarpet\",\"colorbar\":{\"outlinewidth\":0,\"ticks\":\"\"}}],\"contour\":[{\"type\":\"contour\",\"colorbar\":{\"outlinewidth\":0,\"ticks\":\"\"},\"colorscale\":[[0.0,\"#0d0887\"],[0.1111111111111111,\"#46039f\"],[0.2222222222222222,\"#7201a8\"],[0.3333333333333333,\"#9c179e\"],[0.4444444444444444,\"#bd3786\"],[0.5555555555555556,\"#d8576b\"],[0.6666666666666666,\"#ed7953\"],[0.7777777777777778,\"#fb9f3a\"],[0.8888888888888888,\"#fdca26\"],[1.0,\"#f0f921\"]]}],\"surface\":[{\"type\":\"surface\",\"colorbar\":{\"outlinewidth\":0,\"ticks\":\"\"},\"colorscale\":[[0.0,\"#0d0887\"],[0.1111111111111111,\"#46039f\"],[0.2222222222222222,\"#7201a8\"],[0.3333333333333333,\"#9c179e\"],[0.4444444444444444,\"#bd3786\"],[0.5555555555555556,\"#d8576b\"],[0.6666666666666666,\"#ed7953\"],[0.7777777777777778,\"#fb9f3a\"],[0.8888888888888888,\"#fdca26\"],[1.0,\"#f0f921\"]]}],\"mesh3d\":[{\"type\":\"mesh3d\",\"colorbar\":{\"outlinewidth\":0,\"ticks\":\"\"}}],\"scatter\":[{\"fillpattern\":{\"fillmode\":\"overlay\",\"size\":10,\"solidity\":0.2},\"type\":\"scatter\"}],\"parcoords\":[{\"type\":\"parcoords\",\"line\":{\"colorbar\":{\"outlinewidth\":0,\"ticks\":\"\"}}}],\"scatterpolargl\":[{\"type\":\"scatterpolargl\",\"marker\":{\"colorbar\":{\"outlinewidth\":0,\"ticks\":\"\"}}}],\"bar\":[{\"error_x\":{\"color\":\"#2a3f5f\"},\"error_y\":{\"color\":\"#2a3f5f\"},\"marker\":{\"line\":{\"color\":\"white\",\"width\":0.5},\"pattern\":{\"fillmode\":\"overlay\",\"size\":10,\"solidity\":0.2}},\"type\":\"bar\"}],\"scattergeo\":[{\"type\":\"scattergeo\",\"marker\":{\"colorbar\":{\"outlinewidth\":0,\"ticks\":\"\"}}}],\"scatterpolar\":[{\"type\":\"scatterpolar\",\"marker\":{\"colorbar\":{\"outlinewidth\":0,\"ticks\":\"\"}}}],\"histogram\":[{\"marker\":{\"pattern\":{\"fillmode\":\"overlay\",\"size\":10,\"solidity\":0.2}},\"type\":\"histogram\"}],\"scattergl\":[{\"type\":\"scattergl\",\"marker\":{\"colorbar\":{\"outlinewidth\":0,\"ticks\":\"\"}}}],\"scatter3d\":[{\"type\":\"scatter3d\",\"line\":{\"colorbar\":{\"outlinewidth\":0,\"ticks\":\"\"}},\"marker\":{\"colorbar\":{\"outlinewidth\":0,\"ticks\":\"\"}}}],\"scattermapbox\":[{\"type\":\"scattermapbox\",\"marker\":{\"colorbar\":{\"outlinewidth\":0,\"ticks\":\"\"}}}],\"scatterternary\":[{\"type\":\"scatterternary\",\"marker\":{\"colorbar\":{\"outlinewidth\":0,\"ticks\":\"\"}}}],\"scattercarpet\":[{\"type\":\"scattercarpet\",\"marker\":{\"colorbar\":{\"outlinewidth\":0,\"ticks\":\"\"}}}],\"carpet\":[{\"aaxis\":{\"endlinecolor\":\"#2a3f5f\",\"gridcolor\":\"#C8D4E3\",\"linecolor\":\"#C8D4E3\",\"minorgridcolor\":\"#C8D4E3\",\"startlinecolor\":\"#2a3f5f\"},\"baxis\":{\"endlinecolor\":\"#2a3f5f\",\"gridcolor\":\"#C8D4E3\",\"linecolor\":\"#C8D4E3\",\"minorgridcolor\":\"#C8D4E3\",\"startlinecolor\":\"#2a3f5f\"},\"type\":\"carpet\"}],\"table\":[{\"cells\":{\"fill\":{\"color\":\"#EBF0F8\"},\"line\":{\"color\":\"white\"}},\"header\":{\"fill\":{\"color\":\"#C8D4E3\"},\"line\":{\"color\":\"white\"}},\"type\":\"table\"}],\"barpolar\":[{\"marker\":{\"line\":{\"color\":\"white\",\"width\":0.5},\"pattern\":{\"fillmode\":\"overlay\",\"size\":10,\"solidity\":0.2}},\"type\":\"barpolar\"}],\"pie\":[{\"automargin\":true,\"type\":\"pie\"}]},\"layout\":{\"autotypenumbers\":\"strict\",\"colorway\":[\"#636efa\",\"#EF553B\",\"#00cc96\",\"#ab63fa\",\"#FFA15A\",\"#19d3f3\",\"#FF6692\",\"#B6E880\",\"#FF97FF\",\"#FECB52\"],\"font\":{\"color\":\"#2a3f5f\"},\"hovermode\":\"closest\",\"hoverlabel\":{\"align\":\"left\"},\"paper_bgcolor\":\"white\",\"plot_bgcolor\":\"white\",\"polar\":{\"bgcolor\":\"white\",\"angularaxis\":{\"gridcolor\":\"#EBF0F8\",\"linecolor\":\"#EBF0F8\",\"ticks\":\"\"},\"radialaxis\":{\"gridcolor\":\"#EBF0F8\",\"linecolor\":\"#EBF0F8\",\"ticks\":\"\"}},\"ternary\":{\"bgcolor\":\"white\",\"aaxis\":{\"gridcolor\":\"#DFE8F3\",\"linecolor\":\"#A2B1C6\",\"ticks\":\"\"},\"baxis\":{\"gridcolor\":\"#DFE8F3\",\"linecolor\":\"#A2B1C6\",\"ticks\":\"\"},\"caxis\":{\"gridcolor\":\"#DFE8F3\",\"linecolor\":\"#A2B1C6\",\"ticks\":\"\"}},\"coloraxis\":{\"colorbar\":{\"outlinewidth\":0,\"ticks\":\"\"}},\"colorscale\":{\"sequential\":[[0.0,\"#0d0887\"],[0.1111111111111111,\"#46039f\"],[0.2222222222222222,\"#7201a8\"],[0.3333333333333333,\"#9c179e\"],[0.4444444444444444,\"#bd3786\"],[0.5555555555555556,\"#d8576b\"],[0.6666666666666666,\"#ed7953\"],[0.7777777777777778,\"#fb9f3a\"],[0.8888888888888888,\"#fdca26\"],[1.0,\"#f0f921\"]],\"sequentialminus\":[[0.0,\"#0d0887\"],[0.1111111111111111,\"#46039f\"],[0.2222222222222222,\"#7201a8\"],[0.3333333333333333,\"#9c179e\"],[0.4444444444444444,\"#bd3786\"],[0.5555555555555556,\"#d8576b\"],[0.6666666666666666,\"#ed7953\"],[0.7777777777777778,\"#fb9f3a\"],[0.8888888888888888,\"#fdca26\"],[1.0,\"#f0f921\"]],\"diverging\":[[0,\"#8e0152\"],[0.1,\"#c51b7d\"],[0.2,\"#de77ae\"],[0.3,\"#f1b6da\"],[0.4,\"#fde0ef\"],[0.5,\"#f7f7f7\"],[0.6,\"#e6f5d0\"],[0.7,\"#b8e186\"],[0.8,\"#7fbc41\"],[0.9,\"#4d9221\"],[1,\"#276419\"]]},\"xaxis\":{\"gridcolor\":\"#EBF0F8\",\"linecolor\":\"#EBF0F8\",\"ticks\":\"\",\"title\":{\"standoff\":15},\"zerolinecolor\":\"#EBF0F8\",\"automargin\":true,\"zerolinewidth\":2},\"yaxis\":{\"gridcolor\":\"#EBF0F8\",\"linecolor\":\"#EBF0F8\",\"ticks\":\"\",\"title\":{\"standoff\":15},\"zerolinecolor\":\"#EBF0F8\",\"automargin\":true,\"zerolinewidth\":2},\"scene\":{\"xaxis\":{\"backgroundcolor\":\"white\",\"gridcolor\":\"#DFE8F3\",\"linecolor\":\"#EBF0F8\",\"showbackground\":true,\"ticks\":\"\",\"zerolinecolor\":\"#EBF0F8\",\"gridwidth\":2},\"yaxis\":{\"backgroundcolor\":\"white\",\"gridcolor\":\"#DFE8F3\",\"linecolor\":\"#EBF0F8\",\"showbackground\":true,\"ticks\":\"\",\"zerolinecolor\":\"#EBF0F8\",\"gridwidth\":2},\"zaxis\":{\"backgroundcolor\":\"white\",\"gridcolor\":\"#DFE8F3\",\"linecolor\":\"#EBF0F8\",\"showbackground\":true,\"ticks\":\"\",\"zerolinecolor\":\"#EBF0F8\",\"gridwidth\":2}},\"shapedefaults\":{\"line\":{\"color\":\"#2a3f5f\"}},\"annotationdefaults\":{\"arrowcolor\":\"#2a3f5f\",\"arrowhead\":0,\"arrowwidth\":1},\"geo\":{\"bgcolor\":\"white\",\"landcolor\":\"white\",\"subunitcolor\":\"#C8D4E3\",\"showland\":true,\"showlakes\":true,\"lakecolor\":\"white\"},\"title\":{\"x\":0.05},\"mapbox\":{\"style\":\"light\"}}},\"title\":{\"text\":\"Compare Annual Return / Max Drawdown 2020\"},\"xaxis\":{\"title\":{\"text\":\"Annual Return\"}},\"yaxis\":{\"title\":{\"text\":\"Max Drawdown\"}}},                        {\"responsive\": true}                    ).then(function(){\n",
       "                            \n",
       "var gd = document.getElementById('dd1bb6a2-cde0-4c36-b63c-0b58946bf079');\n",
       "var x = new MutationObserver(function (mutations, observer) {{\n",
       "        var display = window.getComputedStyle(gd).display;\n",
       "        if (!display || display === 'none') {{\n",
       "            console.log([gd, 'removed!']);\n",
       "            Plotly.purge(gd);\n",
       "            observer.disconnect();\n",
       "        }}\n",
       "}});\n",
       "\n",
       "// Listen for the removal of the full notebook cells\n",
       "var notebookContainer = gd.closest('#notebook-container');\n",
       "if (notebookContainer) {{\n",
       "    x.observe(notebookContainer, {childList: true});\n",
       "}}\n",
       "\n",
       "// Listen for the clearing of the current output cell\n",
       "var outputEl = gd.closest('.output');\n",
       "if (outputEl) {{\n",
       "    x.observe(outputEl, {childList: true});\n",
       "}}\n",
       "\n",
       "                        })                };                });            </script>        </div>"
      ]
     },
     "metadata": {},
     "output_type": "display_data"
    },
    {
     "data": {
      "application/vnd.plotly.v1+json": {
       "config": {
        "plotlyServerURL": "https://plot.ly"
       },
       "data": [
        {
         "marker": {
          "color": "bisque",
          "size": 5
         },
         "mode": "markers",
         "name": "VNM US Equity",
         "type": "scatter",
         "x": [
          0.2127534523196485
         ],
         "y": [
          -0.1033953381265511
         ]
        },
        {
         "marker": {
          "color": "bisque",
          "size": 5
         },
         "mode": "markers",
         "name": "AFCVICI KY Equity",
         "type": "scatter",
         "x": [
          0.4691714342627629
         ],
         "y": [
          -0.01851229264873144
         ]
        },
        {
         "marker": {
          "color": "bisque",
          "size": 5
         },
         "mode": "markers",
         "name": "LUMENUS LE Equity",
         "type": "scatter",
         "x": [
          0.4241433004870118
         ],
         "y": [
          -0.1048651373834132
         ]
        },
        {
         "marker": {
          "color": "bisque",
          "size": 5
         },
         "mode": "markers",
         "name": "XFVT GY Equity",
         "type": "scatter",
         "x": [
          0.3811173029222374
         ],
         "y": [
          -0.1311804697156984
         ]
        },
        {
         "marker": {
          "color": "bisque",
          "size": 5
         },
         "mode": "markers",
         "name": "GAVNBCU LX Equity",
         "type": "scatter",
         "x": [
          0.4369565699608399
         ],
         "y": [
          -0.07315842583249235
         ]
        },
        {
         "marker": {
          "color": "bisque",
          "size": 5
         },
         "mode": "markers",
         "name": "LCVIETU SP Equity",
         "type": "scatter",
         "x": [
          0.3254133287872585
         ],
         "y": [
          -0.1330472103004289
         ]
        },
        {
         "marker": {
          "color": "bisque",
          "size": 5
         },
         "mode": "markers",
         "name": "FOVCPVA LX Equity",
         "type": "scatter",
         "x": [
          0.4211218943164639
         ],
         "y": [
          -0.1385706492089474
         ]
        },
        {
         "marker": {
          "color": "bisque",
          "size": 5
         },
         "mode": "markers",
         "name": "GAVTNIU LX Equity",
         "type": "scatter",
         "x": [
          0.4079914800303277
         ],
         "y": [
          -0.07518832391713749
         ]
        },
        {
         "marker": {
          "color": "bisque",
          "size": 5
         },
         "mode": "markers",
         "name": "AFCVIET KY Equity",
         "type": "scatter",
         "x": [
          0.452038538643305
         ],
         "y": [
          -0.01892136818741008
         ]
        },
        {
         "marker": {
          "color": "bisque",
          "size": 5
         },
         "mode": "markers",
         "name": "VIETNAM ID Equity",
         "type": "scatter",
         "x": [
          0.4517187422651666
         ],
         "y": [
          -0.1264695404346277
         ]
        },
        {
         "marker": {
          "color": "bisque",
          "size": 5
         },
         "mode": "markers",
         "name": "E1VFVN30 VN Equity",
         "type": "scatter",
         "x": [
          0.3865680552601071
         ],
         "y": [
          -0.1378787878787877
         ]
        },
        {
         "marker": {
          "color": "bisque",
          "size": 5
         },
         "mode": "markers",
         "name": "XVTD LN Equity",
         "type": "scatter",
         "x": [
          0.2977646711703404
         ],
         "y": [
          -0.1350184173758415
         ]
        },
        {
         "marker": {
          "color": "bisque",
          "size": 5
         },
         "mode": "markers",
         "name": "KVIETNE TB Equity",
         "type": "scatter",
         "x": [
          0.3512681653948371
         ],
         "y": [
          -0.117948204010389
         ]
        },
        {
         "marker": {
          "color": "bisque",
          "size": 5
         },
         "mode": "markers",
         "name": "3087 HK Equity",
         "type": "scatter",
         "x": [
          0.292300207212733
         ],
         "y": [
          -0.1320132013201319
         ]
        },
        {
         "marker": {
          "color": "bisque",
          "size": 5
         },
         "mode": "markers",
         "name": "SSICOAD VN Equity",
         "type": "scatter",
         "x": [
          0.416672806465712
         ],
         "y": [
          -0.1066220498785991
         ]
        },
        {
         "marker": {
          "color": "bisque",
          "size": 5
         },
         "mode": "markers",
         "name": "XFVT GR Equity",
         "type": "scatter",
         "x": [
          0.3793697211645699
         ],
         "y": [
          -0.1274844720496897
         ]
        },
        {
         "marker": {
          "color": "bisque",
          "size": 5
         },
         "mode": "markers",
         "name": "GAVT SW Equity",
         "type": "scatter",
         "x": [
          0.4053206056446477
         ],
         "y": [
          -0.1190681622088009
         ]
        },
        {
         "marker": {
          "color": "bisque",
          "size": 5
         },
         "mode": "markers",
         "name": "LCVIETS SP Equity",
         "type": "scatter",
         "x": [
          0.3446729928406653
         ],
         "y": [
          -0.1324004305705062
         ]
        },
        {
         "marker": {
          "color": "bisque",
          "size": 5
         },
         "mode": "markers",
         "name": "LUMENCH LE Equity",
         "type": "scatter",
         "x": [
          0.4088631237098435
         ],
         "y": [
          -0.1029552715654951
         ]
        },
        {
         "marker": {
          "color": "bisque",
          "size": 5
         },
         "mode": "markers",
         "name": "VTNPHXA KY Equity",
         "type": "scatter",
         "x": [
          0.3187695691462952
         ],
         "y": [
          -0.02642716072604155
         ]
        },
        {
         "marker": {
          "color": "bisque",
          "size": 5
         },
         "mode": "markers",
         "name": "FUESSVFL VN Equity",
         "type": "scatter",
         "x": [
          0.5415220020068225
         ],
         "y": [
          -0.1736023539302226
         ]
        },
        {
         "marker": {
          "color": "bisque",
          "size": 5
         },
         "mode": "markers",
         "name": "CPVNEQA TB Equity",
         "type": "scatter",
         "x": [
          0.4415471410264584
         ],
         "y": [
          -0.1357670633579631
         ]
        },
        {
         "marker": {
          "color": "bisque",
          "size": 5
         },
         "mode": "markers",
         "name": "KIMVGIU LX Equity",
         "type": "scatter",
         "x": [
          0.5337090336128545
         ],
         "y": [
          -0.1412727686639003
         ]
        },
        {
         "marker": {
          "color": "bisque",
          "size": 5
         },
         "mode": "markers",
         "name": "VIETEUR ID Equity",
         "type": "scatter",
         "x": [
          0.5438673381135851
         ],
         "y": [
          -0.1244062728730942
         ]
        },
        {
         "marker": {
          "color": "bisque",
          "size": 5
         },
         "mode": "markers",
         "name": "9A311108 JP Equity",
         "type": "scatter",
         "x": [
          0.3697283008456083
         ],
         "y": [
          -0.1465988017602458
         ]
        },
        {
         "marker": {
          "color": "bisque",
          "size": 5
         },
         "mode": "markers",
         "name": "LUMCHFI LE Equity",
         "type": "scatter",
         "x": [
          0.4143475486523065
         ],
         "y": [
          -0.1036008070774484
         ]
        },
        {
         "marker": {
          "color": "bisque",
          "size": 5
         },
         "mode": "markers",
         "name": "CTBCVET TT Equity",
         "type": "scatter",
         "x": [
          0.3416933746657996
         ],
         "y": [
          -0.129431162407255
         ]
        },
        {
         "marker": {
          "color": "bisque",
          "size": 5
         },
         "mode": "markers",
         "name": "XFVT GT Equity",
         "type": "scatter",
         "x": [
          0.3811173029222374
         ],
         "y": [
          -0.1311804697156984
         ]
        },
        {
         "marker": {
          "color": "bisque",
          "size": 5
         },
         "mode": "markers",
         "name": "XFVT SP Equity",
         "type": "scatter",
         "x": [
          0.2837863714825122
         ],
         "y": [
          -0.1258598726114652
         ]
        },
        {
         "marker": {
          "color": "maroon",
          "size": 15,
          "symbol": "diamond"
         },
         "mode": "markers",
         "name": "TCMVN NA Equity",
         "type": "scatter",
         "x": [
          0.5651636489155007
         ],
         "y": [
          -0.1057454675797537
         ]
        },
        {
         "marker": {
          "color": "bisque",
          "size": 5
         },
         "mode": "markers",
         "name": "2804 HK Equity",
         "type": "scatter",
         "x": [
          0.2051957952969516
         ],
         "y": [
          -0.144767565272766
         ]
        },
        {
         "marker": {
          "color": "bisque",
          "size": 5
         },
         "mode": "markers",
         "name": "VCVOF US Equity",
         "type": "scatter",
         "x": [
          0.3209225254089987
         ],
         "y": [
          -0.1574745630054785
         ]
        },
        {
         "marker": {
          "color": "bisque",
          "size": 5
         },
         "mode": "markers",
         "name": "FUESSV50 VN Equity",
         "type": "scatter",
         "x": [
          0.3926394088670985
         ],
         "y": [
          -0.1335227272727272
         ]
        },
        {
         "marker": {
          "color": "bisque",
          "size": 5
         },
         "mode": "markers",
         "name": "THVMEFA CH Equity",
         "type": "scatter",
         "x": [
          0.3555063419577584
         ],
         "y": [
          -0.1349678647940967
         ]
        },
        {
         "marker": {
          "color": "maroon",
          "size": 15,
          "symbol": "diamond"
         },
         "mode": "markers",
         "name": "AB311171 JP Equity",
         "type": "scatter",
         "x": [
          0.6036626059323622
         ],
         "y": [
          -0.1401072893657308
         ]
        },
        {
         "marker": {
          "color": "bisque",
          "size": 5
         },
         "mode": "markers",
         "name": "IOFVTEQ LX Equity",
         "type": "scatter",
         "x": [
          0.394127739297848
         ],
         "y": [
          -0.1235486752009527
         ]
        },
        {
         "marker": {
          "color": "bisque",
          "size": 5
         },
         "mode": "markers",
         "name": "SGVIEOP HK Equity",
         "type": "scatter",
         "x": [
          0.2711575247808398
         ],
         "y": [
          -0.1341845878136198
         ]
        },
        {
         "marker": {
          "color": "bisque",
          "size": 5
         },
         "mode": "markers",
         "name": "VFMVF1 VN Equity",
         "type": "scatter",
         "x": [
          0.4476800011429378
         ],
         "y": [
          -0.1199725260519777
         ]
        },
        {
         "marker": {
          "color": "bisque",
          "size": 5
         },
         "mode": "markers",
         "name": "FOVIEDE LX Equity",
         "type": "scatter",
         "x": [
          0.4318028334159474
         ],
         "y": [
          -0.1222444889779561
         ]
        },
        {
         "marker": {
          "color": "bisque",
          "size": 5
         },
         "mode": "markers",
         "name": "GAVT SE Equity",
         "type": "scatter",
         "x": [
          0.4053206056446477
         ],
         "y": [
          -0.1190681622088009
         ]
        },
        {
         "marker": {
          "color": "bisque",
          "size": 5
         },
         "mode": "markers",
         "name": "GELIONV SP Equity",
         "type": "scatter",
         "x": [
          0.3445344655006877
         ],
         "y": [
          -0.1314847942754921
         ]
        },
        {
         "marker": {
          "color": "bisque",
          "size": 5
         },
         "mode": "markers",
         "name": "YDVNLDR KY Equity",
         "type": "scatter",
         "x": [
          0.22005381205529
         ],
         "y": [
          -0.1053328916859888
         ]
        },
        {
         "marker": {
          "color": "bisque",
          "size": 5
         },
         "mode": "markers",
         "name": "0431216C JP Equity",
         "type": "scatter",
         "x": [
          0.3576478106849956
         ],
         "y": [
          -0.1578317833909822
         ]
        },
        {
         "marker": {
          "color": "bisque",
          "size": 5
         },
         "mode": "markers",
         "name": "VFMVFA VN Equity",
         "type": "scatter",
         "x": [
          0
         ],
         "y": [
          0
         ]
        },
        {
         "marker": {
          "color": "bisque",
          "size": 5
         },
         "mode": "markers",
         "name": "HLGVIET MK Equity",
         "type": "scatter",
         "x": [
          0
         ],
         "y": [
          0
         ]
        },
        {
         "marker": {
          "color": "bisque",
          "size": 5
         },
         "mode": "markers",
         "name": "HAVNEAF IT Equity",
         "type": "scatter",
         "x": [
          0
         ],
         "y": [
          0
         ]
        },
        {
         "marker": {
          "color": "bisque",
          "size": 5
         },
         "mode": "markers",
         "name": "49311186 JP Equity",
         "type": "scatter",
         "x": [
          0.456468584328097
         ],
         "y": [
          -0.1458937338360593
         ]
        },
        {
         "marker": {
          "color": "bisque",
          "size": 5
         },
         "mode": "markers",
         "name": "ASPVIET TB Equity",
         "type": "scatter",
         "x": [
          0.4193311153754406
         ],
         "y": [
          -0.1241044603651491
         ]
        },
        {
         "marker": {
          "color": "bisque",
          "size": 5
         },
         "mode": "markers",
         "name": "1AR0081 KS Equity",
         "type": "scatter",
         "x": [
          0.02916861657049305
         ],
         "y": [
          -0.3046641382015482
         ]
        },
        {
         "marker": {
          "color": "bisque",
          "size": 5
         },
         "mode": "markers",
         "name": "HLVIETS MK Equity",
         "type": "scatter",
         "x": [
          0
         ],
         "y": [
          0
         ]
        },
        {
         "marker": {
          "color": "bisque",
          "size": 5
         },
         "mode": "markers",
         "name": "47311156 JP Equity",
         "type": "scatter",
         "x": [
          0.4215059939149899
         ],
         "y": [
          -0.1333184789067143
         ]
        },
        {
         "marker": {
          "color": "bisque",
          "size": 5
         },
         "mode": "markers",
         "name": "ASPVRMF TB Equity",
         "type": "scatter",
         "x": [
          0.4369063496211094
         ],
         "y": [
          -0.1233371638703747
         ]
        },
        {
         "marker": {
          "color": "bisque",
          "size": 5
         },
         "mode": "markers",
         "name": "VCBFTBF VN Equity",
         "type": "scatter",
         "x": [
          0.2978201135808486
         ],
         "y": [
          -0.1954458416664048
         ]
        },
        {
         "marker": {
          "color": "bisque",
          "size": 5
         },
         "mode": "markers",
         "name": "VG6 GR Equity",
         "type": "scatter",
         "x": [
          0
         ],
         "y": [
          0
         ]
        },
        {
         "marker": {
          "color": "bisque",
          "size": 5
         },
         "mode": "markers",
         "name": "VNF LN Equity",
         "type": "scatter",
         "x": [
          0
         ],
         "y": [
          0
         ]
        },
        {
         "marker": {
          "color": "bisque",
          "size": 5
         },
         "mode": "markers",
         "name": "FUESSV30 VN Equity",
         "type": "scatter",
         "x": [
          0.4174800787113226
         ],
         "y": [
          -0.1462829736211033
         ]
        },
        {
         "marker": {
          "color": "bisque",
          "size": 5
         },
         "mode": "markers",
         "name": "SSISCA",
         "type": "scatter",
         "x": [
          0.4138068223309833
         ],
         "y": [
          -0.105760144039813
         ]
        },
        {
         "marker": {
          "color": "bisque",
          "size": 5
         },
         "mode": "markers",
         "name": "BVPF",
         "type": "scatter",
         "x": [
          0.2736288525286837
         ],
         "y": [
          -0.07580447771938643
         ]
        },
        {
         "marker": {
          "color": "maroon",
          "size": 15,
          "symbol": "diamond"
         },
         "mode": "markers",
         "name": "VESAF",
         "type": "scatter",
         "x": [
          0.5493755532365192
         ],
         "y": [
          -0.1045405714398352
         ]
        },
        {
         "marker": {
          "color": "bisque",
          "size": 5
         },
         "mode": "markers",
         "name": "VCBF-BCF",
         "type": "scatter",
         "x": [
          0.3275701541292961
         ],
         "y": [
          -0.09892599919451024
         ]
        },
        {
         "marker": {
          "color": "bisque",
          "size": 5
         },
         "mode": "markers",
         "name": "VEOF",
         "type": "scatter",
         "x": [
          0.4679863109659798
         ],
         "y": [
          -0.1096308012891454
         ]
        },
        {
         "marker": {
          "color": "bisque",
          "size": 5
         },
         "mode": "markers",
         "name": "MBVF",
         "type": "scatter",
         "x": [
          0.1160559249645839
         ],
         "y": [
          -0.04884054996921809
         ]
        },
        {
         "marker": {
          "color": "bisque",
          "size": 5
         },
         "mode": "markers",
         "name": "MAGEF",
         "type": "scatter",
         "x": [
          0.4108808110923433
         ],
         "y": [
          -0.2672253091534444
         ]
        },
        {
         "marker": {
          "color": "bisque",
          "size": 5
         },
         "mode": "markers",
         "name": "DCDS",
         "type": "scatter",
         "x": [
          0.4498825758328468
         ],
         "y": [
          -0.1199725260519776
         ]
        },
        {
         "marker": {
          "color": "bisque",
          "size": 5
         },
         "mode": "markers",
         "name": "VNDAF",
         "type": "scatter",
         "x": [
          0.3696321187651024
         ],
         "y": [
          -0.05440587798785507
         ]
        },
        {
         "marker": {
          "color": "bisque",
          "size": 5
         },
         "mode": "markers",
         "name": "DCDE",
         "type": "scatter",
         "x": [
          0.4043141016390328
         ],
         "y": [
          -0.1368002015263489
         ]
        },
        {
         "marker": {
          "color": "bisque",
          "size": 5
         },
         "mode": "markers",
         "name": "DCAF",
         "type": "scatter",
         "x": [
          0.2647824101751263
         ],
         "y": [
          -0.1302973388617319
         ]
        },
        {
         "marker": {
          "color": "bisque",
          "size": 5
         },
         "mode": "markers",
         "name": "BVFED",
         "type": "scatter",
         "x": [
          0.3533130117847386
         ],
         "y": [
          -0.07677174156047406
         ]
        },
        {
         "marker": {
          "color": "bisque",
          "size": 5
         },
         "mode": "markers",
         "name": "MAFEQI",
         "type": "scatter",
         "x": [
          0.3500655999535935
         ],
         "y": [
          -0.1240521893571965
         ]
        },
        {
         "marker": {
          "color": "purple",
          "size": 25,
          "symbol": "square"
         },
         "mode": "markers",
         "name": "VNI",
         "type": "scatter",
         "x": [
          0.3226353507253225
         ],
         "y": [
          -0.1425724334282365
         ]
        },
        {
         "marker": {
          "color": "blue",
          "size": 30
         },
         "mode": "markers",
         "name": "HIEP.NS",
         "type": "scatter",
         "x": [
          0.323
         ],
         "y": [
          -0.07
         ]
        },
        {
         "marker": {
          "color": "orange",
          "size": 30
         },
         "mode": "markers",
         "name": "MANDATE VND",
         "type": "scatter",
         "x": [
          0.15
         ],
         "y": [
          -0.18
         ]
        }
       ],
       "layout": {
        "template": {
         "data": {
          "bar": [
           {
            "error_x": {
             "color": "#2a3f5f"
            },
            "error_y": {
             "color": "#2a3f5f"
            },
            "marker": {
             "line": {
              "color": "white",
              "width": 0.5
             },
             "pattern": {
              "fillmode": "overlay",
              "size": 10,
              "solidity": 0.2
             }
            },
            "type": "bar"
           }
          ],
          "barpolar": [
           {
            "marker": {
             "line": {
              "color": "white",
              "width": 0.5
             },
             "pattern": {
              "fillmode": "overlay",
              "size": 10,
              "solidity": 0.2
             }
            },
            "type": "barpolar"
           }
          ],
          "carpet": [
           {
            "aaxis": {
             "endlinecolor": "#2a3f5f",
             "gridcolor": "#C8D4E3",
             "linecolor": "#C8D4E3",
             "minorgridcolor": "#C8D4E3",
             "startlinecolor": "#2a3f5f"
            },
            "baxis": {
             "endlinecolor": "#2a3f5f",
             "gridcolor": "#C8D4E3",
             "linecolor": "#C8D4E3",
             "minorgridcolor": "#C8D4E3",
             "startlinecolor": "#2a3f5f"
            },
            "type": "carpet"
           }
          ],
          "choropleth": [
           {
            "colorbar": {
             "outlinewidth": 0,
             "ticks": ""
            },
            "type": "choropleth"
           }
          ],
          "contour": [
           {
            "colorbar": {
             "outlinewidth": 0,
             "ticks": ""
            },
            "colorscale": [
             [
              0,
              "#0d0887"
             ],
             [
              0.1111111111111111,
              "#46039f"
             ],
             [
              0.2222222222222222,
              "#7201a8"
             ],
             [
              0.3333333333333333,
              "#9c179e"
             ],
             [
              0.4444444444444444,
              "#bd3786"
             ],
             [
              0.5555555555555556,
              "#d8576b"
             ],
             [
              0.6666666666666666,
              "#ed7953"
             ],
             [
              0.7777777777777778,
              "#fb9f3a"
             ],
             [
              0.8888888888888888,
              "#fdca26"
             ],
             [
              1,
              "#f0f921"
             ]
            ],
            "type": "contour"
           }
          ],
          "contourcarpet": [
           {
            "colorbar": {
             "outlinewidth": 0,
             "ticks": ""
            },
            "type": "contourcarpet"
           }
          ],
          "heatmap": [
           {
            "colorbar": {
             "outlinewidth": 0,
             "ticks": ""
            },
            "colorscale": [
             [
              0,
              "#0d0887"
             ],
             [
              0.1111111111111111,
              "#46039f"
             ],
             [
              0.2222222222222222,
              "#7201a8"
             ],
             [
              0.3333333333333333,
              "#9c179e"
             ],
             [
              0.4444444444444444,
              "#bd3786"
             ],
             [
              0.5555555555555556,
              "#d8576b"
             ],
             [
              0.6666666666666666,
              "#ed7953"
             ],
             [
              0.7777777777777778,
              "#fb9f3a"
             ],
             [
              0.8888888888888888,
              "#fdca26"
             ],
             [
              1,
              "#f0f921"
             ]
            ],
            "type": "heatmap"
           }
          ],
          "heatmapgl": [
           {
            "colorbar": {
             "outlinewidth": 0,
             "ticks": ""
            },
            "colorscale": [
             [
              0,
              "#0d0887"
             ],
             [
              0.1111111111111111,
              "#46039f"
             ],
             [
              0.2222222222222222,
              "#7201a8"
             ],
             [
              0.3333333333333333,
              "#9c179e"
             ],
             [
              0.4444444444444444,
              "#bd3786"
             ],
             [
              0.5555555555555556,
              "#d8576b"
             ],
             [
              0.6666666666666666,
              "#ed7953"
             ],
             [
              0.7777777777777778,
              "#fb9f3a"
             ],
             [
              0.8888888888888888,
              "#fdca26"
             ],
             [
              1,
              "#f0f921"
             ]
            ],
            "type": "heatmapgl"
           }
          ],
          "histogram": [
           {
            "marker": {
             "pattern": {
              "fillmode": "overlay",
              "size": 10,
              "solidity": 0.2
             }
            },
            "type": "histogram"
           }
          ],
          "histogram2d": [
           {
            "colorbar": {
             "outlinewidth": 0,
             "ticks": ""
            },
            "colorscale": [
             [
              0,
              "#0d0887"
             ],
             [
              0.1111111111111111,
              "#46039f"
             ],
             [
              0.2222222222222222,
              "#7201a8"
             ],
             [
              0.3333333333333333,
              "#9c179e"
             ],
             [
              0.4444444444444444,
              "#bd3786"
             ],
             [
              0.5555555555555556,
              "#d8576b"
             ],
             [
              0.6666666666666666,
              "#ed7953"
             ],
             [
              0.7777777777777778,
              "#fb9f3a"
             ],
             [
              0.8888888888888888,
              "#fdca26"
             ],
             [
              1,
              "#f0f921"
             ]
            ],
            "type": "histogram2d"
           }
          ],
          "histogram2dcontour": [
           {
            "colorbar": {
             "outlinewidth": 0,
             "ticks": ""
            },
            "colorscale": [
             [
              0,
              "#0d0887"
             ],
             [
              0.1111111111111111,
              "#46039f"
             ],
             [
              0.2222222222222222,
              "#7201a8"
             ],
             [
              0.3333333333333333,
              "#9c179e"
             ],
             [
              0.4444444444444444,
              "#bd3786"
             ],
             [
              0.5555555555555556,
              "#d8576b"
             ],
             [
              0.6666666666666666,
              "#ed7953"
             ],
             [
              0.7777777777777778,
              "#fb9f3a"
             ],
             [
              0.8888888888888888,
              "#fdca26"
             ],
             [
              1,
              "#f0f921"
             ]
            ],
            "type": "histogram2dcontour"
           }
          ],
          "mesh3d": [
           {
            "colorbar": {
             "outlinewidth": 0,
             "ticks": ""
            },
            "type": "mesh3d"
           }
          ],
          "parcoords": [
           {
            "line": {
             "colorbar": {
              "outlinewidth": 0,
              "ticks": ""
             }
            },
            "type": "parcoords"
           }
          ],
          "pie": [
           {
            "automargin": true,
            "type": "pie"
           }
          ],
          "scatter": [
           {
            "fillpattern": {
             "fillmode": "overlay",
             "size": 10,
             "solidity": 0.2
            },
            "type": "scatter"
           }
          ],
          "scatter3d": [
           {
            "line": {
             "colorbar": {
              "outlinewidth": 0,
              "ticks": ""
             }
            },
            "marker": {
             "colorbar": {
              "outlinewidth": 0,
              "ticks": ""
             }
            },
            "type": "scatter3d"
           }
          ],
          "scattercarpet": [
           {
            "marker": {
             "colorbar": {
              "outlinewidth": 0,
              "ticks": ""
             }
            },
            "type": "scattercarpet"
           }
          ],
          "scattergeo": [
           {
            "marker": {
             "colorbar": {
              "outlinewidth": 0,
              "ticks": ""
             }
            },
            "type": "scattergeo"
           }
          ],
          "scattergl": [
           {
            "marker": {
             "colorbar": {
              "outlinewidth": 0,
              "ticks": ""
             }
            },
            "type": "scattergl"
           }
          ],
          "scattermapbox": [
           {
            "marker": {
             "colorbar": {
              "outlinewidth": 0,
              "ticks": ""
             }
            },
            "type": "scattermapbox"
           }
          ],
          "scatterpolar": [
           {
            "marker": {
             "colorbar": {
              "outlinewidth": 0,
              "ticks": ""
             }
            },
            "type": "scatterpolar"
           }
          ],
          "scatterpolargl": [
           {
            "marker": {
             "colorbar": {
              "outlinewidth": 0,
              "ticks": ""
             }
            },
            "type": "scatterpolargl"
           }
          ],
          "scatterternary": [
           {
            "marker": {
             "colorbar": {
              "outlinewidth": 0,
              "ticks": ""
             }
            },
            "type": "scatterternary"
           }
          ],
          "surface": [
           {
            "colorbar": {
             "outlinewidth": 0,
             "ticks": ""
            },
            "colorscale": [
             [
              0,
              "#0d0887"
             ],
             [
              0.1111111111111111,
              "#46039f"
             ],
             [
              0.2222222222222222,
              "#7201a8"
             ],
             [
              0.3333333333333333,
              "#9c179e"
             ],
             [
              0.4444444444444444,
              "#bd3786"
             ],
             [
              0.5555555555555556,
              "#d8576b"
             ],
             [
              0.6666666666666666,
              "#ed7953"
             ],
             [
              0.7777777777777778,
              "#fb9f3a"
             ],
             [
              0.8888888888888888,
              "#fdca26"
             ],
             [
              1,
              "#f0f921"
             ]
            ],
            "type": "surface"
           }
          ],
          "table": [
           {
            "cells": {
             "fill": {
              "color": "#EBF0F8"
             },
             "line": {
              "color": "white"
             }
            },
            "header": {
             "fill": {
              "color": "#C8D4E3"
             },
             "line": {
              "color": "white"
             }
            },
            "type": "table"
           }
          ]
         },
         "layout": {
          "annotationdefaults": {
           "arrowcolor": "#2a3f5f",
           "arrowhead": 0,
           "arrowwidth": 1
          },
          "autotypenumbers": "strict",
          "coloraxis": {
           "colorbar": {
            "outlinewidth": 0,
            "ticks": ""
           }
          },
          "colorscale": {
           "diverging": [
            [
             0,
             "#8e0152"
            ],
            [
             0.1,
             "#c51b7d"
            ],
            [
             0.2,
             "#de77ae"
            ],
            [
             0.3,
             "#f1b6da"
            ],
            [
             0.4,
             "#fde0ef"
            ],
            [
             0.5,
             "#f7f7f7"
            ],
            [
             0.6,
             "#e6f5d0"
            ],
            [
             0.7,
             "#b8e186"
            ],
            [
             0.8,
             "#7fbc41"
            ],
            [
             0.9,
             "#4d9221"
            ],
            [
             1,
             "#276419"
            ]
           ],
           "sequential": [
            [
             0,
             "#0d0887"
            ],
            [
             0.1111111111111111,
             "#46039f"
            ],
            [
             0.2222222222222222,
             "#7201a8"
            ],
            [
             0.3333333333333333,
             "#9c179e"
            ],
            [
             0.4444444444444444,
             "#bd3786"
            ],
            [
             0.5555555555555556,
             "#d8576b"
            ],
            [
             0.6666666666666666,
             "#ed7953"
            ],
            [
             0.7777777777777778,
             "#fb9f3a"
            ],
            [
             0.8888888888888888,
             "#fdca26"
            ],
            [
             1,
             "#f0f921"
            ]
           ],
           "sequentialminus": [
            [
             0,
             "#0d0887"
            ],
            [
             0.1111111111111111,
             "#46039f"
            ],
            [
             0.2222222222222222,
             "#7201a8"
            ],
            [
             0.3333333333333333,
             "#9c179e"
            ],
            [
             0.4444444444444444,
             "#bd3786"
            ],
            [
             0.5555555555555556,
             "#d8576b"
            ],
            [
             0.6666666666666666,
             "#ed7953"
            ],
            [
             0.7777777777777778,
             "#fb9f3a"
            ],
            [
             0.8888888888888888,
             "#fdca26"
            ],
            [
             1,
             "#f0f921"
            ]
           ]
          },
          "colorway": [
           "#636efa",
           "#EF553B",
           "#00cc96",
           "#ab63fa",
           "#FFA15A",
           "#19d3f3",
           "#FF6692",
           "#B6E880",
           "#FF97FF",
           "#FECB52"
          ],
          "font": {
           "color": "#2a3f5f"
          },
          "geo": {
           "bgcolor": "white",
           "lakecolor": "white",
           "landcolor": "white",
           "showlakes": true,
           "showland": true,
           "subunitcolor": "#C8D4E3"
          },
          "hoverlabel": {
           "align": "left"
          },
          "hovermode": "closest",
          "mapbox": {
           "style": "light"
          },
          "paper_bgcolor": "white",
          "plot_bgcolor": "white",
          "polar": {
           "angularaxis": {
            "gridcolor": "#EBF0F8",
            "linecolor": "#EBF0F8",
            "ticks": ""
           },
           "bgcolor": "white",
           "radialaxis": {
            "gridcolor": "#EBF0F8",
            "linecolor": "#EBF0F8",
            "ticks": ""
           }
          },
          "scene": {
           "xaxis": {
            "backgroundcolor": "white",
            "gridcolor": "#DFE8F3",
            "gridwidth": 2,
            "linecolor": "#EBF0F8",
            "showbackground": true,
            "ticks": "",
            "zerolinecolor": "#EBF0F8"
           },
           "yaxis": {
            "backgroundcolor": "white",
            "gridcolor": "#DFE8F3",
            "gridwidth": 2,
            "linecolor": "#EBF0F8",
            "showbackground": true,
            "ticks": "",
            "zerolinecolor": "#EBF0F8"
           },
           "zaxis": {
            "backgroundcolor": "white",
            "gridcolor": "#DFE8F3",
            "gridwidth": 2,
            "linecolor": "#EBF0F8",
            "showbackground": true,
            "ticks": "",
            "zerolinecolor": "#EBF0F8"
           }
          },
          "shapedefaults": {
           "line": {
            "color": "#2a3f5f"
           }
          },
          "ternary": {
           "aaxis": {
            "gridcolor": "#DFE8F3",
            "linecolor": "#A2B1C6",
            "ticks": ""
           },
           "baxis": {
            "gridcolor": "#DFE8F3",
            "linecolor": "#A2B1C6",
            "ticks": ""
           },
           "bgcolor": "white",
           "caxis": {
            "gridcolor": "#DFE8F3",
            "linecolor": "#A2B1C6",
            "ticks": ""
           }
          },
          "title": {
           "x": 0.05
          },
          "xaxis": {
           "automargin": true,
           "gridcolor": "#EBF0F8",
           "linecolor": "#EBF0F8",
           "ticks": "",
           "title": {
            "standoff": 15
           },
           "zerolinecolor": "#EBF0F8",
           "zerolinewidth": 2
          },
          "yaxis": {
           "automargin": true,
           "gridcolor": "#EBF0F8",
           "linecolor": "#EBF0F8",
           "ticks": "",
           "title": {
            "standoff": 15
           },
           "zerolinecolor": "#EBF0F8",
           "zerolinewidth": 2
          }
         }
        },
        "title": {
         "text": "Compare Annual Return / Max Drawdown 2021"
        },
        "xaxis": {
         "title": {
          "text": "Annual Return"
         }
        },
        "yaxis": {
         "title": {
          "text": "Max Drawdown"
         }
        }
       }
      },
      "text/html": [
       "<div>                            <div id=\"6801d45b-a657-4142-ae5f-5f29366a85b3\" class=\"plotly-graph-div\" style=\"height:525px; width:100%;\"></div>            <script type=\"text/javascript\">                require([\"plotly\"], function(Plotly) {                    window.PLOTLYENV=window.PLOTLYENV || {};                                    if (document.getElementById(\"6801d45b-a657-4142-ae5f-5f29366a85b3\")) {                    Plotly.newPlot(                        \"6801d45b-a657-4142-ae5f-5f29366a85b3\",                        [{\"marker\":{\"color\":\"bisque\",\"size\":5},\"mode\":\"markers\",\"name\":\"VNM US Equity\",\"x\":[0.2127534523196485],\"y\":[-0.1033953381265511],\"type\":\"scatter\"},{\"marker\":{\"color\":\"bisque\",\"size\":5},\"mode\":\"markers\",\"name\":\"AFCVICI KY Equity\",\"x\":[0.4691714342627629],\"y\":[-0.01851229264873144],\"type\":\"scatter\"},{\"marker\":{\"color\":\"bisque\",\"size\":5},\"mode\":\"markers\",\"name\":\"LUMENUS LE Equity\",\"x\":[0.4241433004870118],\"y\":[-0.1048651373834132],\"type\":\"scatter\"},{\"marker\":{\"color\":\"bisque\",\"size\":5},\"mode\":\"markers\",\"name\":\"XFVT GY Equity\",\"x\":[0.3811173029222374],\"y\":[-0.1311804697156984],\"type\":\"scatter\"},{\"marker\":{\"color\":\"bisque\",\"size\":5},\"mode\":\"markers\",\"name\":\"GAVNBCU LX Equity\",\"x\":[0.4369565699608399],\"y\":[-0.07315842583249235],\"type\":\"scatter\"},{\"marker\":{\"color\":\"bisque\",\"size\":5},\"mode\":\"markers\",\"name\":\"LCVIETU SP Equity\",\"x\":[0.3254133287872585],\"y\":[-0.1330472103004289],\"type\":\"scatter\"},{\"marker\":{\"color\":\"bisque\",\"size\":5},\"mode\":\"markers\",\"name\":\"FOVCPVA LX Equity\",\"x\":[0.4211218943164639],\"y\":[-0.1385706492089474],\"type\":\"scatter\"},{\"marker\":{\"color\":\"bisque\",\"size\":5},\"mode\":\"markers\",\"name\":\"GAVTNIU LX Equity\",\"x\":[0.4079914800303277],\"y\":[-0.07518832391713749],\"type\":\"scatter\"},{\"marker\":{\"color\":\"bisque\",\"size\":5},\"mode\":\"markers\",\"name\":\"AFCVIET KY Equity\",\"x\":[0.452038538643305],\"y\":[-0.01892136818741008],\"type\":\"scatter\"},{\"marker\":{\"color\":\"bisque\",\"size\":5},\"mode\":\"markers\",\"name\":\"VIETNAM ID Equity\",\"x\":[0.4517187422651666],\"y\":[-0.1264695404346277],\"type\":\"scatter\"},{\"marker\":{\"color\":\"bisque\",\"size\":5},\"mode\":\"markers\",\"name\":\"E1VFVN30 VN Equity\",\"x\":[0.3865680552601071],\"y\":[-0.1378787878787877],\"type\":\"scatter\"},{\"marker\":{\"color\":\"bisque\",\"size\":5},\"mode\":\"markers\",\"name\":\"XVTD LN Equity\",\"x\":[0.2977646711703404],\"y\":[-0.1350184173758415],\"type\":\"scatter\"},{\"marker\":{\"color\":\"bisque\",\"size\":5},\"mode\":\"markers\",\"name\":\"KVIETNE TB Equity\",\"x\":[0.3512681653948371],\"y\":[-0.117948204010389],\"type\":\"scatter\"},{\"marker\":{\"color\":\"bisque\",\"size\":5},\"mode\":\"markers\",\"name\":\"3087 HK Equity\",\"x\":[0.292300207212733],\"y\":[-0.1320132013201319],\"type\":\"scatter\"},{\"marker\":{\"color\":\"bisque\",\"size\":5},\"mode\":\"markers\",\"name\":\"SSICOAD VN Equity\",\"x\":[0.416672806465712],\"y\":[-0.1066220498785991],\"type\":\"scatter\"},{\"marker\":{\"color\":\"bisque\",\"size\":5},\"mode\":\"markers\",\"name\":\"XFVT GR Equity\",\"x\":[0.3793697211645699],\"y\":[-0.1274844720496897],\"type\":\"scatter\"},{\"marker\":{\"color\":\"bisque\",\"size\":5},\"mode\":\"markers\",\"name\":\"GAVT SW Equity\",\"x\":[0.4053206056446477],\"y\":[-0.1190681622088009],\"type\":\"scatter\"},{\"marker\":{\"color\":\"bisque\",\"size\":5},\"mode\":\"markers\",\"name\":\"LCVIETS SP Equity\",\"x\":[0.3446729928406653],\"y\":[-0.1324004305705062],\"type\":\"scatter\"},{\"marker\":{\"color\":\"bisque\",\"size\":5},\"mode\":\"markers\",\"name\":\"LUMENCH LE Equity\",\"x\":[0.4088631237098435],\"y\":[-0.1029552715654951],\"type\":\"scatter\"},{\"marker\":{\"color\":\"bisque\",\"size\":5},\"mode\":\"markers\",\"name\":\"VTNPHXA KY Equity\",\"x\":[0.3187695691462952],\"y\":[-0.02642716072604155],\"type\":\"scatter\"},{\"marker\":{\"color\":\"bisque\",\"size\":5},\"mode\":\"markers\",\"name\":\"FUESSVFL VN Equity\",\"x\":[0.5415220020068225],\"y\":[-0.1736023539302226],\"type\":\"scatter\"},{\"marker\":{\"color\":\"bisque\",\"size\":5},\"mode\":\"markers\",\"name\":\"CPVNEQA TB Equity\",\"x\":[0.4415471410264584],\"y\":[-0.1357670633579631],\"type\":\"scatter\"},{\"marker\":{\"color\":\"bisque\",\"size\":5},\"mode\":\"markers\",\"name\":\"KIMVGIU LX Equity\",\"x\":[0.5337090336128545],\"y\":[-0.1412727686639003],\"type\":\"scatter\"},{\"marker\":{\"color\":\"bisque\",\"size\":5},\"mode\":\"markers\",\"name\":\"VIETEUR ID Equity\",\"x\":[0.5438673381135851],\"y\":[-0.1244062728730942],\"type\":\"scatter\"},{\"marker\":{\"color\":\"bisque\",\"size\":5},\"mode\":\"markers\",\"name\":\"9A311108 JP Equity\",\"x\":[0.3697283008456083],\"y\":[-0.1465988017602458],\"type\":\"scatter\"},{\"marker\":{\"color\":\"bisque\",\"size\":5},\"mode\":\"markers\",\"name\":\"LUMCHFI LE Equity\",\"x\":[0.4143475486523065],\"y\":[-0.1036008070774484],\"type\":\"scatter\"},{\"marker\":{\"color\":\"bisque\",\"size\":5},\"mode\":\"markers\",\"name\":\"CTBCVET TT Equity\",\"x\":[0.3416933746657996],\"y\":[-0.129431162407255],\"type\":\"scatter\"},{\"marker\":{\"color\":\"bisque\",\"size\":5},\"mode\":\"markers\",\"name\":\"XFVT GT Equity\",\"x\":[0.3811173029222374],\"y\":[-0.1311804697156984],\"type\":\"scatter\"},{\"marker\":{\"color\":\"bisque\",\"size\":5},\"mode\":\"markers\",\"name\":\"XFVT SP Equity\",\"x\":[0.2837863714825122],\"y\":[-0.1258598726114652],\"type\":\"scatter\"},{\"marker\":{\"color\":\"maroon\",\"size\":15,\"symbol\":\"diamond\"},\"mode\":\"markers\",\"name\":\"TCMVN NA Equity\",\"x\":[0.5651636489155007],\"y\":[-0.1057454675797537],\"type\":\"scatter\"},{\"marker\":{\"color\":\"bisque\",\"size\":5},\"mode\":\"markers\",\"name\":\"2804 HK Equity\",\"x\":[0.2051957952969516],\"y\":[-0.144767565272766],\"type\":\"scatter\"},{\"marker\":{\"color\":\"bisque\",\"size\":5},\"mode\":\"markers\",\"name\":\"VCVOF US Equity\",\"x\":[0.3209225254089987],\"y\":[-0.1574745630054785],\"type\":\"scatter\"},{\"marker\":{\"color\":\"bisque\",\"size\":5},\"mode\":\"markers\",\"name\":\"FUESSV50 VN Equity\",\"x\":[0.3926394088670985],\"y\":[-0.1335227272727272],\"type\":\"scatter\"},{\"marker\":{\"color\":\"bisque\",\"size\":5},\"mode\":\"markers\",\"name\":\"THVMEFA CH Equity\",\"x\":[0.3555063419577584],\"y\":[-0.1349678647940967],\"type\":\"scatter\"},{\"marker\":{\"color\":\"maroon\",\"size\":15,\"symbol\":\"diamond\"},\"mode\":\"markers\",\"name\":\"AB311171 JP Equity\",\"x\":[0.6036626059323622],\"y\":[-0.1401072893657308],\"type\":\"scatter\"},{\"marker\":{\"color\":\"bisque\",\"size\":5},\"mode\":\"markers\",\"name\":\"IOFVTEQ LX Equity\",\"x\":[0.394127739297848],\"y\":[-0.1235486752009527],\"type\":\"scatter\"},{\"marker\":{\"color\":\"bisque\",\"size\":5},\"mode\":\"markers\",\"name\":\"SGVIEOP HK Equity\",\"x\":[0.2711575247808398],\"y\":[-0.1341845878136198],\"type\":\"scatter\"},{\"marker\":{\"color\":\"bisque\",\"size\":5},\"mode\":\"markers\",\"name\":\"VFMVF1 VN Equity\",\"x\":[0.4476800011429378],\"y\":[-0.1199725260519777],\"type\":\"scatter\"},{\"marker\":{\"color\":\"bisque\",\"size\":5},\"mode\":\"markers\",\"name\":\"FOVIEDE LX Equity\",\"x\":[0.4318028334159474],\"y\":[-0.1222444889779561],\"type\":\"scatter\"},{\"marker\":{\"color\":\"bisque\",\"size\":5},\"mode\":\"markers\",\"name\":\"GAVT SE Equity\",\"x\":[0.4053206056446477],\"y\":[-0.1190681622088009],\"type\":\"scatter\"},{\"marker\":{\"color\":\"bisque\",\"size\":5},\"mode\":\"markers\",\"name\":\"GELIONV SP Equity\",\"x\":[0.3445344655006877],\"y\":[-0.1314847942754921],\"type\":\"scatter\"},{\"marker\":{\"color\":\"bisque\",\"size\":5},\"mode\":\"markers\",\"name\":\"YDVNLDR KY Equity\",\"x\":[0.22005381205529],\"y\":[-0.1053328916859888],\"type\":\"scatter\"},{\"marker\":{\"color\":\"bisque\",\"size\":5},\"mode\":\"markers\",\"name\":\"0431216C JP Equity\",\"x\":[0.3576478106849956],\"y\":[-0.1578317833909822],\"type\":\"scatter\"},{\"marker\":{\"color\":\"bisque\",\"size\":5},\"mode\":\"markers\",\"name\":\"VFMVFA VN Equity\",\"x\":[0.0],\"y\":[0.0],\"type\":\"scatter\"},{\"marker\":{\"color\":\"bisque\",\"size\":5},\"mode\":\"markers\",\"name\":\"HLGVIET MK Equity\",\"x\":[0.0],\"y\":[0.0],\"type\":\"scatter\"},{\"marker\":{\"color\":\"bisque\",\"size\":5},\"mode\":\"markers\",\"name\":\"HAVNEAF IT Equity\",\"x\":[0.0],\"y\":[0.0],\"type\":\"scatter\"},{\"marker\":{\"color\":\"bisque\",\"size\":5},\"mode\":\"markers\",\"name\":\"49311186 JP Equity\",\"x\":[0.456468584328097],\"y\":[-0.1458937338360593],\"type\":\"scatter\"},{\"marker\":{\"color\":\"bisque\",\"size\":5},\"mode\":\"markers\",\"name\":\"ASPVIET TB Equity\",\"x\":[0.4193311153754406],\"y\":[-0.1241044603651491],\"type\":\"scatter\"},{\"marker\":{\"color\":\"bisque\",\"size\":5},\"mode\":\"markers\",\"name\":\"1AR0081 KS Equity\",\"x\":[0.02916861657049305],\"y\":[-0.3046641382015482],\"type\":\"scatter\"},{\"marker\":{\"color\":\"bisque\",\"size\":5},\"mode\":\"markers\",\"name\":\"HLVIETS MK Equity\",\"x\":[0.0],\"y\":[0.0],\"type\":\"scatter\"},{\"marker\":{\"color\":\"bisque\",\"size\":5},\"mode\":\"markers\",\"name\":\"47311156 JP Equity\",\"x\":[0.4215059939149899],\"y\":[-0.1333184789067143],\"type\":\"scatter\"},{\"marker\":{\"color\":\"bisque\",\"size\":5},\"mode\":\"markers\",\"name\":\"ASPVRMF TB Equity\",\"x\":[0.4369063496211094],\"y\":[-0.1233371638703747],\"type\":\"scatter\"},{\"marker\":{\"color\":\"bisque\",\"size\":5},\"mode\":\"markers\",\"name\":\"VCBFTBF VN Equity\",\"x\":[0.2978201135808486],\"y\":[-0.1954458416664048],\"type\":\"scatter\"},{\"marker\":{\"color\":\"bisque\",\"size\":5},\"mode\":\"markers\",\"name\":\"VG6 GR Equity\",\"x\":[0.0],\"y\":[0.0],\"type\":\"scatter\"},{\"marker\":{\"color\":\"bisque\",\"size\":5},\"mode\":\"markers\",\"name\":\"VNF LN Equity\",\"x\":[0.0],\"y\":[0.0],\"type\":\"scatter\"},{\"marker\":{\"color\":\"bisque\",\"size\":5},\"mode\":\"markers\",\"name\":\"FUESSV30 VN Equity\",\"x\":[0.4174800787113226],\"y\":[-0.1462829736211033],\"type\":\"scatter\"},{\"marker\":{\"color\":\"bisque\",\"size\":5},\"mode\":\"markers\",\"name\":\"SSISCA\",\"x\":[0.4138068223309833],\"y\":[-0.105760144039813],\"type\":\"scatter\"},{\"marker\":{\"color\":\"bisque\",\"size\":5},\"mode\":\"markers\",\"name\":\"BVPF\",\"x\":[0.2736288525286837],\"y\":[-0.07580447771938643],\"type\":\"scatter\"},{\"marker\":{\"color\":\"maroon\",\"size\":15,\"symbol\":\"diamond\"},\"mode\":\"markers\",\"name\":\"VESAF\",\"x\":[0.5493755532365192],\"y\":[-0.1045405714398352],\"type\":\"scatter\"},{\"marker\":{\"color\":\"bisque\",\"size\":5},\"mode\":\"markers\",\"name\":\"VCBF-BCF\",\"x\":[0.3275701541292961],\"y\":[-0.09892599919451024],\"type\":\"scatter\"},{\"marker\":{\"color\":\"bisque\",\"size\":5},\"mode\":\"markers\",\"name\":\"VEOF\",\"x\":[0.4679863109659798],\"y\":[-0.1096308012891454],\"type\":\"scatter\"},{\"marker\":{\"color\":\"bisque\",\"size\":5},\"mode\":\"markers\",\"name\":\"MBVF\",\"x\":[0.1160559249645839],\"y\":[-0.04884054996921809],\"type\":\"scatter\"},{\"marker\":{\"color\":\"bisque\",\"size\":5},\"mode\":\"markers\",\"name\":\"MAGEF\",\"x\":[0.4108808110923433],\"y\":[-0.2672253091534444],\"type\":\"scatter\"},{\"marker\":{\"color\":\"bisque\",\"size\":5},\"mode\":\"markers\",\"name\":\"DCDS\",\"x\":[0.4498825758328468],\"y\":[-0.1199725260519776],\"type\":\"scatter\"},{\"marker\":{\"color\":\"bisque\",\"size\":5},\"mode\":\"markers\",\"name\":\"VNDAF\",\"x\":[0.3696321187651024],\"y\":[-0.05440587798785507],\"type\":\"scatter\"},{\"marker\":{\"color\":\"bisque\",\"size\":5},\"mode\":\"markers\",\"name\":\"DCDE\",\"x\":[0.4043141016390328],\"y\":[-0.1368002015263489],\"type\":\"scatter\"},{\"marker\":{\"color\":\"bisque\",\"size\":5},\"mode\":\"markers\",\"name\":\"DCAF\",\"x\":[0.2647824101751263],\"y\":[-0.1302973388617319],\"type\":\"scatter\"},{\"marker\":{\"color\":\"bisque\",\"size\":5},\"mode\":\"markers\",\"name\":\"BVFED\",\"x\":[0.3533130117847386],\"y\":[-0.07677174156047406],\"type\":\"scatter\"},{\"marker\":{\"color\":\"bisque\",\"size\":5},\"mode\":\"markers\",\"name\":\"MAFEQI\",\"x\":[0.3500655999535935],\"y\":[-0.1240521893571965],\"type\":\"scatter\"},{\"marker\":{\"color\":\"purple\",\"size\":25,\"symbol\":\"square\"},\"mode\":\"markers\",\"name\":\"VNI\",\"x\":[0.3226353507253225],\"y\":[-0.1425724334282365],\"type\":\"scatter\"},{\"marker\":{\"color\":\"blue\",\"size\":30},\"mode\":\"markers\",\"name\":\"HIEP.NS\",\"x\":[0.323],\"y\":[-0.07],\"type\":\"scatter\"},{\"marker\":{\"color\":\"orange\",\"size\":30},\"mode\":\"markers\",\"name\":\"MANDATE VND\",\"x\":[0.15],\"y\":[-0.18],\"type\":\"scatter\"}],                        {\"template\":{\"data\":{\"histogram2dcontour\":[{\"type\":\"histogram2dcontour\",\"colorbar\":{\"outlinewidth\":0,\"ticks\":\"\"},\"colorscale\":[[0.0,\"#0d0887\"],[0.1111111111111111,\"#46039f\"],[0.2222222222222222,\"#7201a8\"],[0.3333333333333333,\"#9c179e\"],[0.4444444444444444,\"#bd3786\"],[0.5555555555555556,\"#d8576b\"],[0.6666666666666666,\"#ed7953\"],[0.7777777777777778,\"#fb9f3a\"],[0.8888888888888888,\"#fdca26\"],[1.0,\"#f0f921\"]]}],\"choropleth\":[{\"type\":\"choropleth\",\"colorbar\":{\"outlinewidth\":0,\"ticks\":\"\"}}],\"histogram2d\":[{\"type\":\"histogram2d\",\"colorbar\":{\"outlinewidth\":0,\"ticks\":\"\"},\"colorscale\":[[0.0,\"#0d0887\"],[0.1111111111111111,\"#46039f\"],[0.2222222222222222,\"#7201a8\"],[0.3333333333333333,\"#9c179e\"],[0.4444444444444444,\"#bd3786\"],[0.5555555555555556,\"#d8576b\"],[0.6666666666666666,\"#ed7953\"],[0.7777777777777778,\"#fb9f3a\"],[0.8888888888888888,\"#fdca26\"],[1.0,\"#f0f921\"]]}],\"heatmap\":[{\"type\":\"heatmap\",\"colorbar\":{\"outlinewidth\":0,\"ticks\":\"\"},\"colorscale\":[[0.0,\"#0d0887\"],[0.1111111111111111,\"#46039f\"],[0.2222222222222222,\"#7201a8\"],[0.3333333333333333,\"#9c179e\"],[0.4444444444444444,\"#bd3786\"],[0.5555555555555556,\"#d8576b\"],[0.6666666666666666,\"#ed7953\"],[0.7777777777777778,\"#fb9f3a\"],[0.8888888888888888,\"#fdca26\"],[1.0,\"#f0f921\"]]}],\"heatmapgl\":[{\"type\":\"heatmapgl\",\"colorbar\":{\"outlinewidth\":0,\"ticks\":\"\"},\"colorscale\":[[0.0,\"#0d0887\"],[0.1111111111111111,\"#46039f\"],[0.2222222222222222,\"#7201a8\"],[0.3333333333333333,\"#9c179e\"],[0.4444444444444444,\"#bd3786\"],[0.5555555555555556,\"#d8576b\"],[0.6666666666666666,\"#ed7953\"],[0.7777777777777778,\"#fb9f3a\"],[0.8888888888888888,\"#fdca26\"],[1.0,\"#f0f921\"]]}],\"contourcarpet\":[{\"type\":\"contourcarpet\",\"colorbar\":{\"outlinewidth\":0,\"ticks\":\"\"}}],\"contour\":[{\"type\":\"contour\",\"colorbar\":{\"outlinewidth\":0,\"ticks\":\"\"},\"colorscale\":[[0.0,\"#0d0887\"],[0.1111111111111111,\"#46039f\"],[0.2222222222222222,\"#7201a8\"],[0.3333333333333333,\"#9c179e\"],[0.4444444444444444,\"#bd3786\"],[0.5555555555555556,\"#d8576b\"],[0.6666666666666666,\"#ed7953\"],[0.7777777777777778,\"#fb9f3a\"],[0.8888888888888888,\"#fdca26\"],[1.0,\"#f0f921\"]]}],\"surface\":[{\"type\":\"surface\",\"colorbar\":{\"outlinewidth\":0,\"ticks\":\"\"},\"colorscale\":[[0.0,\"#0d0887\"],[0.1111111111111111,\"#46039f\"],[0.2222222222222222,\"#7201a8\"],[0.3333333333333333,\"#9c179e\"],[0.4444444444444444,\"#bd3786\"],[0.5555555555555556,\"#d8576b\"],[0.6666666666666666,\"#ed7953\"],[0.7777777777777778,\"#fb9f3a\"],[0.8888888888888888,\"#fdca26\"],[1.0,\"#f0f921\"]]}],\"mesh3d\":[{\"type\":\"mesh3d\",\"colorbar\":{\"outlinewidth\":0,\"ticks\":\"\"}}],\"scatter\":[{\"fillpattern\":{\"fillmode\":\"overlay\",\"size\":10,\"solidity\":0.2},\"type\":\"scatter\"}],\"parcoords\":[{\"type\":\"parcoords\",\"line\":{\"colorbar\":{\"outlinewidth\":0,\"ticks\":\"\"}}}],\"scatterpolargl\":[{\"type\":\"scatterpolargl\",\"marker\":{\"colorbar\":{\"outlinewidth\":0,\"ticks\":\"\"}}}],\"bar\":[{\"error_x\":{\"color\":\"#2a3f5f\"},\"error_y\":{\"color\":\"#2a3f5f\"},\"marker\":{\"line\":{\"color\":\"white\",\"width\":0.5},\"pattern\":{\"fillmode\":\"overlay\",\"size\":10,\"solidity\":0.2}},\"type\":\"bar\"}],\"scattergeo\":[{\"type\":\"scattergeo\",\"marker\":{\"colorbar\":{\"outlinewidth\":0,\"ticks\":\"\"}}}],\"scatterpolar\":[{\"type\":\"scatterpolar\",\"marker\":{\"colorbar\":{\"outlinewidth\":0,\"ticks\":\"\"}}}],\"histogram\":[{\"marker\":{\"pattern\":{\"fillmode\":\"overlay\",\"size\":10,\"solidity\":0.2}},\"type\":\"histogram\"}],\"scattergl\":[{\"type\":\"scattergl\",\"marker\":{\"colorbar\":{\"outlinewidth\":0,\"ticks\":\"\"}}}],\"scatter3d\":[{\"type\":\"scatter3d\",\"line\":{\"colorbar\":{\"outlinewidth\":0,\"ticks\":\"\"}},\"marker\":{\"colorbar\":{\"outlinewidth\":0,\"ticks\":\"\"}}}],\"scattermapbox\":[{\"type\":\"scattermapbox\",\"marker\":{\"colorbar\":{\"outlinewidth\":0,\"ticks\":\"\"}}}],\"scatterternary\":[{\"type\":\"scatterternary\",\"marker\":{\"colorbar\":{\"outlinewidth\":0,\"ticks\":\"\"}}}],\"scattercarpet\":[{\"type\":\"scattercarpet\",\"marker\":{\"colorbar\":{\"outlinewidth\":0,\"ticks\":\"\"}}}],\"carpet\":[{\"aaxis\":{\"endlinecolor\":\"#2a3f5f\",\"gridcolor\":\"#C8D4E3\",\"linecolor\":\"#C8D4E3\",\"minorgridcolor\":\"#C8D4E3\",\"startlinecolor\":\"#2a3f5f\"},\"baxis\":{\"endlinecolor\":\"#2a3f5f\",\"gridcolor\":\"#C8D4E3\",\"linecolor\":\"#C8D4E3\",\"minorgridcolor\":\"#C8D4E3\",\"startlinecolor\":\"#2a3f5f\"},\"type\":\"carpet\"}],\"table\":[{\"cells\":{\"fill\":{\"color\":\"#EBF0F8\"},\"line\":{\"color\":\"white\"}},\"header\":{\"fill\":{\"color\":\"#C8D4E3\"},\"line\":{\"color\":\"white\"}},\"type\":\"table\"}],\"barpolar\":[{\"marker\":{\"line\":{\"color\":\"white\",\"width\":0.5},\"pattern\":{\"fillmode\":\"overlay\",\"size\":10,\"solidity\":0.2}},\"type\":\"barpolar\"}],\"pie\":[{\"automargin\":true,\"type\":\"pie\"}]},\"layout\":{\"autotypenumbers\":\"strict\",\"colorway\":[\"#636efa\",\"#EF553B\",\"#00cc96\",\"#ab63fa\",\"#FFA15A\",\"#19d3f3\",\"#FF6692\",\"#B6E880\",\"#FF97FF\",\"#FECB52\"],\"font\":{\"color\":\"#2a3f5f\"},\"hovermode\":\"closest\",\"hoverlabel\":{\"align\":\"left\"},\"paper_bgcolor\":\"white\",\"plot_bgcolor\":\"white\",\"polar\":{\"bgcolor\":\"white\",\"angularaxis\":{\"gridcolor\":\"#EBF0F8\",\"linecolor\":\"#EBF0F8\",\"ticks\":\"\"},\"radialaxis\":{\"gridcolor\":\"#EBF0F8\",\"linecolor\":\"#EBF0F8\",\"ticks\":\"\"}},\"ternary\":{\"bgcolor\":\"white\",\"aaxis\":{\"gridcolor\":\"#DFE8F3\",\"linecolor\":\"#A2B1C6\",\"ticks\":\"\"},\"baxis\":{\"gridcolor\":\"#DFE8F3\",\"linecolor\":\"#A2B1C6\",\"ticks\":\"\"},\"caxis\":{\"gridcolor\":\"#DFE8F3\",\"linecolor\":\"#A2B1C6\",\"ticks\":\"\"}},\"coloraxis\":{\"colorbar\":{\"outlinewidth\":0,\"ticks\":\"\"}},\"colorscale\":{\"sequential\":[[0.0,\"#0d0887\"],[0.1111111111111111,\"#46039f\"],[0.2222222222222222,\"#7201a8\"],[0.3333333333333333,\"#9c179e\"],[0.4444444444444444,\"#bd3786\"],[0.5555555555555556,\"#d8576b\"],[0.6666666666666666,\"#ed7953\"],[0.7777777777777778,\"#fb9f3a\"],[0.8888888888888888,\"#fdca26\"],[1.0,\"#f0f921\"]],\"sequentialminus\":[[0.0,\"#0d0887\"],[0.1111111111111111,\"#46039f\"],[0.2222222222222222,\"#7201a8\"],[0.3333333333333333,\"#9c179e\"],[0.4444444444444444,\"#bd3786\"],[0.5555555555555556,\"#d8576b\"],[0.6666666666666666,\"#ed7953\"],[0.7777777777777778,\"#fb9f3a\"],[0.8888888888888888,\"#fdca26\"],[1.0,\"#f0f921\"]],\"diverging\":[[0,\"#8e0152\"],[0.1,\"#c51b7d\"],[0.2,\"#de77ae\"],[0.3,\"#f1b6da\"],[0.4,\"#fde0ef\"],[0.5,\"#f7f7f7\"],[0.6,\"#e6f5d0\"],[0.7,\"#b8e186\"],[0.8,\"#7fbc41\"],[0.9,\"#4d9221\"],[1,\"#276419\"]]},\"xaxis\":{\"gridcolor\":\"#EBF0F8\",\"linecolor\":\"#EBF0F8\",\"ticks\":\"\",\"title\":{\"standoff\":15},\"zerolinecolor\":\"#EBF0F8\",\"automargin\":true,\"zerolinewidth\":2},\"yaxis\":{\"gridcolor\":\"#EBF0F8\",\"linecolor\":\"#EBF0F8\",\"ticks\":\"\",\"title\":{\"standoff\":15},\"zerolinecolor\":\"#EBF0F8\",\"automargin\":true,\"zerolinewidth\":2},\"scene\":{\"xaxis\":{\"backgroundcolor\":\"white\",\"gridcolor\":\"#DFE8F3\",\"linecolor\":\"#EBF0F8\",\"showbackground\":true,\"ticks\":\"\",\"zerolinecolor\":\"#EBF0F8\",\"gridwidth\":2},\"yaxis\":{\"backgroundcolor\":\"white\",\"gridcolor\":\"#DFE8F3\",\"linecolor\":\"#EBF0F8\",\"showbackground\":true,\"ticks\":\"\",\"zerolinecolor\":\"#EBF0F8\",\"gridwidth\":2},\"zaxis\":{\"backgroundcolor\":\"white\",\"gridcolor\":\"#DFE8F3\",\"linecolor\":\"#EBF0F8\",\"showbackground\":true,\"ticks\":\"\",\"zerolinecolor\":\"#EBF0F8\",\"gridwidth\":2}},\"shapedefaults\":{\"line\":{\"color\":\"#2a3f5f\"}},\"annotationdefaults\":{\"arrowcolor\":\"#2a3f5f\",\"arrowhead\":0,\"arrowwidth\":1},\"geo\":{\"bgcolor\":\"white\",\"landcolor\":\"white\",\"subunitcolor\":\"#C8D4E3\",\"showland\":true,\"showlakes\":true,\"lakecolor\":\"white\"},\"title\":{\"x\":0.05},\"mapbox\":{\"style\":\"light\"}}},\"title\":{\"text\":\"Compare Annual Return / Max Drawdown 2021\"},\"xaxis\":{\"title\":{\"text\":\"Annual Return\"}},\"yaxis\":{\"title\":{\"text\":\"Max Drawdown\"}}},                        {\"responsive\": true}                    ).then(function(){\n",
       "                            \n",
       "var gd = document.getElementById('6801d45b-a657-4142-ae5f-5f29366a85b3');\n",
       "var x = new MutationObserver(function (mutations, observer) {{\n",
       "        var display = window.getComputedStyle(gd).display;\n",
       "        if (!display || display === 'none') {{\n",
       "            console.log([gd, 'removed!']);\n",
       "            Plotly.purge(gd);\n",
       "            observer.disconnect();\n",
       "        }}\n",
       "}});\n",
       "\n",
       "// Listen for the removal of the full notebook cells\n",
       "var notebookContainer = gd.closest('#notebook-container');\n",
       "if (notebookContainer) {{\n",
       "    x.observe(notebookContainer, {childList: true});\n",
       "}}\n",
       "\n",
       "// Listen for the clearing of the current output cell\n",
       "var outputEl = gd.closest('.output');\n",
       "if (outputEl) {{\n",
       "    x.observe(outputEl, {childList: true});\n",
       "}}\n",
       "\n",
       "                        })                };                });            </script>        </div>"
      ]
     },
     "metadata": {},
     "output_type": "display_data"
    },
    {
     "data": {
      "application/vnd.plotly.v1+json": {
       "config": {
        "plotlyServerURL": "https://plot.ly"
       },
       "data": [
        {
         "marker": {
          "color": "bisque",
          "size": 5
         },
         "mode": "markers",
         "name": "VNM US Equity",
         "type": "scatter",
         "x": [
          -0.5424163688958795
         ],
         "y": [
          -0.493727983715978
         ]
        },
        {
         "marker": {
          "color": "bisque",
          "size": 5
         },
         "mode": "markers",
         "name": "AFCVICI KY Equity",
         "type": "scatter",
         "x": [
          -0.181516536592024
         ],
         "y": [
          -0.2811702328131157
         ]
        },
        {
         "marker": {
          "color": "bisque",
          "size": 5
         },
         "mode": "markers",
         "name": "LUMENUS LE Equity",
         "type": "scatter",
         "x": [
          -0.2932823384124063
         ],
         "y": [
          -0.4786091600394727
         ]
        },
        {
         "marker": {
          "color": "bisque",
          "size": 5
         },
         "mode": "markers",
         "name": "XFVT GY Equity",
         "type": "scatter",
         "x": [
          -0.4865879414497227
         ],
         "y": [
          -0.4879869372521582
         ]
        },
        {
         "marker": {
          "color": "bisque",
          "size": 5
         },
         "mode": "markers",
         "name": "GAVNBCU LX Equity",
         "type": "scatter",
         "x": [
          -0.2538082258797391
         ],
         "y": [
          -0.3833017657481516
         ]
        },
        {
         "marker": {
          "color": "bisque",
          "size": 5
         },
         "mode": "markers",
         "name": "LCVIETU SP Equity",
         "type": "scatter",
         "x": [
          -0.3469538143156679
         ],
         "y": [
          -0.4301675977653632
         ]
        },
        {
         "marker": {
          "color": "bisque",
          "size": 5
         },
         "mode": "markers",
         "name": "FOVCPVA LX Equity",
         "type": "scatter",
         "x": [
          -0.2347135466427369
         ],
         "y": [
          -0.3871794871794869
         ]
        },
        {
         "marker": {
          "color": "bisque",
          "size": 5
         },
         "mode": "markers",
         "name": "GAVTNIU LX Equity",
         "type": "scatter",
         "x": [
          -0.2538155116340076
         ],
         "y": [
          -0.3809723386420787
         ]
        },
        {
         "marker": {
          "color": "bisque",
          "size": 5
         },
         "mode": "markers",
         "name": "AFCVIET KY Equity",
         "type": "scatter",
         "x": [
          -0.1878225079404723
         ],
         "y": [
          -0.2832661478827902
         ]
        },
        {
         "marker": {
          "color": "bisque",
          "size": 5
         },
         "mode": "markers",
         "name": "VIETNAM ID Equity",
         "type": "scatter",
         "x": [
          -0.4270765672571977
         ],
         "y": [
          -0.4968184043073907
         ]
        },
        {
         "marker": {
          "color": "bisque",
          "size": 5
         },
         "mode": "markers",
         "name": "E1VFVN30 VN Equity",
         "type": "scatter",
         "x": [
          -0.3591452043568065
         ],
         "y": [
          -0.4220532319391637
         ]
        },
        {
         "marker": {
          "color": "bisque",
          "size": 5
         },
         "mode": "markers",
         "name": "XVTD LN Equity",
         "type": "scatter",
         "x": [
          -0.5369879875605623
         ],
         "y": [
          -0.5328324413338824
         ]
        },
        {
         "marker": {
          "color": "bisque",
          "size": 5
         },
         "mode": "markers",
         "name": "KVIETNE TB Equity",
         "type": "scatter",
         "x": [
          -0.2981106792032989
         ],
         "y": [
          -0.3790369860569452
         ]
        },
        {
         "marker": {
          "color": "bisque",
          "size": 5
         },
         "mode": "markers",
         "name": "00885 TT Equity",
         "type": "scatter",
         "x": [
          -0.4361699468472945
         ],
         "y": [
          -0.4469026548672554
         ]
        },
        {
         "marker": {
          "color": "bisque",
          "size": 5
         },
         "mode": "markers",
         "name": "3087 HK Equity",
         "type": "scatter",
         "x": [
          -0.5421880217338908
         ],
         "y": [
          -0.5097035040431261
         ]
        },
        {
         "marker": {
          "color": "bisque",
          "size": 5
         },
         "mode": "markers",
         "name": "SSICOAD VN Equity",
         "type": "scatter",
         "x": [
          -0.2600108233955598
         ],
         "y": [
          -0.4474815607555027
         ]
        },
        {
         "marker": {
          "color": "bisque",
          "size": 5
         },
         "mode": "markers",
         "name": "XFVT GR Equity",
         "type": "scatter",
         "x": [
          -0.4787253917501415
         ],
         "y": [
          -0.4927281257330514
         ]
        },
        {
         "marker": {
          "color": "bisque",
          "size": 5
         },
         "mode": "markers",
         "name": "GAVT SW Equity",
         "type": "scatter",
         "x": [
          -0.2588811995797558
         ],
         "y": [
          -0.4084914763589583
         ]
        },
        {
         "marker": {
          "color": "bisque",
          "size": 5
         },
         "mode": "markers",
         "name": "LCVIETS SP Equity",
         "type": "scatter",
         "x": [
          -0.352878699151128
         ],
         "y": [
          -0.4256368118323751
         ]
        },
        {
         "marker": {
          "color": "bisque",
          "size": 5
         },
         "mode": "markers",
         "name": "LUMENCH LE Equity",
         "type": "scatter",
         "x": [
          -0.3488783974357492
         ],
         "y": [
          -0.5034185160277967
         ]
        },
        {
         "marker": {
          "color": "bisque",
          "size": 5
         },
         "mode": "markers",
         "name": "VNAM US Equity",
         "type": "scatter",
         "x": [
          -0.5383059027384328
         ],
         "y": [
          -0.5284208969571488
         ]
        },
        {
         "marker": {
          "color": "bisque",
          "size": 5
         },
         "mode": "markers",
         "name": "VTNPHXA KY Equity",
         "type": "scatter",
         "x": [
          -0.2884964116962407
         ],
         "y": [
          -0.3333900902434873
         ]
        },
        {
         "marker": {
          "color": "bisque",
          "size": 5
         },
         "mode": "markers",
         "name": "FUESSVFL VN Equity",
         "type": "scatter",
         "x": [
          -0.3584394168513428
         ],
         "y": [
          -0.5317991631799167
         ]
        },
        {
         "marker": {
          "color": "bisque",
          "size": 5
         },
         "mode": "markers",
         "name": "CPVNEQA TB Equity",
         "type": "scatter",
         "x": [
          -0.3455584278658314
         ],
         "y": [
          -0.4299888160003137
         ]
        },
        {
         "marker": {
          "color": "bisque",
          "size": 5
         },
         "mode": "markers",
         "name": "KIMVGIU LX Equity",
         "type": "scatter",
         "x": [
          -0.3076837624684886
         ],
         "y": [
          -0.4488592591645987
         ]
        },
        {
         "marker": {
          "color": "bisque",
          "size": 5
         },
         "mode": "markers",
         "name": "VIETEUR ID Equity",
         "type": "scatter",
         "x": [
          -0.3628181439228889
         ],
         "y": [
          -0.4656113824957699
         ]
        },
        {
         "marker": {
          "color": "bisque",
          "size": 5
         },
         "mode": "markers",
         "name": "9A311108 JP Equity",
         "type": "scatter",
         "x": [
          -0.1990686993587514
         ],
         "y": [
          -0.3764745159136439
         ]
        },
        {
         "marker": {
          "color": "bisque",
          "size": 5
         },
         "mode": "markers",
         "name": "LUMCHFI LE Equity",
         "type": "scatter",
         "x": [
          -0.345689822512229
         ],
         "y": [
          -0.5022207778138881
         ]
        },
        {
         "marker": {
          "color": "bisque",
          "size": 5
         },
         "mode": "markers",
         "name": "LUMENEI LE Equity",
         "type": "scatter",
         "x": [
          -0.3298504603742581
         ],
         "y": [
          -0.4948354729231222
         ]
        },
        {
         "marker": {
          "color": "bisque",
          "size": 5
         },
         "mode": "markers",
         "name": "CTBCVET TT Equity",
         "type": "scatter",
         "x": [
          -0.2834362919194595
         ],
         "y": [
          -0.4318046456223946
         ]
        },
        {
         "marker": {
          "color": "bisque",
          "size": 5
         },
         "mode": "markers",
         "name": "XFVT GT Equity",
         "type": "scatter",
         "x": [
          -0.4865879414497227
         ],
         "y": [
          -0.4879869372521582
         ]
        },
        {
         "marker": {
          "color": "bisque",
          "size": 5
         },
         "mode": "markers",
         "name": "XFVT SP Equity",
         "type": "scatter",
         "x": [
          -0.5496697648690945
         ],
         "y": [
          -0.5322245322245326
         ]
        },
        {
         "marker": {
          "color": "bisque",
          "size": 5
         },
         "mode": "markers",
         "name": "TCMVN NA Equity",
         "type": "scatter",
         "x": [
          -0.3470765193041412
         ],
         "y": [
          -0.4828833843584746
         ]
        },
        {
         "marker": {
          "color": "bisque",
          "size": 5
         },
         "mode": "markers",
         "name": "2804 HK Equity",
         "type": "scatter",
         "x": [
          -0.5344387438732053
         ],
         "y": [
          -0.5016332244517034
         ]
        },
        {
         "marker": {
          "color": "bisque",
          "size": 5
         },
         "mode": "markers",
         "name": "VCVOF US Equity",
         "type": "scatter",
         "x": [
          -0.1588573635495434
         ],
         "y": [
          -0.3499940266411803
         ]
        },
        {
         "marker": {
          "color": "bisque",
          "size": 5
         },
         "mode": "markers",
         "name": "FUESSV50 VN Equity",
         "type": "scatter",
         "x": [
          -0.3711380545280292
         ],
         "y": [
          -0.535246939636978
         ]
        },
        {
         "marker": {
          "color": "bisque",
          "size": 5
         },
         "mode": "markers",
         "name": "THVMEFA CH Equity",
         "type": "scatter",
         "x": [
          -0.2940187966352296
         ],
         "y": [
          -0.4119127516778522
         ]
        },
        {
         "marker": {
          "color": "bisque",
          "size": 5
         },
         "mode": "markers",
         "name": "AB311171 JP Equity",
         "type": "scatter",
         "x": [
          -0.2550192323520678
         ],
         "y": [
          -0.4391891891891889
         ]
        },
        {
         "marker": {
          "color": "bisque",
          "size": 5
         },
         "mode": "markers",
         "name": "IOFVTEQ LX Equity",
         "type": "scatter",
         "x": [
          -0.2661789218209504
         ],
         "y": [
          -0.3779827907389336
         ]
        },
        {
         "marker": {
          "color": "bisque",
          "size": 5
         },
         "mode": "markers",
         "name": "SGVIEOP HK Equity",
         "type": "scatter",
         "x": [
          -0.308470548906264
         ],
         "y": [
          -0.4120282295182569
         ]
        },
        {
         "marker": {
          "color": "bisque",
          "size": 5
         },
         "mode": "markers",
         "name": "VFMVF1 VN Equity",
         "type": "scatter",
         "x": [
          -0.3846114052290869
         ],
         "y": [
          -0.4136007970573292
         ]
        },
        {
         "marker": {
          "color": "bisque",
          "size": 5
         },
         "mode": "markers",
         "name": "FOVIEDE LX Equity",
         "type": "scatter",
         "x": [
          -0.183016587383293
         ],
         "y": [
          -0.3600849256900208
         ]
        },
        {
         "marker": {
          "color": "bisque",
          "size": 5
         },
         "mode": "markers",
         "name": "GAVT SE Equity",
         "type": "scatter",
         "x": [
          -0.2588811995797558
         ],
         "y": [
          -0.4084914763589583
         ]
        },
        {
         "marker": {
          "color": "bisque",
          "size": 5
         },
         "mode": "markers",
         "name": "GELIONV SP Equity",
         "type": "scatter",
         "x": [
          -0.3537087618078924
         ],
         "y": [
          -0.4252559726962458
         ]
        },
        {
         "marker": {
          "color": "bisque",
          "size": 5
         },
         "mode": "markers",
         "name": "YDVNLDR KY Equity",
         "type": "scatter",
         "x": [
          -0.3969606950365535
         ],
         "y": [
          -0.432660453782066
         ]
        },
        {
         "marker": {
          "color": "bisque",
          "size": 5
         },
         "mode": "markers",
         "name": "0431216C JP Equity",
         "type": "scatter",
         "x": [
          -0.1128243791852999
         ],
         "y": [
          -0.3274057352419996
         ]
        },
        {
         "marker": {
          "color": "bisque",
          "size": 5
         },
         "mode": "markers",
         "name": "VFMVFA VN Equity",
         "type": "scatter",
         "x": [
          0
         ],
         "y": [
          0
         ]
        },
        {
         "marker": {
          "color": "bisque",
          "size": 5
         },
         "mode": "markers",
         "name": "SSIVLGF VN Equity",
         "type": "scatter",
         "x": [
          -0.1535565922587026
         ],
         "y": [
          -0.3263486567357061
         ]
        },
        {
         "marker": {
          "color": "maroon",
          "size": 15,
          "symbol": "diamond"
         },
         "mode": "markers",
         "name": "HLGVIET MK Equity",
         "type": "scatter",
         "x": [
          0
         ],
         "y": [
          0
         ]
        },
        {
         "marker": {
          "color": "bisque",
          "size": 5
         },
         "mode": "markers",
         "name": "HAVNEAF IT Equity",
         "type": "scatter",
         "x": [
          0
         ],
         "y": [
          0
         ]
        },
        {
         "marker": {
          "color": "bisque",
          "size": 5
         },
         "mode": "markers",
         "name": "49311186 JP Equity",
         "type": "scatter",
         "x": [
          -0.1132685360014859
         ],
         "y": [
          -0.3351828756397223
         ]
        },
        {
         "marker": {
          "color": "bisque",
          "size": 5
         },
         "mode": "markers",
         "name": "ASPVIET TB Equity",
         "type": "scatter",
         "x": [
          -0.488105678338448
         ],
         "y": [
          -0.4979593984171245
         ]
        },
        {
         "marker": {
          "color": "bisque",
          "size": 5
         },
         "mode": "markers",
         "name": "1AR0081 KS Equity",
         "type": "scatter",
         "x": [
          -0.2764638030478238
         ],
         "y": [
          -0.3632607310050772
         ]
        },
        {
         "marker": {
          "color": "bisque",
          "size": 5
         },
         "mode": "markers",
         "name": "HLVIETS MK Equity",
         "type": "scatter",
         "x": [
          0
         ],
         "y": [
          0
         ]
        },
        {
         "marker": {
          "color": "bisque",
          "size": 5
         },
         "mode": "markers",
         "name": "47311156 JP Equity",
         "type": "scatter",
         "x": [
          -0.1866357758968744
         ],
         "y": [
          -0.3535127411288403
         ]
        },
        {
         "marker": {
          "color": "bisque",
          "size": 5
         },
         "mode": "markers",
         "name": "ASPVRMF TB Equity",
         "type": "scatter",
         "x": [
          -0.4942339477290868
         ],
         "y": [
          -0.4943606952443269
         ]
        },
        {
         "marker": {
          "color": "bisque",
          "size": 5
         },
         "mode": "markers",
         "name": "VCBFTBF VN Equity",
         "type": "scatter",
         "x": [
          -0.1052533526537057
         ],
         "y": [
          -0.2301169574110489
         ]
        },
        {
         "marker": {
          "color": "bisque",
          "size": 5
         },
         "mode": "markers",
         "name": "VCBFMGF VN Equity",
         "type": "scatter",
         "x": [
          -0.1938577852884367
         ],
         "y": [
          -0.3697212696476264
         ]
        },
        {
         "marker": {
          "color": "bisque",
          "size": 5
         },
         "mode": "markers",
         "name": "VG6 GR Equity",
         "type": "scatter",
         "x": [
          0
         ],
         "y": [
          0
         ]
        },
        {
         "marker": {
          "color": "maroon",
          "size": 15,
          "symbol": "diamond"
         },
         "mode": "markers",
         "name": "VNF LN Equity",
         "type": "scatter",
         "x": [
          0
         ],
         "y": [
          0
         ]
        },
        {
         "marker": {
          "color": "maroon",
          "size": 15,
          "symbol": "diamond"
         },
         "mode": "markers",
         "name": "FUCTVGF3 VN Equity",
         "type": "scatter",
         "x": [
          0.3535666459895425
         ],
         "y": [
          -0.1666666666666668
         ]
        },
        {
         "marker": {
          "color": "bisque",
          "size": 5
         },
         "mode": "markers",
         "name": "FUESSV30 VN Equity",
         "type": "scatter",
         "x": [
          -0.3557850519373297
         ],
         "y": [
          -0.4345794392523371
         ]
        },
        {
         "marker": {
          "color": "bisque",
          "size": 5
         },
         "mode": "markers",
         "name": "SSISCA",
         "type": "scatter",
         "x": [
          -0.2592941438209085
         ],
         "y": [
          -0.4474815607555027
         ]
        },
        {
         "marker": {
          "color": "bisque",
          "size": 5
         },
         "mode": "markers",
         "name": "BVPF",
         "type": "scatter",
         "x": [
          -0.1337764823513799
         ],
         "y": [
          -0.2258884651522692
         ]
        },
        {
         "marker": {
          "color": "bisque",
          "size": 5
         },
         "mode": "markers",
         "name": "VESAF",
         "type": "scatter",
         "x": [
          -0.2482883921771326
         ],
         "y": [
          -0.3952867032691468
         ]
        },
        {
         "marker": {
          "color": "bisque",
          "size": 5
         },
         "mode": "markers",
         "name": "VCBF-BCF",
         "type": "scatter",
         "x": [
          -0.1531594038154685
         ],
         "y": [
          -0.3241773864493208
         ]
        },
        {
         "marker": {
          "color": "bisque",
          "size": 5
         },
         "mode": "markers",
         "name": "VEOF",
         "type": "scatter",
         "x": [
          -0.2045778190555496
         ],
         "y": [
          -0.3820458388043897
         ]
        },
        {
         "marker": {
          "color": "bisque",
          "size": 5
         },
         "mode": "markers",
         "name": "MBVF",
         "type": "scatter",
         "x": [
          -0.1745650587306456
         ],
         "y": [
          -0.3006552809452558
         ]
        },
        {
         "marker": {
          "color": "bisque",
          "size": 5
         },
         "mode": "markers",
         "name": "MAGEF",
         "type": "scatter",
         "x": [
          -0.2537722347976686
         ],
         "y": [
          -0.3424051002246667
         ]
        },
        {
         "marker": {
          "color": "bisque",
          "size": 5
         },
         "mode": "markers",
         "name": "DCDS",
         "type": "scatter",
         "x": [
          -0.4057175821597675
         ],
         "y": [
          -0.4117571639531231
         ]
        },
        {
         "marker": {
          "color": "bisque",
          "size": 5
         },
         "mode": "markers",
         "name": "VNDAF",
         "type": "scatter",
         "x": [
          -0.2148294483406775
         ],
         "y": [
          -0.3465199763718746
         ]
        },
        {
         "marker": {
          "color": "bisque",
          "size": 5
         },
         "mode": "markers",
         "name": "DCDE",
         "type": "scatter",
         "x": [
          -0.3726181439523027
         ],
         "y": [
          -0.3911841195533921
         ]
        },
        {
         "marker": {
          "color": "bisque",
          "size": 5
         },
         "mode": "markers",
         "name": "DCAF",
         "type": "scatter",
         "x": [
          -0.2633165209538436
         ],
         "y": [
          -0.3149560057916428
         ]
        },
        {
         "marker": {
          "color": "bisque",
          "size": 5
         },
         "mode": "markers",
         "name": "BVFED",
         "type": "scatter",
         "x": [
          -0.3108998603369775
         ],
         "y": [
          -0.4048738248391888
         ]
        },
        {
         "marker": {
          "color": "bisque",
          "size": 5
         },
         "mode": "markers",
         "name": "MAFEQI",
         "type": "scatter",
         "x": [
          -0.3413779746446599
         ],
         "y": [
          -0.3939345739886538
         ]
        },
        {
         "marker": {
          "color": "purple",
          "size": 25,
          "symbol": "square"
         },
         "mode": "markers",
         "name": "VNI",
         "type": "scatter",
         "x": [
          -0.3649720963039066
         ],
         "y": [
          -0.4034293489993919
         ]
        },
        {
         "marker": {
          "color": "blue",
          "size": 30
         },
         "mode": "markers",
         "name": "HIEP.NS",
         "type": "scatter",
         "x": [
          0.147
         ],
         "y": [
          -0.06
         ]
        },
        {
         "marker": {
          "color": "green",
          "size": 30
         },
         "mode": "markers",
         "name": "NAM.TH.CS",
         "type": "scatter",
         "x": [
          -0.0824
         ],
         "y": [
          -0.1153
         ]
        },
        {
         "marker": {
          "color": "red",
          "size": 30
         },
         "mode": "markers",
         "name": "NAM.TH.PS",
         "type": "scatter",
         "x": [
          -0.1537
         ],
         "y": [
          -0.2
         ]
        },
        {
         "marker": {
          "color": "orange",
          "size": 30
         },
         "mode": "markers",
         "name": "MANDATE VND",
         "type": "scatter",
         "x": [
          0.15
         ],
         "y": [
          -0.18
         ]
        }
       ],
       "layout": {
        "template": {
         "data": {
          "bar": [
           {
            "error_x": {
             "color": "#2a3f5f"
            },
            "error_y": {
             "color": "#2a3f5f"
            },
            "marker": {
             "line": {
              "color": "white",
              "width": 0.5
             },
             "pattern": {
              "fillmode": "overlay",
              "size": 10,
              "solidity": 0.2
             }
            },
            "type": "bar"
           }
          ],
          "barpolar": [
           {
            "marker": {
             "line": {
              "color": "white",
              "width": 0.5
             },
             "pattern": {
              "fillmode": "overlay",
              "size": 10,
              "solidity": 0.2
             }
            },
            "type": "barpolar"
           }
          ],
          "carpet": [
           {
            "aaxis": {
             "endlinecolor": "#2a3f5f",
             "gridcolor": "#C8D4E3",
             "linecolor": "#C8D4E3",
             "minorgridcolor": "#C8D4E3",
             "startlinecolor": "#2a3f5f"
            },
            "baxis": {
             "endlinecolor": "#2a3f5f",
             "gridcolor": "#C8D4E3",
             "linecolor": "#C8D4E3",
             "minorgridcolor": "#C8D4E3",
             "startlinecolor": "#2a3f5f"
            },
            "type": "carpet"
           }
          ],
          "choropleth": [
           {
            "colorbar": {
             "outlinewidth": 0,
             "ticks": ""
            },
            "type": "choropleth"
           }
          ],
          "contour": [
           {
            "colorbar": {
             "outlinewidth": 0,
             "ticks": ""
            },
            "colorscale": [
             [
              0,
              "#0d0887"
             ],
             [
              0.1111111111111111,
              "#46039f"
             ],
             [
              0.2222222222222222,
              "#7201a8"
             ],
             [
              0.3333333333333333,
              "#9c179e"
             ],
             [
              0.4444444444444444,
              "#bd3786"
             ],
             [
              0.5555555555555556,
              "#d8576b"
             ],
             [
              0.6666666666666666,
              "#ed7953"
             ],
             [
              0.7777777777777778,
              "#fb9f3a"
             ],
             [
              0.8888888888888888,
              "#fdca26"
             ],
             [
              1,
              "#f0f921"
             ]
            ],
            "type": "contour"
           }
          ],
          "contourcarpet": [
           {
            "colorbar": {
             "outlinewidth": 0,
             "ticks": ""
            },
            "type": "contourcarpet"
           }
          ],
          "heatmap": [
           {
            "colorbar": {
             "outlinewidth": 0,
             "ticks": ""
            },
            "colorscale": [
             [
              0,
              "#0d0887"
             ],
             [
              0.1111111111111111,
              "#46039f"
             ],
             [
              0.2222222222222222,
              "#7201a8"
             ],
             [
              0.3333333333333333,
              "#9c179e"
             ],
             [
              0.4444444444444444,
              "#bd3786"
             ],
             [
              0.5555555555555556,
              "#d8576b"
             ],
             [
              0.6666666666666666,
              "#ed7953"
             ],
             [
              0.7777777777777778,
              "#fb9f3a"
             ],
             [
              0.8888888888888888,
              "#fdca26"
             ],
             [
              1,
              "#f0f921"
             ]
            ],
            "type": "heatmap"
           }
          ],
          "heatmapgl": [
           {
            "colorbar": {
             "outlinewidth": 0,
             "ticks": ""
            },
            "colorscale": [
             [
              0,
              "#0d0887"
             ],
             [
              0.1111111111111111,
              "#46039f"
             ],
             [
              0.2222222222222222,
              "#7201a8"
             ],
             [
              0.3333333333333333,
              "#9c179e"
             ],
             [
              0.4444444444444444,
              "#bd3786"
             ],
             [
              0.5555555555555556,
              "#d8576b"
             ],
             [
              0.6666666666666666,
              "#ed7953"
             ],
             [
              0.7777777777777778,
              "#fb9f3a"
             ],
             [
              0.8888888888888888,
              "#fdca26"
             ],
             [
              1,
              "#f0f921"
             ]
            ],
            "type": "heatmapgl"
           }
          ],
          "histogram": [
           {
            "marker": {
             "pattern": {
              "fillmode": "overlay",
              "size": 10,
              "solidity": 0.2
             }
            },
            "type": "histogram"
           }
          ],
          "histogram2d": [
           {
            "colorbar": {
             "outlinewidth": 0,
             "ticks": ""
            },
            "colorscale": [
             [
              0,
              "#0d0887"
             ],
             [
              0.1111111111111111,
              "#46039f"
             ],
             [
              0.2222222222222222,
              "#7201a8"
             ],
             [
              0.3333333333333333,
              "#9c179e"
             ],
             [
              0.4444444444444444,
              "#bd3786"
             ],
             [
              0.5555555555555556,
              "#d8576b"
             ],
             [
              0.6666666666666666,
              "#ed7953"
             ],
             [
              0.7777777777777778,
              "#fb9f3a"
             ],
             [
              0.8888888888888888,
              "#fdca26"
             ],
             [
              1,
              "#f0f921"
             ]
            ],
            "type": "histogram2d"
           }
          ],
          "histogram2dcontour": [
           {
            "colorbar": {
             "outlinewidth": 0,
             "ticks": ""
            },
            "colorscale": [
             [
              0,
              "#0d0887"
             ],
             [
              0.1111111111111111,
              "#46039f"
             ],
             [
              0.2222222222222222,
              "#7201a8"
             ],
             [
              0.3333333333333333,
              "#9c179e"
             ],
             [
              0.4444444444444444,
              "#bd3786"
             ],
             [
              0.5555555555555556,
              "#d8576b"
             ],
             [
              0.6666666666666666,
              "#ed7953"
             ],
             [
              0.7777777777777778,
              "#fb9f3a"
             ],
             [
              0.8888888888888888,
              "#fdca26"
             ],
             [
              1,
              "#f0f921"
             ]
            ],
            "type": "histogram2dcontour"
           }
          ],
          "mesh3d": [
           {
            "colorbar": {
             "outlinewidth": 0,
             "ticks": ""
            },
            "type": "mesh3d"
           }
          ],
          "parcoords": [
           {
            "line": {
             "colorbar": {
              "outlinewidth": 0,
              "ticks": ""
             }
            },
            "type": "parcoords"
           }
          ],
          "pie": [
           {
            "automargin": true,
            "type": "pie"
           }
          ],
          "scatter": [
           {
            "fillpattern": {
             "fillmode": "overlay",
             "size": 10,
             "solidity": 0.2
            },
            "type": "scatter"
           }
          ],
          "scatter3d": [
           {
            "line": {
             "colorbar": {
              "outlinewidth": 0,
              "ticks": ""
             }
            },
            "marker": {
             "colorbar": {
              "outlinewidth": 0,
              "ticks": ""
             }
            },
            "type": "scatter3d"
           }
          ],
          "scattercarpet": [
           {
            "marker": {
             "colorbar": {
              "outlinewidth": 0,
              "ticks": ""
             }
            },
            "type": "scattercarpet"
           }
          ],
          "scattergeo": [
           {
            "marker": {
             "colorbar": {
              "outlinewidth": 0,
              "ticks": ""
             }
            },
            "type": "scattergeo"
           }
          ],
          "scattergl": [
           {
            "marker": {
             "colorbar": {
              "outlinewidth": 0,
              "ticks": ""
             }
            },
            "type": "scattergl"
           }
          ],
          "scattermapbox": [
           {
            "marker": {
             "colorbar": {
              "outlinewidth": 0,
              "ticks": ""
             }
            },
            "type": "scattermapbox"
           }
          ],
          "scatterpolar": [
           {
            "marker": {
             "colorbar": {
              "outlinewidth": 0,
              "ticks": ""
             }
            },
            "type": "scatterpolar"
           }
          ],
          "scatterpolargl": [
           {
            "marker": {
             "colorbar": {
              "outlinewidth": 0,
              "ticks": ""
             }
            },
            "type": "scatterpolargl"
           }
          ],
          "scatterternary": [
           {
            "marker": {
             "colorbar": {
              "outlinewidth": 0,
              "ticks": ""
             }
            },
            "type": "scatterternary"
           }
          ],
          "surface": [
           {
            "colorbar": {
             "outlinewidth": 0,
             "ticks": ""
            },
            "colorscale": [
             [
              0,
              "#0d0887"
             ],
             [
              0.1111111111111111,
              "#46039f"
             ],
             [
              0.2222222222222222,
              "#7201a8"
             ],
             [
              0.3333333333333333,
              "#9c179e"
             ],
             [
              0.4444444444444444,
              "#bd3786"
             ],
             [
              0.5555555555555556,
              "#d8576b"
             ],
             [
              0.6666666666666666,
              "#ed7953"
             ],
             [
              0.7777777777777778,
              "#fb9f3a"
             ],
             [
              0.8888888888888888,
              "#fdca26"
             ],
             [
              1,
              "#f0f921"
             ]
            ],
            "type": "surface"
           }
          ],
          "table": [
           {
            "cells": {
             "fill": {
              "color": "#EBF0F8"
             },
             "line": {
              "color": "white"
             }
            },
            "header": {
             "fill": {
              "color": "#C8D4E3"
             },
             "line": {
              "color": "white"
             }
            },
            "type": "table"
           }
          ]
         },
         "layout": {
          "annotationdefaults": {
           "arrowcolor": "#2a3f5f",
           "arrowhead": 0,
           "arrowwidth": 1
          },
          "autotypenumbers": "strict",
          "coloraxis": {
           "colorbar": {
            "outlinewidth": 0,
            "ticks": ""
           }
          },
          "colorscale": {
           "diverging": [
            [
             0,
             "#8e0152"
            ],
            [
             0.1,
             "#c51b7d"
            ],
            [
             0.2,
             "#de77ae"
            ],
            [
             0.3,
             "#f1b6da"
            ],
            [
             0.4,
             "#fde0ef"
            ],
            [
             0.5,
             "#f7f7f7"
            ],
            [
             0.6,
             "#e6f5d0"
            ],
            [
             0.7,
             "#b8e186"
            ],
            [
             0.8,
             "#7fbc41"
            ],
            [
             0.9,
             "#4d9221"
            ],
            [
             1,
             "#276419"
            ]
           ],
           "sequential": [
            [
             0,
             "#0d0887"
            ],
            [
             0.1111111111111111,
             "#46039f"
            ],
            [
             0.2222222222222222,
             "#7201a8"
            ],
            [
             0.3333333333333333,
             "#9c179e"
            ],
            [
             0.4444444444444444,
             "#bd3786"
            ],
            [
             0.5555555555555556,
             "#d8576b"
            ],
            [
             0.6666666666666666,
             "#ed7953"
            ],
            [
             0.7777777777777778,
             "#fb9f3a"
            ],
            [
             0.8888888888888888,
             "#fdca26"
            ],
            [
             1,
             "#f0f921"
            ]
           ],
           "sequentialminus": [
            [
             0,
             "#0d0887"
            ],
            [
             0.1111111111111111,
             "#46039f"
            ],
            [
             0.2222222222222222,
             "#7201a8"
            ],
            [
             0.3333333333333333,
             "#9c179e"
            ],
            [
             0.4444444444444444,
             "#bd3786"
            ],
            [
             0.5555555555555556,
             "#d8576b"
            ],
            [
             0.6666666666666666,
             "#ed7953"
            ],
            [
             0.7777777777777778,
             "#fb9f3a"
            ],
            [
             0.8888888888888888,
             "#fdca26"
            ],
            [
             1,
             "#f0f921"
            ]
           ]
          },
          "colorway": [
           "#636efa",
           "#EF553B",
           "#00cc96",
           "#ab63fa",
           "#FFA15A",
           "#19d3f3",
           "#FF6692",
           "#B6E880",
           "#FF97FF",
           "#FECB52"
          ],
          "font": {
           "color": "#2a3f5f"
          },
          "geo": {
           "bgcolor": "white",
           "lakecolor": "white",
           "landcolor": "white",
           "showlakes": true,
           "showland": true,
           "subunitcolor": "#C8D4E3"
          },
          "hoverlabel": {
           "align": "left"
          },
          "hovermode": "closest",
          "mapbox": {
           "style": "light"
          },
          "paper_bgcolor": "white",
          "plot_bgcolor": "white",
          "polar": {
           "angularaxis": {
            "gridcolor": "#EBF0F8",
            "linecolor": "#EBF0F8",
            "ticks": ""
           },
           "bgcolor": "white",
           "radialaxis": {
            "gridcolor": "#EBF0F8",
            "linecolor": "#EBF0F8",
            "ticks": ""
           }
          },
          "scene": {
           "xaxis": {
            "backgroundcolor": "white",
            "gridcolor": "#DFE8F3",
            "gridwidth": 2,
            "linecolor": "#EBF0F8",
            "showbackground": true,
            "ticks": "",
            "zerolinecolor": "#EBF0F8"
           },
           "yaxis": {
            "backgroundcolor": "white",
            "gridcolor": "#DFE8F3",
            "gridwidth": 2,
            "linecolor": "#EBF0F8",
            "showbackground": true,
            "ticks": "",
            "zerolinecolor": "#EBF0F8"
           },
           "zaxis": {
            "backgroundcolor": "white",
            "gridcolor": "#DFE8F3",
            "gridwidth": 2,
            "linecolor": "#EBF0F8",
            "showbackground": true,
            "ticks": "",
            "zerolinecolor": "#EBF0F8"
           }
          },
          "shapedefaults": {
           "line": {
            "color": "#2a3f5f"
           }
          },
          "ternary": {
           "aaxis": {
            "gridcolor": "#DFE8F3",
            "linecolor": "#A2B1C6",
            "ticks": ""
           },
           "baxis": {
            "gridcolor": "#DFE8F3",
            "linecolor": "#A2B1C6",
            "ticks": ""
           },
           "bgcolor": "white",
           "caxis": {
            "gridcolor": "#DFE8F3",
            "linecolor": "#A2B1C6",
            "ticks": ""
           }
          },
          "title": {
           "x": 0.05
          },
          "xaxis": {
           "automargin": true,
           "gridcolor": "#EBF0F8",
           "linecolor": "#EBF0F8",
           "ticks": "",
           "title": {
            "standoff": 15
           },
           "zerolinecolor": "#EBF0F8",
           "zerolinewidth": 2
          },
          "yaxis": {
           "automargin": true,
           "gridcolor": "#EBF0F8",
           "linecolor": "#EBF0F8",
           "ticks": "",
           "title": {
            "standoff": 15
           },
           "zerolinecolor": "#EBF0F8",
           "zerolinewidth": 2
          }
         }
        },
        "title": {
         "text": "Compare Annual Return / Max Drawdown 2022"
        },
        "xaxis": {
         "title": {
          "text": "Annual Return"
         }
        },
        "yaxis": {
         "title": {
          "text": "Max Drawdown"
         }
        }
       }
      },
      "text/html": [
       "<div>                            <div id=\"834ccfde-6c7c-4e4e-9bcd-dfff1482ec6e\" class=\"plotly-graph-div\" style=\"height:525px; width:100%;\"></div>            <script type=\"text/javascript\">                require([\"plotly\"], function(Plotly) {                    window.PLOTLYENV=window.PLOTLYENV || {};                                    if (document.getElementById(\"834ccfde-6c7c-4e4e-9bcd-dfff1482ec6e\")) {                    Plotly.newPlot(                        \"834ccfde-6c7c-4e4e-9bcd-dfff1482ec6e\",                        [{\"marker\":{\"color\":\"bisque\",\"size\":5},\"mode\":\"markers\",\"name\":\"VNM US Equity\",\"x\":[-0.5424163688958795],\"y\":[-0.493727983715978],\"type\":\"scatter\"},{\"marker\":{\"color\":\"bisque\",\"size\":5},\"mode\":\"markers\",\"name\":\"AFCVICI KY Equity\",\"x\":[-0.181516536592024],\"y\":[-0.2811702328131157],\"type\":\"scatter\"},{\"marker\":{\"color\":\"bisque\",\"size\":5},\"mode\":\"markers\",\"name\":\"LUMENUS LE Equity\",\"x\":[-0.2932823384124063],\"y\":[-0.4786091600394727],\"type\":\"scatter\"},{\"marker\":{\"color\":\"bisque\",\"size\":5},\"mode\":\"markers\",\"name\":\"XFVT GY Equity\",\"x\":[-0.4865879414497227],\"y\":[-0.4879869372521582],\"type\":\"scatter\"},{\"marker\":{\"color\":\"bisque\",\"size\":5},\"mode\":\"markers\",\"name\":\"GAVNBCU LX Equity\",\"x\":[-0.2538082258797391],\"y\":[-0.3833017657481516],\"type\":\"scatter\"},{\"marker\":{\"color\":\"bisque\",\"size\":5},\"mode\":\"markers\",\"name\":\"LCVIETU SP Equity\",\"x\":[-0.3469538143156679],\"y\":[-0.4301675977653632],\"type\":\"scatter\"},{\"marker\":{\"color\":\"bisque\",\"size\":5},\"mode\":\"markers\",\"name\":\"FOVCPVA LX Equity\",\"x\":[-0.2347135466427369],\"y\":[-0.3871794871794869],\"type\":\"scatter\"},{\"marker\":{\"color\":\"bisque\",\"size\":5},\"mode\":\"markers\",\"name\":\"GAVTNIU LX Equity\",\"x\":[-0.2538155116340076],\"y\":[-0.3809723386420787],\"type\":\"scatter\"},{\"marker\":{\"color\":\"bisque\",\"size\":5},\"mode\":\"markers\",\"name\":\"AFCVIET KY Equity\",\"x\":[-0.1878225079404723],\"y\":[-0.2832661478827902],\"type\":\"scatter\"},{\"marker\":{\"color\":\"bisque\",\"size\":5},\"mode\":\"markers\",\"name\":\"VIETNAM ID Equity\",\"x\":[-0.4270765672571977],\"y\":[-0.4968184043073907],\"type\":\"scatter\"},{\"marker\":{\"color\":\"bisque\",\"size\":5},\"mode\":\"markers\",\"name\":\"E1VFVN30 VN Equity\",\"x\":[-0.3591452043568065],\"y\":[-0.4220532319391637],\"type\":\"scatter\"},{\"marker\":{\"color\":\"bisque\",\"size\":5},\"mode\":\"markers\",\"name\":\"XVTD LN Equity\",\"x\":[-0.5369879875605623],\"y\":[-0.5328324413338824],\"type\":\"scatter\"},{\"marker\":{\"color\":\"bisque\",\"size\":5},\"mode\":\"markers\",\"name\":\"KVIETNE TB Equity\",\"x\":[-0.2981106792032989],\"y\":[-0.3790369860569452],\"type\":\"scatter\"},{\"marker\":{\"color\":\"bisque\",\"size\":5},\"mode\":\"markers\",\"name\":\"00885 TT Equity\",\"x\":[-0.4361699468472945],\"y\":[-0.4469026548672554],\"type\":\"scatter\"},{\"marker\":{\"color\":\"bisque\",\"size\":5},\"mode\":\"markers\",\"name\":\"3087 HK Equity\",\"x\":[-0.5421880217338908],\"y\":[-0.5097035040431261],\"type\":\"scatter\"},{\"marker\":{\"color\":\"bisque\",\"size\":5},\"mode\":\"markers\",\"name\":\"SSICOAD VN Equity\",\"x\":[-0.2600108233955598],\"y\":[-0.4474815607555027],\"type\":\"scatter\"},{\"marker\":{\"color\":\"bisque\",\"size\":5},\"mode\":\"markers\",\"name\":\"XFVT GR Equity\",\"x\":[-0.4787253917501415],\"y\":[-0.4927281257330514],\"type\":\"scatter\"},{\"marker\":{\"color\":\"bisque\",\"size\":5},\"mode\":\"markers\",\"name\":\"GAVT SW Equity\",\"x\":[-0.2588811995797558],\"y\":[-0.4084914763589583],\"type\":\"scatter\"},{\"marker\":{\"color\":\"bisque\",\"size\":5},\"mode\":\"markers\",\"name\":\"LCVIETS SP Equity\",\"x\":[-0.352878699151128],\"y\":[-0.4256368118323751],\"type\":\"scatter\"},{\"marker\":{\"color\":\"bisque\",\"size\":5},\"mode\":\"markers\",\"name\":\"LUMENCH LE Equity\",\"x\":[-0.3488783974357492],\"y\":[-0.5034185160277967],\"type\":\"scatter\"},{\"marker\":{\"color\":\"bisque\",\"size\":5},\"mode\":\"markers\",\"name\":\"VNAM US Equity\",\"x\":[-0.5383059027384328],\"y\":[-0.5284208969571488],\"type\":\"scatter\"},{\"marker\":{\"color\":\"bisque\",\"size\":5},\"mode\":\"markers\",\"name\":\"VTNPHXA KY Equity\",\"x\":[-0.2884964116962407],\"y\":[-0.3333900902434873],\"type\":\"scatter\"},{\"marker\":{\"color\":\"bisque\",\"size\":5},\"mode\":\"markers\",\"name\":\"FUESSVFL VN Equity\",\"x\":[-0.3584394168513428],\"y\":[-0.5317991631799167],\"type\":\"scatter\"},{\"marker\":{\"color\":\"bisque\",\"size\":5},\"mode\":\"markers\",\"name\":\"CPVNEQA TB Equity\",\"x\":[-0.3455584278658314],\"y\":[-0.4299888160003137],\"type\":\"scatter\"},{\"marker\":{\"color\":\"bisque\",\"size\":5},\"mode\":\"markers\",\"name\":\"KIMVGIU LX Equity\",\"x\":[-0.3076837624684886],\"y\":[-0.4488592591645987],\"type\":\"scatter\"},{\"marker\":{\"color\":\"bisque\",\"size\":5},\"mode\":\"markers\",\"name\":\"VIETEUR ID Equity\",\"x\":[-0.3628181439228889],\"y\":[-0.4656113824957699],\"type\":\"scatter\"},{\"marker\":{\"color\":\"bisque\",\"size\":5},\"mode\":\"markers\",\"name\":\"9A311108 JP Equity\",\"x\":[-0.1990686993587514],\"y\":[-0.3764745159136439],\"type\":\"scatter\"},{\"marker\":{\"color\":\"bisque\",\"size\":5},\"mode\":\"markers\",\"name\":\"LUMCHFI LE Equity\",\"x\":[-0.345689822512229],\"y\":[-0.5022207778138881],\"type\":\"scatter\"},{\"marker\":{\"color\":\"bisque\",\"size\":5},\"mode\":\"markers\",\"name\":\"LUMENEI LE Equity\",\"x\":[-0.3298504603742581],\"y\":[-0.4948354729231222],\"type\":\"scatter\"},{\"marker\":{\"color\":\"bisque\",\"size\":5},\"mode\":\"markers\",\"name\":\"CTBCVET TT Equity\",\"x\":[-0.2834362919194595],\"y\":[-0.4318046456223946],\"type\":\"scatter\"},{\"marker\":{\"color\":\"bisque\",\"size\":5},\"mode\":\"markers\",\"name\":\"XFVT GT Equity\",\"x\":[-0.4865879414497227],\"y\":[-0.4879869372521582],\"type\":\"scatter\"},{\"marker\":{\"color\":\"bisque\",\"size\":5},\"mode\":\"markers\",\"name\":\"XFVT SP Equity\",\"x\":[-0.5496697648690945],\"y\":[-0.5322245322245326],\"type\":\"scatter\"},{\"marker\":{\"color\":\"bisque\",\"size\":5},\"mode\":\"markers\",\"name\":\"TCMVN NA Equity\",\"x\":[-0.3470765193041412],\"y\":[-0.4828833843584746],\"type\":\"scatter\"},{\"marker\":{\"color\":\"bisque\",\"size\":5},\"mode\":\"markers\",\"name\":\"2804 HK Equity\",\"x\":[-0.5344387438732053],\"y\":[-0.5016332244517034],\"type\":\"scatter\"},{\"marker\":{\"color\":\"bisque\",\"size\":5},\"mode\":\"markers\",\"name\":\"VCVOF US Equity\",\"x\":[-0.1588573635495434],\"y\":[-0.3499940266411803],\"type\":\"scatter\"},{\"marker\":{\"color\":\"bisque\",\"size\":5},\"mode\":\"markers\",\"name\":\"FUESSV50 VN Equity\",\"x\":[-0.3711380545280292],\"y\":[-0.535246939636978],\"type\":\"scatter\"},{\"marker\":{\"color\":\"bisque\",\"size\":5},\"mode\":\"markers\",\"name\":\"THVMEFA CH Equity\",\"x\":[-0.2940187966352296],\"y\":[-0.4119127516778522],\"type\":\"scatter\"},{\"marker\":{\"color\":\"bisque\",\"size\":5},\"mode\":\"markers\",\"name\":\"AB311171 JP Equity\",\"x\":[-0.2550192323520678],\"y\":[-0.4391891891891889],\"type\":\"scatter\"},{\"marker\":{\"color\":\"bisque\",\"size\":5},\"mode\":\"markers\",\"name\":\"IOFVTEQ LX Equity\",\"x\":[-0.2661789218209504],\"y\":[-0.3779827907389336],\"type\":\"scatter\"},{\"marker\":{\"color\":\"bisque\",\"size\":5},\"mode\":\"markers\",\"name\":\"SGVIEOP HK Equity\",\"x\":[-0.308470548906264],\"y\":[-0.4120282295182569],\"type\":\"scatter\"},{\"marker\":{\"color\":\"bisque\",\"size\":5},\"mode\":\"markers\",\"name\":\"VFMVF1 VN Equity\",\"x\":[-0.3846114052290869],\"y\":[-0.4136007970573292],\"type\":\"scatter\"},{\"marker\":{\"color\":\"bisque\",\"size\":5},\"mode\":\"markers\",\"name\":\"FOVIEDE LX Equity\",\"x\":[-0.183016587383293],\"y\":[-0.3600849256900208],\"type\":\"scatter\"},{\"marker\":{\"color\":\"bisque\",\"size\":5},\"mode\":\"markers\",\"name\":\"GAVT SE Equity\",\"x\":[-0.2588811995797558],\"y\":[-0.4084914763589583],\"type\":\"scatter\"},{\"marker\":{\"color\":\"bisque\",\"size\":5},\"mode\":\"markers\",\"name\":\"GELIONV SP Equity\",\"x\":[-0.3537087618078924],\"y\":[-0.4252559726962458],\"type\":\"scatter\"},{\"marker\":{\"color\":\"bisque\",\"size\":5},\"mode\":\"markers\",\"name\":\"YDVNLDR KY Equity\",\"x\":[-0.3969606950365535],\"y\":[-0.432660453782066],\"type\":\"scatter\"},{\"marker\":{\"color\":\"bisque\",\"size\":5},\"mode\":\"markers\",\"name\":\"0431216C JP Equity\",\"x\":[-0.1128243791852999],\"y\":[-0.3274057352419996],\"type\":\"scatter\"},{\"marker\":{\"color\":\"bisque\",\"size\":5},\"mode\":\"markers\",\"name\":\"VFMVFA VN Equity\",\"x\":[0.0],\"y\":[0.0],\"type\":\"scatter\"},{\"marker\":{\"color\":\"bisque\",\"size\":5},\"mode\":\"markers\",\"name\":\"SSIVLGF VN Equity\",\"x\":[-0.1535565922587026],\"y\":[-0.3263486567357061],\"type\":\"scatter\"},{\"marker\":{\"color\":\"maroon\",\"size\":15,\"symbol\":\"diamond\"},\"mode\":\"markers\",\"name\":\"HLGVIET MK Equity\",\"x\":[0.0],\"y\":[0.0],\"type\":\"scatter\"},{\"marker\":{\"color\":\"bisque\",\"size\":5},\"mode\":\"markers\",\"name\":\"HAVNEAF IT Equity\",\"x\":[0.0],\"y\":[0.0],\"type\":\"scatter\"},{\"marker\":{\"color\":\"bisque\",\"size\":5},\"mode\":\"markers\",\"name\":\"49311186 JP Equity\",\"x\":[-0.1132685360014859],\"y\":[-0.3351828756397223],\"type\":\"scatter\"},{\"marker\":{\"color\":\"bisque\",\"size\":5},\"mode\":\"markers\",\"name\":\"ASPVIET TB Equity\",\"x\":[-0.488105678338448],\"y\":[-0.4979593984171245],\"type\":\"scatter\"},{\"marker\":{\"color\":\"bisque\",\"size\":5},\"mode\":\"markers\",\"name\":\"1AR0081 KS Equity\",\"x\":[-0.2764638030478238],\"y\":[-0.3632607310050772],\"type\":\"scatter\"},{\"marker\":{\"color\":\"bisque\",\"size\":5},\"mode\":\"markers\",\"name\":\"HLVIETS MK Equity\",\"x\":[0.0],\"y\":[0.0],\"type\":\"scatter\"},{\"marker\":{\"color\":\"bisque\",\"size\":5},\"mode\":\"markers\",\"name\":\"47311156 JP Equity\",\"x\":[-0.1866357758968744],\"y\":[-0.3535127411288403],\"type\":\"scatter\"},{\"marker\":{\"color\":\"bisque\",\"size\":5},\"mode\":\"markers\",\"name\":\"ASPVRMF TB Equity\",\"x\":[-0.4942339477290868],\"y\":[-0.4943606952443269],\"type\":\"scatter\"},{\"marker\":{\"color\":\"bisque\",\"size\":5},\"mode\":\"markers\",\"name\":\"VCBFTBF VN Equity\",\"x\":[-0.1052533526537057],\"y\":[-0.2301169574110489],\"type\":\"scatter\"},{\"marker\":{\"color\":\"bisque\",\"size\":5},\"mode\":\"markers\",\"name\":\"VCBFMGF VN Equity\",\"x\":[-0.1938577852884367],\"y\":[-0.3697212696476264],\"type\":\"scatter\"},{\"marker\":{\"color\":\"bisque\",\"size\":5},\"mode\":\"markers\",\"name\":\"VG6 GR Equity\",\"x\":[0.0],\"y\":[0.0],\"type\":\"scatter\"},{\"marker\":{\"color\":\"maroon\",\"size\":15,\"symbol\":\"diamond\"},\"mode\":\"markers\",\"name\":\"VNF LN Equity\",\"x\":[0.0],\"y\":[0.0],\"type\":\"scatter\"},{\"marker\":{\"color\":\"maroon\",\"size\":15,\"symbol\":\"diamond\"},\"mode\":\"markers\",\"name\":\"FUCTVGF3 VN Equity\",\"x\":[0.3535666459895425],\"y\":[-0.1666666666666668],\"type\":\"scatter\"},{\"marker\":{\"color\":\"bisque\",\"size\":5},\"mode\":\"markers\",\"name\":\"FUESSV30 VN Equity\",\"x\":[-0.3557850519373297],\"y\":[-0.4345794392523371],\"type\":\"scatter\"},{\"marker\":{\"color\":\"bisque\",\"size\":5},\"mode\":\"markers\",\"name\":\"SSISCA\",\"x\":[-0.2592941438209085],\"y\":[-0.4474815607555027],\"type\":\"scatter\"},{\"marker\":{\"color\":\"bisque\",\"size\":5},\"mode\":\"markers\",\"name\":\"BVPF\",\"x\":[-0.1337764823513799],\"y\":[-0.2258884651522692],\"type\":\"scatter\"},{\"marker\":{\"color\":\"bisque\",\"size\":5},\"mode\":\"markers\",\"name\":\"VESAF\",\"x\":[-0.2482883921771326],\"y\":[-0.3952867032691468],\"type\":\"scatter\"},{\"marker\":{\"color\":\"bisque\",\"size\":5},\"mode\":\"markers\",\"name\":\"VCBF-BCF\",\"x\":[-0.1531594038154685],\"y\":[-0.3241773864493208],\"type\":\"scatter\"},{\"marker\":{\"color\":\"bisque\",\"size\":5},\"mode\":\"markers\",\"name\":\"VEOF\",\"x\":[-0.2045778190555496],\"y\":[-0.3820458388043897],\"type\":\"scatter\"},{\"marker\":{\"color\":\"bisque\",\"size\":5},\"mode\":\"markers\",\"name\":\"MBVF\",\"x\":[-0.1745650587306456],\"y\":[-0.3006552809452558],\"type\":\"scatter\"},{\"marker\":{\"color\":\"bisque\",\"size\":5},\"mode\":\"markers\",\"name\":\"MAGEF\",\"x\":[-0.2537722347976686],\"y\":[-0.3424051002246667],\"type\":\"scatter\"},{\"marker\":{\"color\":\"bisque\",\"size\":5},\"mode\":\"markers\",\"name\":\"DCDS\",\"x\":[-0.4057175821597675],\"y\":[-0.4117571639531231],\"type\":\"scatter\"},{\"marker\":{\"color\":\"bisque\",\"size\":5},\"mode\":\"markers\",\"name\":\"VNDAF\",\"x\":[-0.2148294483406775],\"y\":[-0.3465199763718746],\"type\":\"scatter\"},{\"marker\":{\"color\":\"bisque\",\"size\":5},\"mode\":\"markers\",\"name\":\"DCDE\",\"x\":[-0.3726181439523027],\"y\":[-0.3911841195533921],\"type\":\"scatter\"},{\"marker\":{\"color\":\"bisque\",\"size\":5},\"mode\":\"markers\",\"name\":\"DCAF\",\"x\":[-0.2633165209538436],\"y\":[-0.3149560057916428],\"type\":\"scatter\"},{\"marker\":{\"color\":\"bisque\",\"size\":5},\"mode\":\"markers\",\"name\":\"BVFED\",\"x\":[-0.3108998603369775],\"y\":[-0.4048738248391888],\"type\":\"scatter\"},{\"marker\":{\"color\":\"bisque\",\"size\":5},\"mode\":\"markers\",\"name\":\"MAFEQI\",\"x\":[-0.3413779746446599],\"y\":[-0.3939345739886538],\"type\":\"scatter\"},{\"marker\":{\"color\":\"purple\",\"size\":25,\"symbol\":\"square\"},\"mode\":\"markers\",\"name\":\"VNI\",\"x\":[-0.3649720963039066],\"y\":[-0.4034293489993919],\"type\":\"scatter\"},{\"marker\":{\"color\":\"blue\",\"size\":30},\"mode\":\"markers\",\"name\":\"HIEP.NS\",\"x\":[0.147],\"y\":[-0.06],\"type\":\"scatter\"},{\"marker\":{\"color\":\"green\",\"size\":30},\"mode\":\"markers\",\"name\":\"NAM.TH.CS\",\"x\":[-0.0824],\"y\":[-0.1153],\"type\":\"scatter\"},{\"marker\":{\"color\":\"red\",\"size\":30},\"mode\":\"markers\",\"name\":\"NAM.TH.PS\",\"x\":[-0.1537],\"y\":[-0.2],\"type\":\"scatter\"},{\"marker\":{\"color\":\"orange\",\"size\":30},\"mode\":\"markers\",\"name\":\"MANDATE VND\",\"x\":[0.15],\"y\":[-0.18],\"type\":\"scatter\"}],                        {\"template\":{\"data\":{\"histogram2dcontour\":[{\"type\":\"histogram2dcontour\",\"colorbar\":{\"outlinewidth\":0,\"ticks\":\"\"},\"colorscale\":[[0.0,\"#0d0887\"],[0.1111111111111111,\"#46039f\"],[0.2222222222222222,\"#7201a8\"],[0.3333333333333333,\"#9c179e\"],[0.4444444444444444,\"#bd3786\"],[0.5555555555555556,\"#d8576b\"],[0.6666666666666666,\"#ed7953\"],[0.7777777777777778,\"#fb9f3a\"],[0.8888888888888888,\"#fdca26\"],[1.0,\"#f0f921\"]]}],\"choropleth\":[{\"type\":\"choropleth\",\"colorbar\":{\"outlinewidth\":0,\"ticks\":\"\"}}],\"histogram2d\":[{\"type\":\"histogram2d\",\"colorbar\":{\"outlinewidth\":0,\"ticks\":\"\"},\"colorscale\":[[0.0,\"#0d0887\"],[0.1111111111111111,\"#46039f\"],[0.2222222222222222,\"#7201a8\"],[0.3333333333333333,\"#9c179e\"],[0.4444444444444444,\"#bd3786\"],[0.5555555555555556,\"#d8576b\"],[0.6666666666666666,\"#ed7953\"],[0.7777777777777778,\"#fb9f3a\"],[0.8888888888888888,\"#fdca26\"],[1.0,\"#f0f921\"]]}],\"heatmap\":[{\"type\":\"heatmap\",\"colorbar\":{\"outlinewidth\":0,\"ticks\":\"\"},\"colorscale\":[[0.0,\"#0d0887\"],[0.1111111111111111,\"#46039f\"],[0.2222222222222222,\"#7201a8\"],[0.3333333333333333,\"#9c179e\"],[0.4444444444444444,\"#bd3786\"],[0.5555555555555556,\"#d8576b\"],[0.6666666666666666,\"#ed7953\"],[0.7777777777777778,\"#fb9f3a\"],[0.8888888888888888,\"#fdca26\"],[1.0,\"#f0f921\"]]}],\"heatmapgl\":[{\"type\":\"heatmapgl\",\"colorbar\":{\"outlinewidth\":0,\"ticks\":\"\"},\"colorscale\":[[0.0,\"#0d0887\"],[0.1111111111111111,\"#46039f\"],[0.2222222222222222,\"#7201a8\"],[0.3333333333333333,\"#9c179e\"],[0.4444444444444444,\"#bd3786\"],[0.5555555555555556,\"#d8576b\"],[0.6666666666666666,\"#ed7953\"],[0.7777777777777778,\"#fb9f3a\"],[0.8888888888888888,\"#fdca26\"],[1.0,\"#f0f921\"]]}],\"contourcarpet\":[{\"type\":\"contourcarpet\",\"colorbar\":{\"outlinewidth\":0,\"ticks\":\"\"}}],\"contour\":[{\"type\":\"contour\",\"colorbar\":{\"outlinewidth\":0,\"ticks\":\"\"},\"colorscale\":[[0.0,\"#0d0887\"],[0.1111111111111111,\"#46039f\"],[0.2222222222222222,\"#7201a8\"],[0.3333333333333333,\"#9c179e\"],[0.4444444444444444,\"#bd3786\"],[0.5555555555555556,\"#d8576b\"],[0.6666666666666666,\"#ed7953\"],[0.7777777777777778,\"#fb9f3a\"],[0.8888888888888888,\"#fdca26\"],[1.0,\"#f0f921\"]]}],\"surface\":[{\"type\":\"surface\",\"colorbar\":{\"outlinewidth\":0,\"ticks\":\"\"},\"colorscale\":[[0.0,\"#0d0887\"],[0.1111111111111111,\"#46039f\"],[0.2222222222222222,\"#7201a8\"],[0.3333333333333333,\"#9c179e\"],[0.4444444444444444,\"#bd3786\"],[0.5555555555555556,\"#d8576b\"],[0.6666666666666666,\"#ed7953\"],[0.7777777777777778,\"#fb9f3a\"],[0.8888888888888888,\"#fdca26\"],[1.0,\"#f0f921\"]]}],\"mesh3d\":[{\"type\":\"mesh3d\",\"colorbar\":{\"outlinewidth\":0,\"ticks\":\"\"}}],\"scatter\":[{\"fillpattern\":{\"fillmode\":\"overlay\",\"size\":10,\"solidity\":0.2},\"type\":\"scatter\"}],\"parcoords\":[{\"type\":\"parcoords\",\"line\":{\"colorbar\":{\"outlinewidth\":0,\"ticks\":\"\"}}}],\"scatterpolargl\":[{\"type\":\"scatterpolargl\",\"marker\":{\"colorbar\":{\"outlinewidth\":0,\"ticks\":\"\"}}}],\"bar\":[{\"error_x\":{\"color\":\"#2a3f5f\"},\"error_y\":{\"color\":\"#2a3f5f\"},\"marker\":{\"line\":{\"color\":\"white\",\"width\":0.5},\"pattern\":{\"fillmode\":\"overlay\",\"size\":10,\"solidity\":0.2}},\"type\":\"bar\"}],\"scattergeo\":[{\"type\":\"scattergeo\",\"marker\":{\"colorbar\":{\"outlinewidth\":0,\"ticks\":\"\"}}}],\"scatterpolar\":[{\"type\":\"scatterpolar\",\"marker\":{\"colorbar\":{\"outlinewidth\":0,\"ticks\":\"\"}}}],\"histogram\":[{\"marker\":{\"pattern\":{\"fillmode\":\"overlay\",\"size\":10,\"solidity\":0.2}},\"type\":\"histogram\"}],\"scattergl\":[{\"type\":\"scattergl\",\"marker\":{\"colorbar\":{\"outlinewidth\":0,\"ticks\":\"\"}}}],\"scatter3d\":[{\"type\":\"scatter3d\",\"line\":{\"colorbar\":{\"outlinewidth\":0,\"ticks\":\"\"}},\"marker\":{\"colorbar\":{\"outlinewidth\":0,\"ticks\":\"\"}}}],\"scattermapbox\":[{\"type\":\"scattermapbox\",\"marker\":{\"colorbar\":{\"outlinewidth\":0,\"ticks\":\"\"}}}],\"scatterternary\":[{\"type\":\"scatterternary\",\"marker\":{\"colorbar\":{\"outlinewidth\":0,\"ticks\":\"\"}}}],\"scattercarpet\":[{\"type\":\"scattercarpet\",\"marker\":{\"colorbar\":{\"outlinewidth\":0,\"ticks\":\"\"}}}],\"carpet\":[{\"aaxis\":{\"endlinecolor\":\"#2a3f5f\",\"gridcolor\":\"#C8D4E3\",\"linecolor\":\"#C8D4E3\",\"minorgridcolor\":\"#C8D4E3\",\"startlinecolor\":\"#2a3f5f\"},\"baxis\":{\"endlinecolor\":\"#2a3f5f\",\"gridcolor\":\"#C8D4E3\",\"linecolor\":\"#C8D4E3\",\"minorgridcolor\":\"#C8D4E3\",\"startlinecolor\":\"#2a3f5f\"},\"type\":\"carpet\"}],\"table\":[{\"cells\":{\"fill\":{\"color\":\"#EBF0F8\"},\"line\":{\"color\":\"white\"}},\"header\":{\"fill\":{\"color\":\"#C8D4E3\"},\"line\":{\"color\":\"white\"}},\"type\":\"table\"}],\"barpolar\":[{\"marker\":{\"line\":{\"color\":\"white\",\"width\":0.5},\"pattern\":{\"fillmode\":\"overlay\",\"size\":10,\"solidity\":0.2}},\"type\":\"barpolar\"}],\"pie\":[{\"automargin\":true,\"type\":\"pie\"}]},\"layout\":{\"autotypenumbers\":\"strict\",\"colorway\":[\"#636efa\",\"#EF553B\",\"#00cc96\",\"#ab63fa\",\"#FFA15A\",\"#19d3f3\",\"#FF6692\",\"#B6E880\",\"#FF97FF\",\"#FECB52\"],\"font\":{\"color\":\"#2a3f5f\"},\"hovermode\":\"closest\",\"hoverlabel\":{\"align\":\"left\"},\"paper_bgcolor\":\"white\",\"plot_bgcolor\":\"white\",\"polar\":{\"bgcolor\":\"white\",\"angularaxis\":{\"gridcolor\":\"#EBF0F8\",\"linecolor\":\"#EBF0F8\",\"ticks\":\"\"},\"radialaxis\":{\"gridcolor\":\"#EBF0F8\",\"linecolor\":\"#EBF0F8\",\"ticks\":\"\"}},\"ternary\":{\"bgcolor\":\"white\",\"aaxis\":{\"gridcolor\":\"#DFE8F3\",\"linecolor\":\"#A2B1C6\",\"ticks\":\"\"},\"baxis\":{\"gridcolor\":\"#DFE8F3\",\"linecolor\":\"#A2B1C6\",\"ticks\":\"\"},\"caxis\":{\"gridcolor\":\"#DFE8F3\",\"linecolor\":\"#A2B1C6\",\"ticks\":\"\"}},\"coloraxis\":{\"colorbar\":{\"outlinewidth\":0,\"ticks\":\"\"}},\"colorscale\":{\"sequential\":[[0.0,\"#0d0887\"],[0.1111111111111111,\"#46039f\"],[0.2222222222222222,\"#7201a8\"],[0.3333333333333333,\"#9c179e\"],[0.4444444444444444,\"#bd3786\"],[0.5555555555555556,\"#d8576b\"],[0.6666666666666666,\"#ed7953\"],[0.7777777777777778,\"#fb9f3a\"],[0.8888888888888888,\"#fdca26\"],[1.0,\"#f0f921\"]],\"sequentialminus\":[[0.0,\"#0d0887\"],[0.1111111111111111,\"#46039f\"],[0.2222222222222222,\"#7201a8\"],[0.3333333333333333,\"#9c179e\"],[0.4444444444444444,\"#bd3786\"],[0.5555555555555556,\"#d8576b\"],[0.6666666666666666,\"#ed7953\"],[0.7777777777777778,\"#fb9f3a\"],[0.8888888888888888,\"#fdca26\"],[1.0,\"#f0f921\"]],\"diverging\":[[0,\"#8e0152\"],[0.1,\"#c51b7d\"],[0.2,\"#de77ae\"],[0.3,\"#f1b6da\"],[0.4,\"#fde0ef\"],[0.5,\"#f7f7f7\"],[0.6,\"#e6f5d0\"],[0.7,\"#b8e186\"],[0.8,\"#7fbc41\"],[0.9,\"#4d9221\"],[1,\"#276419\"]]},\"xaxis\":{\"gridcolor\":\"#EBF0F8\",\"linecolor\":\"#EBF0F8\",\"ticks\":\"\",\"title\":{\"standoff\":15},\"zerolinecolor\":\"#EBF0F8\",\"automargin\":true,\"zerolinewidth\":2},\"yaxis\":{\"gridcolor\":\"#EBF0F8\",\"linecolor\":\"#EBF0F8\",\"ticks\":\"\",\"title\":{\"standoff\":15},\"zerolinecolor\":\"#EBF0F8\",\"automargin\":true,\"zerolinewidth\":2},\"scene\":{\"xaxis\":{\"backgroundcolor\":\"white\",\"gridcolor\":\"#DFE8F3\",\"linecolor\":\"#EBF0F8\",\"showbackground\":true,\"ticks\":\"\",\"zerolinecolor\":\"#EBF0F8\",\"gridwidth\":2},\"yaxis\":{\"backgroundcolor\":\"white\",\"gridcolor\":\"#DFE8F3\",\"linecolor\":\"#EBF0F8\",\"showbackground\":true,\"ticks\":\"\",\"zerolinecolor\":\"#EBF0F8\",\"gridwidth\":2},\"zaxis\":{\"backgroundcolor\":\"white\",\"gridcolor\":\"#DFE8F3\",\"linecolor\":\"#EBF0F8\",\"showbackground\":true,\"ticks\":\"\",\"zerolinecolor\":\"#EBF0F8\",\"gridwidth\":2}},\"shapedefaults\":{\"line\":{\"color\":\"#2a3f5f\"}},\"annotationdefaults\":{\"arrowcolor\":\"#2a3f5f\",\"arrowhead\":0,\"arrowwidth\":1},\"geo\":{\"bgcolor\":\"white\",\"landcolor\":\"white\",\"subunitcolor\":\"#C8D4E3\",\"showland\":true,\"showlakes\":true,\"lakecolor\":\"white\"},\"title\":{\"x\":0.05},\"mapbox\":{\"style\":\"light\"}}},\"title\":{\"text\":\"Compare Annual Return / Max Drawdown 2022\"},\"xaxis\":{\"title\":{\"text\":\"Annual Return\"}},\"yaxis\":{\"title\":{\"text\":\"Max Drawdown\"}}},                        {\"responsive\": true}                    ).then(function(){\n",
       "                            \n",
       "var gd = document.getElementById('834ccfde-6c7c-4e4e-9bcd-dfff1482ec6e');\n",
       "var x = new MutationObserver(function (mutations, observer) {{\n",
       "        var display = window.getComputedStyle(gd).display;\n",
       "        if (!display || display === 'none') {{\n",
       "            console.log([gd, 'removed!']);\n",
       "            Plotly.purge(gd);\n",
       "            observer.disconnect();\n",
       "        }}\n",
       "}});\n",
       "\n",
       "// Listen for the removal of the full notebook cells\n",
       "var notebookContainer = gd.closest('#notebook-container');\n",
       "if (notebookContainer) {{\n",
       "    x.observe(notebookContainer, {childList: true});\n",
       "}}\n",
       "\n",
       "// Listen for the clearing of the current output cell\n",
       "var outputEl = gd.closest('.output');\n",
       "if (outputEl) {{\n",
       "    x.observe(outputEl, {childList: true});\n",
       "}}\n",
       "\n",
       "                        })                };                });            </script>        </div>"
      ]
     },
     "metadata": {},
     "output_type": "display_data"
    },
    {
     "data": {
      "application/vnd.plotly.v1+json": {
       "config": {
        "plotlyServerURL": "https://plot.ly"
       },
       "data": [
        {
         "marker": {
          "color": "bisque",
          "size": 5
         },
         "mode": "markers",
         "name": "VNM US Equity",
         "type": "scatter",
         "x": [
          0.1289172145199973
         ],
         "y": [
          -0.2594478167221455
         ]
        },
        {
         "marker": {
          "color": "bisque",
          "size": 5
         },
         "mode": "markers",
         "name": "AFCVICI KY Equity",
         "type": "scatter",
         "x": [
          0.1033537957309132
         ],
         "y": [
          -0.1383253704602292
         ]
        },
        {
         "marker": {
          "color": "bisque",
          "size": 5
         },
         "mode": "markers",
         "name": "LUMENUS LE Equity",
         "type": "scatter",
         "x": [
          0.1605209004633386
         ],
         "y": [
          -0.1602410463603376
         ]
        },
        {
         "marker": {
          "color": "bisque",
          "size": 5
         },
         "mode": "markers",
         "name": "XFVT GY Equity",
         "type": "scatter",
         "x": [
          -0.01583366176266774
         ],
         "y": [
          -0.2356020942408375
         ]
        },
        {
         "marker": {
          "color": "bisque",
          "size": 5
         },
         "mode": "markers",
         "name": "GAVNBCU LX Equity",
         "type": "scatter",
         "x": [
          0.1447841289769433
         ],
         "y": [
          -0.1473818918630692
         ]
        },
        {
         "marker": {
          "color": "bisque",
          "size": 5
         },
         "mode": "markers",
         "name": "LCVIETU SP Equity",
         "type": "scatter",
         "x": [
          0.06272001874088119
         ],
         "y": [
          -0.1869806094182823
         ]
        },
        {
         "marker": {
          "color": "bisque",
          "size": 5
         },
         "mode": "markers",
         "name": "FOVCPVA LX Equity",
         "type": "scatter",
         "x": [
          0.1244742198800651
         ],
         "y": [
          -0.176718684099536
         ]
        },
        {
         "marker": {
          "color": "bisque",
          "size": 5
         },
         "mode": "markers",
         "name": "GAVTNIU LX Equity",
         "type": "scatter",
         "x": [
          0.1448208050043415
         ],
         "y": [
          -0.1473314396770821
         ]
        },
        {
         "marker": {
          "color": "bisque",
          "size": 5
         },
         "mode": "markers",
         "name": "AFCVIET KY Equity",
         "type": "scatter",
         "x": [
          0.0983206880420086
         ],
         "y": [
          -0.1394029772036785
         ]
        },
        {
         "marker": {
          "color": "bisque",
          "size": 5
         },
         "mode": "markers",
         "name": "VIETNAM ID Equity",
         "type": "scatter",
         "x": [
          0.1136055138332734
         ],
         "y": [
          -0.1806833114323257
         ]
        },
        {
         "marker": {
          "color": "bisque",
          "size": 5
         },
         "mode": "markers",
         "name": "E1VFVN30 VN Equity",
         "type": "scatter",
         "x": [
          0.1081453197592322
         ],
         "y": [
          -0.1601652134006429
         ]
        },
        {
         "marker": {
          "color": "bisque",
          "size": 5
         },
         "mode": "markers",
         "name": "XVTD LN Equity",
         "type": "scatter",
         "x": [
          0.03241516948865911
         ],
         "y": [
          -0.2634425216316443
         ]
        },
        {
         "marker": {
          "color": "bisque",
          "size": 5
         },
         "mode": "markers",
         "name": "KVIETNE TB Equity",
         "type": "scatter",
         "x": [
          0.03775494418310835
         ],
         "y": [
          -0.1921840910431037
         ]
        },
        {
         "marker": {
          "color": "bisque",
          "size": 5
         },
         "mode": "markers",
         "name": "00885 TT Equity",
         "type": "scatter",
         "x": [
          0.06664935072756757
         ],
         "y": [
          -0.2124019957234501
         ]
        },
        {
         "marker": {
          "color": "bisque",
          "size": 5
         },
         "mode": "markers",
         "name": "3087 HK Equity",
         "type": "scatter",
         "x": [
          0.02444170258958418
         ],
         "y": [
          -0.2378269617706241
         ]
        },
        {
         "marker": {
          "color": "maroon",
          "size": 15,
          "symbol": "diamond"
         },
         "mode": "markers",
         "name": "SSICOAD VN Equity",
         "type": "scatter",
         "x": [
          0.295177384893178
         ],
         "y": [
          -0.2185294198349539
         ]
        },
        {
         "marker": {
          "color": "bisque",
          "size": 5
         },
         "mode": "markers",
         "name": "XFVT GR Equity",
         "type": "scatter",
         "x": [
          -0.02190644655265566
         ],
         "y": [
          -0.2408315024505663
         ]
        },
        {
         "marker": {
          "color": "bisque",
          "size": 5
         },
         "mode": "markers",
         "name": "GAVT SW Equity",
         "type": "scatter",
         "x": [
          0.1039648705512735
         ],
         "y": [
          -0.1799850634802092
         ]
        },
        {
         "marker": {
          "color": "bisque",
          "size": 5
         },
         "mode": "markers",
         "name": "LCVIETS SP Equity",
         "type": "scatter",
         "x": [
          0.04537937816891079
         ],
         "y": [
          -0.1837563451776645
         ]
        },
        {
         "marker": {
          "color": "bisque",
          "size": 5
         },
         "mode": "markers",
         "name": "LUMENCH LE Equity",
         "type": "scatter",
         "x": [
          0.1084818740983874
         ],
         "y": [
          -0.1709309048858056
         ]
        },
        {
         "marker": {
          "color": "bisque",
          "size": 5
         },
         "mode": "markers",
         "name": "VNAM US Equity",
         "type": "scatter",
         "x": [
          0.09417266036017066
         ],
         "y": [
          -0.247625136046155
         ]
        },
        {
         "marker": {
          "color": "bisque",
          "size": 5
         },
         "mode": "markers",
         "name": "VTNPHXA KY Equity",
         "type": "scatter",
         "x": [
          0.1552306583100333
         ],
         "y": [
          -0.1655368896748207
         ]
        },
        {
         "marker": {
          "color": "bisque",
          "size": 5
         },
         "mode": "markers",
         "name": "FUEKIV30 VN Equity",
         "type": "scatter",
         "x": [
          0.1267635812208182
         ],
         "y": [
          -0.1776710684273707
         ]
        },
        {
         "marker": {
          "color": "maroon",
          "size": 15,
          "symbol": "diamond"
         },
         "mode": "markers",
         "name": "FUESSVFL VN Equity",
         "type": "scatter",
         "x": [
          0.2620219709863116
         ],
         "y": [
          -0.1527290936404603
         ]
        },
        {
         "marker": {
          "color": "bisque",
          "size": 5
         },
         "mode": "markers",
         "name": "CPVNEQA TB Equity",
         "type": "scatter",
         "x": [
          0.09626906483045368
         ],
         "y": [
          -0.1709723605577688
         ]
        },
        {
         "marker": {
          "color": "bisque",
          "size": 5
         },
         "mode": "markers",
         "name": "KIMVGIU LX Equity",
         "type": "scatter",
         "x": [
          0.1758515497363114
         ],
         "y": [
          -0.1683359092170695
         ]
        },
        {
         "marker": {
          "color": "bisque",
          "size": 5
         },
         "mode": "markers",
         "name": "VIETEUR ID Equity",
         "type": "scatter",
         "x": [
          0.08072193970634964
         ],
         "y": [
          -0.1675899494965339
         ]
        },
        {
         "marker": {
          "color": "bisque",
          "size": 5
         },
         "mode": "markers",
         "name": "9A311108 JP Equity",
         "type": "scatter",
         "x": [
          0.174992558698334
         ],
         "y": [
          -0.1621685142387085
         ]
        },
        {
         "marker": {
          "color": "bisque",
          "size": 5
         },
         "mode": "markers",
         "name": "LUMCHFI LE Equity",
         "type": "scatter",
         "x": [
          0.1124373526472487
         ],
         "y": [
          -0.170524852276677
         ]
        },
        {
         "marker": {
          "color": "bisque",
          "size": 5
         },
         "mode": "markers",
         "name": "LUMENEI LE Equity",
         "type": "scatter",
         "x": [
          0.1406907829599701
         ],
         "y": [
          -0.1671863536316939
         ]
        },
        {
         "marker": {
          "color": "bisque",
          "size": 5
         },
         "mode": "markers",
         "name": "CTBCVET TT Equity",
         "type": "scatter",
         "x": [
          0.1151740939157176
         ],
         "y": [
          -0.1749128919860626
         ]
        },
        {
         "marker": {
          "color": "bisque",
          "size": 5
         },
         "mode": "markers",
         "name": "XFVT GT Equity",
         "type": "scatter",
         "x": [
          -0.01583366176266774
         ],
         "y": [
          -0.2356020942408375
         ]
        },
        {
         "marker": {
          "color": "bisque",
          "size": 5
         },
         "mode": "markers",
         "name": "XFVT SP Equity",
         "type": "scatter",
         "x": [
          0.03963777439888181
         ],
         "y": [
          -0.2589395807644888
         ]
        },
        {
         "marker": {
          "color": "bisque",
          "size": 5
         },
         "mode": "markers",
         "name": "TCMVN NA Equity",
         "type": "scatter",
         "x": [
          0.1875697461423153
         ],
         "y": [
          -0.203527815468114
         ]
        },
        {
         "marker": {
          "color": "bisque",
          "size": 5
         },
         "mode": "markers",
         "name": "2804 HK Equity",
         "type": "scatter",
         "x": [
          0.01971830573179774
         ],
         "y": [
          -0.2491563554555677
         ]
        },
        {
         "marker": {
          "color": "bisque",
          "size": 5
         },
         "mode": "markers",
         "name": "VCVOF US Equity",
         "type": "scatter",
         "x": [
          0.1047976000845732
         ],
         "y": [
          -0.1407070976934718
         ]
        },
        {
         "marker": {
          "color": "bisque",
          "size": 5
         },
         "mode": "markers",
         "name": "FUESSV50 VN Equity",
         "type": "scatter",
         "x": [
          0.2285241435640362
         ],
         "y": [
          -0.2142142142142141
         ]
        },
        {
         "marker": {
          "color": "bisque",
          "size": 5
         },
         "mode": "markers",
         "name": "THVMEFA CH Equity",
         "type": "scatter",
         "x": [
          0.1212761107823899
         ],
         "y": [
          -0.1901815736381974
         ]
        },
        {
         "marker": {
          "color": "bisque",
          "size": 5
         },
         "mode": "markers",
         "name": "AB311171 JP Equity",
         "type": "scatter",
         "x": [
          0.2421569228326936
         ],
         "y": [
          -0.1935986404192038
         ]
        },
        {
         "marker": {
          "color": "bisque",
          "size": 5
         },
         "mode": "markers",
         "name": "IOFVTEQ LX Equity",
         "type": "scatter",
         "x": [
          0.1074179462137859
         ],
         "y": [
          -0.2069999508430417
         ]
        },
        {
         "marker": {
          "color": "bisque",
          "size": 5
         },
         "mode": "markers",
         "name": "SGVIEOP HK Equity",
         "type": "scatter",
         "x": [
          0.06515424519710897
         ],
         "y": [
          -0.1948156851226324
         ]
        },
        {
         "marker": {
          "color": "bisque",
          "size": 5
         },
         "mode": "markers",
         "name": "VFMVF1 VN Equity",
         "type": "scatter",
         "x": [
          0.2339163828535861
         ],
         "y": [
          -0.1991037034790257
         ]
        },
        {
         "marker": {
          "color": "bisque",
          "size": 5
         },
         "mode": "markers",
         "name": "FOVIEDE LX Equity",
         "type": "scatter",
         "x": [
          0.08002296090949662
         ],
         "y": [
          -0.1686159844054584
         ]
        },
        {
         "marker": {
          "color": "bisque",
          "size": 5
         },
         "mode": "markers",
         "name": "GAVT SE Equity",
         "type": "scatter",
         "x": [
          0.1039648705512735
         ],
         "y": [
          -0.1799850634802092
         ]
        },
        {
         "marker": {
          "color": "bisque",
          "size": 5
         },
         "mode": "markers",
         "name": "GELIONV SP Equity",
         "type": "scatter",
         "x": [
          0.04497562033226414
         ],
         "y": [
          -0.1839662447257386
         ]
        },
        {
         "marker": {
          "color": "bisque",
          "size": 5
         },
         "mode": "markers",
         "name": "YDVNLDR KY Equity",
         "type": "scatter",
         "x": [
          0.1025225801290872
         ],
         "y": [
          -0.1619097449313273
         ]
        },
        {
         "marker": {
          "color": "bisque",
          "size": 5
         },
         "mode": "markers",
         "name": "0431216C JP Equity",
         "type": "scatter",
         "x": [
          0.204615828965644
         ],
         "y": [
          -0.1591065427400807
         ]
        },
        {
         "marker": {
          "color": "bisque",
          "size": 5
         },
         "mode": "markers",
         "name": "VFMVFA VN Equity",
         "type": "scatter",
         "x": [
          0
         ],
         "y": [
          0
         ]
        },
        {
         "marker": {
          "color": "bisque",
          "size": 5
         },
         "mode": "markers",
         "name": "SSIVLGF VN Equity",
         "type": "scatter",
         "x": [
          0.1226048688883808
         ],
         "y": [
          -0.1386601757429499
         ]
        },
        {
         "marker": {
          "color": "bisque",
          "size": 5
         },
         "mode": "markers",
         "name": "HLGVIET MK Equity",
         "type": "scatter",
         "x": [
          0
         ],
         "y": [
          0
         ]
        },
        {
         "marker": {
          "color": "bisque",
          "size": 5
         },
         "mode": "markers",
         "name": "HAVNEAF IT Equity",
         "type": "scatter",
         "x": [
          0
         ],
         "y": [
          0
         ]
        },
        {
         "marker": {
          "color": "bisque",
          "size": 5
         },
         "mode": "markers",
         "name": "49311186 JP Equity",
         "type": "scatter",
         "x": [
          0.2232673416884526
         ],
         "y": [
          -0.1548814748168412
         ]
        },
        {
         "marker": {
          "color": "bisque",
          "size": 5
         },
         "mode": "markers",
         "name": "ASPVIET TB Equity",
         "type": "scatter",
         "x": [
          0.07405939690776776
         ],
         "y": [
          -0.1836521958872526
         ]
        },
        {
         "marker": {
          "color": "bisque",
          "size": 5
         },
         "mode": "markers",
         "name": "1AR0081 KS Equity",
         "type": "scatter",
         "x": [
          0.1088980948122385
         ],
         "y": [
          -0.1845664298126708
         ]
        },
        {
         "marker": {
          "color": "bisque",
          "size": 5
         },
         "mode": "markers",
         "name": "HLVIETS MK Equity",
         "type": "scatter",
         "x": [
          0
         ],
         "y": [
          0
         ]
        },
        {
         "marker": {
          "color": "bisque",
          "size": 5
         },
         "mode": "markers",
         "name": "47311156 JP Equity",
         "type": "scatter",
         "x": [
          0.2100108792634483
         ],
         "y": [
          -0.1596211014259084
         ]
        },
        {
         "marker": {
          "color": "bisque",
          "size": 5
         },
         "mode": "markers",
         "name": "ASPVRMF TB Equity",
         "type": "scatter",
         "x": [
          0.06082887170316282
         ],
         "y": [
          -0.1863230556833868
         ]
        },
        {
         "marker": {
          "color": "bisque",
          "size": 5
         },
         "mode": "markers",
         "name": "VCBFTBF VN Equity",
         "type": "scatter",
         "x": [
          0.1600777111417565
         ],
         "y": [
          -0.1117854060294187
         ]
        },
        {
         "marker": {
          "color": "maroon",
          "size": 15,
          "symbol": "diamond"
         },
         "mode": "markers",
         "name": "VCBFMGF VN Equity",
         "type": "scatter",
         "x": [
          0.2841455439658397
         ],
         "y": [
          -0.1265899454875834
         ]
        },
        {
         "marker": {
          "color": "bisque",
          "size": 5
         },
         "mode": "markers",
         "name": "VG6 GR Equity",
         "type": "scatter",
         "x": [
          0
         ],
         "y": [
          0
         ]
        },
        {
         "marker": {
          "color": "bisque",
          "size": 5
         },
         "mode": "markers",
         "name": "VNF LN Equity",
         "type": "scatter",
         "x": [
          0
         ],
         "y": [
          0
         ]
        },
        {
         "marker": {
          "color": "bisque",
          "size": 5
         },
         "mode": "markers",
         "name": "FUCTVGF3 VN Equity",
         "type": "scatter",
         "x": [
          -0.1359607906549473
         ],
         "y": [
          -0.2232142857142857
         ]
        },
        {
         "marker": {
          "color": "bisque",
          "size": 5
         },
         "mode": "markers",
         "name": "FUESSV30 VN Equity",
         "type": "scatter",
         "x": [
          0.1310937829223189
         ],
         "y": [
          -0.1611650485436891
         ]
        },
        {
         "marker": {
          "color": "bisque",
          "size": 5
         },
         "mode": "markers",
         "name": "SSISCA",
         "type": "scatter",
         "x": [
          0.2282273464184308
         ],
         "y": [
          -0.1740365651871377
         ]
        },
        {
         "marker": {
          "color": "bisque",
          "size": 5
         },
         "mode": "markers",
         "name": "BVPF",
         "type": "scatter",
         "x": [
          0.1390070922939951
         ],
         "y": [
          -0.1136040088833212
         ]
        },
        {
         "marker": {
          "color": "bisque",
          "size": 5
         },
         "mode": "markers",
         "name": "VESAF",
         "type": "scatter",
         "x": [
          0.2492870238090958
         ],
         "y": [
          -0.1599596442431543
         ]
        },
        {
         "marker": {
          "color": "bisque",
          "size": 5
         },
         "mode": "markers",
         "name": "VCBF-BCF",
         "type": "scatter",
         "x": [
          0.1712219399205419
         ],
         "y": [
          -0.1732064702023547
         ]
        },
        {
         "marker": {
          "color": "bisque",
          "size": 5
         },
         "mode": "markers",
         "name": "VEOF",
         "type": "scatter",
         "x": [
          0.1636750653564804
         ],
         "y": [
          -0.1467476649382374
         ]
        },
        {
         "marker": {
          "color": "bisque",
          "size": 5
         },
         "mode": "markers",
         "name": "MBVF",
         "type": "scatter",
         "x": [
          0.1348430436150028
         ],
         "y": [
          -0.1208302833838757
         ]
        },
        {
         "marker": {
          "color": "bisque",
          "size": 5
         },
         "mode": "markers",
         "name": "MAGEF",
         "type": "scatter",
         "x": [
          0.131105577084227
         ],
         "y": [
          -0.17649426203379
         ]
        },
        {
         "marker": {
          "color": "bisque",
          "size": 5
         },
         "mode": "markers",
         "name": "DCDS",
         "type": "scatter",
         "x": [
          0.2323100851116152
         ],
         "y": [
          -0.1991037034790256
         ]
        },
        {
         "marker": {
          "color": "bisque",
          "size": 5
         },
         "mode": "markers",
         "name": "VNDAF",
         "type": "scatter",
         "x": [
          0.07467470043913543
         ],
         "y": [
          -0.1355558168526676
         ]
        },
        {
         "marker": {
          "color": "bisque",
          "size": 5
         },
         "mode": "markers",
         "name": "DCDE",
         "type": "scatter",
         "x": [
          0.1945468707142685
         ],
         "y": [
          -0.1769067764656203
         ]
        },
        {
         "marker": {
          "color": "bisque",
          "size": 5
         },
         "mode": "markers",
         "name": "DCAF",
         "type": "scatter",
         "x": [
          0.1246501837829068
         ],
         "y": [
          -0.1229192110749016
         ]
        },
        {
         "marker": {
          "color": "bisque",
          "size": 5
         },
         "mode": "markers",
         "name": "BVFED",
         "type": "scatter",
         "x": [
          0.1807020083577763
         ],
         "y": [
          -0.133742979213672
         ]
        },
        {
         "marker": {
          "color": "bisque",
          "size": 5
         },
         "mode": "markers",
         "name": "MAFEQI",
         "type": "scatter",
         "x": [
          0.1502030548558307
         ],
         "y": [
          -0.1525894152526335
         ]
        },
        {
         "marker": {
          "color": "purple",
          "size": 25,
          "symbol": "square"
         },
         "mode": "markers",
         "name": "VNI",
         "type": "scatter",
         "x": [
          0.09248340852231404
         ],
         "y": [
          -0.1744761140104378
         ]
        },
        {
         "marker": {
          "color": "blue",
          "size": 30
         },
         "mode": "markers",
         "name": "HIEP.NS",
         "type": "scatter",
         "x": [
          0.187
         ],
         "y": [
          -0.02
         ]
        },
        {
         "marker": {
          "color": "green",
          "size": 30
         },
         "mode": "markers",
         "name": "NAM.TH.CS",
         "type": "scatter",
         "x": [
          0.2182
         ],
         "y": [
          -0.0671
         ]
        },
        {
         "marker": {
          "color": "red",
          "size": 30
         },
         "mode": "markers",
         "name": "NAM.TH.PS",
         "type": "scatter",
         "x": [
          0.3576
         ],
         "y": [
          -0.0824
         ]
        },
        {
         "marker": {
          "color": "orange",
          "size": 30
         },
         "mode": "markers",
         "name": "MANDATE VND",
         "type": "scatter",
         "x": [
          0.15
         ],
         "y": [
          -0.18
         ]
        }
       ],
       "layout": {
        "template": {
         "data": {
          "bar": [
           {
            "error_x": {
             "color": "#2a3f5f"
            },
            "error_y": {
             "color": "#2a3f5f"
            },
            "marker": {
             "line": {
              "color": "white",
              "width": 0.5
             },
             "pattern": {
              "fillmode": "overlay",
              "size": 10,
              "solidity": 0.2
             }
            },
            "type": "bar"
           }
          ],
          "barpolar": [
           {
            "marker": {
             "line": {
              "color": "white",
              "width": 0.5
             },
             "pattern": {
              "fillmode": "overlay",
              "size": 10,
              "solidity": 0.2
             }
            },
            "type": "barpolar"
           }
          ],
          "carpet": [
           {
            "aaxis": {
             "endlinecolor": "#2a3f5f",
             "gridcolor": "#C8D4E3",
             "linecolor": "#C8D4E3",
             "minorgridcolor": "#C8D4E3",
             "startlinecolor": "#2a3f5f"
            },
            "baxis": {
             "endlinecolor": "#2a3f5f",
             "gridcolor": "#C8D4E3",
             "linecolor": "#C8D4E3",
             "minorgridcolor": "#C8D4E3",
             "startlinecolor": "#2a3f5f"
            },
            "type": "carpet"
           }
          ],
          "choropleth": [
           {
            "colorbar": {
             "outlinewidth": 0,
             "ticks": ""
            },
            "type": "choropleth"
           }
          ],
          "contour": [
           {
            "colorbar": {
             "outlinewidth": 0,
             "ticks": ""
            },
            "colorscale": [
             [
              0,
              "#0d0887"
             ],
             [
              0.1111111111111111,
              "#46039f"
             ],
             [
              0.2222222222222222,
              "#7201a8"
             ],
             [
              0.3333333333333333,
              "#9c179e"
             ],
             [
              0.4444444444444444,
              "#bd3786"
             ],
             [
              0.5555555555555556,
              "#d8576b"
             ],
             [
              0.6666666666666666,
              "#ed7953"
             ],
             [
              0.7777777777777778,
              "#fb9f3a"
             ],
             [
              0.8888888888888888,
              "#fdca26"
             ],
             [
              1,
              "#f0f921"
             ]
            ],
            "type": "contour"
           }
          ],
          "contourcarpet": [
           {
            "colorbar": {
             "outlinewidth": 0,
             "ticks": ""
            },
            "type": "contourcarpet"
           }
          ],
          "heatmap": [
           {
            "colorbar": {
             "outlinewidth": 0,
             "ticks": ""
            },
            "colorscale": [
             [
              0,
              "#0d0887"
             ],
             [
              0.1111111111111111,
              "#46039f"
             ],
             [
              0.2222222222222222,
              "#7201a8"
             ],
             [
              0.3333333333333333,
              "#9c179e"
             ],
             [
              0.4444444444444444,
              "#bd3786"
             ],
             [
              0.5555555555555556,
              "#d8576b"
             ],
             [
              0.6666666666666666,
              "#ed7953"
             ],
             [
              0.7777777777777778,
              "#fb9f3a"
             ],
             [
              0.8888888888888888,
              "#fdca26"
             ],
             [
              1,
              "#f0f921"
             ]
            ],
            "type": "heatmap"
           }
          ],
          "heatmapgl": [
           {
            "colorbar": {
             "outlinewidth": 0,
             "ticks": ""
            },
            "colorscale": [
             [
              0,
              "#0d0887"
             ],
             [
              0.1111111111111111,
              "#46039f"
             ],
             [
              0.2222222222222222,
              "#7201a8"
             ],
             [
              0.3333333333333333,
              "#9c179e"
             ],
             [
              0.4444444444444444,
              "#bd3786"
             ],
             [
              0.5555555555555556,
              "#d8576b"
             ],
             [
              0.6666666666666666,
              "#ed7953"
             ],
             [
              0.7777777777777778,
              "#fb9f3a"
             ],
             [
              0.8888888888888888,
              "#fdca26"
             ],
             [
              1,
              "#f0f921"
             ]
            ],
            "type": "heatmapgl"
           }
          ],
          "histogram": [
           {
            "marker": {
             "pattern": {
              "fillmode": "overlay",
              "size": 10,
              "solidity": 0.2
             }
            },
            "type": "histogram"
           }
          ],
          "histogram2d": [
           {
            "colorbar": {
             "outlinewidth": 0,
             "ticks": ""
            },
            "colorscale": [
             [
              0,
              "#0d0887"
             ],
             [
              0.1111111111111111,
              "#46039f"
             ],
             [
              0.2222222222222222,
              "#7201a8"
             ],
             [
              0.3333333333333333,
              "#9c179e"
             ],
             [
              0.4444444444444444,
              "#bd3786"
             ],
             [
              0.5555555555555556,
              "#d8576b"
             ],
             [
              0.6666666666666666,
              "#ed7953"
             ],
             [
              0.7777777777777778,
              "#fb9f3a"
             ],
             [
              0.8888888888888888,
              "#fdca26"
             ],
             [
              1,
              "#f0f921"
             ]
            ],
            "type": "histogram2d"
           }
          ],
          "histogram2dcontour": [
           {
            "colorbar": {
             "outlinewidth": 0,
             "ticks": ""
            },
            "colorscale": [
             [
              0,
              "#0d0887"
             ],
             [
              0.1111111111111111,
              "#46039f"
             ],
             [
              0.2222222222222222,
              "#7201a8"
             ],
             [
              0.3333333333333333,
              "#9c179e"
             ],
             [
              0.4444444444444444,
              "#bd3786"
             ],
             [
              0.5555555555555556,
              "#d8576b"
             ],
             [
              0.6666666666666666,
              "#ed7953"
             ],
             [
              0.7777777777777778,
              "#fb9f3a"
             ],
             [
              0.8888888888888888,
              "#fdca26"
             ],
             [
              1,
              "#f0f921"
             ]
            ],
            "type": "histogram2dcontour"
           }
          ],
          "mesh3d": [
           {
            "colorbar": {
             "outlinewidth": 0,
             "ticks": ""
            },
            "type": "mesh3d"
           }
          ],
          "parcoords": [
           {
            "line": {
             "colorbar": {
              "outlinewidth": 0,
              "ticks": ""
             }
            },
            "type": "parcoords"
           }
          ],
          "pie": [
           {
            "automargin": true,
            "type": "pie"
           }
          ],
          "scatter": [
           {
            "fillpattern": {
             "fillmode": "overlay",
             "size": 10,
             "solidity": 0.2
            },
            "type": "scatter"
           }
          ],
          "scatter3d": [
           {
            "line": {
             "colorbar": {
              "outlinewidth": 0,
              "ticks": ""
             }
            },
            "marker": {
             "colorbar": {
              "outlinewidth": 0,
              "ticks": ""
             }
            },
            "type": "scatter3d"
           }
          ],
          "scattercarpet": [
           {
            "marker": {
             "colorbar": {
              "outlinewidth": 0,
              "ticks": ""
             }
            },
            "type": "scattercarpet"
           }
          ],
          "scattergeo": [
           {
            "marker": {
             "colorbar": {
              "outlinewidth": 0,
              "ticks": ""
             }
            },
            "type": "scattergeo"
           }
          ],
          "scattergl": [
           {
            "marker": {
             "colorbar": {
              "outlinewidth": 0,
              "ticks": ""
             }
            },
            "type": "scattergl"
           }
          ],
          "scattermapbox": [
           {
            "marker": {
             "colorbar": {
              "outlinewidth": 0,
              "ticks": ""
             }
            },
            "type": "scattermapbox"
           }
          ],
          "scatterpolar": [
           {
            "marker": {
             "colorbar": {
              "outlinewidth": 0,
              "ticks": ""
             }
            },
            "type": "scatterpolar"
           }
          ],
          "scatterpolargl": [
           {
            "marker": {
             "colorbar": {
              "outlinewidth": 0,
              "ticks": ""
             }
            },
            "type": "scatterpolargl"
           }
          ],
          "scatterternary": [
           {
            "marker": {
             "colorbar": {
              "outlinewidth": 0,
              "ticks": ""
             }
            },
            "type": "scatterternary"
           }
          ],
          "surface": [
           {
            "colorbar": {
             "outlinewidth": 0,
             "ticks": ""
            },
            "colorscale": [
             [
              0,
              "#0d0887"
             ],
             [
              0.1111111111111111,
              "#46039f"
             ],
             [
              0.2222222222222222,
              "#7201a8"
             ],
             [
              0.3333333333333333,
              "#9c179e"
             ],
             [
              0.4444444444444444,
              "#bd3786"
             ],
             [
              0.5555555555555556,
              "#d8576b"
             ],
             [
              0.6666666666666666,
              "#ed7953"
             ],
             [
              0.7777777777777778,
              "#fb9f3a"
             ],
             [
              0.8888888888888888,
              "#fdca26"
             ],
             [
              1,
              "#f0f921"
             ]
            ],
            "type": "surface"
           }
          ],
          "table": [
           {
            "cells": {
             "fill": {
              "color": "#EBF0F8"
             },
             "line": {
              "color": "white"
             }
            },
            "header": {
             "fill": {
              "color": "#C8D4E3"
             },
             "line": {
              "color": "white"
             }
            },
            "type": "table"
           }
          ]
         },
         "layout": {
          "annotationdefaults": {
           "arrowcolor": "#2a3f5f",
           "arrowhead": 0,
           "arrowwidth": 1
          },
          "autotypenumbers": "strict",
          "coloraxis": {
           "colorbar": {
            "outlinewidth": 0,
            "ticks": ""
           }
          },
          "colorscale": {
           "diverging": [
            [
             0,
             "#8e0152"
            ],
            [
             0.1,
             "#c51b7d"
            ],
            [
             0.2,
             "#de77ae"
            ],
            [
             0.3,
             "#f1b6da"
            ],
            [
             0.4,
             "#fde0ef"
            ],
            [
             0.5,
             "#f7f7f7"
            ],
            [
             0.6,
             "#e6f5d0"
            ],
            [
             0.7,
             "#b8e186"
            ],
            [
             0.8,
             "#7fbc41"
            ],
            [
             0.9,
             "#4d9221"
            ],
            [
             1,
             "#276419"
            ]
           ],
           "sequential": [
            [
             0,
             "#0d0887"
            ],
            [
             0.1111111111111111,
             "#46039f"
            ],
            [
             0.2222222222222222,
             "#7201a8"
            ],
            [
             0.3333333333333333,
             "#9c179e"
            ],
            [
             0.4444444444444444,
             "#bd3786"
            ],
            [
             0.5555555555555556,
             "#d8576b"
            ],
            [
             0.6666666666666666,
             "#ed7953"
            ],
            [
             0.7777777777777778,
             "#fb9f3a"
            ],
            [
             0.8888888888888888,
             "#fdca26"
            ],
            [
             1,
             "#f0f921"
            ]
           ],
           "sequentialminus": [
            [
             0,
             "#0d0887"
            ],
            [
             0.1111111111111111,
             "#46039f"
            ],
            [
             0.2222222222222222,
             "#7201a8"
            ],
            [
             0.3333333333333333,
             "#9c179e"
            ],
            [
             0.4444444444444444,
             "#bd3786"
            ],
            [
             0.5555555555555556,
             "#d8576b"
            ],
            [
             0.6666666666666666,
             "#ed7953"
            ],
            [
             0.7777777777777778,
             "#fb9f3a"
            ],
            [
             0.8888888888888888,
             "#fdca26"
            ],
            [
             1,
             "#f0f921"
            ]
           ]
          },
          "colorway": [
           "#636efa",
           "#EF553B",
           "#00cc96",
           "#ab63fa",
           "#FFA15A",
           "#19d3f3",
           "#FF6692",
           "#B6E880",
           "#FF97FF",
           "#FECB52"
          ],
          "font": {
           "color": "#2a3f5f"
          },
          "geo": {
           "bgcolor": "white",
           "lakecolor": "white",
           "landcolor": "white",
           "showlakes": true,
           "showland": true,
           "subunitcolor": "#C8D4E3"
          },
          "hoverlabel": {
           "align": "left"
          },
          "hovermode": "closest",
          "mapbox": {
           "style": "light"
          },
          "paper_bgcolor": "white",
          "plot_bgcolor": "white",
          "polar": {
           "angularaxis": {
            "gridcolor": "#EBF0F8",
            "linecolor": "#EBF0F8",
            "ticks": ""
           },
           "bgcolor": "white",
           "radialaxis": {
            "gridcolor": "#EBF0F8",
            "linecolor": "#EBF0F8",
            "ticks": ""
           }
          },
          "scene": {
           "xaxis": {
            "backgroundcolor": "white",
            "gridcolor": "#DFE8F3",
            "gridwidth": 2,
            "linecolor": "#EBF0F8",
            "showbackground": true,
            "ticks": "",
            "zerolinecolor": "#EBF0F8"
           },
           "yaxis": {
            "backgroundcolor": "white",
            "gridcolor": "#DFE8F3",
            "gridwidth": 2,
            "linecolor": "#EBF0F8",
            "showbackground": true,
            "ticks": "",
            "zerolinecolor": "#EBF0F8"
           },
           "zaxis": {
            "backgroundcolor": "white",
            "gridcolor": "#DFE8F3",
            "gridwidth": 2,
            "linecolor": "#EBF0F8",
            "showbackground": true,
            "ticks": "",
            "zerolinecolor": "#EBF0F8"
           }
          },
          "shapedefaults": {
           "line": {
            "color": "#2a3f5f"
           }
          },
          "ternary": {
           "aaxis": {
            "gridcolor": "#DFE8F3",
            "linecolor": "#A2B1C6",
            "ticks": ""
           },
           "baxis": {
            "gridcolor": "#DFE8F3",
            "linecolor": "#A2B1C6",
            "ticks": ""
           },
           "bgcolor": "white",
           "caxis": {
            "gridcolor": "#DFE8F3",
            "linecolor": "#A2B1C6",
            "ticks": ""
           }
          },
          "title": {
           "x": 0.05
          },
          "xaxis": {
           "automargin": true,
           "gridcolor": "#EBF0F8",
           "linecolor": "#EBF0F8",
           "ticks": "",
           "title": {
            "standoff": 15
           },
           "zerolinecolor": "#EBF0F8",
           "zerolinewidth": 2
          },
          "yaxis": {
           "automargin": true,
           "gridcolor": "#EBF0F8",
           "linecolor": "#EBF0F8",
           "ticks": "",
           "title": {
            "standoff": 15
           },
           "zerolinecolor": "#EBF0F8",
           "zerolinewidth": 2
          }
         }
        },
        "title": {
         "text": "Compare Annual Return / Max Drawdown 2023"
        },
        "xaxis": {
         "title": {
          "text": "Annual Return"
         }
        },
        "yaxis": {
         "title": {
          "text": "Max Drawdown"
         }
        }
       }
      },
      "text/html": [
       "<div>                            <div id=\"951a18f8-2f3c-4147-9c76-6fdd7d9bc8ad\" class=\"plotly-graph-div\" style=\"height:525px; width:100%;\"></div>            <script type=\"text/javascript\">                require([\"plotly\"], function(Plotly) {                    window.PLOTLYENV=window.PLOTLYENV || {};                                    if (document.getElementById(\"951a18f8-2f3c-4147-9c76-6fdd7d9bc8ad\")) {                    Plotly.newPlot(                        \"951a18f8-2f3c-4147-9c76-6fdd7d9bc8ad\",                        [{\"marker\":{\"color\":\"bisque\",\"size\":5},\"mode\":\"markers\",\"name\":\"VNM US Equity\",\"x\":[0.1289172145199973],\"y\":[-0.2594478167221455],\"type\":\"scatter\"},{\"marker\":{\"color\":\"bisque\",\"size\":5},\"mode\":\"markers\",\"name\":\"AFCVICI KY Equity\",\"x\":[0.1033537957309132],\"y\":[-0.1383253704602292],\"type\":\"scatter\"},{\"marker\":{\"color\":\"bisque\",\"size\":5},\"mode\":\"markers\",\"name\":\"LUMENUS LE Equity\",\"x\":[0.1605209004633386],\"y\":[-0.1602410463603376],\"type\":\"scatter\"},{\"marker\":{\"color\":\"bisque\",\"size\":5},\"mode\":\"markers\",\"name\":\"XFVT GY Equity\",\"x\":[-0.01583366176266774],\"y\":[-0.2356020942408375],\"type\":\"scatter\"},{\"marker\":{\"color\":\"bisque\",\"size\":5},\"mode\":\"markers\",\"name\":\"GAVNBCU LX Equity\",\"x\":[0.1447841289769433],\"y\":[-0.1473818918630692],\"type\":\"scatter\"},{\"marker\":{\"color\":\"bisque\",\"size\":5},\"mode\":\"markers\",\"name\":\"LCVIETU SP Equity\",\"x\":[0.06272001874088119],\"y\":[-0.1869806094182823],\"type\":\"scatter\"},{\"marker\":{\"color\":\"bisque\",\"size\":5},\"mode\":\"markers\",\"name\":\"FOVCPVA LX Equity\",\"x\":[0.1244742198800651],\"y\":[-0.176718684099536],\"type\":\"scatter\"},{\"marker\":{\"color\":\"bisque\",\"size\":5},\"mode\":\"markers\",\"name\":\"GAVTNIU LX Equity\",\"x\":[0.1448208050043415],\"y\":[-0.1473314396770821],\"type\":\"scatter\"},{\"marker\":{\"color\":\"bisque\",\"size\":5},\"mode\":\"markers\",\"name\":\"AFCVIET KY Equity\",\"x\":[0.0983206880420086],\"y\":[-0.1394029772036785],\"type\":\"scatter\"},{\"marker\":{\"color\":\"bisque\",\"size\":5},\"mode\":\"markers\",\"name\":\"VIETNAM ID Equity\",\"x\":[0.1136055138332734],\"y\":[-0.1806833114323257],\"type\":\"scatter\"},{\"marker\":{\"color\":\"bisque\",\"size\":5},\"mode\":\"markers\",\"name\":\"E1VFVN30 VN Equity\",\"x\":[0.1081453197592322],\"y\":[-0.1601652134006429],\"type\":\"scatter\"},{\"marker\":{\"color\":\"bisque\",\"size\":5},\"mode\":\"markers\",\"name\":\"XVTD LN Equity\",\"x\":[0.03241516948865911],\"y\":[-0.2634425216316443],\"type\":\"scatter\"},{\"marker\":{\"color\":\"bisque\",\"size\":5},\"mode\":\"markers\",\"name\":\"KVIETNE TB Equity\",\"x\":[0.03775494418310835],\"y\":[-0.1921840910431037],\"type\":\"scatter\"},{\"marker\":{\"color\":\"bisque\",\"size\":5},\"mode\":\"markers\",\"name\":\"00885 TT Equity\",\"x\":[0.06664935072756757],\"y\":[-0.2124019957234501],\"type\":\"scatter\"},{\"marker\":{\"color\":\"bisque\",\"size\":5},\"mode\":\"markers\",\"name\":\"3087 HK Equity\",\"x\":[0.02444170258958418],\"y\":[-0.2378269617706241],\"type\":\"scatter\"},{\"marker\":{\"color\":\"maroon\",\"size\":15,\"symbol\":\"diamond\"},\"mode\":\"markers\",\"name\":\"SSICOAD VN Equity\",\"x\":[0.295177384893178],\"y\":[-0.2185294198349539],\"type\":\"scatter\"},{\"marker\":{\"color\":\"bisque\",\"size\":5},\"mode\":\"markers\",\"name\":\"XFVT GR Equity\",\"x\":[-0.02190644655265566],\"y\":[-0.2408315024505663],\"type\":\"scatter\"},{\"marker\":{\"color\":\"bisque\",\"size\":5},\"mode\":\"markers\",\"name\":\"GAVT SW Equity\",\"x\":[0.1039648705512735],\"y\":[-0.1799850634802092],\"type\":\"scatter\"},{\"marker\":{\"color\":\"bisque\",\"size\":5},\"mode\":\"markers\",\"name\":\"LCVIETS SP Equity\",\"x\":[0.04537937816891079],\"y\":[-0.1837563451776645],\"type\":\"scatter\"},{\"marker\":{\"color\":\"bisque\",\"size\":5},\"mode\":\"markers\",\"name\":\"LUMENCH LE Equity\",\"x\":[0.1084818740983874],\"y\":[-0.1709309048858056],\"type\":\"scatter\"},{\"marker\":{\"color\":\"bisque\",\"size\":5},\"mode\":\"markers\",\"name\":\"VNAM US Equity\",\"x\":[0.09417266036017066],\"y\":[-0.247625136046155],\"type\":\"scatter\"},{\"marker\":{\"color\":\"bisque\",\"size\":5},\"mode\":\"markers\",\"name\":\"VTNPHXA KY Equity\",\"x\":[0.1552306583100333],\"y\":[-0.1655368896748207],\"type\":\"scatter\"},{\"marker\":{\"color\":\"bisque\",\"size\":5},\"mode\":\"markers\",\"name\":\"FUEKIV30 VN Equity\",\"x\":[0.1267635812208182],\"y\":[-0.1776710684273707],\"type\":\"scatter\"},{\"marker\":{\"color\":\"maroon\",\"size\":15,\"symbol\":\"diamond\"},\"mode\":\"markers\",\"name\":\"FUESSVFL VN Equity\",\"x\":[0.2620219709863116],\"y\":[-0.1527290936404603],\"type\":\"scatter\"},{\"marker\":{\"color\":\"bisque\",\"size\":5},\"mode\":\"markers\",\"name\":\"CPVNEQA TB Equity\",\"x\":[0.09626906483045368],\"y\":[-0.1709723605577688],\"type\":\"scatter\"},{\"marker\":{\"color\":\"bisque\",\"size\":5},\"mode\":\"markers\",\"name\":\"KIMVGIU LX Equity\",\"x\":[0.1758515497363114],\"y\":[-0.1683359092170695],\"type\":\"scatter\"},{\"marker\":{\"color\":\"bisque\",\"size\":5},\"mode\":\"markers\",\"name\":\"VIETEUR ID Equity\",\"x\":[0.08072193970634964],\"y\":[-0.1675899494965339],\"type\":\"scatter\"},{\"marker\":{\"color\":\"bisque\",\"size\":5},\"mode\":\"markers\",\"name\":\"9A311108 JP Equity\",\"x\":[0.174992558698334],\"y\":[-0.1621685142387085],\"type\":\"scatter\"},{\"marker\":{\"color\":\"bisque\",\"size\":5},\"mode\":\"markers\",\"name\":\"LUMCHFI LE Equity\",\"x\":[0.1124373526472487],\"y\":[-0.170524852276677],\"type\":\"scatter\"},{\"marker\":{\"color\":\"bisque\",\"size\":5},\"mode\":\"markers\",\"name\":\"LUMENEI LE Equity\",\"x\":[0.1406907829599701],\"y\":[-0.1671863536316939],\"type\":\"scatter\"},{\"marker\":{\"color\":\"bisque\",\"size\":5},\"mode\":\"markers\",\"name\":\"CTBCVET TT Equity\",\"x\":[0.1151740939157176],\"y\":[-0.1749128919860626],\"type\":\"scatter\"},{\"marker\":{\"color\":\"bisque\",\"size\":5},\"mode\":\"markers\",\"name\":\"XFVT GT Equity\",\"x\":[-0.01583366176266774],\"y\":[-0.2356020942408375],\"type\":\"scatter\"},{\"marker\":{\"color\":\"bisque\",\"size\":5},\"mode\":\"markers\",\"name\":\"XFVT SP Equity\",\"x\":[0.03963777439888181],\"y\":[-0.2589395807644888],\"type\":\"scatter\"},{\"marker\":{\"color\":\"bisque\",\"size\":5},\"mode\":\"markers\",\"name\":\"TCMVN NA Equity\",\"x\":[0.1875697461423153],\"y\":[-0.203527815468114],\"type\":\"scatter\"},{\"marker\":{\"color\":\"bisque\",\"size\":5},\"mode\":\"markers\",\"name\":\"2804 HK Equity\",\"x\":[0.01971830573179774],\"y\":[-0.2491563554555677],\"type\":\"scatter\"},{\"marker\":{\"color\":\"bisque\",\"size\":5},\"mode\":\"markers\",\"name\":\"VCVOF US Equity\",\"x\":[0.1047976000845732],\"y\":[-0.1407070976934718],\"type\":\"scatter\"},{\"marker\":{\"color\":\"bisque\",\"size\":5},\"mode\":\"markers\",\"name\":\"FUESSV50 VN Equity\",\"x\":[0.2285241435640362],\"y\":[-0.2142142142142141],\"type\":\"scatter\"},{\"marker\":{\"color\":\"bisque\",\"size\":5},\"mode\":\"markers\",\"name\":\"THVMEFA CH Equity\",\"x\":[0.1212761107823899],\"y\":[-0.1901815736381974],\"type\":\"scatter\"},{\"marker\":{\"color\":\"bisque\",\"size\":5},\"mode\":\"markers\",\"name\":\"AB311171 JP Equity\",\"x\":[0.2421569228326936],\"y\":[-0.1935986404192038],\"type\":\"scatter\"},{\"marker\":{\"color\":\"bisque\",\"size\":5},\"mode\":\"markers\",\"name\":\"IOFVTEQ LX Equity\",\"x\":[0.1074179462137859],\"y\":[-0.2069999508430417],\"type\":\"scatter\"},{\"marker\":{\"color\":\"bisque\",\"size\":5},\"mode\":\"markers\",\"name\":\"SGVIEOP HK Equity\",\"x\":[0.06515424519710897],\"y\":[-0.1948156851226324],\"type\":\"scatter\"},{\"marker\":{\"color\":\"bisque\",\"size\":5},\"mode\":\"markers\",\"name\":\"VFMVF1 VN Equity\",\"x\":[0.2339163828535861],\"y\":[-0.1991037034790257],\"type\":\"scatter\"},{\"marker\":{\"color\":\"bisque\",\"size\":5},\"mode\":\"markers\",\"name\":\"FOVIEDE LX Equity\",\"x\":[0.08002296090949662],\"y\":[-0.1686159844054584],\"type\":\"scatter\"},{\"marker\":{\"color\":\"bisque\",\"size\":5},\"mode\":\"markers\",\"name\":\"GAVT SE Equity\",\"x\":[0.1039648705512735],\"y\":[-0.1799850634802092],\"type\":\"scatter\"},{\"marker\":{\"color\":\"bisque\",\"size\":5},\"mode\":\"markers\",\"name\":\"GELIONV SP Equity\",\"x\":[0.04497562033226414],\"y\":[-0.1839662447257386],\"type\":\"scatter\"},{\"marker\":{\"color\":\"bisque\",\"size\":5},\"mode\":\"markers\",\"name\":\"YDVNLDR KY Equity\",\"x\":[0.1025225801290872],\"y\":[-0.1619097449313273],\"type\":\"scatter\"},{\"marker\":{\"color\":\"bisque\",\"size\":5},\"mode\":\"markers\",\"name\":\"0431216C JP Equity\",\"x\":[0.204615828965644],\"y\":[-0.1591065427400807],\"type\":\"scatter\"},{\"marker\":{\"color\":\"bisque\",\"size\":5},\"mode\":\"markers\",\"name\":\"VFMVFA VN Equity\",\"x\":[0.0],\"y\":[0.0],\"type\":\"scatter\"},{\"marker\":{\"color\":\"bisque\",\"size\":5},\"mode\":\"markers\",\"name\":\"SSIVLGF VN Equity\",\"x\":[0.1226048688883808],\"y\":[-0.1386601757429499],\"type\":\"scatter\"},{\"marker\":{\"color\":\"bisque\",\"size\":5},\"mode\":\"markers\",\"name\":\"HLGVIET MK Equity\",\"x\":[0.0],\"y\":[0.0],\"type\":\"scatter\"},{\"marker\":{\"color\":\"bisque\",\"size\":5},\"mode\":\"markers\",\"name\":\"HAVNEAF IT Equity\",\"x\":[0.0],\"y\":[0.0],\"type\":\"scatter\"},{\"marker\":{\"color\":\"bisque\",\"size\":5},\"mode\":\"markers\",\"name\":\"49311186 JP Equity\",\"x\":[0.2232673416884526],\"y\":[-0.1548814748168412],\"type\":\"scatter\"},{\"marker\":{\"color\":\"bisque\",\"size\":5},\"mode\":\"markers\",\"name\":\"ASPVIET TB Equity\",\"x\":[0.07405939690776776],\"y\":[-0.1836521958872526],\"type\":\"scatter\"},{\"marker\":{\"color\":\"bisque\",\"size\":5},\"mode\":\"markers\",\"name\":\"1AR0081 KS Equity\",\"x\":[0.1088980948122385],\"y\":[-0.1845664298126708],\"type\":\"scatter\"},{\"marker\":{\"color\":\"bisque\",\"size\":5},\"mode\":\"markers\",\"name\":\"HLVIETS MK Equity\",\"x\":[0.0],\"y\":[0.0],\"type\":\"scatter\"},{\"marker\":{\"color\":\"bisque\",\"size\":5},\"mode\":\"markers\",\"name\":\"47311156 JP Equity\",\"x\":[0.2100108792634483],\"y\":[-0.1596211014259084],\"type\":\"scatter\"},{\"marker\":{\"color\":\"bisque\",\"size\":5},\"mode\":\"markers\",\"name\":\"ASPVRMF TB Equity\",\"x\":[0.06082887170316282],\"y\":[-0.1863230556833868],\"type\":\"scatter\"},{\"marker\":{\"color\":\"bisque\",\"size\":5},\"mode\":\"markers\",\"name\":\"VCBFTBF VN Equity\",\"x\":[0.1600777111417565],\"y\":[-0.1117854060294187],\"type\":\"scatter\"},{\"marker\":{\"color\":\"maroon\",\"size\":15,\"symbol\":\"diamond\"},\"mode\":\"markers\",\"name\":\"VCBFMGF VN Equity\",\"x\":[0.2841455439658397],\"y\":[-0.1265899454875834],\"type\":\"scatter\"},{\"marker\":{\"color\":\"bisque\",\"size\":5},\"mode\":\"markers\",\"name\":\"VG6 GR Equity\",\"x\":[0.0],\"y\":[0.0],\"type\":\"scatter\"},{\"marker\":{\"color\":\"bisque\",\"size\":5},\"mode\":\"markers\",\"name\":\"VNF LN Equity\",\"x\":[0.0],\"y\":[0.0],\"type\":\"scatter\"},{\"marker\":{\"color\":\"bisque\",\"size\":5},\"mode\":\"markers\",\"name\":\"FUCTVGF3 VN Equity\",\"x\":[-0.1359607906549473],\"y\":[-0.2232142857142857],\"type\":\"scatter\"},{\"marker\":{\"color\":\"bisque\",\"size\":5},\"mode\":\"markers\",\"name\":\"FUESSV30 VN Equity\",\"x\":[0.1310937829223189],\"y\":[-0.1611650485436891],\"type\":\"scatter\"},{\"marker\":{\"color\":\"bisque\",\"size\":5},\"mode\":\"markers\",\"name\":\"SSISCA\",\"x\":[0.2282273464184308],\"y\":[-0.1740365651871377],\"type\":\"scatter\"},{\"marker\":{\"color\":\"bisque\",\"size\":5},\"mode\":\"markers\",\"name\":\"BVPF\",\"x\":[0.1390070922939951],\"y\":[-0.1136040088833212],\"type\":\"scatter\"},{\"marker\":{\"color\":\"bisque\",\"size\":5},\"mode\":\"markers\",\"name\":\"VESAF\",\"x\":[0.2492870238090958],\"y\":[-0.1599596442431543],\"type\":\"scatter\"},{\"marker\":{\"color\":\"bisque\",\"size\":5},\"mode\":\"markers\",\"name\":\"VCBF-BCF\",\"x\":[0.1712219399205419],\"y\":[-0.1732064702023547],\"type\":\"scatter\"},{\"marker\":{\"color\":\"bisque\",\"size\":5},\"mode\":\"markers\",\"name\":\"VEOF\",\"x\":[0.1636750653564804],\"y\":[-0.1467476649382374],\"type\":\"scatter\"},{\"marker\":{\"color\":\"bisque\",\"size\":5},\"mode\":\"markers\",\"name\":\"MBVF\",\"x\":[0.1348430436150028],\"y\":[-0.1208302833838757],\"type\":\"scatter\"},{\"marker\":{\"color\":\"bisque\",\"size\":5},\"mode\":\"markers\",\"name\":\"MAGEF\",\"x\":[0.131105577084227],\"y\":[-0.17649426203379],\"type\":\"scatter\"},{\"marker\":{\"color\":\"bisque\",\"size\":5},\"mode\":\"markers\",\"name\":\"DCDS\",\"x\":[0.2323100851116152],\"y\":[-0.1991037034790256],\"type\":\"scatter\"},{\"marker\":{\"color\":\"bisque\",\"size\":5},\"mode\":\"markers\",\"name\":\"VNDAF\",\"x\":[0.07467470043913543],\"y\":[-0.1355558168526676],\"type\":\"scatter\"},{\"marker\":{\"color\":\"bisque\",\"size\":5},\"mode\":\"markers\",\"name\":\"DCDE\",\"x\":[0.1945468707142685],\"y\":[-0.1769067764656203],\"type\":\"scatter\"},{\"marker\":{\"color\":\"bisque\",\"size\":5},\"mode\":\"markers\",\"name\":\"DCAF\",\"x\":[0.1246501837829068],\"y\":[-0.1229192110749016],\"type\":\"scatter\"},{\"marker\":{\"color\":\"bisque\",\"size\":5},\"mode\":\"markers\",\"name\":\"BVFED\",\"x\":[0.1807020083577763],\"y\":[-0.133742979213672],\"type\":\"scatter\"},{\"marker\":{\"color\":\"bisque\",\"size\":5},\"mode\":\"markers\",\"name\":\"MAFEQI\",\"x\":[0.1502030548558307],\"y\":[-0.1525894152526335],\"type\":\"scatter\"},{\"marker\":{\"color\":\"purple\",\"size\":25,\"symbol\":\"square\"},\"mode\":\"markers\",\"name\":\"VNI\",\"x\":[0.09248340852231404],\"y\":[-0.1744761140104378],\"type\":\"scatter\"},{\"marker\":{\"color\":\"blue\",\"size\":30},\"mode\":\"markers\",\"name\":\"HIEP.NS\",\"x\":[0.187],\"y\":[-0.02],\"type\":\"scatter\"},{\"marker\":{\"color\":\"green\",\"size\":30},\"mode\":\"markers\",\"name\":\"NAM.TH.CS\",\"x\":[0.2182],\"y\":[-0.0671],\"type\":\"scatter\"},{\"marker\":{\"color\":\"red\",\"size\":30},\"mode\":\"markers\",\"name\":\"NAM.TH.PS\",\"x\":[0.3576],\"y\":[-0.0824],\"type\":\"scatter\"},{\"marker\":{\"color\":\"orange\",\"size\":30},\"mode\":\"markers\",\"name\":\"MANDATE VND\",\"x\":[0.15],\"y\":[-0.18],\"type\":\"scatter\"}],                        {\"template\":{\"data\":{\"histogram2dcontour\":[{\"type\":\"histogram2dcontour\",\"colorbar\":{\"outlinewidth\":0,\"ticks\":\"\"},\"colorscale\":[[0.0,\"#0d0887\"],[0.1111111111111111,\"#46039f\"],[0.2222222222222222,\"#7201a8\"],[0.3333333333333333,\"#9c179e\"],[0.4444444444444444,\"#bd3786\"],[0.5555555555555556,\"#d8576b\"],[0.6666666666666666,\"#ed7953\"],[0.7777777777777778,\"#fb9f3a\"],[0.8888888888888888,\"#fdca26\"],[1.0,\"#f0f921\"]]}],\"choropleth\":[{\"type\":\"choropleth\",\"colorbar\":{\"outlinewidth\":0,\"ticks\":\"\"}}],\"histogram2d\":[{\"type\":\"histogram2d\",\"colorbar\":{\"outlinewidth\":0,\"ticks\":\"\"},\"colorscale\":[[0.0,\"#0d0887\"],[0.1111111111111111,\"#46039f\"],[0.2222222222222222,\"#7201a8\"],[0.3333333333333333,\"#9c179e\"],[0.4444444444444444,\"#bd3786\"],[0.5555555555555556,\"#d8576b\"],[0.6666666666666666,\"#ed7953\"],[0.7777777777777778,\"#fb9f3a\"],[0.8888888888888888,\"#fdca26\"],[1.0,\"#f0f921\"]]}],\"heatmap\":[{\"type\":\"heatmap\",\"colorbar\":{\"outlinewidth\":0,\"ticks\":\"\"},\"colorscale\":[[0.0,\"#0d0887\"],[0.1111111111111111,\"#46039f\"],[0.2222222222222222,\"#7201a8\"],[0.3333333333333333,\"#9c179e\"],[0.4444444444444444,\"#bd3786\"],[0.5555555555555556,\"#d8576b\"],[0.6666666666666666,\"#ed7953\"],[0.7777777777777778,\"#fb9f3a\"],[0.8888888888888888,\"#fdca26\"],[1.0,\"#f0f921\"]]}],\"heatmapgl\":[{\"type\":\"heatmapgl\",\"colorbar\":{\"outlinewidth\":0,\"ticks\":\"\"},\"colorscale\":[[0.0,\"#0d0887\"],[0.1111111111111111,\"#46039f\"],[0.2222222222222222,\"#7201a8\"],[0.3333333333333333,\"#9c179e\"],[0.4444444444444444,\"#bd3786\"],[0.5555555555555556,\"#d8576b\"],[0.6666666666666666,\"#ed7953\"],[0.7777777777777778,\"#fb9f3a\"],[0.8888888888888888,\"#fdca26\"],[1.0,\"#f0f921\"]]}],\"contourcarpet\":[{\"type\":\"contourcarpet\",\"colorbar\":{\"outlinewidth\":0,\"ticks\":\"\"}}],\"contour\":[{\"type\":\"contour\",\"colorbar\":{\"outlinewidth\":0,\"ticks\":\"\"},\"colorscale\":[[0.0,\"#0d0887\"],[0.1111111111111111,\"#46039f\"],[0.2222222222222222,\"#7201a8\"],[0.3333333333333333,\"#9c179e\"],[0.4444444444444444,\"#bd3786\"],[0.5555555555555556,\"#d8576b\"],[0.6666666666666666,\"#ed7953\"],[0.7777777777777778,\"#fb9f3a\"],[0.8888888888888888,\"#fdca26\"],[1.0,\"#f0f921\"]]}],\"surface\":[{\"type\":\"surface\",\"colorbar\":{\"outlinewidth\":0,\"ticks\":\"\"},\"colorscale\":[[0.0,\"#0d0887\"],[0.1111111111111111,\"#46039f\"],[0.2222222222222222,\"#7201a8\"],[0.3333333333333333,\"#9c179e\"],[0.4444444444444444,\"#bd3786\"],[0.5555555555555556,\"#d8576b\"],[0.6666666666666666,\"#ed7953\"],[0.7777777777777778,\"#fb9f3a\"],[0.8888888888888888,\"#fdca26\"],[1.0,\"#f0f921\"]]}],\"mesh3d\":[{\"type\":\"mesh3d\",\"colorbar\":{\"outlinewidth\":0,\"ticks\":\"\"}}],\"scatter\":[{\"fillpattern\":{\"fillmode\":\"overlay\",\"size\":10,\"solidity\":0.2},\"type\":\"scatter\"}],\"parcoords\":[{\"type\":\"parcoords\",\"line\":{\"colorbar\":{\"outlinewidth\":0,\"ticks\":\"\"}}}],\"scatterpolargl\":[{\"type\":\"scatterpolargl\",\"marker\":{\"colorbar\":{\"outlinewidth\":0,\"ticks\":\"\"}}}],\"bar\":[{\"error_x\":{\"color\":\"#2a3f5f\"},\"error_y\":{\"color\":\"#2a3f5f\"},\"marker\":{\"line\":{\"color\":\"white\",\"width\":0.5},\"pattern\":{\"fillmode\":\"overlay\",\"size\":10,\"solidity\":0.2}},\"type\":\"bar\"}],\"scattergeo\":[{\"type\":\"scattergeo\",\"marker\":{\"colorbar\":{\"outlinewidth\":0,\"ticks\":\"\"}}}],\"scatterpolar\":[{\"type\":\"scatterpolar\",\"marker\":{\"colorbar\":{\"outlinewidth\":0,\"ticks\":\"\"}}}],\"histogram\":[{\"marker\":{\"pattern\":{\"fillmode\":\"overlay\",\"size\":10,\"solidity\":0.2}},\"type\":\"histogram\"}],\"scattergl\":[{\"type\":\"scattergl\",\"marker\":{\"colorbar\":{\"outlinewidth\":0,\"ticks\":\"\"}}}],\"scatter3d\":[{\"type\":\"scatter3d\",\"line\":{\"colorbar\":{\"outlinewidth\":0,\"ticks\":\"\"}},\"marker\":{\"colorbar\":{\"outlinewidth\":0,\"ticks\":\"\"}}}],\"scattermapbox\":[{\"type\":\"scattermapbox\",\"marker\":{\"colorbar\":{\"outlinewidth\":0,\"ticks\":\"\"}}}],\"scatterternary\":[{\"type\":\"scatterternary\",\"marker\":{\"colorbar\":{\"outlinewidth\":0,\"ticks\":\"\"}}}],\"scattercarpet\":[{\"type\":\"scattercarpet\",\"marker\":{\"colorbar\":{\"outlinewidth\":0,\"ticks\":\"\"}}}],\"carpet\":[{\"aaxis\":{\"endlinecolor\":\"#2a3f5f\",\"gridcolor\":\"#C8D4E3\",\"linecolor\":\"#C8D4E3\",\"minorgridcolor\":\"#C8D4E3\",\"startlinecolor\":\"#2a3f5f\"},\"baxis\":{\"endlinecolor\":\"#2a3f5f\",\"gridcolor\":\"#C8D4E3\",\"linecolor\":\"#C8D4E3\",\"minorgridcolor\":\"#C8D4E3\",\"startlinecolor\":\"#2a3f5f\"},\"type\":\"carpet\"}],\"table\":[{\"cells\":{\"fill\":{\"color\":\"#EBF0F8\"},\"line\":{\"color\":\"white\"}},\"header\":{\"fill\":{\"color\":\"#C8D4E3\"},\"line\":{\"color\":\"white\"}},\"type\":\"table\"}],\"barpolar\":[{\"marker\":{\"line\":{\"color\":\"white\",\"width\":0.5},\"pattern\":{\"fillmode\":\"overlay\",\"size\":10,\"solidity\":0.2}},\"type\":\"barpolar\"}],\"pie\":[{\"automargin\":true,\"type\":\"pie\"}]},\"layout\":{\"autotypenumbers\":\"strict\",\"colorway\":[\"#636efa\",\"#EF553B\",\"#00cc96\",\"#ab63fa\",\"#FFA15A\",\"#19d3f3\",\"#FF6692\",\"#B6E880\",\"#FF97FF\",\"#FECB52\"],\"font\":{\"color\":\"#2a3f5f\"},\"hovermode\":\"closest\",\"hoverlabel\":{\"align\":\"left\"},\"paper_bgcolor\":\"white\",\"plot_bgcolor\":\"white\",\"polar\":{\"bgcolor\":\"white\",\"angularaxis\":{\"gridcolor\":\"#EBF0F8\",\"linecolor\":\"#EBF0F8\",\"ticks\":\"\"},\"radialaxis\":{\"gridcolor\":\"#EBF0F8\",\"linecolor\":\"#EBF0F8\",\"ticks\":\"\"}},\"ternary\":{\"bgcolor\":\"white\",\"aaxis\":{\"gridcolor\":\"#DFE8F3\",\"linecolor\":\"#A2B1C6\",\"ticks\":\"\"},\"baxis\":{\"gridcolor\":\"#DFE8F3\",\"linecolor\":\"#A2B1C6\",\"ticks\":\"\"},\"caxis\":{\"gridcolor\":\"#DFE8F3\",\"linecolor\":\"#A2B1C6\",\"ticks\":\"\"}},\"coloraxis\":{\"colorbar\":{\"outlinewidth\":0,\"ticks\":\"\"}},\"colorscale\":{\"sequential\":[[0.0,\"#0d0887\"],[0.1111111111111111,\"#46039f\"],[0.2222222222222222,\"#7201a8\"],[0.3333333333333333,\"#9c179e\"],[0.4444444444444444,\"#bd3786\"],[0.5555555555555556,\"#d8576b\"],[0.6666666666666666,\"#ed7953\"],[0.7777777777777778,\"#fb9f3a\"],[0.8888888888888888,\"#fdca26\"],[1.0,\"#f0f921\"]],\"sequentialminus\":[[0.0,\"#0d0887\"],[0.1111111111111111,\"#46039f\"],[0.2222222222222222,\"#7201a8\"],[0.3333333333333333,\"#9c179e\"],[0.4444444444444444,\"#bd3786\"],[0.5555555555555556,\"#d8576b\"],[0.6666666666666666,\"#ed7953\"],[0.7777777777777778,\"#fb9f3a\"],[0.8888888888888888,\"#fdca26\"],[1.0,\"#f0f921\"]],\"diverging\":[[0,\"#8e0152\"],[0.1,\"#c51b7d\"],[0.2,\"#de77ae\"],[0.3,\"#f1b6da\"],[0.4,\"#fde0ef\"],[0.5,\"#f7f7f7\"],[0.6,\"#e6f5d0\"],[0.7,\"#b8e186\"],[0.8,\"#7fbc41\"],[0.9,\"#4d9221\"],[1,\"#276419\"]]},\"xaxis\":{\"gridcolor\":\"#EBF0F8\",\"linecolor\":\"#EBF0F8\",\"ticks\":\"\",\"title\":{\"standoff\":15},\"zerolinecolor\":\"#EBF0F8\",\"automargin\":true,\"zerolinewidth\":2},\"yaxis\":{\"gridcolor\":\"#EBF0F8\",\"linecolor\":\"#EBF0F8\",\"ticks\":\"\",\"title\":{\"standoff\":15},\"zerolinecolor\":\"#EBF0F8\",\"automargin\":true,\"zerolinewidth\":2},\"scene\":{\"xaxis\":{\"backgroundcolor\":\"white\",\"gridcolor\":\"#DFE8F3\",\"linecolor\":\"#EBF0F8\",\"showbackground\":true,\"ticks\":\"\",\"zerolinecolor\":\"#EBF0F8\",\"gridwidth\":2},\"yaxis\":{\"backgroundcolor\":\"white\",\"gridcolor\":\"#DFE8F3\",\"linecolor\":\"#EBF0F8\",\"showbackground\":true,\"ticks\":\"\",\"zerolinecolor\":\"#EBF0F8\",\"gridwidth\":2},\"zaxis\":{\"backgroundcolor\":\"white\",\"gridcolor\":\"#DFE8F3\",\"linecolor\":\"#EBF0F8\",\"showbackground\":true,\"ticks\":\"\",\"zerolinecolor\":\"#EBF0F8\",\"gridwidth\":2}},\"shapedefaults\":{\"line\":{\"color\":\"#2a3f5f\"}},\"annotationdefaults\":{\"arrowcolor\":\"#2a3f5f\",\"arrowhead\":0,\"arrowwidth\":1},\"geo\":{\"bgcolor\":\"white\",\"landcolor\":\"white\",\"subunitcolor\":\"#C8D4E3\",\"showland\":true,\"showlakes\":true,\"lakecolor\":\"white\"},\"title\":{\"x\":0.05},\"mapbox\":{\"style\":\"light\"}}},\"title\":{\"text\":\"Compare Annual Return / Max Drawdown 2023\"},\"xaxis\":{\"title\":{\"text\":\"Annual Return\"}},\"yaxis\":{\"title\":{\"text\":\"Max Drawdown\"}}},                        {\"responsive\": true}                    ).then(function(){\n",
       "                            \n",
       "var gd = document.getElementById('951a18f8-2f3c-4147-9c76-6fdd7d9bc8ad');\n",
       "var x = new MutationObserver(function (mutations, observer) {{\n",
       "        var display = window.getComputedStyle(gd).display;\n",
       "        if (!display || display === 'none') {{\n",
       "            console.log([gd, 'removed!']);\n",
       "            Plotly.purge(gd);\n",
       "            observer.disconnect();\n",
       "        }}\n",
       "}});\n",
       "\n",
       "// Listen for the removal of the full notebook cells\n",
       "var notebookContainer = gd.closest('#notebook-container');\n",
       "if (notebookContainer) {{\n",
       "    x.observe(notebookContainer, {childList: true});\n",
       "}}\n",
       "\n",
       "// Listen for the clearing of the current output cell\n",
       "var outputEl = gd.closest('.output');\n",
       "if (outputEl) {{\n",
       "    x.observe(outputEl, {childList: true});\n",
       "}}\n",
       "\n",
       "                        })                };                });            </script>        </div>"
      ]
     },
     "metadata": {},
     "output_type": "display_data"
    },
    {
     "data": {
      "application/vnd.plotly.v1+json": {
       "config": {
        "plotlyServerURL": "https://plot.ly"
       },
       "data": [
        {
         "marker": {
          "color": "bisque",
          "size": 5
         },
         "mode": "markers",
         "name": "VNM US Equity",
         "type": "scatter",
         "x": [
          -0.07153099580658764
         ],
         "y": [
          -0.1805755395683455
         ]
        },
        {
         "marker": {
          "color": "bisque",
          "size": 5
         },
         "mode": "markers",
         "name": "AFCVICI KY Equity",
         "type": "scatter",
         "x": [
          0.07406609808355384
         ],
         "y": [
          -0.03804046213611826
         ]
        },
        {
         "marker": {
          "color": "bisque",
          "size": 5
         },
         "mode": "markers",
         "name": "LUMENUS LE Equity",
         "type": "scatter",
         "x": [
          0.1121622897434915
         ],
         "y": [
          -0.09887005649717523
         ]
        },
        {
         "marker": {
          "color": "bisque",
          "size": 5
         },
         "mode": "markers",
         "name": "XFVT GY Equity",
         "type": "scatter",
         "x": [
          -0.0420641493522508
         ],
         "y": [
          -0.1920945696342811
         ]
        },
        {
         "marker": {
          "color": "bisque",
          "size": 5
         },
         "mode": "markers",
         "name": "GAVNBCU LX Equity",
         "type": "scatter",
         "x": [
          0.07038898079453688
         ],
         "y": [
          -0.1276772430019721
         ]
        },
        {
         "marker": {
          "color": "bisque",
          "size": 5
         },
         "mode": "markers",
         "name": "LCVIETU SP Equity",
         "type": "scatter",
         "x": [
          0.1164593155432288
         ],
         "y": [
          -0.0975954738330974
         ]
        },
        {
         "marker": {
          "color": "bisque",
          "size": 5
         },
         "mode": "markers",
         "name": "FOVCPVA LX Equity",
         "type": "scatter",
         "x": [
          0.170683430666502
         ],
         "y": [
          -0.1119373776908019
         ]
        },
        {
         "marker": {
          "color": "bisque",
          "size": 5
         },
         "mode": "markers",
         "name": "GAVTNIU LX Equity",
         "type": "scatter",
         "x": [
          0.07041328042755662
         ],
         "y": [
          -0.1276464168788647
         ]
        },
        {
         "marker": {
          "color": "bisque",
          "size": 5
         },
         "mode": "markers",
         "name": "AFCVIET KY Equity",
         "type": "scatter",
         "x": [
          0.06896837592502382
         ],
         "y": [
          -0.03884220462955983
         ]
        },
        {
         "marker": {
          "color": "bisque",
          "size": 5
         },
         "mode": "markers",
         "name": "VIETNAM ID Equity",
         "type": "scatter",
         "x": [
          0.1532805113678073
         ],
         "y": [
          -0.1151477832512313
         ]
        },
        {
         "marker": {
          "color": "bisque",
          "size": 5
         },
         "mode": "markers",
         "name": "E1VFVN30 VN Equity",
         "type": "scatter",
         "x": [
          0.1852660477015622
         ],
         "y": [
          -0.0841825431989364
         ]
        },
        {
         "marker": {
          "color": "bisque",
          "size": 5
         },
         "mode": "markers",
         "name": "XVTD LN Equity",
         "type": "scatter",
         "x": [
          -0.08072779071437837
         ],
         "y": [
          -0.1790355677154586
         ]
        },
        {
         "marker": {
          "color": "bisque",
          "size": 5
         },
         "mode": "markers",
         "name": "KVIETNE TB Equity",
         "type": "scatter",
         "x": [
          0.1542154823971694
         ],
         "y": [
          -0.1215993262506805
         ]
        },
        {
         "marker": {
          "color": "bisque",
          "size": 5
         },
         "mode": "markers",
         "name": "00885 TT Equity",
         "type": "scatter",
         "x": [
          0.002322385819444427
         ],
         "y": [
          -0.1252918287937759
         ]
        },
        {
         "marker": {
          "color": "bisque",
          "size": 5
         },
         "mode": "markers",
         "name": "3087 HK Equity",
         "type": "scatter",
         "x": [
          -0.08469872577586257
         ],
         "y": [
          -0.1706401766004417
         ]
        },
        {
         "marker": {
          "color": "maroon",
          "size": 15,
          "symbol": "diamond"
         },
         "mode": "markers",
         "name": "SSICOAD VN Equity",
         "type": "scatter",
         "x": [
          0.3261894467283781
         ],
         "y": [
          -0.1493354938644692
         ]
        },
        {
         "marker": {
          "color": "bisque",
          "size": 5
         },
         "mode": "markers",
         "name": "XFVT GR Equity",
         "type": "scatter",
         "x": [
          -0.03892675804768385
         ],
         "y": [
          -0.1902728791535173
         ]
        },
        {
         "marker": {
          "color": "bisque",
          "size": 5
         },
         "mode": "markers",
         "name": "GAVT SW Equity",
         "type": "scatter",
         "x": [
          0.06257396762326305
         ],
         "y": [
          -0.120614035087719
         ]
        },
        {
         "marker": {
          "color": "bisque",
          "size": 5
         },
         "mode": "markers",
         "name": "LCVIETS SP Equity",
         "type": "scatter",
         "x": [
          0.1280713029826539
         ],
         "y": [
          -0.1017119838872102
         ]
        },
        {
         "marker": {
          "color": "bisque",
          "size": 5
         },
         "mode": "markers",
         "name": "LUMENCH LE Equity",
         "type": "scatter",
         "x": [
          0.06275405717759734
         ],
         "y": [
          -0.1044978259319978
         ]
        },
        {
         "marker": {
          "color": "bisque",
          "size": 5
         },
         "mode": "markers",
         "name": "VNAM US Equity",
         "type": "scatter",
         "x": [
          -0.04273872240146315
         ],
         "y": [
          -0.1620148961191684
         ]
        },
        {
         "marker": {
          "color": "bisque",
          "size": 5
         },
         "mode": "markers",
         "name": "VTNPHXA KY Equity",
         "type": "scatter",
         "x": [
          0.1629145788161908
         ],
         "y": [
          -0.0613897837091578
         ]
        },
        {
         "marker": {
          "color": "bisque",
          "size": 5
         },
         "mode": "markers",
         "name": "FUEKIV30 VN Equity",
         "type": "scatter",
         "x": [
          0.1963364686920056
         ],
         "y": [
          -0.08449074074074062
         ]
        },
        {
         "marker": {
          "color": "bisque",
          "size": 5
         },
         "mode": "markers",
         "name": "FUESSVFL VN Equity",
         "type": "scatter",
         "x": [
          0.1701817411539757
         ],
         "y": [
          -0.09431345353675483
         ]
        },
        {
         "marker": {
          "color": "bisque",
          "size": 5
         },
         "mode": "markers",
         "name": "CPVNEQA TB Equity",
         "type": "scatter",
         "x": [
          0.1493289987132425
         ],
         "y": [
          -0.1296652155380236
         ]
        },
        {
         "marker": {
          "color": "bisque",
          "size": 5
         },
         "mode": "markers",
         "name": "EISVSIU ID Equity",
         "type": "scatter",
         "x": [
          0.04703091971757038
         ],
         "y": [
          -0.1236268683594454
         ]
        },
        {
         "marker": {
          "color": "bisque",
          "size": 5
         },
         "mode": "markers",
         "name": "KIMVGIU LX Equity",
         "type": "scatter",
         "x": [
          0.1389028561056363
         ],
         "y": [
          -0.1078413696625684
         ]
        },
        {
         "marker": {
          "color": "bisque",
          "size": 5
         },
         "mode": "markers",
         "name": "VIETEUR ID Equity",
         "type": "scatter",
         "x": [
          0.209709474022584
         ],
         "y": [
          -0.09969986647603067
         ]
        },
        {
         "marker": {
          "color": "bisque",
          "size": 5
         },
         "mode": "markers",
         "name": "9A311108 JP Equity",
         "type": "scatter",
         "x": [
          0.1745707374121452
         ],
         "y": [
          -0.1625405557906616
         ]
        },
        {
         "marker": {
          "color": "bisque",
          "size": 5
         },
         "mode": "markers",
         "name": "GALVINU LX Equity",
         "type": "scatter",
         "x": [
          0.08552677457410875
         ],
         "y": [
          -0.1270055941476609
         ]
        },
        {
         "marker": {
          "color": "bisque",
          "size": 5
         },
         "mode": "markers",
         "name": "GAVBNHI LX Equity",
         "type": "scatter",
         "x": [
          0.1122855131982699
         ],
         "y": [
          -0.1212688821752266
         ]
        },
        {
         "marker": {
          "color": "bisque",
          "size": 5
         },
         "mode": "markers",
         "name": "LUMCHFI LE Equity",
         "type": "scatter",
         "x": [
          0.06711609973519914
         ],
         "y": [
          -0.1043847048361722
         ]
        },
        {
         "marker": {
          "color": "bisque",
          "size": 5
         },
         "mode": "markers",
         "name": "LUMENEI LE Equity",
         "type": "scatter",
         "x": [
          0.09479824683327616
         ],
         "y": [
          -0.1007015362756417
         ]
        },
        {
         "marker": {
          "color": "bisque",
          "size": 5
         },
         "mode": "markers",
         "name": "VND SP Equity",
         "type": "scatter",
         "x": [
          -0.08879870868872933
         ],
         "y": [
          -0.1840311587147032
         ]
        },
        {
         "marker": {
          "color": "bisque",
          "size": 5
         },
         "mode": "markers",
         "name": "CTBCVET TT Equity",
         "type": "scatter",
         "x": [
          0.1143438821890637
         ],
         "y": [
          -0.129032258064516
         ]
        },
        {
         "marker": {
          "color": "bisque",
          "size": 5
         },
         "mode": "markers",
         "name": "XFVT GT Equity",
         "type": "scatter",
         "x": [
          -0.0420641493522508
         ],
         "y": [
          -0.1920945696342811
         ]
        },
        {
         "marker": {
          "color": "bisque",
          "size": 5
         },
         "mode": "markers",
         "name": "XFVT SP Equity",
         "type": "scatter",
         "x": [
          -0.07708182442314407
         ],
         "y": [
          -0.1674707098552707
         ]
        },
        {
         "marker": {
          "color": "bisque",
          "size": 5
         },
         "mode": "markers",
         "name": "TCMVN NA Equity",
         "type": "scatter",
         "x": [
          0.2017592065863854
         ],
         "y": [
          -0.1268969970939622
         ]
        },
        {
         "marker": {
          "color": "bisque",
          "size": 5
         },
         "mode": "markers",
         "name": "2804 HK Equity",
         "type": "scatter",
         "x": [
          -0.0714219178611492
         ],
         "y": [
          -0.1573137074517018
         ]
        },
        {
         "marker": {
          "color": "bisque",
          "size": 5
         },
         "mode": "markers",
         "name": "VCVOF US Equity",
         "type": "scatter",
         "x": [
          -0.0167993744053626
         ],
         "y": [
          -0.1653840661345861
         ]
        },
        {
         "marker": {
          "color": "bisque",
          "size": 5
         },
         "mode": "markers",
         "name": "FUESSV50 VN Equity",
         "type": "scatter",
         "x": [
          0.1837269273420191
         ],
         "y": [
          -0.0933140933140932
         ]
        },
        {
         "marker": {
          "color": "bisque",
          "size": 5
         },
         "mode": "markers",
         "name": "THVMEFA CH Equity",
         "type": "scatter",
         "x": [
          0.1174215503112339
         ],
         "y": [
          -0.1229882773693624
         ]
        },
        {
         "marker": {
          "color": "bisque",
          "size": 5
         },
         "mode": "markers",
         "name": "AB311171 JP Equity",
         "type": "scatter",
         "x": [
          0.1548109850613268
         ],
         "y": [
          -0.1834012135317099
         ]
        },
        {
         "marker": {
          "color": "bisque",
          "size": 5
         },
         "mode": "markers",
         "name": "IOFVTEQ LX Equity",
         "type": "scatter",
         "x": [
          0.08132154834142032
         ],
         "y": [
          -0.1347453160189756
         ]
        },
        {
         "marker": {
          "color": "bisque",
          "size": 5
         },
         "mode": "markers",
         "name": "SGVIEOP HK Equity",
         "type": "scatter",
         "x": [
          0.1146231778230333
         ],
         "y": [
          -0.1124412141941003
         ]
        },
        {
         "marker": {
          "color": "bisque",
          "size": 5
         },
         "mode": "markers",
         "name": "VFMVF1 VN Equity",
         "type": "scatter",
         "x": [
          0.2307844091818578
         ],
         "y": [
          -0.1090106019599611
         ]
        },
        {
         "marker": {
          "color": "bisque",
          "size": 5
         },
         "mode": "markers",
         "name": "FORMVIN LX Equity",
         "type": "scatter",
         "x": [
          -0.1474654982315874
         ],
         "y": [
          -0.1724137931034487
         ]
        },
        {
         "marker": {
          "color": "bisque",
          "size": 5
         },
         "mode": "markers",
         "name": "FOVIEDE LX Equity",
         "type": "scatter",
         "x": [
          0.2097809235426712
         ],
         "y": [
          -0.09872029250457058
         ]
        },
        {
         "marker": {
          "color": "bisque",
          "size": 5
         },
         "mode": "markers",
         "name": "GAVT SE Equity",
         "type": "scatter",
         "x": [
          0.06257396762326305
         ],
         "y": [
          -0.120614035087719
         ]
        },
        {
         "marker": {
          "color": "bisque",
          "size": 5
         },
         "mode": "markers",
         "name": "GELIONV SP Equity",
         "type": "scatter",
         "x": [
          0.1284400443090992
         ],
         "y": [
          -0.1013400335008375
         ]
        },
        {
         "marker": {
          "color": "bisque",
          "size": 5
         },
         "mode": "markers",
         "name": "YDVNLDR KY Equity",
         "type": "scatter",
         "x": [
          0.03717918810245245
         ],
         "y": [
          -0.1365885100576756
         ]
        },
        {
         "marker": {
          "color": "bisque",
          "size": 5
         },
         "mode": "markers",
         "name": "0431216C JP Equity",
         "type": "scatter",
         "x": [
          0.187020349903226
         ],
         "y": [
          -0.1766469889412668
         ]
        },
        {
         "marker": {
          "color": "bisque",
          "size": 5
         },
         "mode": "markers",
         "name": "VFMVFA VN Equity",
         "type": "scatter",
         "x": [
          0
         ],
         "y": [
          0
         ]
        },
        {
         "marker": {
          "color": "maroon",
          "size": 15,
          "symbol": "diamond"
         },
         "mode": "markers",
         "name": "SSIVLGF VN Equity",
         "type": "scatter",
         "x": [
          0.2672872316923096
         ],
         "y": [
          -0.07644197758803702
         ]
        },
        {
         "marker": {
          "color": "bisque",
          "size": 5
         },
         "mode": "markers",
         "name": "HLGVIET MK Equity",
         "type": "scatter",
         "x": [
          0
         ],
         "y": [
          0
         ]
        },
        {
         "marker": {
          "color": "bisque",
          "size": 5
         },
         "mode": "markers",
         "name": "HAVNEAF IT Equity",
         "type": "scatter",
         "x": [
          0
         ],
         "y": [
          0
         ]
        },
        {
         "marker": {
          "color": "bisque",
          "size": 5
         },
         "mode": "markers",
         "name": "49311186 JP Equity",
         "type": "scatter",
         "x": [
          0.1842619554455911
         ],
         "y": [
          -0.1733368629689235
         ]
        },
        {
         "marker": {
          "color": "bisque",
          "size": 5
         },
         "mode": "markers",
         "name": "DCVE SE Equity",
         "type": "scatter",
         "x": [
          0.1458802048712218
         ],
         "y": [
          -0.104404065291038
         ]
        },
        {
         "marker": {
          "color": "bisque",
          "size": 5
         },
         "mode": "markers",
         "name": "ASPVIET TB Equity",
         "type": "scatter",
         "x": [
          0.1001678010842614
         ],
         "y": [
          -0.1457111919696413
         ]
        },
        {
         "marker": {
          "color": "bisque",
          "size": 5
         },
         "mode": "markers",
         "name": "1AR0081 KS Equity",
         "type": "scatter",
         "x": [
          0.08702845616085195
         ],
         "y": [
          -0.1112807624400963
         ]
        },
        {
         "marker": {
          "color": "bisque",
          "size": 5
         },
         "mode": "markers",
         "name": "HLVIETS MK Equity",
         "type": "scatter",
         "x": [
          0
         ],
         "y": [
          0
         ]
        },
        {
         "marker": {
          "color": "bisque",
          "size": 5
         },
         "mode": "markers",
         "name": "47311156 JP Equity",
         "type": "scatter",
         "x": [
          0.2031504953457701
         ],
         "y": [
          -0.171546704919416
         ]
        },
        {
         "marker": {
          "color": "bisque",
          "size": 5
         },
         "mode": "markers",
         "name": "ASPVRMF TB Equity",
         "type": "scatter",
         "x": [
          0.08984877717940878
         ],
         "y": [
          -0.1464756950425464
         ]
        },
        {
         "marker": {
          "color": "bisque",
          "size": 5
         },
         "mode": "markers",
         "name": "VCBFTBF VN Equity",
         "type": "scatter",
         "x": [
          0.1800562145945344
         ],
         "y": [
          -0.05867380355068691
         ]
        },
        {
         "marker": {
          "color": "bisque",
          "size": 5
         },
         "mode": "markers",
         "name": "VCBFMGF VN Equity",
         "type": "scatter",
         "x": [
          0.2171231790952868
         ],
         "y": [
          -0.08912895480347142
         ]
        },
        {
         "marker": {
          "color": "bisque",
          "size": 5
         },
         "mode": "markers",
         "name": "FUCTVGF5 VN Equity",
         "type": "scatter",
         "x": [
          0.05028104422902161
         ],
         "y": [
          -0.1130434782608698
         ]
        },
        {
         "marker": {
          "color": "bisque",
          "size": 5
         },
         "mode": "markers",
         "name": "VG6 GR Equity",
         "type": "scatter",
         "x": [
          0
         ],
         "y": [
          0
         ]
        },
        {
         "marker": {
          "color": "bisque",
          "size": 5
         },
         "mode": "markers",
         "name": "VNF LN Equity",
         "type": "scatter",
         "x": [
          0
         ],
         "y": [
          0
         ]
        },
        {
         "marker": {
          "color": "bisque",
          "size": 5
         },
         "mode": "markers",
         "name": "FUCTVGF3 VN Equity",
         "type": "scatter",
         "x": [
          0.1074586994983666
         ],
         "y": [
          -0.2206896551724138
         ]
        },
        {
         "marker": {
          "color": "bisque",
          "size": 5
         },
         "mode": "markers",
         "name": "FUESSV30 VN Equity",
         "type": "scatter",
         "x": [
          0.1901343775486832
         ],
         "y": [
          -0.0740740740740739
         ]
        },
        {
         "marker": {
          "color": "maroon",
          "size": 15,
          "symbol": "diamond"
         },
         "mode": "markers",
         "name": "SSISCA",
         "type": "scatter",
         "x": [
          0.2971821247959366
         ],
         "y": [
          -0.08319027981542043
         ]
        },
        {
         "marker": {
          "color": "bisque",
          "size": 5
         },
         "mode": "markers",
         "name": "BVPF",
         "type": "scatter",
         "x": [
          0.2195052378761236
         ],
         "y": [
          -0.07315347608716187
         ]
        },
        {
         "marker": {
          "color": "bisque",
          "size": 5
         },
         "mode": "markers",
         "name": "VESAF",
         "type": "scatter",
         "x": [
          0.2066446437346217
         ],
         "y": [
          -0.1015138877866713
         ]
        },
        {
         "marker": {
          "color": "bisque",
          "size": 5
         },
         "mode": "markers",
         "name": "VCBF-BCF",
         "type": "scatter",
         "x": [
          0.233983703776604
         ],
         "y": [
          -0.08299035666965379
         ]
        },
        {
         "marker": {
          "color": "bisque",
          "size": 5
         },
         "mode": "markers",
         "name": "VEOF",
         "type": "scatter",
         "x": [
          0.2249855586449517
         ],
         "y": [
          -0.1003613128723971
         ]
        },
        {
         "marker": {
          "color": "bisque",
          "size": 5
         },
         "mode": "markers",
         "name": "MBVF",
         "type": "scatter",
         "x": [
          0.1842684007059309
         ],
         "y": [
          -0.07476767772064667
         ]
        },
        {
         "marker": {
          "color": "bisque",
          "size": 5
         },
         "mode": "markers",
         "name": "MAGEF",
         "type": "scatter",
         "x": [
          0.2176359009592586
         ],
         "y": [
          -0.09985727303468107
         ]
        },
        {
         "marker": {
          "color": "bisque",
          "size": 5
         },
         "mode": "markers",
         "name": "DCDS",
         "type": "scatter",
         "x": [
          0.2304224728677103
         ],
         "y": [
          -0.1090106019599614
         ]
        },
        {
         "marker": {
          "color": "bisque",
          "size": 5
         },
         "mode": "markers",
         "name": "VNDAF",
         "type": "scatter",
         "x": [
          0.1450187361890155
         ],
         "y": [
          -0.08495788644412935
         ]
        },
        {
         "marker": {
          "color": "bisque",
          "size": 5
         },
         "mode": "markers",
         "name": "DCDE",
         "type": "scatter",
         "x": [
          0.12063269101548
         ],
         "y": [
          -0.1187890108642469
         ]
        },
        {
         "marker": {
          "color": "bisque",
          "size": 5
         },
         "mode": "markers",
         "name": "DCAF",
         "type": "scatter",
         "x": [
          0.1324111328142388
         ],
         "y": [
          -0.08653857243709857
         ]
        },
        {
         "marker": {
          "color": "bisque",
          "size": 5
         },
         "mode": "markers",
         "name": "BVFED",
         "type": "scatter",
         "x": [
          0.1641438215886203
         ],
         "y": [
          -0.05842102983846515
         ]
        },
        {
         "marker": {
          "color": "bisque",
          "size": 5
         },
         "mode": "markers",
         "name": "MAFEQI",
         "type": "scatter",
         "x": [
          0.1781261965894032
         ],
         "y": [
          -0.08643718101856898
         ]
        },
        {
         "marker": {
          "color": "purple",
          "size": 25,
          "symbol": "square"
         },
         "mode": "markers",
         "name": "VNI",
         "type": "scatter",
         "x": [
          0.119894015148787
         ],
         "y": [
          -0.08939062766435678
         ]
        },
        {
         "marker": {
          "color": "blue",
          "size": 30
         },
         "mode": "markers",
         "name": "HIEP.NS",
         "type": "scatter",
         "x": [
          0.1986
         ],
         "y": [
          -0.12
         ]
        },
        {
         "marker": {
          "color": "green",
          "size": 30
         },
         "mode": "markers",
         "name": "NAM.TH.CS",
         "type": "scatter",
         "x": [
          0.1768
         ],
         "y": [
          -0.0987
         ]
        },
        {
         "marker": {
          "color": "red",
          "size": 30
         },
         "mode": "markers",
         "name": "NAM.TH.PS",
         "type": "scatter",
         "x": [
          0.1502
         ],
         "y": [
          -0.0975
         ]
        },
        {
         "marker": {
          "color": "orange",
          "size": 30
         },
         "mode": "markers",
         "name": "MANDATE VND",
         "type": "scatter",
         "x": [
          0.15
         ],
         "y": [
          -0.18
         ]
        }
       ],
       "layout": {
        "template": {
         "data": {
          "bar": [
           {
            "error_x": {
             "color": "#2a3f5f"
            },
            "error_y": {
             "color": "#2a3f5f"
            },
            "marker": {
             "line": {
              "color": "white",
              "width": 0.5
             },
             "pattern": {
              "fillmode": "overlay",
              "size": 10,
              "solidity": 0.2
             }
            },
            "type": "bar"
           }
          ],
          "barpolar": [
           {
            "marker": {
             "line": {
              "color": "white",
              "width": 0.5
             },
             "pattern": {
              "fillmode": "overlay",
              "size": 10,
              "solidity": 0.2
             }
            },
            "type": "barpolar"
           }
          ],
          "carpet": [
           {
            "aaxis": {
             "endlinecolor": "#2a3f5f",
             "gridcolor": "#C8D4E3",
             "linecolor": "#C8D4E3",
             "minorgridcolor": "#C8D4E3",
             "startlinecolor": "#2a3f5f"
            },
            "baxis": {
             "endlinecolor": "#2a3f5f",
             "gridcolor": "#C8D4E3",
             "linecolor": "#C8D4E3",
             "minorgridcolor": "#C8D4E3",
             "startlinecolor": "#2a3f5f"
            },
            "type": "carpet"
           }
          ],
          "choropleth": [
           {
            "colorbar": {
             "outlinewidth": 0,
             "ticks": ""
            },
            "type": "choropleth"
           }
          ],
          "contour": [
           {
            "colorbar": {
             "outlinewidth": 0,
             "ticks": ""
            },
            "colorscale": [
             [
              0,
              "#0d0887"
             ],
             [
              0.1111111111111111,
              "#46039f"
             ],
             [
              0.2222222222222222,
              "#7201a8"
             ],
             [
              0.3333333333333333,
              "#9c179e"
             ],
             [
              0.4444444444444444,
              "#bd3786"
             ],
             [
              0.5555555555555556,
              "#d8576b"
             ],
             [
              0.6666666666666666,
              "#ed7953"
             ],
             [
              0.7777777777777778,
              "#fb9f3a"
             ],
             [
              0.8888888888888888,
              "#fdca26"
             ],
             [
              1,
              "#f0f921"
             ]
            ],
            "type": "contour"
           }
          ],
          "contourcarpet": [
           {
            "colorbar": {
             "outlinewidth": 0,
             "ticks": ""
            },
            "type": "contourcarpet"
           }
          ],
          "heatmap": [
           {
            "colorbar": {
             "outlinewidth": 0,
             "ticks": ""
            },
            "colorscale": [
             [
              0,
              "#0d0887"
             ],
             [
              0.1111111111111111,
              "#46039f"
             ],
             [
              0.2222222222222222,
              "#7201a8"
             ],
             [
              0.3333333333333333,
              "#9c179e"
             ],
             [
              0.4444444444444444,
              "#bd3786"
             ],
             [
              0.5555555555555556,
              "#d8576b"
             ],
             [
              0.6666666666666666,
              "#ed7953"
             ],
             [
              0.7777777777777778,
              "#fb9f3a"
             ],
             [
              0.8888888888888888,
              "#fdca26"
             ],
             [
              1,
              "#f0f921"
             ]
            ],
            "type": "heatmap"
           }
          ],
          "heatmapgl": [
           {
            "colorbar": {
             "outlinewidth": 0,
             "ticks": ""
            },
            "colorscale": [
             [
              0,
              "#0d0887"
             ],
             [
              0.1111111111111111,
              "#46039f"
             ],
             [
              0.2222222222222222,
              "#7201a8"
             ],
             [
              0.3333333333333333,
              "#9c179e"
             ],
             [
              0.4444444444444444,
              "#bd3786"
             ],
             [
              0.5555555555555556,
              "#d8576b"
             ],
             [
              0.6666666666666666,
              "#ed7953"
             ],
             [
              0.7777777777777778,
              "#fb9f3a"
             ],
             [
              0.8888888888888888,
              "#fdca26"
             ],
             [
              1,
              "#f0f921"
             ]
            ],
            "type": "heatmapgl"
           }
          ],
          "histogram": [
           {
            "marker": {
             "pattern": {
              "fillmode": "overlay",
              "size": 10,
              "solidity": 0.2
             }
            },
            "type": "histogram"
           }
          ],
          "histogram2d": [
           {
            "colorbar": {
             "outlinewidth": 0,
             "ticks": ""
            },
            "colorscale": [
             [
              0,
              "#0d0887"
             ],
             [
              0.1111111111111111,
              "#46039f"
             ],
             [
              0.2222222222222222,
              "#7201a8"
             ],
             [
              0.3333333333333333,
              "#9c179e"
             ],
             [
              0.4444444444444444,
              "#bd3786"
             ],
             [
              0.5555555555555556,
              "#d8576b"
             ],
             [
              0.6666666666666666,
              "#ed7953"
             ],
             [
              0.7777777777777778,
              "#fb9f3a"
             ],
             [
              0.8888888888888888,
              "#fdca26"
             ],
             [
              1,
              "#f0f921"
             ]
            ],
            "type": "histogram2d"
           }
          ],
          "histogram2dcontour": [
           {
            "colorbar": {
             "outlinewidth": 0,
             "ticks": ""
            },
            "colorscale": [
             [
              0,
              "#0d0887"
             ],
             [
              0.1111111111111111,
              "#46039f"
             ],
             [
              0.2222222222222222,
              "#7201a8"
             ],
             [
              0.3333333333333333,
              "#9c179e"
             ],
             [
              0.4444444444444444,
              "#bd3786"
             ],
             [
              0.5555555555555556,
              "#d8576b"
             ],
             [
              0.6666666666666666,
              "#ed7953"
             ],
             [
              0.7777777777777778,
              "#fb9f3a"
             ],
             [
              0.8888888888888888,
              "#fdca26"
             ],
             [
              1,
              "#f0f921"
             ]
            ],
            "type": "histogram2dcontour"
           }
          ],
          "mesh3d": [
           {
            "colorbar": {
             "outlinewidth": 0,
             "ticks": ""
            },
            "type": "mesh3d"
           }
          ],
          "parcoords": [
           {
            "line": {
             "colorbar": {
              "outlinewidth": 0,
              "ticks": ""
             }
            },
            "type": "parcoords"
           }
          ],
          "pie": [
           {
            "automargin": true,
            "type": "pie"
           }
          ],
          "scatter": [
           {
            "fillpattern": {
             "fillmode": "overlay",
             "size": 10,
             "solidity": 0.2
            },
            "type": "scatter"
           }
          ],
          "scatter3d": [
           {
            "line": {
             "colorbar": {
              "outlinewidth": 0,
              "ticks": ""
             }
            },
            "marker": {
             "colorbar": {
              "outlinewidth": 0,
              "ticks": ""
             }
            },
            "type": "scatter3d"
           }
          ],
          "scattercarpet": [
           {
            "marker": {
             "colorbar": {
              "outlinewidth": 0,
              "ticks": ""
             }
            },
            "type": "scattercarpet"
           }
          ],
          "scattergeo": [
           {
            "marker": {
             "colorbar": {
              "outlinewidth": 0,
              "ticks": ""
             }
            },
            "type": "scattergeo"
           }
          ],
          "scattergl": [
           {
            "marker": {
             "colorbar": {
              "outlinewidth": 0,
              "ticks": ""
             }
            },
            "type": "scattergl"
           }
          ],
          "scattermapbox": [
           {
            "marker": {
             "colorbar": {
              "outlinewidth": 0,
              "ticks": ""
             }
            },
            "type": "scattermapbox"
           }
          ],
          "scatterpolar": [
           {
            "marker": {
             "colorbar": {
              "outlinewidth": 0,
              "ticks": ""
             }
            },
            "type": "scatterpolar"
           }
          ],
          "scatterpolargl": [
           {
            "marker": {
             "colorbar": {
              "outlinewidth": 0,
              "ticks": ""
             }
            },
            "type": "scatterpolargl"
           }
          ],
          "scatterternary": [
           {
            "marker": {
             "colorbar": {
              "outlinewidth": 0,
              "ticks": ""
             }
            },
            "type": "scatterternary"
           }
          ],
          "surface": [
           {
            "colorbar": {
             "outlinewidth": 0,
             "ticks": ""
            },
            "colorscale": [
             [
              0,
              "#0d0887"
             ],
             [
              0.1111111111111111,
              "#46039f"
             ],
             [
              0.2222222222222222,
              "#7201a8"
             ],
             [
              0.3333333333333333,
              "#9c179e"
             ],
             [
              0.4444444444444444,
              "#bd3786"
             ],
             [
              0.5555555555555556,
              "#d8576b"
             ],
             [
              0.6666666666666666,
              "#ed7953"
             ],
             [
              0.7777777777777778,
              "#fb9f3a"
             ],
             [
              0.8888888888888888,
              "#fdca26"
             ],
             [
              1,
              "#f0f921"
             ]
            ],
            "type": "surface"
           }
          ],
          "table": [
           {
            "cells": {
             "fill": {
              "color": "#EBF0F8"
             },
             "line": {
              "color": "white"
             }
            },
            "header": {
             "fill": {
              "color": "#C8D4E3"
             },
             "line": {
              "color": "white"
             }
            },
            "type": "table"
           }
          ]
         },
         "layout": {
          "annotationdefaults": {
           "arrowcolor": "#2a3f5f",
           "arrowhead": 0,
           "arrowwidth": 1
          },
          "autotypenumbers": "strict",
          "coloraxis": {
           "colorbar": {
            "outlinewidth": 0,
            "ticks": ""
           }
          },
          "colorscale": {
           "diverging": [
            [
             0,
             "#8e0152"
            ],
            [
             0.1,
             "#c51b7d"
            ],
            [
             0.2,
             "#de77ae"
            ],
            [
             0.3,
             "#f1b6da"
            ],
            [
             0.4,
             "#fde0ef"
            ],
            [
             0.5,
             "#f7f7f7"
            ],
            [
             0.6,
             "#e6f5d0"
            ],
            [
             0.7,
             "#b8e186"
            ],
            [
             0.8,
             "#7fbc41"
            ],
            [
             0.9,
             "#4d9221"
            ],
            [
             1,
             "#276419"
            ]
           ],
           "sequential": [
            [
             0,
             "#0d0887"
            ],
            [
             0.1111111111111111,
             "#46039f"
            ],
            [
             0.2222222222222222,
             "#7201a8"
            ],
            [
             0.3333333333333333,
             "#9c179e"
            ],
            [
             0.4444444444444444,
             "#bd3786"
            ],
            [
             0.5555555555555556,
             "#d8576b"
            ],
            [
             0.6666666666666666,
             "#ed7953"
            ],
            [
             0.7777777777777778,
             "#fb9f3a"
            ],
            [
             0.8888888888888888,
             "#fdca26"
            ],
            [
             1,
             "#f0f921"
            ]
           ],
           "sequentialminus": [
            [
             0,
             "#0d0887"
            ],
            [
             0.1111111111111111,
             "#46039f"
            ],
            [
             0.2222222222222222,
             "#7201a8"
            ],
            [
             0.3333333333333333,
             "#9c179e"
            ],
            [
             0.4444444444444444,
             "#bd3786"
            ],
            [
             0.5555555555555556,
             "#d8576b"
            ],
            [
             0.6666666666666666,
             "#ed7953"
            ],
            [
             0.7777777777777778,
             "#fb9f3a"
            ],
            [
             0.8888888888888888,
             "#fdca26"
            ],
            [
             1,
             "#f0f921"
            ]
           ]
          },
          "colorway": [
           "#636efa",
           "#EF553B",
           "#00cc96",
           "#ab63fa",
           "#FFA15A",
           "#19d3f3",
           "#FF6692",
           "#B6E880",
           "#FF97FF",
           "#FECB52"
          ],
          "font": {
           "color": "#2a3f5f"
          },
          "geo": {
           "bgcolor": "white",
           "lakecolor": "white",
           "landcolor": "white",
           "showlakes": true,
           "showland": true,
           "subunitcolor": "#C8D4E3"
          },
          "hoverlabel": {
           "align": "left"
          },
          "hovermode": "closest",
          "mapbox": {
           "style": "light"
          },
          "paper_bgcolor": "white",
          "plot_bgcolor": "white",
          "polar": {
           "angularaxis": {
            "gridcolor": "#EBF0F8",
            "linecolor": "#EBF0F8",
            "ticks": ""
           },
           "bgcolor": "white",
           "radialaxis": {
            "gridcolor": "#EBF0F8",
            "linecolor": "#EBF0F8",
            "ticks": ""
           }
          },
          "scene": {
           "xaxis": {
            "backgroundcolor": "white",
            "gridcolor": "#DFE8F3",
            "gridwidth": 2,
            "linecolor": "#EBF0F8",
            "showbackground": true,
            "ticks": "",
            "zerolinecolor": "#EBF0F8"
           },
           "yaxis": {
            "backgroundcolor": "white",
            "gridcolor": "#DFE8F3",
            "gridwidth": 2,
            "linecolor": "#EBF0F8",
            "showbackground": true,
            "ticks": "",
            "zerolinecolor": "#EBF0F8"
           },
           "zaxis": {
            "backgroundcolor": "white",
            "gridcolor": "#DFE8F3",
            "gridwidth": 2,
            "linecolor": "#EBF0F8",
            "showbackground": true,
            "ticks": "",
            "zerolinecolor": "#EBF0F8"
           }
          },
          "shapedefaults": {
           "line": {
            "color": "#2a3f5f"
           }
          },
          "ternary": {
           "aaxis": {
            "gridcolor": "#DFE8F3",
            "linecolor": "#A2B1C6",
            "ticks": ""
           },
           "baxis": {
            "gridcolor": "#DFE8F3",
            "linecolor": "#A2B1C6",
            "ticks": ""
           },
           "bgcolor": "white",
           "caxis": {
            "gridcolor": "#DFE8F3",
            "linecolor": "#A2B1C6",
            "ticks": ""
           }
          },
          "title": {
           "x": 0.05
          },
          "xaxis": {
           "automargin": true,
           "gridcolor": "#EBF0F8",
           "linecolor": "#EBF0F8",
           "ticks": "",
           "title": {
            "standoff": 15
           },
           "zerolinecolor": "#EBF0F8",
           "zerolinewidth": 2
          },
          "yaxis": {
           "automargin": true,
           "gridcolor": "#EBF0F8",
           "linecolor": "#EBF0F8",
           "ticks": "",
           "title": {
            "standoff": 15
           },
           "zerolinecolor": "#EBF0F8",
           "zerolinewidth": 2
          }
         }
        },
        "title": {
         "text": "Compare Annual Return / Max Drawdown 2024"
        },
        "xaxis": {
         "title": {
          "text": "Annual Return"
         }
        },
        "yaxis": {
         "title": {
          "text": "Max Drawdown"
         }
        }
       }
      },
      "text/html": [
       "<div>                            <div id=\"9fbda2ac-b7fb-47d3-9f41-9dd81c97e901\" class=\"plotly-graph-div\" style=\"height:525px; width:100%;\"></div>            <script type=\"text/javascript\">                require([\"plotly\"], function(Plotly) {                    window.PLOTLYENV=window.PLOTLYENV || {};                                    if (document.getElementById(\"9fbda2ac-b7fb-47d3-9f41-9dd81c97e901\")) {                    Plotly.newPlot(                        \"9fbda2ac-b7fb-47d3-9f41-9dd81c97e901\",                        [{\"marker\":{\"color\":\"bisque\",\"size\":5},\"mode\":\"markers\",\"name\":\"VNM US Equity\",\"x\":[-0.07153099580658764],\"y\":[-0.1805755395683455],\"type\":\"scatter\"},{\"marker\":{\"color\":\"bisque\",\"size\":5},\"mode\":\"markers\",\"name\":\"AFCVICI KY Equity\",\"x\":[0.07406609808355384],\"y\":[-0.03804046213611826],\"type\":\"scatter\"},{\"marker\":{\"color\":\"bisque\",\"size\":5},\"mode\":\"markers\",\"name\":\"LUMENUS LE Equity\",\"x\":[0.1121622897434915],\"y\":[-0.09887005649717523],\"type\":\"scatter\"},{\"marker\":{\"color\":\"bisque\",\"size\":5},\"mode\":\"markers\",\"name\":\"XFVT GY Equity\",\"x\":[-0.0420641493522508],\"y\":[-0.1920945696342811],\"type\":\"scatter\"},{\"marker\":{\"color\":\"bisque\",\"size\":5},\"mode\":\"markers\",\"name\":\"GAVNBCU LX Equity\",\"x\":[0.07038898079453688],\"y\":[-0.1276772430019721],\"type\":\"scatter\"},{\"marker\":{\"color\":\"bisque\",\"size\":5},\"mode\":\"markers\",\"name\":\"LCVIETU SP Equity\",\"x\":[0.1164593155432288],\"y\":[-0.0975954738330974],\"type\":\"scatter\"},{\"marker\":{\"color\":\"bisque\",\"size\":5},\"mode\":\"markers\",\"name\":\"FOVCPVA LX Equity\",\"x\":[0.170683430666502],\"y\":[-0.1119373776908019],\"type\":\"scatter\"},{\"marker\":{\"color\":\"bisque\",\"size\":5},\"mode\":\"markers\",\"name\":\"GAVTNIU LX Equity\",\"x\":[0.07041328042755662],\"y\":[-0.1276464168788647],\"type\":\"scatter\"},{\"marker\":{\"color\":\"bisque\",\"size\":5},\"mode\":\"markers\",\"name\":\"AFCVIET KY Equity\",\"x\":[0.06896837592502382],\"y\":[-0.03884220462955983],\"type\":\"scatter\"},{\"marker\":{\"color\":\"bisque\",\"size\":5},\"mode\":\"markers\",\"name\":\"VIETNAM ID Equity\",\"x\":[0.1532805113678073],\"y\":[-0.1151477832512313],\"type\":\"scatter\"},{\"marker\":{\"color\":\"bisque\",\"size\":5},\"mode\":\"markers\",\"name\":\"E1VFVN30 VN Equity\",\"x\":[0.1852660477015622],\"y\":[-0.0841825431989364],\"type\":\"scatter\"},{\"marker\":{\"color\":\"bisque\",\"size\":5},\"mode\":\"markers\",\"name\":\"XVTD LN Equity\",\"x\":[-0.08072779071437837],\"y\":[-0.1790355677154586],\"type\":\"scatter\"},{\"marker\":{\"color\":\"bisque\",\"size\":5},\"mode\":\"markers\",\"name\":\"KVIETNE TB Equity\",\"x\":[0.1542154823971694],\"y\":[-0.1215993262506805],\"type\":\"scatter\"},{\"marker\":{\"color\":\"bisque\",\"size\":5},\"mode\":\"markers\",\"name\":\"00885 TT Equity\",\"x\":[0.002322385819444427],\"y\":[-0.1252918287937759],\"type\":\"scatter\"},{\"marker\":{\"color\":\"bisque\",\"size\":5},\"mode\":\"markers\",\"name\":\"3087 HK Equity\",\"x\":[-0.08469872577586257],\"y\":[-0.1706401766004417],\"type\":\"scatter\"},{\"marker\":{\"color\":\"maroon\",\"size\":15,\"symbol\":\"diamond\"},\"mode\":\"markers\",\"name\":\"SSICOAD VN Equity\",\"x\":[0.3261894467283781],\"y\":[-0.1493354938644692],\"type\":\"scatter\"},{\"marker\":{\"color\":\"bisque\",\"size\":5},\"mode\":\"markers\",\"name\":\"XFVT GR Equity\",\"x\":[-0.03892675804768385],\"y\":[-0.1902728791535173],\"type\":\"scatter\"},{\"marker\":{\"color\":\"bisque\",\"size\":5},\"mode\":\"markers\",\"name\":\"GAVT SW Equity\",\"x\":[0.06257396762326305],\"y\":[-0.120614035087719],\"type\":\"scatter\"},{\"marker\":{\"color\":\"bisque\",\"size\":5},\"mode\":\"markers\",\"name\":\"LCVIETS SP Equity\",\"x\":[0.1280713029826539],\"y\":[-0.1017119838872102],\"type\":\"scatter\"},{\"marker\":{\"color\":\"bisque\",\"size\":5},\"mode\":\"markers\",\"name\":\"LUMENCH LE Equity\",\"x\":[0.06275405717759734],\"y\":[-0.1044978259319978],\"type\":\"scatter\"},{\"marker\":{\"color\":\"bisque\",\"size\":5},\"mode\":\"markers\",\"name\":\"VNAM US Equity\",\"x\":[-0.04273872240146315],\"y\":[-0.1620148961191684],\"type\":\"scatter\"},{\"marker\":{\"color\":\"bisque\",\"size\":5},\"mode\":\"markers\",\"name\":\"VTNPHXA KY Equity\",\"x\":[0.1629145788161908],\"y\":[-0.0613897837091578],\"type\":\"scatter\"},{\"marker\":{\"color\":\"bisque\",\"size\":5},\"mode\":\"markers\",\"name\":\"FUEKIV30 VN Equity\",\"x\":[0.1963364686920056],\"y\":[-0.08449074074074062],\"type\":\"scatter\"},{\"marker\":{\"color\":\"bisque\",\"size\":5},\"mode\":\"markers\",\"name\":\"FUESSVFL VN Equity\",\"x\":[0.1701817411539757],\"y\":[-0.09431345353675483],\"type\":\"scatter\"},{\"marker\":{\"color\":\"bisque\",\"size\":5},\"mode\":\"markers\",\"name\":\"CPVNEQA TB Equity\",\"x\":[0.1493289987132425],\"y\":[-0.1296652155380236],\"type\":\"scatter\"},{\"marker\":{\"color\":\"bisque\",\"size\":5},\"mode\":\"markers\",\"name\":\"EISVSIU ID Equity\",\"x\":[0.04703091971757038],\"y\":[-0.1236268683594454],\"type\":\"scatter\"},{\"marker\":{\"color\":\"bisque\",\"size\":5},\"mode\":\"markers\",\"name\":\"KIMVGIU LX Equity\",\"x\":[0.1389028561056363],\"y\":[-0.1078413696625684],\"type\":\"scatter\"},{\"marker\":{\"color\":\"bisque\",\"size\":5},\"mode\":\"markers\",\"name\":\"VIETEUR ID Equity\",\"x\":[0.209709474022584],\"y\":[-0.09969986647603067],\"type\":\"scatter\"},{\"marker\":{\"color\":\"bisque\",\"size\":5},\"mode\":\"markers\",\"name\":\"9A311108 JP Equity\",\"x\":[0.1745707374121452],\"y\":[-0.1625405557906616],\"type\":\"scatter\"},{\"marker\":{\"color\":\"bisque\",\"size\":5},\"mode\":\"markers\",\"name\":\"GALVINU LX Equity\",\"x\":[0.08552677457410875],\"y\":[-0.1270055941476609],\"type\":\"scatter\"},{\"marker\":{\"color\":\"bisque\",\"size\":5},\"mode\":\"markers\",\"name\":\"GAVBNHI LX Equity\",\"x\":[0.1122855131982699],\"y\":[-0.1212688821752266],\"type\":\"scatter\"},{\"marker\":{\"color\":\"bisque\",\"size\":5},\"mode\":\"markers\",\"name\":\"LUMCHFI LE Equity\",\"x\":[0.06711609973519914],\"y\":[-0.1043847048361722],\"type\":\"scatter\"},{\"marker\":{\"color\":\"bisque\",\"size\":5},\"mode\":\"markers\",\"name\":\"LUMENEI LE Equity\",\"x\":[0.09479824683327616],\"y\":[-0.1007015362756417],\"type\":\"scatter\"},{\"marker\":{\"color\":\"bisque\",\"size\":5},\"mode\":\"markers\",\"name\":\"VND SP Equity\",\"x\":[-0.08879870868872933],\"y\":[-0.1840311587147032],\"type\":\"scatter\"},{\"marker\":{\"color\":\"bisque\",\"size\":5},\"mode\":\"markers\",\"name\":\"CTBCVET TT Equity\",\"x\":[0.1143438821890637],\"y\":[-0.129032258064516],\"type\":\"scatter\"},{\"marker\":{\"color\":\"bisque\",\"size\":5},\"mode\":\"markers\",\"name\":\"XFVT GT Equity\",\"x\":[-0.0420641493522508],\"y\":[-0.1920945696342811],\"type\":\"scatter\"},{\"marker\":{\"color\":\"bisque\",\"size\":5},\"mode\":\"markers\",\"name\":\"XFVT SP Equity\",\"x\":[-0.07708182442314407],\"y\":[-0.1674707098552707],\"type\":\"scatter\"},{\"marker\":{\"color\":\"bisque\",\"size\":5},\"mode\":\"markers\",\"name\":\"TCMVN NA Equity\",\"x\":[0.2017592065863854],\"y\":[-0.1268969970939622],\"type\":\"scatter\"},{\"marker\":{\"color\":\"bisque\",\"size\":5},\"mode\":\"markers\",\"name\":\"2804 HK Equity\",\"x\":[-0.0714219178611492],\"y\":[-0.1573137074517018],\"type\":\"scatter\"},{\"marker\":{\"color\":\"bisque\",\"size\":5},\"mode\":\"markers\",\"name\":\"VCVOF US Equity\",\"x\":[-0.0167993744053626],\"y\":[-0.1653840661345861],\"type\":\"scatter\"},{\"marker\":{\"color\":\"bisque\",\"size\":5},\"mode\":\"markers\",\"name\":\"FUESSV50 VN Equity\",\"x\":[0.1837269273420191],\"y\":[-0.0933140933140932],\"type\":\"scatter\"},{\"marker\":{\"color\":\"bisque\",\"size\":5},\"mode\":\"markers\",\"name\":\"THVMEFA CH Equity\",\"x\":[0.1174215503112339],\"y\":[-0.1229882773693624],\"type\":\"scatter\"},{\"marker\":{\"color\":\"bisque\",\"size\":5},\"mode\":\"markers\",\"name\":\"AB311171 JP Equity\",\"x\":[0.1548109850613268],\"y\":[-0.1834012135317099],\"type\":\"scatter\"},{\"marker\":{\"color\":\"bisque\",\"size\":5},\"mode\":\"markers\",\"name\":\"IOFVTEQ LX Equity\",\"x\":[0.08132154834142032],\"y\":[-0.1347453160189756],\"type\":\"scatter\"},{\"marker\":{\"color\":\"bisque\",\"size\":5},\"mode\":\"markers\",\"name\":\"SGVIEOP HK Equity\",\"x\":[0.1146231778230333],\"y\":[-0.1124412141941003],\"type\":\"scatter\"},{\"marker\":{\"color\":\"bisque\",\"size\":5},\"mode\":\"markers\",\"name\":\"VFMVF1 VN Equity\",\"x\":[0.2307844091818578],\"y\":[-0.1090106019599611],\"type\":\"scatter\"},{\"marker\":{\"color\":\"bisque\",\"size\":5},\"mode\":\"markers\",\"name\":\"FORMVIN LX Equity\",\"x\":[-0.1474654982315874],\"y\":[-0.1724137931034487],\"type\":\"scatter\"},{\"marker\":{\"color\":\"bisque\",\"size\":5},\"mode\":\"markers\",\"name\":\"FOVIEDE LX Equity\",\"x\":[0.2097809235426712],\"y\":[-0.09872029250457058],\"type\":\"scatter\"},{\"marker\":{\"color\":\"bisque\",\"size\":5},\"mode\":\"markers\",\"name\":\"GAVT SE Equity\",\"x\":[0.06257396762326305],\"y\":[-0.120614035087719],\"type\":\"scatter\"},{\"marker\":{\"color\":\"bisque\",\"size\":5},\"mode\":\"markers\",\"name\":\"GELIONV SP Equity\",\"x\":[0.1284400443090992],\"y\":[-0.1013400335008375],\"type\":\"scatter\"},{\"marker\":{\"color\":\"bisque\",\"size\":5},\"mode\":\"markers\",\"name\":\"YDVNLDR KY Equity\",\"x\":[0.03717918810245245],\"y\":[-0.1365885100576756],\"type\":\"scatter\"},{\"marker\":{\"color\":\"bisque\",\"size\":5},\"mode\":\"markers\",\"name\":\"0431216C JP Equity\",\"x\":[0.187020349903226],\"y\":[-0.1766469889412668],\"type\":\"scatter\"},{\"marker\":{\"color\":\"bisque\",\"size\":5},\"mode\":\"markers\",\"name\":\"VFMVFA VN Equity\",\"x\":[0.0],\"y\":[0.0],\"type\":\"scatter\"},{\"marker\":{\"color\":\"maroon\",\"size\":15,\"symbol\":\"diamond\"},\"mode\":\"markers\",\"name\":\"SSIVLGF VN Equity\",\"x\":[0.2672872316923096],\"y\":[-0.07644197758803702],\"type\":\"scatter\"},{\"marker\":{\"color\":\"bisque\",\"size\":5},\"mode\":\"markers\",\"name\":\"HLGVIET MK Equity\",\"x\":[0.0],\"y\":[0.0],\"type\":\"scatter\"},{\"marker\":{\"color\":\"bisque\",\"size\":5},\"mode\":\"markers\",\"name\":\"HAVNEAF IT Equity\",\"x\":[0.0],\"y\":[0.0],\"type\":\"scatter\"},{\"marker\":{\"color\":\"bisque\",\"size\":5},\"mode\":\"markers\",\"name\":\"49311186 JP Equity\",\"x\":[0.1842619554455911],\"y\":[-0.1733368629689235],\"type\":\"scatter\"},{\"marker\":{\"color\":\"bisque\",\"size\":5},\"mode\":\"markers\",\"name\":\"DCVE SE Equity\",\"x\":[0.1458802048712218],\"y\":[-0.104404065291038],\"type\":\"scatter\"},{\"marker\":{\"color\":\"bisque\",\"size\":5},\"mode\":\"markers\",\"name\":\"ASPVIET TB Equity\",\"x\":[0.1001678010842614],\"y\":[-0.1457111919696413],\"type\":\"scatter\"},{\"marker\":{\"color\":\"bisque\",\"size\":5},\"mode\":\"markers\",\"name\":\"1AR0081 KS Equity\",\"x\":[0.08702845616085195],\"y\":[-0.1112807624400963],\"type\":\"scatter\"},{\"marker\":{\"color\":\"bisque\",\"size\":5},\"mode\":\"markers\",\"name\":\"HLVIETS MK Equity\",\"x\":[0.0],\"y\":[0.0],\"type\":\"scatter\"},{\"marker\":{\"color\":\"bisque\",\"size\":5},\"mode\":\"markers\",\"name\":\"47311156 JP Equity\",\"x\":[0.2031504953457701],\"y\":[-0.171546704919416],\"type\":\"scatter\"},{\"marker\":{\"color\":\"bisque\",\"size\":5},\"mode\":\"markers\",\"name\":\"ASPVRMF TB Equity\",\"x\":[0.08984877717940878],\"y\":[-0.1464756950425464],\"type\":\"scatter\"},{\"marker\":{\"color\":\"bisque\",\"size\":5},\"mode\":\"markers\",\"name\":\"VCBFTBF VN Equity\",\"x\":[0.1800562145945344],\"y\":[-0.05867380355068691],\"type\":\"scatter\"},{\"marker\":{\"color\":\"bisque\",\"size\":5},\"mode\":\"markers\",\"name\":\"VCBFMGF VN Equity\",\"x\":[0.2171231790952868],\"y\":[-0.08912895480347142],\"type\":\"scatter\"},{\"marker\":{\"color\":\"bisque\",\"size\":5},\"mode\":\"markers\",\"name\":\"FUCTVGF5 VN Equity\",\"x\":[0.05028104422902161],\"y\":[-0.1130434782608698],\"type\":\"scatter\"},{\"marker\":{\"color\":\"bisque\",\"size\":5},\"mode\":\"markers\",\"name\":\"VG6 GR Equity\",\"x\":[0.0],\"y\":[0.0],\"type\":\"scatter\"},{\"marker\":{\"color\":\"bisque\",\"size\":5},\"mode\":\"markers\",\"name\":\"VNF LN Equity\",\"x\":[0.0],\"y\":[0.0],\"type\":\"scatter\"},{\"marker\":{\"color\":\"bisque\",\"size\":5},\"mode\":\"markers\",\"name\":\"FUCTVGF3 VN Equity\",\"x\":[0.1074586994983666],\"y\":[-0.2206896551724138],\"type\":\"scatter\"},{\"marker\":{\"color\":\"bisque\",\"size\":5},\"mode\":\"markers\",\"name\":\"FUESSV30 VN Equity\",\"x\":[0.1901343775486832],\"y\":[-0.0740740740740739],\"type\":\"scatter\"},{\"marker\":{\"color\":\"maroon\",\"size\":15,\"symbol\":\"diamond\"},\"mode\":\"markers\",\"name\":\"SSISCA\",\"x\":[0.2971821247959366],\"y\":[-0.08319027981542043],\"type\":\"scatter\"},{\"marker\":{\"color\":\"bisque\",\"size\":5},\"mode\":\"markers\",\"name\":\"BVPF\",\"x\":[0.2195052378761236],\"y\":[-0.07315347608716187],\"type\":\"scatter\"},{\"marker\":{\"color\":\"bisque\",\"size\":5},\"mode\":\"markers\",\"name\":\"VESAF\",\"x\":[0.2066446437346217],\"y\":[-0.1015138877866713],\"type\":\"scatter\"},{\"marker\":{\"color\":\"bisque\",\"size\":5},\"mode\":\"markers\",\"name\":\"VCBF-BCF\",\"x\":[0.233983703776604],\"y\":[-0.08299035666965379],\"type\":\"scatter\"},{\"marker\":{\"color\":\"bisque\",\"size\":5},\"mode\":\"markers\",\"name\":\"VEOF\",\"x\":[0.2249855586449517],\"y\":[-0.1003613128723971],\"type\":\"scatter\"},{\"marker\":{\"color\":\"bisque\",\"size\":5},\"mode\":\"markers\",\"name\":\"MBVF\",\"x\":[0.1842684007059309],\"y\":[-0.07476767772064667],\"type\":\"scatter\"},{\"marker\":{\"color\":\"bisque\",\"size\":5},\"mode\":\"markers\",\"name\":\"MAGEF\",\"x\":[0.2176359009592586],\"y\":[-0.09985727303468107],\"type\":\"scatter\"},{\"marker\":{\"color\":\"bisque\",\"size\":5},\"mode\":\"markers\",\"name\":\"DCDS\",\"x\":[0.2304224728677103],\"y\":[-0.1090106019599614],\"type\":\"scatter\"},{\"marker\":{\"color\":\"bisque\",\"size\":5},\"mode\":\"markers\",\"name\":\"VNDAF\",\"x\":[0.1450187361890155],\"y\":[-0.08495788644412935],\"type\":\"scatter\"},{\"marker\":{\"color\":\"bisque\",\"size\":5},\"mode\":\"markers\",\"name\":\"DCDE\",\"x\":[0.12063269101548],\"y\":[-0.1187890108642469],\"type\":\"scatter\"},{\"marker\":{\"color\":\"bisque\",\"size\":5},\"mode\":\"markers\",\"name\":\"DCAF\",\"x\":[0.1324111328142388],\"y\":[-0.08653857243709857],\"type\":\"scatter\"},{\"marker\":{\"color\":\"bisque\",\"size\":5},\"mode\":\"markers\",\"name\":\"BVFED\",\"x\":[0.1641438215886203],\"y\":[-0.05842102983846515],\"type\":\"scatter\"},{\"marker\":{\"color\":\"bisque\",\"size\":5},\"mode\":\"markers\",\"name\":\"MAFEQI\",\"x\":[0.1781261965894032],\"y\":[-0.08643718101856898],\"type\":\"scatter\"},{\"marker\":{\"color\":\"purple\",\"size\":25,\"symbol\":\"square\"},\"mode\":\"markers\",\"name\":\"VNI\",\"x\":[0.119894015148787],\"y\":[-0.08939062766435678],\"type\":\"scatter\"},{\"marker\":{\"color\":\"blue\",\"size\":30},\"mode\":\"markers\",\"name\":\"HIEP.NS\",\"x\":[0.1986],\"y\":[-0.12],\"type\":\"scatter\"},{\"marker\":{\"color\":\"green\",\"size\":30},\"mode\":\"markers\",\"name\":\"NAM.TH.CS\",\"x\":[0.1768],\"y\":[-0.0987],\"type\":\"scatter\"},{\"marker\":{\"color\":\"red\",\"size\":30},\"mode\":\"markers\",\"name\":\"NAM.TH.PS\",\"x\":[0.1502],\"y\":[-0.0975],\"type\":\"scatter\"},{\"marker\":{\"color\":\"orange\",\"size\":30},\"mode\":\"markers\",\"name\":\"MANDATE VND\",\"x\":[0.15],\"y\":[-0.18],\"type\":\"scatter\"}],                        {\"template\":{\"data\":{\"histogram2dcontour\":[{\"type\":\"histogram2dcontour\",\"colorbar\":{\"outlinewidth\":0,\"ticks\":\"\"},\"colorscale\":[[0.0,\"#0d0887\"],[0.1111111111111111,\"#46039f\"],[0.2222222222222222,\"#7201a8\"],[0.3333333333333333,\"#9c179e\"],[0.4444444444444444,\"#bd3786\"],[0.5555555555555556,\"#d8576b\"],[0.6666666666666666,\"#ed7953\"],[0.7777777777777778,\"#fb9f3a\"],[0.8888888888888888,\"#fdca26\"],[1.0,\"#f0f921\"]]}],\"choropleth\":[{\"type\":\"choropleth\",\"colorbar\":{\"outlinewidth\":0,\"ticks\":\"\"}}],\"histogram2d\":[{\"type\":\"histogram2d\",\"colorbar\":{\"outlinewidth\":0,\"ticks\":\"\"},\"colorscale\":[[0.0,\"#0d0887\"],[0.1111111111111111,\"#46039f\"],[0.2222222222222222,\"#7201a8\"],[0.3333333333333333,\"#9c179e\"],[0.4444444444444444,\"#bd3786\"],[0.5555555555555556,\"#d8576b\"],[0.6666666666666666,\"#ed7953\"],[0.7777777777777778,\"#fb9f3a\"],[0.8888888888888888,\"#fdca26\"],[1.0,\"#f0f921\"]]}],\"heatmap\":[{\"type\":\"heatmap\",\"colorbar\":{\"outlinewidth\":0,\"ticks\":\"\"},\"colorscale\":[[0.0,\"#0d0887\"],[0.1111111111111111,\"#46039f\"],[0.2222222222222222,\"#7201a8\"],[0.3333333333333333,\"#9c179e\"],[0.4444444444444444,\"#bd3786\"],[0.5555555555555556,\"#d8576b\"],[0.6666666666666666,\"#ed7953\"],[0.7777777777777778,\"#fb9f3a\"],[0.8888888888888888,\"#fdca26\"],[1.0,\"#f0f921\"]]}],\"heatmapgl\":[{\"type\":\"heatmapgl\",\"colorbar\":{\"outlinewidth\":0,\"ticks\":\"\"},\"colorscale\":[[0.0,\"#0d0887\"],[0.1111111111111111,\"#46039f\"],[0.2222222222222222,\"#7201a8\"],[0.3333333333333333,\"#9c179e\"],[0.4444444444444444,\"#bd3786\"],[0.5555555555555556,\"#d8576b\"],[0.6666666666666666,\"#ed7953\"],[0.7777777777777778,\"#fb9f3a\"],[0.8888888888888888,\"#fdca26\"],[1.0,\"#f0f921\"]]}],\"contourcarpet\":[{\"type\":\"contourcarpet\",\"colorbar\":{\"outlinewidth\":0,\"ticks\":\"\"}}],\"contour\":[{\"type\":\"contour\",\"colorbar\":{\"outlinewidth\":0,\"ticks\":\"\"},\"colorscale\":[[0.0,\"#0d0887\"],[0.1111111111111111,\"#46039f\"],[0.2222222222222222,\"#7201a8\"],[0.3333333333333333,\"#9c179e\"],[0.4444444444444444,\"#bd3786\"],[0.5555555555555556,\"#d8576b\"],[0.6666666666666666,\"#ed7953\"],[0.7777777777777778,\"#fb9f3a\"],[0.8888888888888888,\"#fdca26\"],[1.0,\"#f0f921\"]]}],\"surface\":[{\"type\":\"surface\",\"colorbar\":{\"outlinewidth\":0,\"ticks\":\"\"},\"colorscale\":[[0.0,\"#0d0887\"],[0.1111111111111111,\"#46039f\"],[0.2222222222222222,\"#7201a8\"],[0.3333333333333333,\"#9c179e\"],[0.4444444444444444,\"#bd3786\"],[0.5555555555555556,\"#d8576b\"],[0.6666666666666666,\"#ed7953\"],[0.7777777777777778,\"#fb9f3a\"],[0.8888888888888888,\"#fdca26\"],[1.0,\"#f0f921\"]]}],\"mesh3d\":[{\"type\":\"mesh3d\",\"colorbar\":{\"outlinewidth\":0,\"ticks\":\"\"}}],\"scatter\":[{\"fillpattern\":{\"fillmode\":\"overlay\",\"size\":10,\"solidity\":0.2},\"type\":\"scatter\"}],\"parcoords\":[{\"type\":\"parcoords\",\"line\":{\"colorbar\":{\"outlinewidth\":0,\"ticks\":\"\"}}}],\"scatterpolargl\":[{\"type\":\"scatterpolargl\",\"marker\":{\"colorbar\":{\"outlinewidth\":0,\"ticks\":\"\"}}}],\"bar\":[{\"error_x\":{\"color\":\"#2a3f5f\"},\"error_y\":{\"color\":\"#2a3f5f\"},\"marker\":{\"line\":{\"color\":\"white\",\"width\":0.5},\"pattern\":{\"fillmode\":\"overlay\",\"size\":10,\"solidity\":0.2}},\"type\":\"bar\"}],\"scattergeo\":[{\"type\":\"scattergeo\",\"marker\":{\"colorbar\":{\"outlinewidth\":0,\"ticks\":\"\"}}}],\"scatterpolar\":[{\"type\":\"scatterpolar\",\"marker\":{\"colorbar\":{\"outlinewidth\":0,\"ticks\":\"\"}}}],\"histogram\":[{\"marker\":{\"pattern\":{\"fillmode\":\"overlay\",\"size\":10,\"solidity\":0.2}},\"type\":\"histogram\"}],\"scattergl\":[{\"type\":\"scattergl\",\"marker\":{\"colorbar\":{\"outlinewidth\":0,\"ticks\":\"\"}}}],\"scatter3d\":[{\"type\":\"scatter3d\",\"line\":{\"colorbar\":{\"outlinewidth\":0,\"ticks\":\"\"}},\"marker\":{\"colorbar\":{\"outlinewidth\":0,\"ticks\":\"\"}}}],\"scattermapbox\":[{\"type\":\"scattermapbox\",\"marker\":{\"colorbar\":{\"outlinewidth\":0,\"ticks\":\"\"}}}],\"scatterternary\":[{\"type\":\"scatterternary\",\"marker\":{\"colorbar\":{\"outlinewidth\":0,\"ticks\":\"\"}}}],\"scattercarpet\":[{\"type\":\"scattercarpet\",\"marker\":{\"colorbar\":{\"outlinewidth\":0,\"ticks\":\"\"}}}],\"carpet\":[{\"aaxis\":{\"endlinecolor\":\"#2a3f5f\",\"gridcolor\":\"#C8D4E3\",\"linecolor\":\"#C8D4E3\",\"minorgridcolor\":\"#C8D4E3\",\"startlinecolor\":\"#2a3f5f\"},\"baxis\":{\"endlinecolor\":\"#2a3f5f\",\"gridcolor\":\"#C8D4E3\",\"linecolor\":\"#C8D4E3\",\"minorgridcolor\":\"#C8D4E3\",\"startlinecolor\":\"#2a3f5f\"},\"type\":\"carpet\"}],\"table\":[{\"cells\":{\"fill\":{\"color\":\"#EBF0F8\"},\"line\":{\"color\":\"white\"}},\"header\":{\"fill\":{\"color\":\"#C8D4E3\"},\"line\":{\"color\":\"white\"}},\"type\":\"table\"}],\"barpolar\":[{\"marker\":{\"line\":{\"color\":\"white\",\"width\":0.5},\"pattern\":{\"fillmode\":\"overlay\",\"size\":10,\"solidity\":0.2}},\"type\":\"barpolar\"}],\"pie\":[{\"automargin\":true,\"type\":\"pie\"}]},\"layout\":{\"autotypenumbers\":\"strict\",\"colorway\":[\"#636efa\",\"#EF553B\",\"#00cc96\",\"#ab63fa\",\"#FFA15A\",\"#19d3f3\",\"#FF6692\",\"#B6E880\",\"#FF97FF\",\"#FECB52\"],\"font\":{\"color\":\"#2a3f5f\"},\"hovermode\":\"closest\",\"hoverlabel\":{\"align\":\"left\"},\"paper_bgcolor\":\"white\",\"plot_bgcolor\":\"white\",\"polar\":{\"bgcolor\":\"white\",\"angularaxis\":{\"gridcolor\":\"#EBF0F8\",\"linecolor\":\"#EBF0F8\",\"ticks\":\"\"},\"radialaxis\":{\"gridcolor\":\"#EBF0F8\",\"linecolor\":\"#EBF0F8\",\"ticks\":\"\"}},\"ternary\":{\"bgcolor\":\"white\",\"aaxis\":{\"gridcolor\":\"#DFE8F3\",\"linecolor\":\"#A2B1C6\",\"ticks\":\"\"},\"baxis\":{\"gridcolor\":\"#DFE8F3\",\"linecolor\":\"#A2B1C6\",\"ticks\":\"\"},\"caxis\":{\"gridcolor\":\"#DFE8F3\",\"linecolor\":\"#A2B1C6\",\"ticks\":\"\"}},\"coloraxis\":{\"colorbar\":{\"outlinewidth\":0,\"ticks\":\"\"}},\"colorscale\":{\"sequential\":[[0.0,\"#0d0887\"],[0.1111111111111111,\"#46039f\"],[0.2222222222222222,\"#7201a8\"],[0.3333333333333333,\"#9c179e\"],[0.4444444444444444,\"#bd3786\"],[0.5555555555555556,\"#d8576b\"],[0.6666666666666666,\"#ed7953\"],[0.7777777777777778,\"#fb9f3a\"],[0.8888888888888888,\"#fdca26\"],[1.0,\"#f0f921\"]],\"sequentialminus\":[[0.0,\"#0d0887\"],[0.1111111111111111,\"#46039f\"],[0.2222222222222222,\"#7201a8\"],[0.3333333333333333,\"#9c179e\"],[0.4444444444444444,\"#bd3786\"],[0.5555555555555556,\"#d8576b\"],[0.6666666666666666,\"#ed7953\"],[0.7777777777777778,\"#fb9f3a\"],[0.8888888888888888,\"#fdca26\"],[1.0,\"#f0f921\"]],\"diverging\":[[0,\"#8e0152\"],[0.1,\"#c51b7d\"],[0.2,\"#de77ae\"],[0.3,\"#f1b6da\"],[0.4,\"#fde0ef\"],[0.5,\"#f7f7f7\"],[0.6,\"#e6f5d0\"],[0.7,\"#b8e186\"],[0.8,\"#7fbc41\"],[0.9,\"#4d9221\"],[1,\"#276419\"]]},\"xaxis\":{\"gridcolor\":\"#EBF0F8\",\"linecolor\":\"#EBF0F8\",\"ticks\":\"\",\"title\":{\"standoff\":15},\"zerolinecolor\":\"#EBF0F8\",\"automargin\":true,\"zerolinewidth\":2},\"yaxis\":{\"gridcolor\":\"#EBF0F8\",\"linecolor\":\"#EBF0F8\",\"ticks\":\"\",\"title\":{\"standoff\":15},\"zerolinecolor\":\"#EBF0F8\",\"automargin\":true,\"zerolinewidth\":2},\"scene\":{\"xaxis\":{\"backgroundcolor\":\"white\",\"gridcolor\":\"#DFE8F3\",\"linecolor\":\"#EBF0F8\",\"showbackground\":true,\"ticks\":\"\",\"zerolinecolor\":\"#EBF0F8\",\"gridwidth\":2},\"yaxis\":{\"backgroundcolor\":\"white\",\"gridcolor\":\"#DFE8F3\",\"linecolor\":\"#EBF0F8\",\"showbackground\":true,\"ticks\":\"\",\"zerolinecolor\":\"#EBF0F8\",\"gridwidth\":2},\"zaxis\":{\"backgroundcolor\":\"white\",\"gridcolor\":\"#DFE8F3\",\"linecolor\":\"#EBF0F8\",\"showbackground\":true,\"ticks\":\"\",\"zerolinecolor\":\"#EBF0F8\",\"gridwidth\":2}},\"shapedefaults\":{\"line\":{\"color\":\"#2a3f5f\"}},\"annotationdefaults\":{\"arrowcolor\":\"#2a3f5f\",\"arrowhead\":0,\"arrowwidth\":1},\"geo\":{\"bgcolor\":\"white\",\"landcolor\":\"white\",\"subunitcolor\":\"#C8D4E3\",\"showland\":true,\"showlakes\":true,\"lakecolor\":\"white\"},\"title\":{\"x\":0.05},\"mapbox\":{\"style\":\"light\"}}},\"title\":{\"text\":\"Compare Annual Return / Max Drawdown 2024\"},\"xaxis\":{\"title\":{\"text\":\"Annual Return\"}},\"yaxis\":{\"title\":{\"text\":\"Max Drawdown\"}}},                        {\"responsive\": true}                    ).then(function(){\n",
       "                            \n",
       "var gd = document.getElementById('9fbda2ac-b7fb-47d3-9f41-9dd81c97e901');\n",
       "var x = new MutationObserver(function (mutations, observer) {{\n",
       "        var display = window.getComputedStyle(gd).display;\n",
       "        if (!display || display === 'none') {{\n",
       "            console.log([gd, 'removed!']);\n",
       "            Plotly.purge(gd);\n",
       "            observer.disconnect();\n",
       "        }}\n",
       "}});\n",
       "\n",
       "// Listen for the removal of the full notebook cells\n",
       "var notebookContainer = gd.closest('#notebook-container');\n",
       "if (notebookContainer) {{\n",
       "    x.observe(notebookContainer, {childList: true});\n",
       "}}\n",
       "\n",
       "// Listen for the clearing of the current output cell\n",
       "var outputEl = gd.closest('.output');\n",
       "if (outputEl) {{\n",
       "    x.observe(outputEl, {childList: true});\n",
       "}}\n",
       "\n",
       "                        })                };                });            </script>        </div>"
      ]
     },
     "metadata": {},
     "output_type": "display_data"
    }
   ],
   "source": [
    "for key in yearly_metric.keys():\n",
    "    fig = go.Figure()\n",
    "    \n",
    "    # top 3 except us:\n",
    "    top_3 = yearly_metric[key][yearly_metric[key].index.isin(inside_list) == False].sort_values(by = 'Annual Return', ascending = False)[:3].index\n",
    "    for col in yearly_metric[key].index:\n",
    "        if col == 'NAM.TH.PS':\n",
    "            fig.add_trace(go.Scatter(x=[yearly_metric[key].loc[col]['Annual Return']], y=[yearly_metric[key].loc[col]['Max Drawdown']],\n",
    "                             mode='markers', name=col, marker=dict(color='red', size=30))) # Set color to red and increase thickness\n",
    "        elif col == 'NAM.TH.CS':\n",
    "            fig.add_trace(go.Scatter(x=[yearly_metric[key].loc[col]['Annual Return']], y=[yearly_metric[key].loc[col]['Max Drawdown']],\n",
    "                             mode='markers', name=col, marker=dict(color='green', size=30))) # Set color to red and increase thickness\n",
    "        elif col == 'HIEP.NS':\n",
    "            fig.add_trace(go.Scatter(x=[yearly_metric[key].loc[col]['Annual Return']], y=[yearly_metric[key].loc[col]['Max Drawdown']],\n",
    "                             mode='markers', name=col, marker=dict(color='blue', size=30))) # Set color to red and increase thickness\n",
    "        elif col == 'MANDATE VND':\n",
    "            fig.add_trace(go.Scatter(x=[yearly_metric[key].loc[col]['Annual Return']], y=[yearly_metric[key].loc[col]['Max Drawdown']],\n",
    "                             mode='markers', name=col, marker=dict(color='orange', size=30))) # Set color to red and increase thickness\n",
    "        elif col == 'VNI':\n",
    "            fig.add_trace(go.Scatter(x=[yearly_metric[key].loc[col]['Annual Return']], y=[yearly_metric[key].loc[col]['Max Drawdown']],\n",
    "                             mode='markers', name=col, marker=dict(color='purple', size=25, symbol = \"square\"))) # Set color to red and increase thickness\n",
    "        elif col in top_3:\n",
    "            fig.add_trace(go.Scatter(x=[yearly_metric[key].loc[col]['Annual Return']], y=[yearly_metric[key].loc[col]['Max Drawdown']],\n",
    "                             mode='markers', name=col, marker=dict(color='maroon', size = 15, symbol = \"diamond\"))) # Set color to blur gray and reduce thickness\n",
    "        else:\n",
    "            fig.add_trace(go.Scatter(x=[yearly_metric[key].loc[col]['Annual Return']], y=[yearly_metric[key].loc[col]['Max Drawdown']],\n",
    "                             mode='markers', name=col, marker=dict(color='bisque', size = 5))) # Set color to blur gray and reduce thickness\n",
    "\n",
    "    fig.update_layout(title='Compare Annual Return / Max Drawdown {}'.format(key),\n",
    "                      xaxis_title='Annual Return',\n",
    "                      yaxis_title='Max Drawdown')\n",
    "\n",
    "    fig.show()"
   ]
  },
  {
   "cell_type": "code",
   "execution_count": 4,
   "id": "cc7c521a",
   "metadata": {},
   "outputs": [],
   "source": [
    "annual_ret = pd.DataFrame(index = yearly_metric['2024'].index)\n",
    "for key in yearly_metric.keys():\n",
    "    annual_ret = pd.concat([annual_ret, yearly_metric[key]['Annual Return']], axis = 1)\n",
    "\n",
    "annual_ret.columns = yearly_metric.keys()"
   ]
  },
  {
   "cell_type": "code",
   "execution_count": 5,
   "id": "2583cd97",
   "metadata": {},
   "outputs": [],
   "source": [
    "max_drawdown = pd.DataFrame(index = yearly_metric['2024'].index)\n",
    "for key in yearly_metric.keys():\n",
    "    max_drawdown = pd.concat([max_drawdown, yearly_metric[key]['Max Drawdown']], axis = 1)\n",
    "\n",
    "max_drawdown.columns = yearly_metric.keys()"
   ]
  },
  {
   "cell_type": "markdown",
   "id": "755caf67",
   "metadata": {},
   "source": [
    "# Đánh giá performance 6 năm"
   ]
  },
  {
   "cell_type": "code",
   "execution_count": 6,
   "id": "6ce87203",
   "metadata": {},
   "outputs": [],
   "source": [
    "cagr_6y = []\n",
    "max_dd_6y = []\n",
    "for tick in annual_ret.replace(0.000, np.nan).dropna().index:\n",
    "    cagr = (1 + annual_ret.loc[tick]).cumprod().iloc[-1] ** (1/6) - 1\n",
    "    max_dd_6y.append(max_drawdown.loc[tick].min())\n",
    "    cagr_6y.append(cagr)\n",
    "\n",
    "performance_6Y = pd.DataFrame({\n",
    "    'CAGR': cagr_6y,\n",
    "    'Max Drawdown': max_dd_6y\n",
    "}, index = annual_ret.replace(0.000, np.nan).dropna().index )"
   ]
  },
  {
   "cell_type": "code",
   "execution_count": 44,
   "id": "ea55d755",
   "metadata": {
    "scrolled": false
   },
   "outputs": [
    {
     "data": {
      "application/vnd.plotly.v1+json": {
       "config": {
        "plotlyServerURL": "https://plot.ly"
       },
       "data": [
        {
         "marker": {
          "color": "lightgray",
          "size": 10
         },
         "mode": "markers",
         "name": "VNM US Equity",
         "type": "scatter",
         "x": [
          -0.05094255324004748
         ],
         "y": [
          -0.493727983715978
         ]
        },
        {
         "marker": {
          "color": "lightgray",
          "size": 10
         },
         "mode": "markers",
         "name": "AFCVICI KY Equity",
         "type": "scatter",
         "x": [
          0.10930079560151285
         ],
         "y": [
          -0.2811702328131157
         ]
        },
        {
         "marker": {
          "color": "lightgray",
          "size": 10
         },
         "mode": "markers",
         "name": "LUMENUS LE Equity",
         "type": "scatter",
         "x": [
          0.09640142617044845
         ],
         "y": [
          -0.4786091600394727
         ]
        },
        {
         "marker": {
          "color": "lightgray",
          "size": 10
         },
         "mode": "markers",
         "name": "XFVT GY Equity",
         "type": "scatter",
         "x": [
          -0.039059154848344435
         ],
         "y": [
          -0.4879869372521582
         ]
        },
        {
         "marker": {
          "color": "lightgray",
          "size": 10
         },
         "mode": "markers",
         "name": "GAVNBCU LX Equity",
         "type": "scatter",
         "x": [
          0.09414270103688982
         ],
         "y": [
          -0.3833017657481516
         ]
        },
        {
         "marker": {
          "color": "lightgray",
          "size": 10
         },
         "mode": "markers",
         "name": "LCVIETU SP Equity",
         "type": "scatter",
         "x": [
          0.05029028089820087
         ],
         "y": [
          -0.4301675977653632
         ]
        },
        {
         "marker": {
          "color": "lightgray",
          "size": 10
         },
         "mode": "markers",
         "name": "FOVCPVA LX Equity",
         "type": "scatter",
         "x": [
          0.09859788734636443
         ],
         "y": [
          -0.3871794871794869
         ]
        },
        {
         "marker": {
          "color": "lightgray",
          "size": 10
         },
         "mode": "markers",
         "name": "GAVTNIU LX Equity",
         "type": "scatter",
         "x": [
          0.08783118326906059
         ],
         "y": [
          -0.3809723386420787
         ]
        },
        {
         "marker": {
          "color": "lightgray",
          "size": 10
         },
         "mode": "markers",
         "name": "AFCVIET KY Equity",
         "type": "scatter",
         "x": [
          0.1018195589721187
         ],
         "y": [
          -0.2832661478827902
         ]
        },
        {
         "marker": {
          "color": "lightgray",
          "size": 10
         },
         "mode": "markers",
         "name": "VIETNAM ID Equity",
         "type": "scatter",
         "x": [
          0.03999987358808199
         ],
         "y": [
          -0.4968184043073907
         ]
        },
        {
         "marker": {
          "color": "lightgray",
          "size": 10
         },
         "mode": "markers",
         "name": "E1VFVN30 VN Equity",
         "type": "scatter",
         "x": [
          0.06912819132553971
         ],
         "y": [
          -0.4220532319391637
         ]
        },
        {
         "marker": {
          "color": "lightgray",
          "size": 10
         },
         "mode": "markers",
         "name": "XVTD LN Equity",
         "type": "scatter",
         "x": [
          -0.0531401320410857
         ],
         "y": [
          -0.5328324413338824
         ]
        },
        {
         "marker": {
          "color": "lightgray",
          "size": 10
         },
         "mode": "markers",
         "name": "KVIETNE TB Equity",
         "type": "scatter",
         "x": [
          0.04340655316536712
         ],
         "y": [
          -0.3790369860569452
         ]
        },
        {
         "marker": {
          "color": "lightgray",
          "size": 10
         },
         "mode": "markers",
         "name": "3087 HK Equity",
         "type": "scatter",
         "x": [
          -0.062387729465536834
         ],
         "y": [
          -0.5097035040431261
         ]
        },
        {
         "marker": {
          "color": "maroon",
          "size": 15,
          "symbol": "diamond"
         },
         "mode": "markers",
         "name": "SSICOAD VN Equity",
         "type": "scatter",
         "x": [
          0.14281570267678867
         ],
         "y": [
          -0.4474815607555027
         ]
        },
        {
         "marker": {
          "color": "lightgray",
          "size": 10
         },
         "mode": "markers",
         "name": "XFVT GR Equity",
         "type": "scatter",
         "x": [
          -0.03527223045243966
         ],
         "y": [
          -0.4927281257330514
         ]
        },
        {
         "marker": {
          "color": "lightgray",
          "size": 10
         },
         "mode": "markers",
         "name": "LCVIETS SP Equity",
         "type": "scatter",
         "x": [
          0.04500640160917557
         ],
         "y": [
          -0.4256368118323751
         ]
        },
        {
         "marker": {
          "color": "lightgray",
          "size": 10
         },
         "mode": "markers",
         "name": "LUMENCH LE Equity",
         "type": "scatter",
         "x": [
          0.05333521596705104
         ],
         "y": [
          -0.5034185160277967
         ]
        },
        {
         "marker": {
          "color": "lightgray",
          "size": 10
         },
         "mode": "markers",
         "name": "VTNPHXA KY Equity",
         "type": "scatter",
         "x": [
          0.09287930923331689
         ],
         "y": [
          -0.3333900902434873
         ]
        },
        {
         "marker": {
          "color": "lightgray",
          "size": 10
         },
         "mode": "markers",
         "name": "CPVNEQA TB Equity",
         "type": "scatter",
         "x": [
          0.04591399311011979
         ],
         "y": [
          -0.4299888160003137
         ]
        },
        {
         "marker": {
          "color": "lightgray",
          "size": 10
         },
         "mode": "markers",
         "name": "KIMVGIU LX Equity",
         "type": "scatter",
         "x": [
          0.11046764217302041
         ],
         "y": [
          -0.4488592591645987
         ]
        },
        {
         "marker": {
          "color": "lightgray",
          "size": 10
         },
         "mode": "markers",
         "name": "VIETEUR ID Equity",
         "type": "scatter",
         "x": [
          0.06348079667191686
         ],
         "y": [
          -0.4656113824957699
         ]
        },
        {
         "marker": {
          "color": "lightgray",
          "size": 10
         },
         "mode": "markers",
         "name": "9A311108 JP Equity",
         "type": "scatter",
         "x": [
          0.0966190618456031
         ],
         "y": [
          -0.3794119380119025
         ]
        },
        {
         "marker": {
          "color": "lightgray",
          "size": 10
         },
         "mode": "markers",
         "name": "XFVT GT Equity",
         "type": "scatter",
         "x": [
          -0.039059154848344435
         ],
         "y": [
          -0.4879869372521582
         ]
        },
        {
         "marker": {
          "color": "lightgray",
          "size": 10
         },
         "mode": "markers",
         "name": "XFVT SP Equity",
         "type": "scatter",
         "x": [
          -0.060625999927471974
         ],
         "y": [
          -0.5322245322245326
         ]
        },
        {
         "marker": {
          "color": "lightgray",
          "size": 10
         },
         "mode": "markers",
         "name": "TCMVN NA Equity",
         "type": "scatter",
         "x": [
          0.09934663675786126
         ],
         "y": [
          -0.4828833843584746
         ]
        },
        {
         "marker": {
          "color": "lightgray",
          "size": 10
         },
         "mode": "markers",
         "name": "VCVOF US Equity",
         "type": "scatter",
         "x": [
          0.10219034222210643
         ],
         "y": [
          -0.4438358969109102
         ]
        },
        {
         "marker": {
          "color": "lightgray",
          "size": 10
         },
         "mode": "markers",
         "name": "FUESSV50 VN Equity",
         "type": "scatter",
         "x": [
          0.08668559218633276
         ],
         "y": [
          -0.535246939636978
         ]
        },
        {
         "marker": {
          "color": "lightgray",
          "size": 10
         },
         "mode": "markers",
         "name": "AB311171 JP Equity",
         "type": "scatter",
         "x": [
          0.1298043836087417
         ],
         "y": [
          -0.4391891891891889
         ]
        },
        {
         "marker": {
          "color": "lightgray",
          "size": 10
         },
         "mode": "markers",
         "name": "IOFVTEQ LX Equity",
         "type": "scatter",
         "x": [
          0.09249256511348602
         ],
         "y": [
          -0.3779827907389336
         ]
        },
        {
         "marker": {
          "color": "lightgray",
          "size": 10
         },
         "mode": "markers",
         "name": "SGVIEOP HK Equity",
         "type": "scatter",
         "x": [
          0.05088228382615023
         ],
         "y": [
          -0.4120282295182569
         ]
        },
        {
         "marker": {
          "color": "lightgray",
          "size": 10
         },
         "mode": "markers",
         "name": "VFMVF1 VN Equity",
         "type": "scatter",
         "x": [
          0.10804251936685305
         ],
         "y": [
          -0.4136007970573292
         ]
        },
        {
         "marker": {
          "color": "lightgray",
          "size": 10
         },
         "mode": "markers",
         "name": "FOVIEDE LX Equity",
         "type": "scatter",
         "x": [
          0.09842295805682877
         ],
         "y": [
          -0.3600849256900208
         ]
        },
        {
         "marker": {
          "color": "lightgray",
          "size": 10
         },
         "mode": "markers",
         "name": "GELIONV SP Equity",
         "type": "scatter",
         "x": [
          0.0446374449946525
         ],
         "y": [
          -0.4252559726962458
         ]
        },
        {
         "marker": {
          "color": "lightgray",
          "size": 10
         },
         "mode": "markers",
         "name": "0431216C JP Equity",
         "type": "scatter",
         "x": [
          0.12663411933293056
         ],
         "y": [
          -0.3612460102622116
         ]
        },
        {
         "marker": {
          "color": "lightgray",
          "size": 10
         },
         "mode": "markers",
         "name": "49311186 JP Equity",
         "type": "scatter",
         "x": [
          0.13119654681244786
         ],
         "y": [
          -0.3641499724041231
         ]
        },
        {
         "marker": {
          "color": "lightgray",
          "size": 10
         },
         "mode": "markers",
         "name": "ASPVIET TB Equity",
         "type": "scatter",
         "x": [
          0.0033218601402551506
         ],
         "y": [
          -0.4979593984171245
         ]
        },
        {
         "marker": {
          "color": "lightgray",
          "size": 10
         },
         "mode": "markers",
         "name": "1AR0081 KS Equity",
         "type": "scatter",
         "x": [
          0.0005513592034800396
         ],
         "y": [
          -0.3632607310050772
         ]
        },
        {
         "marker": {
          "color": "lightgray",
          "size": 10
         },
         "mode": "markers",
         "name": "47311156 JP Equity",
         "type": "scatter",
         "x": [
          0.11867416906695971
         ],
         "y": [
          -0.3535127411288403
         ]
        },
        {
         "marker": {
          "color": "lightgray",
          "size": 10
         },
         "mode": "markers",
         "name": "ASPVRMF TB Equity",
         "type": "scatter",
         "x": [
          -0.012814262437002344
         ],
         "y": [
          -0.4943606952443269
         ]
        },
        {
         "marker": {
          "color": "lightgray",
          "size": 10
         },
         "mode": "markers",
         "name": "VCBFTBF VN Equity",
         "type": "scatter",
         "x": [
          0.1156565639145779
         ],
         "y": [
          -0.2301169574110489
         ]
        },
        {
         "marker": {
          "color": "lightgray",
          "size": 10
         },
         "mode": "markers",
         "name": "SSISCA",
         "type": "scatter",
         "x": [
          0.12822339401693306
         ],
         "y": [
          -0.4474815607555027
         ]
        },
        {
         "marker": {
          "color": "lightgray",
          "size": 10
         },
         "mode": "markers",
         "name": "BVPF",
         "type": "scatter",
         "x": [
          0.11246715268038199
         ],
         "y": [
          -0.2258884651522692
         ]
        },
        {
         "marker": {
          "color": "maroon",
          "size": 15,
          "symbol": "diamond"
         },
         "mode": "markers",
         "name": "VESAF",
         "type": "scatter",
         "x": [
          0.15661655577283717
         ],
         "y": [
          -0.3952867032691468
         ]
        },
        {
         "marker": {
          "color": "lightgray",
          "size": 10
         },
         "mode": "markers",
         "name": "VCBF-BCF",
         "type": "scatter",
         "x": [
          0.12043505994896009
         ],
         "y": [
          -0.3241773864493208
         ]
        },
        {
         "marker": {
          "color": "maroon",
          "size": 15,
          "symbol": "diamond"
         },
         "mode": "markers",
         "name": "VEOF",
         "type": "scatter",
         "x": [
          0.13318489804898714
         ],
         "y": [
          -0.3820458388043897
         ]
        },
        {
         "marker": {
          "color": "lightgray",
          "size": 10
         },
         "mode": "markers",
         "name": "DCDS",
         "type": "scatter",
         "x": [
          0.10843588191656717
         ],
         "y": [
          -0.4260333589737111
         ]
        },
        {
         "marker": {
          "color": "lightgray",
          "size": 10
         },
         "mode": "markers",
         "name": "VNDAF",
         "type": "scatter",
         "x": [
          0.07307058632330676
         ],
         "y": [
          -0.3465199763718746
         ]
        },
        {
         "marker": {
          "color": "lightgray",
          "size": 10
         },
         "mode": "markers",
         "name": "DCDE",
         "type": "scatter",
         "x": [
          0.07586160594498237
         ],
         "y": [
          -0.442038914511398
         ]
        },
        {
         "marker": {
          "color": "lightgray",
          "size": 10
         },
         "mode": "markers",
         "name": "BVFED",
         "type": "scatter",
         "x": [
          0.07112880216824102
         ],
         "y": [
          -0.4048738248391888
         ]
        },
        {
         "marker": {
          "color": "lightgray",
          "size": 10
         },
         "mode": "markers",
         "name": "MAFEQI",
         "type": "scatter",
         "x": [
          0.06437983284431881
         ],
         "y": [
          -0.3939345739886538
         ]
        },
        {
         "marker": {
          "color": "purple",
          "size": 25,
          "symbol": "square"
         },
         "mode": "markers",
         "name": "VNI",
         "type": "scatter",
         "x": [
          0.04261454345261484
         ],
         "y": [
          -0.4034293489993919
         ]
        },
        {
         "marker": {
          "color": "blue",
          "size": 30
         },
         "mode": "markers",
         "name": "HIEP.NS",
         "type": "scatter",
         "x": [
          0.18467897948084255
         ],
         "y": [
          -0.14
         ]
        },
        {
         "marker": {
          "color": "orange",
          "size": 30
         },
         "mode": "markers",
         "name": "MANDATE VND",
         "type": "scatter",
         "x": [
          0.1499999999999999
         ],
         "y": [
          -0.18
         ]
        }
       ],
       "layout": {
        "template": {
         "data": {
          "bar": [
           {
            "error_x": {
             "color": "#2a3f5f"
            },
            "error_y": {
             "color": "#2a3f5f"
            },
            "marker": {
             "line": {
              "color": "white",
              "width": 0.5
             },
             "pattern": {
              "fillmode": "overlay",
              "size": 10,
              "solidity": 0.2
             }
            },
            "type": "bar"
           }
          ],
          "barpolar": [
           {
            "marker": {
             "line": {
              "color": "white",
              "width": 0.5
             },
             "pattern": {
              "fillmode": "overlay",
              "size": 10,
              "solidity": 0.2
             }
            },
            "type": "barpolar"
           }
          ],
          "carpet": [
           {
            "aaxis": {
             "endlinecolor": "#2a3f5f",
             "gridcolor": "#C8D4E3",
             "linecolor": "#C8D4E3",
             "minorgridcolor": "#C8D4E3",
             "startlinecolor": "#2a3f5f"
            },
            "baxis": {
             "endlinecolor": "#2a3f5f",
             "gridcolor": "#C8D4E3",
             "linecolor": "#C8D4E3",
             "minorgridcolor": "#C8D4E3",
             "startlinecolor": "#2a3f5f"
            },
            "type": "carpet"
           }
          ],
          "choropleth": [
           {
            "colorbar": {
             "outlinewidth": 0,
             "ticks": ""
            },
            "type": "choropleth"
           }
          ],
          "contour": [
           {
            "colorbar": {
             "outlinewidth": 0,
             "ticks": ""
            },
            "colorscale": [
             [
              0,
              "#0d0887"
             ],
             [
              0.1111111111111111,
              "#46039f"
             ],
             [
              0.2222222222222222,
              "#7201a8"
             ],
             [
              0.3333333333333333,
              "#9c179e"
             ],
             [
              0.4444444444444444,
              "#bd3786"
             ],
             [
              0.5555555555555556,
              "#d8576b"
             ],
             [
              0.6666666666666666,
              "#ed7953"
             ],
             [
              0.7777777777777778,
              "#fb9f3a"
             ],
             [
              0.8888888888888888,
              "#fdca26"
             ],
             [
              1,
              "#f0f921"
             ]
            ],
            "type": "contour"
           }
          ],
          "contourcarpet": [
           {
            "colorbar": {
             "outlinewidth": 0,
             "ticks": ""
            },
            "type": "contourcarpet"
           }
          ],
          "heatmap": [
           {
            "colorbar": {
             "outlinewidth": 0,
             "ticks": ""
            },
            "colorscale": [
             [
              0,
              "#0d0887"
             ],
             [
              0.1111111111111111,
              "#46039f"
             ],
             [
              0.2222222222222222,
              "#7201a8"
             ],
             [
              0.3333333333333333,
              "#9c179e"
             ],
             [
              0.4444444444444444,
              "#bd3786"
             ],
             [
              0.5555555555555556,
              "#d8576b"
             ],
             [
              0.6666666666666666,
              "#ed7953"
             ],
             [
              0.7777777777777778,
              "#fb9f3a"
             ],
             [
              0.8888888888888888,
              "#fdca26"
             ],
             [
              1,
              "#f0f921"
             ]
            ],
            "type": "heatmap"
           }
          ],
          "heatmapgl": [
           {
            "colorbar": {
             "outlinewidth": 0,
             "ticks": ""
            },
            "colorscale": [
             [
              0,
              "#0d0887"
             ],
             [
              0.1111111111111111,
              "#46039f"
             ],
             [
              0.2222222222222222,
              "#7201a8"
             ],
             [
              0.3333333333333333,
              "#9c179e"
             ],
             [
              0.4444444444444444,
              "#bd3786"
             ],
             [
              0.5555555555555556,
              "#d8576b"
             ],
             [
              0.6666666666666666,
              "#ed7953"
             ],
             [
              0.7777777777777778,
              "#fb9f3a"
             ],
             [
              0.8888888888888888,
              "#fdca26"
             ],
             [
              1,
              "#f0f921"
             ]
            ],
            "type": "heatmapgl"
           }
          ],
          "histogram": [
           {
            "marker": {
             "pattern": {
              "fillmode": "overlay",
              "size": 10,
              "solidity": 0.2
             }
            },
            "type": "histogram"
           }
          ],
          "histogram2d": [
           {
            "colorbar": {
             "outlinewidth": 0,
             "ticks": ""
            },
            "colorscale": [
             [
              0,
              "#0d0887"
             ],
             [
              0.1111111111111111,
              "#46039f"
             ],
             [
              0.2222222222222222,
              "#7201a8"
             ],
             [
              0.3333333333333333,
              "#9c179e"
             ],
             [
              0.4444444444444444,
              "#bd3786"
             ],
             [
              0.5555555555555556,
              "#d8576b"
             ],
             [
              0.6666666666666666,
              "#ed7953"
             ],
             [
              0.7777777777777778,
              "#fb9f3a"
             ],
             [
              0.8888888888888888,
              "#fdca26"
             ],
             [
              1,
              "#f0f921"
             ]
            ],
            "type": "histogram2d"
           }
          ],
          "histogram2dcontour": [
           {
            "colorbar": {
             "outlinewidth": 0,
             "ticks": ""
            },
            "colorscale": [
             [
              0,
              "#0d0887"
             ],
             [
              0.1111111111111111,
              "#46039f"
             ],
             [
              0.2222222222222222,
              "#7201a8"
             ],
             [
              0.3333333333333333,
              "#9c179e"
             ],
             [
              0.4444444444444444,
              "#bd3786"
             ],
             [
              0.5555555555555556,
              "#d8576b"
             ],
             [
              0.6666666666666666,
              "#ed7953"
             ],
             [
              0.7777777777777778,
              "#fb9f3a"
             ],
             [
              0.8888888888888888,
              "#fdca26"
             ],
             [
              1,
              "#f0f921"
             ]
            ],
            "type": "histogram2dcontour"
           }
          ],
          "mesh3d": [
           {
            "colorbar": {
             "outlinewidth": 0,
             "ticks": ""
            },
            "type": "mesh3d"
           }
          ],
          "parcoords": [
           {
            "line": {
             "colorbar": {
              "outlinewidth": 0,
              "ticks": ""
             }
            },
            "type": "parcoords"
           }
          ],
          "pie": [
           {
            "automargin": true,
            "type": "pie"
           }
          ],
          "scatter": [
           {
            "fillpattern": {
             "fillmode": "overlay",
             "size": 10,
             "solidity": 0.2
            },
            "type": "scatter"
           }
          ],
          "scatter3d": [
           {
            "line": {
             "colorbar": {
              "outlinewidth": 0,
              "ticks": ""
             }
            },
            "marker": {
             "colorbar": {
              "outlinewidth": 0,
              "ticks": ""
             }
            },
            "type": "scatter3d"
           }
          ],
          "scattercarpet": [
           {
            "marker": {
             "colorbar": {
              "outlinewidth": 0,
              "ticks": ""
             }
            },
            "type": "scattercarpet"
           }
          ],
          "scattergeo": [
           {
            "marker": {
             "colorbar": {
              "outlinewidth": 0,
              "ticks": ""
             }
            },
            "type": "scattergeo"
           }
          ],
          "scattergl": [
           {
            "marker": {
             "colorbar": {
              "outlinewidth": 0,
              "ticks": ""
             }
            },
            "type": "scattergl"
           }
          ],
          "scattermapbox": [
           {
            "marker": {
             "colorbar": {
              "outlinewidth": 0,
              "ticks": ""
             }
            },
            "type": "scattermapbox"
           }
          ],
          "scatterpolar": [
           {
            "marker": {
             "colorbar": {
              "outlinewidth": 0,
              "ticks": ""
             }
            },
            "type": "scatterpolar"
           }
          ],
          "scatterpolargl": [
           {
            "marker": {
             "colorbar": {
              "outlinewidth": 0,
              "ticks": ""
             }
            },
            "type": "scatterpolargl"
           }
          ],
          "scatterternary": [
           {
            "marker": {
             "colorbar": {
              "outlinewidth": 0,
              "ticks": ""
             }
            },
            "type": "scatterternary"
           }
          ],
          "surface": [
           {
            "colorbar": {
             "outlinewidth": 0,
             "ticks": ""
            },
            "colorscale": [
             [
              0,
              "#0d0887"
             ],
             [
              0.1111111111111111,
              "#46039f"
             ],
             [
              0.2222222222222222,
              "#7201a8"
             ],
             [
              0.3333333333333333,
              "#9c179e"
             ],
             [
              0.4444444444444444,
              "#bd3786"
             ],
             [
              0.5555555555555556,
              "#d8576b"
             ],
             [
              0.6666666666666666,
              "#ed7953"
             ],
             [
              0.7777777777777778,
              "#fb9f3a"
             ],
             [
              0.8888888888888888,
              "#fdca26"
             ],
             [
              1,
              "#f0f921"
             ]
            ],
            "type": "surface"
           }
          ],
          "table": [
           {
            "cells": {
             "fill": {
              "color": "#EBF0F8"
             },
             "line": {
              "color": "white"
             }
            },
            "header": {
             "fill": {
              "color": "#C8D4E3"
             },
             "line": {
              "color": "white"
             }
            },
            "type": "table"
           }
          ]
         },
         "layout": {
          "annotationdefaults": {
           "arrowcolor": "#2a3f5f",
           "arrowhead": 0,
           "arrowwidth": 1
          },
          "autotypenumbers": "strict",
          "coloraxis": {
           "colorbar": {
            "outlinewidth": 0,
            "ticks": ""
           }
          },
          "colorscale": {
           "diverging": [
            [
             0,
             "#8e0152"
            ],
            [
             0.1,
             "#c51b7d"
            ],
            [
             0.2,
             "#de77ae"
            ],
            [
             0.3,
             "#f1b6da"
            ],
            [
             0.4,
             "#fde0ef"
            ],
            [
             0.5,
             "#f7f7f7"
            ],
            [
             0.6,
             "#e6f5d0"
            ],
            [
             0.7,
             "#b8e186"
            ],
            [
             0.8,
             "#7fbc41"
            ],
            [
             0.9,
             "#4d9221"
            ],
            [
             1,
             "#276419"
            ]
           ],
           "sequential": [
            [
             0,
             "#0d0887"
            ],
            [
             0.1111111111111111,
             "#46039f"
            ],
            [
             0.2222222222222222,
             "#7201a8"
            ],
            [
             0.3333333333333333,
             "#9c179e"
            ],
            [
             0.4444444444444444,
             "#bd3786"
            ],
            [
             0.5555555555555556,
             "#d8576b"
            ],
            [
             0.6666666666666666,
             "#ed7953"
            ],
            [
             0.7777777777777778,
             "#fb9f3a"
            ],
            [
             0.8888888888888888,
             "#fdca26"
            ],
            [
             1,
             "#f0f921"
            ]
           ],
           "sequentialminus": [
            [
             0,
             "#0d0887"
            ],
            [
             0.1111111111111111,
             "#46039f"
            ],
            [
             0.2222222222222222,
             "#7201a8"
            ],
            [
             0.3333333333333333,
             "#9c179e"
            ],
            [
             0.4444444444444444,
             "#bd3786"
            ],
            [
             0.5555555555555556,
             "#d8576b"
            ],
            [
             0.6666666666666666,
             "#ed7953"
            ],
            [
             0.7777777777777778,
             "#fb9f3a"
            ],
            [
             0.8888888888888888,
             "#fdca26"
            ],
            [
             1,
             "#f0f921"
            ]
           ]
          },
          "colorway": [
           "#636efa",
           "#EF553B",
           "#00cc96",
           "#ab63fa",
           "#FFA15A",
           "#19d3f3",
           "#FF6692",
           "#B6E880",
           "#FF97FF",
           "#FECB52"
          ],
          "font": {
           "color": "#2a3f5f"
          },
          "geo": {
           "bgcolor": "white",
           "lakecolor": "white",
           "landcolor": "white",
           "showlakes": true,
           "showland": true,
           "subunitcolor": "#C8D4E3"
          },
          "hoverlabel": {
           "align": "left"
          },
          "hovermode": "closest",
          "mapbox": {
           "style": "light"
          },
          "paper_bgcolor": "white",
          "plot_bgcolor": "white",
          "polar": {
           "angularaxis": {
            "gridcolor": "#EBF0F8",
            "linecolor": "#EBF0F8",
            "ticks": ""
           },
           "bgcolor": "white",
           "radialaxis": {
            "gridcolor": "#EBF0F8",
            "linecolor": "#EBF0F8",
            "ticks": ""
           }
          },
          "scene": {
           "xaxis": {
            "backgroundcolor": "white",
            "gridcolor": "#DFE8F3",
            "gridwidth": 2,
            "linecolor": "#EBF0F8",
            "showbackground": true,
            "ticks": "",
            "zerolinecolor": "#EBF0F8"
           },
           "yaxis": {
            "backgroundcolor": "white",
            "gridcolor": "#DFE8F3",
            "gridwidth": 2,
            "linecolor": "#EBF0F8",
            "showbackground": true,
            "ticks": "",
            "zerolinecolor": "#EBF0F8"
           },
           "zaxis": {
            "backgroundcolor": "white",
            "gridcolor": "#DFE8F3",
            "gridwidth": 2,
            "linecolor": "#EBF0F8",
            "showbackground": true,
            "ticks": "",
            "zerolinecolor": "#EBF0F8"
           }
          },
          "shapedefaults": {
           "line": {
            "color": "#2a3f5f"
           }
          },
          "ternary": {
           "aaxis": {
            "gridcolor": "#DFE8F3",
            "linecolor": "#A2B1C6",
            "ticks": ""
           },
           "baxis": {
            "gridcolor": "#DFE8F3",
            "linecolor": "#A2B1C6",
            "ticks": ""
           },
           "bgcolor": "white",
           "caxis": {
            "gridcolor": "#DFE8F3",
            "linecolor": "#A2B1C6",
            "ticks": ""
           }
          },
          "title": {
           "x": 0.05
          },
          "xaxis": {
           "automargin": true,
           "gridcolor": "#EBF0F8",
           "linecolor": "#EBF0F8",
           "ticks": "",
           "title": {
            "standoff": 15
           },
           "zerolinecolor": "#EBF0F8",
           "zerolinewidth": 2
          },
          "yaxis": {
           "automargin": true,
           "gridcolor": "#EBF0F8",
           "linecolor": "#EBF0F8",
           "ticks": "",
           "title": {
            "standoff": 15
           },
           "zerolinecolor": "#EBF0F8",
           "zerolinewidth": 2
          }
         }
        },
        "title": {
         "text": "Compare CAGR / Max Drawdown 2019 - 2024"
        },
        "xaxis": {
         "title": {
          "text": "CAGR"
         }
        },
        "yaxis": {
         "title": {
          "text": "Max Drawdown"
         }
        }
       }
      },
      "text/html": [
       "<div>                            <div id=\"1c0c9b94-eb61-4453-b7f8-9b9a384f9cce\" class=\"plotly-graph-div\" style=\"height:525px; width:100%;\"></div>            <script type=\"text/javascript\">                require([\"plotly\"], function(Plotly) {                    window.PLOTLYENV=window.PLOTLYENV || {};                                    if (document.getElementById(\"1c0c9b94-eb61-4453-b7f8-9b9a384f9cce\")) {                    Plotly.newPlot(                        \"1c0c9b94-eb61-4453-b7f8-9b9a384f9cce\",                        [{\"marker\":{\"color\":\"lightgray\",\"size\":10},\"mode\":\"markers\",\"name\":\"VNM US Equity\",\"x\":[-0.05094255324004748],\"y\":[-0.493727983715978],\"type\":\"scatter\"},{\"marker\":{\"color\":\"lightgray\",\"size\":10},\"mode\":\"markers\",\"name\":\"AFCVICI KY Equity\",\"x\":[0.10930079560151285],\"y\":[-0.2811702328131157],\"type\":\"scatter\"},{\"marker\":{\"color\":\"lightgray\",\"size\":10},\"mode\":\"markers\",\"name\":\"LUMENUS LE Equity\",\"x\":[0.09640142617044845],\"y\":[-0.4786091600394727],\"type\":\"scatter\"},{\"marker\":{\"color\":\"lightgray\",\"size\":10},\"mode\":\"markers\",\"name\":\"XFVT GY Equity\",\"x\":[-0.039059154848344435],\"y\":[-0.4879869372521582],\"type\":\"scatter\"},{\"marker\":{\"color\":\"lightgray\",\"size\":10},\"mode\":\"markers\",\"name\":\"GAVNBCU LX Equity\",\"x\":[0.09414270103688982],\"y\":[-0.3833017657481516],\"type\":\"scatter\"},{\"marker\":{\"color\":\"lightgray\",\"size\":10},\"mode\":\"markers\",\"name\":\"LCVIETU SP Equity\",\"x\":[0.05029028089820087],\"y\":[-0.4301675977653632],\"type\":\"scatter\"},{\"marker\":{\"color\":\"lightgray\",\"size\":10},\"mode\":\"markers\",\"name\":\"FOVCPVA LX Equity\",\"x\":[0.09859788734636443],\"y\":[-0.3871794871794869],\"type\":\"scatter\"},{\"marker\":{\"color\":\"lightgray\",\"size\":10},\"mode\":\"markers\",\"name\":\"GAVTNIU LX Equity\",\"x\":[0.08783118326906059],\"y\":[-0.3809723386420787],\"type\":\"scatter\"},{\"marker\":{\"color\":\"lightgray\",\"size\":10},\"mode\":\"markers\",\"name\":\"AFCVIET KY Equity\",\"x\":[0.1018195589721187],\"y\":[-0.2832661478827902],\"type\":\"scatter\"},{\"marker\":{\"color\":\"lightgray\",\"size\":10},\"mode\":\"markers\",\"name\":\"VIETNAM ID Equity\",\"x\":[0.03999987358808199],\"y\":[-0.4968184043073907],\"type\":\"scatter\"},{\"marker\":{\"color\":\"lightgray\",\"size\":10},\"mode\":\"markers\",\"name\":\"E1VFVN30 VN Equity\",\"x\":[0.06912819132553971],\"y\":[-0.4220532319391637],\"type\":\"scatter\"},{\"marker\":{\"color\":\"lightgray\",\"size\":10},\"mode\":\"markers\",\"name\":\"XVTD LN Equity\",\"x\":[-0.0531401320410857],\"y\":[-0.5328324413338824],\"type\":\"scatter\"},{\"marker\":{\"color\":\"lightgray\",\"size\":10},\"mode\":\"markers\",\"name\":\"KVIETNE TB Equity\",\"x\":[0.04340655316536712],\"y\":[-0.3790369860569452],\"type\":\"scatter\"},{\"marker\":{\"color\":\"lightgray\",\"size\":10},\"mode\":\"markers\",\"name\":\"3087 HK Equity\",\"x\":[-0.062387729465536834],\"y\":[-0.5097035040431261],\"type\":\"scatter\"},{\"marker\":{\"color\":\"maroon\",\"size\":15,\"symbol\":\"diamond\"},\"mode\":\"markers\",\"name\":\"SSICOAD VN Equity\",\"x\":[0.14281570267678867],\"y\":[-0.4474815607555027],\"type\":\"scatter\"},{\"marker\":{\"color\":\"lightgray\",\"size\":10},\"mode\":\"markers\",\"name\":\"XFVT GR Equity\",\"x\":[-0.03527223045243966],\"y\":[-0.4927281257330514],\"type\":\"scatter\"},{\"marker\":{\"color\":\"lightgray\",\"size\":10},\"mode\":\"markers\",\"name\":\"LCVIETS SP Equity\",\"x\":[0.04500640160917557],\"y\":[-0.4256368118323751],\"type\":\"scatter\"},{\"marker\":{\"color\":\"lightgray\",\"size\":10},\"mode\":\"markers\",\"name\":\"LUMENCH LE Equity\",\"x\":[0.05333521596705104],\"y\":[-0.5034185160277967],\"type\":\"scatter\"},{\"marker\":{\"color\":\"lightgray\",\"size\":10},\"mode\":\"markers\",\"name\":\"VTNPHXA KY Equity\",\"x\":[0.09287930923331689],\"y\":[-0.3333900902434873],\"type\":\"scatter\"},{\"marker\":{\"color\":\"lightgray\",\"size\":10},\"mode\":\"markers\",\"name\":\"CPVNEQA TB Equity\",\"x\":[0.04591399311011979],\"y\":[-0.4299888160003137],\"type\":\"scatter\"},{\"marker\":{\"color\":\"lightgray\",\"size\":10},\"mode\":\"markers\",\"name\":\"KIMVGIU LX Equity\",\"x\":[0.11046764217302041],\"y\":[-0.4488592591645987],\"type\":\"scatter\"},{\"marker\":{\"color\":\"lightgray\",\"size\":10},\"mode\":\"markers\",\"name\":\"VIETEUR ID Equity\",\"x\":[0.06348079667191686],\"y\":[-0.4656113824957699],\"type\":\"scatter\"},{\"marker\":{\"color\":\"lightgray\",\"size\":10},\"mode\":\"markers\",\"name\":\"9A311108 JP Equity\",\"x\":[0.0966190618456031],\"y\":[-0.3794119380119025],\"type\":\"scatter\"},{\"marker\":{\"color\":\"lightgray\",\"size\":10},\"mode\":\"markers\",\"name\":\"XFVT GT Equity\",\"x\":[-0.039059154848344435],\"y\":[-0.4879869372521582],\"type\":\"scatter\"},{\"marker\":{\"color\":\"lightgray\",\"size\":10},\"mode\":\"markers\",\"name\":\"XFVT SP Equity\",\"x\":[-0.060625999927471974],\"y\":[-0.5322245322245326],\"type\":\"scatter\"},{\"marker\":{\"color\":\"lightgray\",\"size\":10},\"mode\":\"markers\",\"name\":\"TCMVN NA Equity\",\"x\":[0.09934663675786126],\"y\":[-0.4828833843584746],\"type\":\"scatter\"},{\"marker\":{\"color\":\"lightgray\",\"size\":10},\"mode\":\"markers\",\"name\":\"VCVOF US Equity\",\"x\":[0.10219034222210643],\"y\":[-0.4438358969109102],\"type\":\"scatter\"},{\"marker\":{\"color\":\"lightgray\",\"size\":10},\"mode\":\"markers\",\"name\":\"FUESSV50 VN Equity\",\"x\":[0.08668559218633276],\"y\":[-0.535246939636978],\"type\":\"scatter\"},{\"marker\":{\"color\":\"lightgray\",\"size\":10},\"mode\":\"markers\",\"name\":\"AB311171 JP Equity\",\"x\":[0.1298043836087417],\"y\":[-0.4391891891891889],\"type\":\"scatter\"},{\"marker\":{\"color\":\"lightgray\",\"size\":10},\"mode\":\"markers\",\"name\":\"IOFVTEQ LX Equity\",\"x\":[0.09249256511348602],\"y\":[-0.3779827907389336],\"type\":\"scatter\"},{\"marker\":{\"color\":\"lightgray\",\"size\":10},\"mode\":\"markers\",\"name\":\"SGVIEOP HK Equity\",\"x\":[0.05088228382615023],\"y\":[-0.4120282295182569],\"type\":\"scatter\"},{\"marker\":{\"color\":\"lightgray\",\"size\":10},\"mode\":\"markers\",\"name\":\"VFMVF1 VN Equity\",\"x\":[0.10804251936685305],\"y\":[-0.4136007970573292],\"type\":\"scatter\"},{\"marker\":{\"color\":\"lightgray\",\"size\":10},\"mode\":\"markers\",\"name\":\"FOVIEDE LX Equity\",\"x\":[0.09842295805682877],\"y\":[-0.3600849256900208],\"type\":\"scatter\"},{\"marker\":{\"color\":\"lightgray\",\"size\":10},\"mode\":\"markers\",\"name\":\"GELIONV SP Equity\",\"x\":[0.0446374449946525],\"y\":[-0.4252559726962458],\"type\":\"scatter\"},{\"marker\":{\"color\":\"lightgray\",\"size\":10},\"mode\":\"markers\",\"name\":\"0431216C JP Equity\",\"x\":[0.12663411933293056],\"y\":[-0.3612460102622116],\"type\":\"scatter\"},{\"marker\":{\"color\":\"lightgray\",\"size\":10},\"mode\":\"markers\",\"name\":\"49311186 JP Equity\",\"x\":[0.13119654681244786],\"y\":[-0.3641499724041231],\"type\":\"scatter\"},{\"marker\":{\"color\":\"lightgray\",\"size\":10},\"mode\":\"markers\",\"name\":\"ASPVIET TB Equity\",\"x\":[0.0033218601402551506],\"y\":[-0.4979593984171245],\"type\":\"scatter\"},{\"marker\":{\"color\":\"lightgray\",\"size\":10},\"mode\":\"markers\",\"name\":\"1AR0081 KS Equity\",\"x\":[0.0005513592034800396],\"y\":[-0.3632607310050772],\"type\":\"scatter\"},{\"marker\":{\"color\":\"lightgray\",\"size\":10},\"mode\":\"markers\",\"name\":\"47311156 JP Equity\",\"x\":[0.11867416906695971],\"y\":[-0.3535127411288403],\"type\":\"scatter\"},{\"marker\":{\"color\":\"lightgray\",\"size\":10},\"mode\":\"markers\",\"name\":\"ASPVRMF TB Equity\",\"x\":[-0.012814262437002344],\"y\":[-0.4943606952443269],\"type\":\"scatter\"},{\"marker\":{\"color\":\"lightgray\",\"size\":10},\"mode\":\"markers\",\"name\":\"VCBFTBF VN Equity\",\"x\":[0.1156565639145779],\"y\":[-0.2301169574110489],\"type\":\"scatter\"},{\"marker\":{\"color\":\"lightgray\",\"size\":10},\"mode\":\"markers\",\"name\":\"SSISCA\",\"x\":[0.12822339401693306],\"y\":[-0.4474815607555027],\"type\":\"scatter\"},{\"marker\":{\"color\":\"lightgray\",\"size\":10},\"mode\":\"markers\",\"name\":\"BVPF\",\"x\":[0.11246715268038199],\"y\":[-0.2258884651522692],\"type\":\"scatter\"},{\"marker\":{\"color\":\"maroon\",\"size\":15,\"symbol\":\"diamond\"},\"mode\":\"markers\",\"name\":\"VESAF\",\"x\":[0.15661655577283717],\"y\":[-0.3952867032691468],\"type\":\"scatter\"},{\"marker\":{\"color\":\"lightgray\",\"size\":10},\"mode\":\"markers\",\"name\":\"VCBF-BCF\",\"x\":[0.12043505994896009],\"y\":[-0.3241773864493208],\"type\":\"scatter\"},{\"marker\":{\"color\":\"maroon\",\"size\":15,\"symbol\":\"diamond\"},\"mode\":\"markers\",\"name\":\"VEOF\",\"x\":[0.13318489804898714],\"y\":[-0.3820458388043897],\"type\":\"scatter\"},{\"marker\":{\"color\":\"lightgray\",\"size\":10},\"mode\":\"markers\",\"name\":\"DCDS\",\"x\":[0.10843588191656717],\"y\":[-0.4260333589737111],\"type\":\"scatter\"},{\"marker\":{\"color\":\"lightgray\",\"size\":10},\"mode\":\"markers\",\"name\":\"VNDAF\",\"x\":[0.07307058632330676],\"y\":[-0.3465199763718746],\"type\":\"scatter\"},{\"marker\":{\"color\":\"lightgray\",\"size\":10},\"mode\":\"markers\",\"name\":\"DCDE\",\"x\":[0.07586160594498237],\"y\":[-0.442038914511398],\"type\":\"scatter\"},{\"marker\":{\"color\":\"lightgray\",\"size\":10},\"mode\":\"markers\",\"name\":\"BVFED\",\"x\":[0.07112880216824102],\"y\":[-0.4048738248391888],\"type\":\"scatter\"},{\"marker\":{\"color\":\"lightgray\",\"size\":10},\"mode\":\"markers\",\"name\":\"MAFEQI\",\"x\":[0.06437983284431881],\"y\":[-0.3939345739886538],\"type\":\"scatter\"},{\"marker\":{\"color\":\"purple\",\"size\":25,\"symbol\":\"square\"},\"mode\":\"markers\",\"name\":\"VNI\",\"x\":[0.04261454345261484],\"y\":[-0.4034293489993919],\"type\":\"scatter\"},{\"marker\":{\"color\":\"blue\",\"size\":30},\"mode\":\"markers\",\"name\":\"HIEP.NS\",\"x\":[0.18467897948084255],\"y\":[-0.14],\"type\":\"scatter\"},{\"marker\":{\"color\":\"orange\",\"size\":30},\"mode\":\"markers\",\"name\":\"MANDATE VND\",\"x\":[0.1499999999999999],\"y\":[-0.18],\"type\":\"scatter\"}],                        {\"template\":{\"data\":{\"histogram2dcontour\":[{\"type\":\"histogram2dcontour\",\"colorbar\":{\"outlinewidth\":0,\"ticks\":\"\"},\"colorscale\":[[0.0,\"#0d0887\"],[0.1111111111111111,\"#46039f\"],[0.2222222222222222,\"#7201a8\"],[0.3333333333333333,\"#9c179e\"],[0.4444444444444444,\"#bd3786\"],[0.5555555555555556,\"#d8576b\"],[0.6666666666666666,\"#ed7953\"],[0.7777777777777778,\"#fb9f3a\"],[0.8888888888888888,\"#fdca26\"],[1.0,\"#f0f921\"]]}],\"choropleth\":[{\"type\":\"choropleth\",\"colorbar\":{\"outlinewidth\":0,\"ticks\":\"\"}}],\"histogram2d\":[{\"type\":\"histogram2d\",\"colorbar\":{\"outlinewidth\":0,\"ticks\":\"\"},\"colorscale\":[[0.0,\"#0d0887\"],[0.1111111111111111,\"#46039f\"],[0.2222222222222222,\"#7201a8\"],[0.3333333333333333,\"#9c179e\"],[0.4444444444444444,\"#bd3786\"],[0.5555555555555556,\"#d8576b\"],[0.6666666666666666,\"#ed7953\"],[0.7777777777777778,\"#fb9f3a\"],[0.8888888888888888,\"#fdca26\"],[1.0,\"#f0f921\"]]}],\"heatmap\":[{\"type\":\"heatmap\",\"colorbar\":{\"outlinewidth\":0,\"ticks\":\"\"},\"colorscale\":[[0.0,\"#0d0887\"],[0.1111111111111111,\"#46039f\"],[0.2222222222222222,\"#7201a8\"],[0.3333333333333333,\"#9c179e\"],[0.4444444444444444,\"#bd3786\"],[0.5555555555555556,\"#d8576b\"],[0.6666666666666666,\"#ed7953\"],[0.7777777777777778,\"#fb9f3a\"],[0.8888888888888888,\"#fdca26\"],[1.0,\"#f0f921\"]]}],\"heatmapgl\":[{\"type\":\"heatmapgl\",\"colorbar\":{\"outlinewidth\":0,\"ticks\":\"\"},\"colorscale\":[[0.0,\"#0d0887\"],[0.1111111111111111,\"#46039f\"],[0.2222222222222222,\"#7201a8\"],[0.3333333333333333,\"#9c179e\"],[0.4444444444444444,\"#bd3786\"],[0.5555555555555556,\"#d8576b\"],[0.6666666666666666,\"#ed7953\"],[0.7777777777777778,\"#fb9f3a\"],[0.8888888888888888,\"#fdca26\"],[1.0,\"#f0f921\"]]}],\"contourcarpet\":[{\"type\":\"contourcarpet\",\"colorbar\":{\"outlinewidth\":0,\"ticks\":\"\"}}],\"contour\":[{\"type\":\"contour\",\"colorbar\":{\"outlinewidth\":0,\"ticks\":\"\"},\"colorscale\":[[0.0,\"#0d0887\"],[0.1111111111111111,\"#46039f\"],[0.2222222222222222,\"#7201a8\"],[0.3333333333333333,\"#9c179e\"],[0.4444444444444444,\"#bd3786\"],[0.5555555555555556,\"#d8576b\"],[0.6666666666666666,\"#ed7953\"],[0.7777777777777778,\"#fb9f3a\"],[0.8888888888888888,\"#fdca26\"],[1.0,\"#f0f921\"]]}],\"surface\":[{\"type\":\"surface\",\"colorbar\":{\"outlinewidth\":0,\"ticks\":\"\"},\"colorscale\":[[0.0,\"#0d0887\"],[0.1111111111111111,\"#46039f\"],[0.2222222222222222,\"#7201a8\"],[0.3333333333333333,\"#9c179e\"],[0.4444444444444444,\"#bd3786\"],[0.5555555555555556,\"#d8576b\"],[0.6666666666666666,\"#ed7953\"],[0.7777777777777778,\"#fb9f3a\"],[0.8888888888888888,\"#fdca26\"],[1.0,\"#f0f921\"]]}],\"mesh3d\":[{\"type\":\"mesh3d\",\"colorbar\":{\"outlinewidth\":0,\"ticks\":\"\"}}],\"scatter\":[{\"fillpattern\":{\"fillmode\":\"overlay\",\"size\":10,\"solidity\":0.2},\"type\":\"scatter\"}],\"parcoords\":[{\"type\":\"parcoords\",\"line\":{\"colorbar\":{\"outlinewidth\":0,\"ticks\":\"\"}}}],\"scatterpolargl\":[{\"type\":\"scatterpolargl\",\"marker\":{\"colorbar\":{\"outlinewidth\":0,\"ticks\":\"\"}}}],\"bar\":[{\"error_x\":{\"color\":\"#2a3f5f\"},\"error_y\":{\"color\":\"#2a3f5f\"},\"marker\":{\"line\":{\"color\":\"white\",\"width\":0.5},\"pattern\":{\"fillmode\":\"overlay\",\"size\":10,\"solidity\":0.2}},\"type\":\"bar\"}],\"scattergeo\":[{\"type\":\"scattergeo\",\"marker\":{\"colorbar\":{\"outlinewidth\":0,\"ticks\":\"\"}}}],\"scatterpolar\":[{\"type\":\"scatterpolar\",\"marker\":{\"colorbar\":{\"outlinewidth\":0,\"ticks\":\"\"}}}],\"histogram\":[{\"marker\":{\"pattern\":{\"fillmode\":\"overlay\",\"size\":10,\"solidity\":0.2}},\"type\":\"histogram\"}],\"scattergl\":[{\"type\":\"scattergl\",\"marker\":{\"colorbar\":{\"outlinewidth\":0,\"ticks\":\"\"}}}],\"scatter3d\":[{\"type\":\"scatter3d\",\"line\":{\"colorbar\":{\"outlinewidth\":0,\"ticks\":\"\"}},\"marker\":{\"colorbar\":{\"outlinewidth\":0,\"ticks\":\"\"}}}],\"scattermapbox\":[{\"type\":\"scattermapbox\",\"marker\":{\"colorbar\":{\"outlinewidth\":0,\"ticks\":\"\"}}}],\"scatterternary\":[{\"type\":\"scatterternary\",\"marker\":{\"colorbar\":{\"outlinewidth\":0,\"ticks\":\"\"}}}],\"scattercarpet\":[{\"type\":\"scattercarpet\",\"marker\":{\"colorbar\":{\"outlinewidth\":0,\"ticks\":\"\"}}}],\"carpet\":[{\"aaxis\":{\"endlinecolor\":\"#2a3f5f\",\"gridcolor\":\"#C8D4E3\",\"linecolor\":\"#C8D4E3\",\"minorgridcolor\":\"#C8D4E3\",\"startlinecolor\":\"#2a3f5f\"},\"baxis\":{\"endlinecolor\":\"#2a3f5f\",\"gridcolor\":\"#C8D4E3\",\"linecolor\":\"#C8D4E3\",\"minorgridcolor\":\"#C8D4E3\",\"startlinecolor\":\"#2a3f5f\"},\"type\":\"carpet\"}],\"table\":[{\"cells\":{\"fill\":{\"color\":\"#EBF0F8\"},\"line\":{\"color\":\"white\"}},\"header\":{\"fill\":{\"color\":\"#C8D4E3\"},\"line\":{\"color\":\"white\"}},\"type\":\"table\"}],\"barpolar\":[{\"marker\":{\"line\":{\"color\":\"white\",\"width\":0.5},\"pattern\":{\"fillmode\":\"overlay\",\"size\":10,\"solidity\":0.2}},\"type\":\"barpolar\"}],\"pie\":[{\"automargin\":true,\"type\":\"pie\"}]},\"layout\":{\"autotypenumbers\":\"strict\",\"colorway\":[\"#636efa\",\"#EF553B\",\"#00cc96\",\"#ab63fa\",\"#FFA15A\",\"#19d3f3\",\"#FF6692\",\"#B6E880\",\"#FF97FF\",\"#FECB52\"],\"font\":{\"color\":\"#2a3f5f\"},\"hovermode\":\"closest\",\"hoverlabel\":{\"align\":\"left\"},\"paper_bgcolor\":\"white\",\"plot_bgcolor\":\"white\",\"polar\":{\"bgcolor\":\"white\",\"angularaxis\":{\"gridcolor\":\"#EBF0F8\",\"linecolor\":\"#EBF0F8\",\"ticks\":\"\"},\"radialaxis\":{\"gridcolor\":\"#EBF0F8\",\"linecolor\":\"#EBF0F8\",\"ticks\":\"\"}},\"ternary\":{\"bgcolor\":\"white\",\"aaxis\":{\"gridcolor\":\"#DFE8F3\",\"linecolor\":\"#A2B1C6\",\"ticks\":\"\"},\"baxis\":{\"gridcolor\":\"#DFE8F3\",\"linecolor\":\"#A2B1C6\",\"ticks\":\"\"},\"caxis\":{\"gridcolor\":\"#DFE8F3\",\"linecolor\":\"#A2B1C6\",\"ticks\":\"\"}},\"coloraxis\":{\"colorbar\":{\"outlinewidth\":0,\"ticks\":\"\"}},\"colorscale\":{\"sequential\":[[0.0,\"#0d0887\"],[0.1111111111111111,\"#46039f\"],[0.2222222222222222,\"#7201a8\"],[0.3333333333333333,\"#9c179e\"],[0.4444444444444444,\"#bd3786\"],[0.5555555555555556,\"#d8576b\"],[0.6666666666666666,\"#ed7953\"],[0.7777777777777778,\"#fb9f3a\"],[0.8888888888888888,\"#fdca26\"],[1.0,\"#f0f921\"]],\"sequentialminus\":[[0.0,\"#0d0887\"],[0.1111111111111111,\"#46039f\"],[0.2222222222222222,\"#7201a8\"],[0.3333333333333333,\"#9c179e\"],[0.4444444444444444,\"#bd3786\"],[0.5555555555555556,\"#d8576b\"],[0.6666666666666666,\"#ed7953\"],[0.7777777777777778,\"#fb9f3a\"],[0.8888888888888888,\"#fdca26\"],[1.0,\"#f0f921\"]],\"diverging\":[[0,\"#8e0152\"],[0.1,\"#c51b7d\"],[0.2,\"#de77ae\"],[0.3,\"#f1b6da\"],[0.4,\"#fde0ef\"],[0.5,\"#f7f7f7\"],[0.6,\"#e6f5d0\"],[0.7,\"#b8e186\"],[0.8,\"#7fbc41\"],[0.9,\"#4d9221\"],[1,\"#276419\"]]},\"xaxis\":{\"gridcolor\":\"#EBF0F8\",\"linecolor\":\"#EBF0F8\",\"ticks\":\"\",\"title\":{\"standoff\":15},\"zerolinecolor\":\"#EBF0F8\",\"automargin\":true,\"zerolinewidth\":2},\"yaxis\":{\"gridcolor\":\"#EBF0F8\",\"linecolor\":\"#EBF0F8\",\"ticks\":\"\",\"title\":{\"standoff\":15},\"zerolinecolor\":\"#EBF0F8\",\"automargin\":true,\"zerolinewidth\":2},\"scene\":{\"xaxis\":{\"backgroundcolor\":\"white\",\"gridcolor\":\"#DFE8F3\",\"linecolor\":\"#EBF0F8\",\"showbackground\":true,\"ticks\":\"\",\"zerolinecolor\":\"#EBF0F8\",\"gridwidth\":2},\"yaxis\":{\"backgroundcolor\":\"white\",\"gridcolor\":\"#DFE8F3\",\"linecolor\":\"#EBF0F8\",\"showbackground\":true,\"ticks\":\"\",\"zerolinecolor\":\"#EBF0F8\",\"gridwidth\":2},\"zaxis\":{\"backgroundcolor\":\"white\",\"gridcolor\":\"#DFE8F3\",\"linecolor\":\"#EBF0F8\",\"showbackground\":true,\"ticks\":\"\",\"zerolinecolor\":\"#EBF0F8\",\"gridwidth\":2}},\"shapedefaults\":{\"line\":{\"color\":\"#2a3f5f\"}},\"annotationdefaults\":{\"arrowcolor\":\"#2a3f5f\",\"arrowhead\":0,\"arrowwidth\":1},\"geo\":{\"bgcolor\":\"white\",\"landcolor\":\"white\",\"subunitcolor\":\"#C8D4E3\",\"showland\":true,\"showlakes\":true,\"lakecolor\":\"white\"},\"title\":{\"x\":0.05},\"mapbox\":{\"style\":\"light\"}}},\"title\":{\"text\":\"Compare CAGR / Max Drawdown 2019 - 2024\"},\"xaxis\":{\"title\":{\"text\":\"CAGR\"}},\"yaxis\":{\"title\":{\"text\":\"Max Drawdown\"}}},                        {\"responsive\": true}                    ).then(function(){\n",
       "                            \n",
       "var gd = document.getElementById('1c0c9b94-eb61-4453-b7f8-9b9a384f9cce');\n",
       "var x = new MutationObserver(function (mutations, observer) {{\n",
       "        var display = window.getComputedStyle(gd).display;\n",
       "        if (!display || display === 'none') {{\n",
       "            console.log([gd, 'removed!']);\n",
       "            Plotly.purge(gd);\n",
       "            observer.disconnect();\n",
       "        }}\n",
       "}});\n",
       "\n",
       "// Listen for the removal of the full notebook cells\n",
       "var notebookContainer = gd.closest('#notebook-container');\n",
       "if (notebookContainer) {{\n",
       "    x.observe(notebookContainer, {childList: true});\n",
       "}}\n",
       "\n",
       "// Listen for the clearing of the current output cell\n",
       "var outputEl = gd.closest('.output');\n",
       "if (outputEl) {{\n",
       "    x.observe(outputEl, {childList: true});\n",
       "}}\n",
       "\n",
       "                        })                };                });            </script>        </div>"
      ]
     },
     "metadata": {},
     "output_type": "display_data"
    }
   ],
   "source": [
    "fig = go.Figure()\n",
    "top_3_6Y = performance_6Y[performance_6Y.index.isin(inside_list) == False].sort_values(by = 'CAGR', ascending = False)[:3].index\n",
    "\n",
    "for col in performance_6Y.index:\n",
    "    if col == 'HIEP.NS':\n",
    "        fig.add_trace(go.Scatter(x=[performance_6Y.loc[col]['CAGR']], y=[performance_6Y.loc[col]['Max Drawdown']],\n",
    "                         mode='markers', name=col, marker=dict(color='blue', size=30))) # Set color to red and increase thickness\n",
    "    elif col == 'MANDATE VND':\n",
    "        fig.add_trace(go.Scatter(x=[performance_6Y.loc[col]['CAGR']], y=[performance_6Y.loc[col]['Max Drawdown']],\n",
    "                         mode='markers', name=col, marker=dict(color='orange', size=30))) # Set color to red and increase thickness\n",
    "    elif col == 'VNI':\n",
    "            fig.add_trace(go.Scatter(x=[performance_6Y.loc[col]['CAGR']], y=[performance_6Y.loc[col]['Max Drawdown']],\n",
    "                             mode='markers', name=col, marker=dict(color='purple', size=25, symbol = \"square\"))) # Set color to red and increase thickness\n",
    "    elif col in top_3_6Y:\n",
    "            fig.add_trace(go.Scatter(x=[performance_6Y.loc[col]['CAGR']], y=[performance_6Y.loc[col]['Max Drawdown']],\n",
    "                             mode='markers', name=col, marker=dict(color='maroon', size = 15, symbol = \"diamond\"))) # Set color to blur gray and reduce thickness\n",
    "    else:\n",
    "        fig.add_trace(go.Scatter(x=[performance_6Y.loc[col]['CAGR']], y=[performance_6Y.loc[col]['Max Drawdown']],\n",
    "                         mode='markers', name=col, marker=dict(color='lightgray', size = 10))) # Set color to blur gray and reduce thickness\n",
    "\n",
    "fig.update_layout(title='Compare CAGR / Max Drawdown 2019 - 2024',\n",
    "                  xaxis_title='CAGR',\n",
    "                  yaxis_title='Max Drawdown')\n",
    "\n",
    "fig.show()"
   ]
  },
  {
   "cell_type": "markdown",
   "id": "01c3f7e4",
   "metadata": {},
   "source": [
    "# Đánh giá performance 3 năm"
   ]
  },
  {
   "cell_type": "code",
   "execution_count": 8,
   "id": "a55e9cdd",
   "metadata": {},
   "outputs": [],
   "source": [
    "cagr_3y = []\n",
    "max_dd_3y = []\n",
    "for tick in annual_ret.iloc[:,3:].replace(0.000, np.nan).dropna().index:\n",
    "    cagr = (1 + annual_ret.iloc[:,3:].loc[tick]).cumprod().iloc[-1] ** (1/3) - 1\n",
    "    max_dd_3y.append(max_drawdown.iloc[:,3:].loc[tick].min())\n",
    "    cagr_3y.append(cagr)\n",
    "\n",
    "performance_3Y = pd.DataFrame({\n",
    "    'CAGR': cagr_3y,\n",
    "    'Max Drawdown': max_dd_3y\n",
    "}, index = annual_ret.iloc[:,3:].replace(0.000, np.nan).dropna().index )"
   ]
  },
  {
   "cell_type": "code",
   "execution_count": 43,
   "id": "df8555ae",
   "metadata": {
    "scrolled": false
   },
   "outputs": [
    {
     "data": {
      "application/vnd.plotly.v1+json": {
       "config": {
        "plotlyServerURL": "https://plot.ly"
       },
       "data": [
        {
         "marker": {
          "color": "lightgray",
          "size": 10
         },
         "mode": "markers",
         "name": "VNM US Equity",
         "type": "scatter",
         "x": [
          -0.21723152159317438
         ],
         "y": [
          -0.493727983715978
         ]
        },
        {
         "marker": {
          "color": "lightgray",
          "size": 10
         },
         "mode": "markers",
         "name": "AFCVICI KY Equity",
         "type": "scatter",
         "x": [
          -0.010113874400002665
         ],
         "y": [
          -0.2811702328131157
         ]
        },
        {
         "marker": {
          "color": "lightgray",
          "size": 10
         },
         "mode": "markers",
         "name": "LUMENUS LE Equity",
         "type": "scatter",
         "x": [
          -0.03018471304804149
         ],
         "y": [
          -0.4786091600394727
         ]
        },
        {
         "marker": {
          "color": "lightgray",
          "size": 10
         },
         "mode": "markers",
         "name": "XFVT GY Equity",
         "type": "scatter",
         "x": [
          -0.21484210960227879
         ],
         "y": [
          -0.4879869372521582
         ]
        },
        {
         "marker": {
          "color": "lightgray",
          "size": 10
         },
         "mode": "markers",
         "name": "GAVNBCU LX Equity",
         "type": "scatter",
         "x": [
          -0.029403854718766498
         ],
         "y": [
          -0.3833017657481516
         ]
        },
        {
         "marker": {
          "color": "lightgray",
          "size": 10
         },
         "mode": "markers",
         "name": "LCVIETU SP Equity",
         "type": "scatter",
         "x": [
          -0.08152243303882944
         ],
         "y": [
          -0.4301675977653632
         ]
        },
        {
         "marker": {
          "color": "lightgray",
          "size": 10
         },
         "mode": "markers",
         "name": "FOVCPVA LX Equity",
         "type": "scatter",
         "x": [
          0.002469112229080528
         ],
         "y": [
          -0.3871794871794869
         ]
        },
        {
         "marker": {
          "color": "lightgray",
          "size": 10
         },
         "mode": "markers",
         "name": "GAVTNIU LX Equity",
         "type": "scatter",
         "x": [
          -0.029389303932292665
         ],
         "y": [
          -0.3809723386420787
         ]
        },
        {
         "marker": {
          "color": "lightgray",
          "size": 10
         },
         "mode": "markers",
         "name": "AFCVIET KY Equity",
         "type": "scatter",
         "x": [
          -0.015728318094524685
         ],
         "y": [
          -0.2832661478827902
         ]
        },
        {
         "marker": {
          "color": "lightgray",
          "size": 10
         },
         "mode": "markers",
         "name": "VIETNAM ID Equity",
         "type": "scatter",
         "x": [
          -0.09720813491515357
         ],
         "y": [
          -0.4968184043073907
         ]
        },
        {
         "marker": {
          "color": "lightgray",
          "size": 10
         },
         "mode": "markers",
         "name": "E1VFVN30 VN Equity",
         "type": "scatter",
         "x": [
          -0.055814341033961545
         ],
         "y": [
          -0.4220532319391637
         ]
        },
        {
         "marker": {
          "color": "lightgray",
          "size": 10
         },
         "mode": "markers",
         "name": "XVTD LN Equity",
         "type": "scatter",
         "x": [
          -0.23973746587226463
         ],
         "y": [
          -0.5328324413338824
         ]
        },
        {
         "marker": {
          "color": "lightgray",
          "size": 10
         },
         "mode": "markers",
         "name": "KVIETNE TB Equity",
         "type": "scatter",
         "x": [
          -0.056192450061077315
         ],
         "y": [
          -0.3790369860569452
         ]
        },
        {
         "marker": {
          "color": "lightgray",
          "size": 10
         },
         "mode": "markers",
         "name": "00885 TT Equity",
         "type": "scatter",
         "x": [
          -0.15525471829939175
         ],
         "y": [
          -0.4469026548672554
         ]
        },
        {
         "marker": {
          "color": "lightgray",
          "size": 10
         },
         "mode": "markers",
         "name": "3087 HK Equity",
         "type": "scatter",
         "x": [
          -0.24563854549276953
         ],
         "y": [
          -0.5097035040431261
         ]
        },
        {
         "marker": {
          "color": "maroon",
          "size": 15,
          "symbol": "diamond"
         },
         "mode": "markers",
         "name": "SSICOAD VN Equity",
         "type": "scatter",
         "x": [
          0.08322846191908329
         ],
         "y": [
          -0.4474815607555027
         ]
        },
        {
         "marker": {
          "color": "lightgray",
          "size": 10
         },
         "mode": "markers",
         "name": "XFVT GR Equity",
         "type": "scatter",
         "x": [
          -0.21162202233434135
         ],
         "y": [
          -0.4927281257330514
         ]
        },
        {
         "marker": {
          "color": "lightgray",
          "size": 10
         },
         "mode": "markers",
         "name": "GAVT SW Equity",
         "type": "scatter",
         "x": [
          -0.0455919684712881
         ],
         "y": [
          -0.4084914763589583
         ]
        },
        {
         "marker": {
          "color": "lightgray",
          "size": 10
         },
         "mode": "markers",
         "name": "LCVIETS SP Equity",
         "type": "scatter",
         "x": [
          -0.0861700410990589
         ],
         "y": [
          -0.4256368118323751
         ]
        },
        {
         "marker": {
          "color": "lightgray",
          "size": 10
         },
         "mode": "markers",
         "name": "LUMENCH LE Equity",
         "type": "scatter",
         "x": [
          -0.08460650064798159
         ],
         "y": [
          -0.5034185160277967
         ]
        },
        {
         "marker": {
          "color": "lightgray",
          "size": 10
         },
         "mode": "markers",
         "name": "VNAM US Equity",
         "type": "scatter",
         "x": [
          -0.215083321186731
         ],
         "y": [
          -0.5284208969571488
         ]
        },
        {
         "marker": {
          "color": "lightgray",
          "size": 10
         },
         "mode": "markers",
         "name": "VTNPHXA KY Equity",
         "type": "scatter",
         "x": [
          -0.014935793866949099
         ],
         "y": [
          -0.3333900902434873
         ]
        },
        {
         "marker": {
          "color": "lightgray",
          "size": 10
         },
         "mode": "markers",
         "name": "FUESSVFL VN Equity",
         "type": "scatter",
         "x": [
          -0.01783157353539666
         ],
         "y": [
          -0.5317991631799167
         ]
        },
        {
         "marker": {
          "color": "lightgray",
          "size": 10
         },
         "mode": "markers",
         "name": "CPVNEQA TB Equity",
         "type": "scatter",
         "x": [
          -0.06227073978159514
         ],
         "y": [
          -0.4299888160003137
         ]
        },
        {
         "marker": {
          "color": "lightgray",
          "size": 10
         },
         "mode": "markers",
         "name": "KIMVGIU LX Equity",
         "type": "scatter",
         "x": [
          -0.024902824313146832
         ],
         "y": [
          -0.4488592591645987
         ]
        },
        {
         "marker": {
          "color": "lightgray",
          "size": 10
         },
         "mode": "markers",
         "name": "VIETEUR ID Equity",
         "type": "scatter",
         "x": [
          -0.0590797465104681
         ],
         "y": [
          -0.4656113824957699
         ]
        },
        {
         "marker": {
          "color": "lightgray",
          "size": 10
         },
         "mode": "markers",
         "name": "9A311108 JP Equity",
         "type": "scatter",
         "x": [
          0.03395868725120588
         ],
         "y": [
          -0.3764745159136439
         ]
        },
        {
         "marker": {
          "color": "lightgray",
          "size": 10
         },
         "mode": "markers",
         "name": "LUMCHFI LE Equity",
         "type": "scatter",
         "x": [
          -0.08077116974910026
         ],
         "y": [
          -0.5022207778138881
         ]
        },
        {
         "marker": {
          "color": "lightgray",
          "size": 10
         },
         "mode": "markers",
         "name": "LUMENEI LE Equity",
         "type": "scatter",
         "x": [
          -0.05762320602920945
         ],
         "y": [
          -0.4948354729231222
         ]
        },
        {
         "marker": {
          "color": "lightgray",
          "size": 10
         },
         "mode": "markers",
         "name": "CTBCVET TT Equity",
         "type": "scatter",
         "x": [
          -0.03793243926531209
         ],
         "y": [
          -0.4318046456223946
         ]
        },
        {
         "marker": {
          "color": "lightgray",
          "size": 10
         },
         "mode": "markers",
         "name": "XFVT GT Equity",
         "type": "scatter",
         "x": [
          -0.21484210960227879
         ],
         "y": [
          -0.4879869372521582
         ]
        },
        {
         "marker": {
          "color": "lightgray",
          "size": 10
         },
         "mode": "markers",
         "name": "XFVT SP Equity",
         "type": "scatter",
         "x": [
          -0.24399363480297132
         ],
         "y": [
          -0.5322245322245326
         ]
        },
        {
         "marker": {
          "color": "lightgray",
          "size": 10
         },
         "mode": "markers",
         "name": "TCMVN NA Equity",
         "type": "scatter",
         "x": [
          -0.023258538405198426
         ],
         "y": [
          -0.4828833843584746
         ]
        },
        {
         "marker": {
          "color": "lightgray",
          "size": 10
         },
         "mode": "markers",
         "name": "2804 HK Equity",
         "type": "scatter",
         "x": [
          -0.23892902683217354
         ],
         "y": [
          -0.5016332244517034
         ]
        },
        {
         "marker": {
          "color": "lightgray",
          "size": 10
         },
         "mode": "markers",
         "name": "VCVOF US Equity",
         "type": "scatter",
         "x": [
          -0.02964308465537313
         ],
         "y": [
          -0.3499940266411803
         ]
        },
        {
         "marker": {
          "color": "lightgray",
          "size": 10
         },
         "mode": "markers",
         "name": "FUESSV50 VN Equity",
         "type": "scatter",
         "x": [
          -0.029348091913293795
         ],
         "y": [
          -0.535246939636978
         ]
        },
        {
         "marker": {
          "color": "lightgray",
          "size": 10
         },
         "mode": "markers",
         "name": "THVMEFA CH Equity",
         "type": "scatter",
         "x": [
          -0.040067011135036856
         ],
         "y": [
          -0.4119127516778522
         ]
        },
        {
         "marker": {
          "color": "lightgray",
          "size": 10
         },
         "mode": "markers",
         "name": "AB311171 JP Equity",
         "type": "scatter",
         "x": [
          0.022376387468828085
         ],
         "y": [
          -0.4391891891891889
         ]
        },
        {
         "marker": {
          "color": "lightgray",
          "size": 10
         },
         "mode": "markers",
         "name": "IOFVTEQ LX Equity",
         "type": "scatter",
         "x": [
          -0.042176402586895034
         ],
         "y": [
          -0.3779827907389336
         ]
        },
        {
         "marker": {
          "color": "lightgray",
          "size": 10
         },
         "mode": "markers",
         "name": "SGVIEOP HK Equity",
         "type": "scatter",
         "x": [
          -0.06362368999705592
         ],
         "y": [
          -0.4120282295182569
         ]
        },
        {
         "marker": {
          "color": "lightgray",
          "size": 10
         },
         "mode": "markers",
         "name": "VFMVF1 VN Equity",
         "type": "scatter",
         "x": [
          -0.022299764243015607
         ],
         "y": [
          -0.4136007970573292
         ]
        },
        {
         "marker": {
          "color": "lightgray",
          "size": 10
         },
         "mode": "markers",
         "name": "FOVIEDE LX Equity",
         "type": "scatter",
         "x": [
          0.022000213542436642
         ],
         "y": [
          -0.3600849256900208
         ]
        },
        {
         "marker": {
          "color": "lightgray",
          "size": 10
         },
         "mode": "markers",
         "name": "GAVT SE Equity",
         "type": "scatter",
         "x": [
          -0.0455919684712881
         ],
         "y": [
          -0.4084914763589583
         ]
        },
        {
         "marker": {
          "color": "lightgray",
          "size": 10
         },
         "mode": "markers",
         "name": "GELIONV SP Equity",
         "type": "scatter",
         "x": [
          -0.08657904224139512
         ],
         "y": [
          -0.4252559726962458
         ]
        },
        {
         "marker": {
          "color": "lightgray",
          "size": 10
         },
         "mode": "markers",
         "name": "YDVNLDR KY Equity",
         "type": "scatter",
         "x": [
          -0.11652221160607812
         ],
         "y": [
          -0.432660453782066
         ]
        },
        {
         "marker": {
          "color": "lightgray",
          "size": 10
         },
         "mode": "markers",
         "name": "0431216C JP Equity",
         "type": "scatter",
         "x": [
          0.0825270977078072
         ],
         "y": [
          -0.3274057352419996
         ]
        },
        {
         "marker": {
          "color": "lightgray",
          "size": 10
         },
         "mode": "markers",
         "name": "SSIVLGF VN Equity",
         "type": "scatter",
         "x": [
          0.06389794307356023
         ],
         "y": [
          -0.3263486567357061
         ]
        },
        {
         "marker": {
          "color": "maroon",
          "size": 15,
          "symbol": "diamond"
         },
         "mode": "markers",
         "name": "49311186 JP Equity",
         "type": "scatter",
         "x": [
          0.08706061016431832
         ],
         "y": [
          -0.3351828756397223
         ]
        },
        {
         "marker": {
          "color": "lightgray",
          "size": 10
         },
         "mode": "markers",
         "name": "ASPVIET TB Equity",
         "type": "scatter",
         "x": [
          -0.154287959434804
         ],
         "y": [
          -0.4979593984171245
         ]
        },
        {
         "marker": {
          "color": "lightgray",
          "size": 10
         },
         "mode": "markers",
         "name": "1AR0081 KS Equity",
         "type": "scatter",
         "x": [
          -0.04457279250743673
         ],
         "y": [
          -0.3632607310050772
         ]
        },
        {
         "marker": {
          "color": "lightgray",
          "size": 10
         },
         "mode": "markers",
         "name": "47311156 JP Equity",
         "type": "scatter",
         "x": [
          0.057949079672492854
         ],
         "y": [
          -0.3535127411288403
         ]
        },
        {
         "marker": {
          "color": "lightgray",
          "size": 10
         },
         "mode": "markers",
         "name": "ASPVRMF TB Equity",
         "type": "scatter",
         "x": [
          -0.1637802589369879
         ],
         "y": [
          -0.4943606952443269
         ]
        },
        {
         "marker": {
          "color": "lightgray",
          "size": 10
         },
         "mode": "markers",
         "name": "VCBFTBF VN Equity",
         "type": "scatter",
         "x": [
          0.0699495151223728
         ],
         "y": [
          -0.2301169574110489
         ]
        },
        {
         "marker": {
          "color": "lightgray",
          "size": 10
         },
         "mode": "markers",
         "name": "VCBFMGF VN Equity",
         "type": "scatter",
         "x": [
          0.08007392661864321
         ],
         "y": [
          -0.3697212696476264
         ]
        },
        {
         "marker": {
          "color": "maroon",
          "size": 15,
          "symbol": "diamond"
         },
         "mode": "markers",
         "name": "FUCTVGF3 VN Equity",
         "type": "scatter",
         "x": [
          0.09005115142998021
         ],
         "y": [
          -0.2232142857142857
         ]
        },
        {
         "marker": {
          "color": "lightgray",
          "size": 10
         },
         "mode": "markers",
         "name": "FUESSV30 VN Equity",
         "type": "scatter",
         "x": [
          -0.04638046789772243
         ],
         "y": [
          -0.4345794392523371
         ]
        },
        {
         "marker": {
          "color": "lightgray",
          "size": 10
         },
         "mode": "markers",
         "name": "SSISCA",
         "type": "scatter",
         "x": [
          0.05675707831732879
         ],
         "y": [
          -0.4474815607555027
         ]
        },
        {
         "marker": {
          "color": "lightgray",
          "size": 10
         },
         "mode": "markers",
         "name": "BVPF",
         "type": "scatter",
         "x": [
          0.06360414933211644
         ],
         "y": [
          -0.2258884651522692
         ]
        },
        {
         "marker": {
          "color": "lightgray",
          "size": 10
         },
         "mode": "markers",
         "name": "VESAF",
         "type": "scatter",
         "x": [
          0.04255175817507606
         ],
         "y": [
          -0.3952867032691468
         ]
        },
        {
         "marker": {
          "color": "lightgray",
          "size": 10
         },
         "mode": "markers",
         "name": "VCBF-BCF",
         "type": "scatter",
         "x": [
          0.06967069423158057
         ],
         "y": [
          -0.3241773864493208
         ]
        },
        {
         "marker": {
          "color": "lightgray",
          "size": 10
         },
         "mode": "markers",
         "name": "VEOF",
         "type": "scatter",
         "x": [
          0.04276584629746072
         ],
         "y": [
          -0.3820458388043897
         ]
        },
        {
         "marker": {
          "color": "lightgray",
          "size": 10
         },
         "mode": "markers",
         "name": "MBVF",
         "type": "scatter",
         "x": [
          0.035196821954549096
         ],
         "y": [
          -0.3006552809452558
         ]
        },
        {
         "marker": {
          "color": "lightgray",
          "size": 10
         },
         "mode": "markers",
         "name": "MAGEF",
         "type": "scatter",
         "x": [
          0.009169223394251969
         ],
         "y": [
          -0.3424051002246667
         ]
        },
        {
         "marker": {
          "color": "lightgray",
          "size": 10
         },
         "mode": "markers",
         "name": "DCDS",
         "type": "scatter",
         "x": [
          -0.03412176538420819
         ],
         "y": [
          -0.4117571639531231
         ]
        },
        {
         "marker": {
          "color": "lightgray",
          "size": 10
         },
         "mode": "markers",
         "name": "VNDAF",
         "type": "scatter",
         "x": [
          -0.011406220024457792
         ],
         "y": [
          -0.3465199763718746
         ]
        },
        {
         "marker": {
          "color": "lightgray",
          "size": 10
         },
         "mode": "markers",
         "name": "DCDE",
         "type": "scatter",
         "x": [
          -0.056519752314214466
         ],
         "y": [
          -0.3911841195533921
         ]
        },
        {
         "marker": {
          "color": "lightgray",
          "size": 10
         },
         "mode": "markers",
         "name": "DCAF",
         "type": "scatter",
         "x": [
          -0.021034230750341942
         ],
         "y": [
          -0.3149560057916428
         ]
        },
        {
         "marker": {
          "color": "lightgray",
          "size": 10
         },
         "mode": "markers",
         "name": "BVFED",
         "type": "scatter",
         "x": [
          -0.017928534772112092
         ],
         "y": [
          -0.4048738248391888
         ]
        },
        {
         "marker": {
          "color": "lightgray",
          "size": 10
         },
         "mode": "markers",
         "name": "MAFEQI",
         "type": "scatter",
         "x": [
          -0.03720418628861355
         ],
         "y": [
          -0.3939345739886538
         ]
        },
        {
         "marker": {
          "color": "purple",
          "size": 25,
          "symbol": "square"
         },
         "mode": "markers",
         "name": "VNI",
         "type": "scatter",
         "x": [
          -0.0806909666766924
         ],
         "y": [
          -0.4034293489993919
         ]
        },
        {
         "marker": {
          "color": "blue",
          "size": 30
         },
         "mode": "markers",
         "name": "HIEP.NS",
         "type": "scatter",
         "x": [
          0.17732437801902834
         ],
         "y": [
          -0.12
         ]
        },
        {
         "marker": {
          "color": "green",
          "size": 30
         },
         "mode": "markers",
         "name": "NAM.TH.CS",
         "type": "scatter",
         "x": [
          0.09569972653914705
         ],
         "y": [
          -0.1153
         ]
        },
        {
         "marker": {
          "color": "red",
          "size": 30
         },
         "mode": "markers",
         "name": "NAM.TH.PS",
         "type": "scatter",
         "x": [
          0.09737866163066378
         ],
         "y": [
          -0.2
         ]
        },
        {
         "marker": {
          "color": "orange",
          "size": 30
         },
         "mode": "markers",
         "name": "MANDATE VND",
         "type": "scatter",
         "x": [
          0.1499999999999999
         ],
         "y": [
          -0.18
         ]
        }
       ],
       "layout": {
        "template": {
         "data": {
          "bar": [
           {
            "error_x": {
             "color": "#2a3f5f"
            },
            "error_y": {
             "color": "#2a3f5f"
            },
            "marker": {
             "line": {
              "color": "white",
              "width": 0.5
             },
             "pattern": {
              "fillmode": "overlay",
              "size": 10,
              "solidity": 0.2
             }
            },
            "type": "bar"
           }
          ],
          "barpolar": [
           {
            "marker": {
             "line": {
              "color": "white",
              "width": 0.5
             },
             "pattern": {
              "fillmode": "overlay",
              "size": 10,
              "solidity": 0.2
             }
            },
            "type": "barpolar"
           }
          ],
          "carpet": [
           {
            "aaxis": {
             "endlinecolor": "#2a3f5f",
             "gridcolor": "#C8D4E3",
             "linecolor": "#C8D4E3",
             "minorgridcolor": "#C8D4E3",
             "startlinecolor": "#2a3f5f"
            },
            "baxis": {
             "endlinecolor": "#2a3f5f",
             "gridcolor": "#C8D4E3",
             "linecolor": "#C8D4E3",
             "minorgridcolor": "#C8D4E3",
             "startlinecolor": "#2a3f5f"
            },
            "type": "carpet"
           }
          ],
          "choropleth": [
           {
            "colorbar": {
             "outlinewidth": 0,
             "ticks": ""
            },
            "type": "choropleth"
           }
          ],
          "contour": [
           {
            "colorbar": {
             "outlinewidth": 0,
             "ticks": ""
            },
            "colorscale": [
             [
              0,
              "#0d0887"
             ],
             [
              0.1111111111111111,
              "#46039f"
             ],
             [
              0.2222222222222222,
              "#7201a8"
             ],
             [
              0.3333333333333333,
              "#9c179e"
             ],
             [
              0.4444444444444444,
              "#bd3786"
             ],
             [
              0.5555555555555556,
              "#d8576b"
             ],
             [
              0.6666666666666666,
              "#ed7953"
             ],
             [
              0.7777777777777778,
              "#fb9f3a"
             ],
             [
              0.8888888888888888,
              "#fdca26"
             ],
             [
              1,
              "#f0f921"
             ]
            ],
            "type": "contour"
           }
          ],
          "contourcarpet": [
           {
            "colorbar": {
             "outlinewidth": 0,
             "ticks": ""
            },
            "type": "contourcarpet"
           }
          ],
          "heatmap": [
           {
            "colorbar": {
             "outlinewidth": 0,
             "ticks": ""
            },
            "colorscale": [
             [
              0,
              "#0d0887"
             ],
             [
              0.1111111111111111,
              "#46039f"
             ],
             [
              0.2222222222222222,
              "#7201a8"
             ],
             [
              0.3333333333333333,
              "#9c179e"
             ],
             [
              0.4444444444444444,
              "#bd3786"
             ],
             [
              0.5555555555555556,
              "#d8576b"
             ],
             [
              0.6666666666666666,
              "#ed7953"
             ],
             [
              0.7777777777777778,
              "#fb9f3a"
             ],
             [
              0.8888888888888888,
              "#fdca26"
             ],
             [
              1,
              "#f0f921"
             ]
            ],
            "type": "heatmap"
           }
          ],
          "heatmapgl": [
           {
            "colorbar": {
             "outlinewidth": 0,
             "ticks": ""
            },
            "colorscale": [
             [
              0,
              "#0d0887"
             ],
             [
              0.1111111111111111,
              "#46039f"
             ],
             [
              0.2222222222222222,
              "#7201a8"
             ],
             [
              0.3333333333333333,
              "#9c179e"
             ],
             [
              0.4444444444444444,
              "#bd3786"
             ],
             [
              0.5555555555555556,
              "#d8576b"
             ],
             [
              0.6666666666666666,
              "#ed7953"
             ],
             [
              0.7777777777777778,
              "#fb9f3a"
             ],
             [
              0.8888888888888888,
              "#fdca26"
             ],
             [
              1,
              "#f0f921"
             ]
            ],
            "type": "heatmapgl"
           }
          ],
          "histogram": [
           {
            "marker": {
             "pattern": {
              "fillmode": "overlay",
              "size": 10,
              "solidity": 0.2
             }
            },
            "type": "histogram"
           }
          ],
          "histogram2d": [
           {
            "colorbar": {
             "outlinewidth": 0,
             "ticks": ""
            },
            "colorscale": [
             [
              0,
              "#0d0887"
             ],
             [
              0.1111111111111111,
              "#46039f"
             ],
             [
              0.2222222222222222,
              "#7201a8"
             ],
             [
              0.3333333333333333,
              "#9c179e"
             ],
             [
              0.4444444444444444,
              "#bd3786"
             ],
             [
              0.5555555555555556,
              "#d8576b"
             ],
             [
              0.6666666666666666,
              "#ed7953"
             ],
             [
              0.7777777777777778,
              "#fb9f3a"
             ],
             [
              0.8888888888888888,
              "#fdca26"
             ],
             [
              1,
              "#f0f921"
             ]
            ],
            "type": "histogram2d"
           }
          ],
          "histogram2dcontour": [
           {
            "colorbar": {
             "outlinewidth": 0,
             "ticks": ""
            },
            "colorscale": [
             [
              0,
              "#0d0887"
             ],
             [
              0.1111111111111111,
              "#46039f"
             ],
             [
              0.2222222222222222,
              "#7201a8"
             ],
             [
              0.3333333333333333,
              "#9c179e"
             ],
             [
              0.4444444444444444,
              "#bd3786"
             ],
             [
              0.5555555555555556,
              "#d8576b"
             ],
             [
              0.6666666666666666,
              "#ed7953"
             ],
             [
              0.7777777777777778,
              "#fb9f3a"
             ],
             [
              0.8888888888888888,
              "#fdca26"
             ],
             [
              1,
              "#f0f921"
             ]
            ],
            "type": "histogram2dcontour"
           }
          ],
          "mesh3d": [
           {
            "colorbar": {
             "outlinewidth": 0,
             "ticks": ""
            },
            "type": "mesh3d"
           }
          ],
          "parcoords": [
           {
            "line": {
             "colorbar": {
              "outlinewidth": 0,
              "ticks": ""
             }
            },
            "type": "parcoords"
           }
          ],
          "pie": [
           {
            "automargin": true,
            "type": "pie"
           }
          ],
          "scatter": [
           {
            "fillpattern": {
             "fillmode": "overlay",
             "size": 10,
             "solidity": 0.2
            },
            "type": "scatter"
           }
          ],
          "scatter3d": [
           {
            "line": {
             "colorbar": {
              "outlinewidth": 0,
              "ticks": ""
             }
            },
            "marker": {
             "colorbar": {
              "outlinewidth": 0,
              "ticks": ""
             }
            },
            "type": "scatter3d"
           }
          ],
          "scattercarpet": [
           {
            "marker": {
             "colorbar": {
              "outlinewidth": 0,
              "ticks": ""
             }
            },
            "type": "scattercarpet"
           }
          ],
          "scattergeo": [
           {
            "marker": {
             "colorbar": {
              "outlinewidth": 0,
              "ticks": ""
             }
            },
            "type": "scattergeo"
           }
          ],
          "scattergl": [
           {
            "marker": {
             "colorbar": {
              "outlinewidth": 0,
              "ticks": ""
             }
            },
            "type": "scattergl"
           }
          ],
          "scattermapbox": [
           {
            "marker": {
             "colorbar": {
              "outlinewidth": 0,
              "ticks": ""
             }
            },
            "type": "scattermapbox"
           }
          ],
          "scatterpolar": [
           {
            "marker": {
             "colorbar": {
              "outlinewidth": 0,
              "ticks": ""
             }
            },
            "type": "scatterpolar"
           }
          ],
          "scatterpolargl": [
           {
            "marker": {
             "colorbar": {
              "outlinewidth": 0,
              "ticks": ""
             }
            },
            "type": "scatterpolargl"
           }
          ],
          "scatterternary": [
           {
            "marker": {
             "colorbar": {
              "outlinewidth": 0,
              "ticks": ""
             }
            },
            "type": "scatterternary"
           }
          ],
          "surface": [
           {
            "colorbar": {
             "outlinewidth": 0,
             "ticks": ""
            },
            "colorscale": [
             [
              0,
              "#0d0887"
             ],
             [
              0.1111111111111111,
              "#46039f"
             ],
             [
              0.2222222222222222,
              "#7201a8"
             ],
             [
              0.3333333333333333,
              "#9c179e"
             ],
             [
              0.4444444444444444,
              "#bd3786"
             ],
             [
              0.5555555555555556,
              "#d8576b"
             ],
             [
              0.6666666666666666,
              "#ed7953"
             ],
             [
              0.7777777777777778,
              "#fb9f3a"
             ],
             [
              0.8888888888888888,
              "#fdca26"
             ],
             [
              1,
              "#f0f921"
             ]
            ],
            "type": "surface"
           }
          ],
          "table": [
           {
            "cells": {
             "fill": {
              "color": "#EBF0F8"
             },
             "line": {
              "color": "white"
             }
            },
            "header": {
             "fill": {
              "color": "#C8D4E3"
             },
             "line": {
              "color": "white"
             }
            },
            "type": "table"
           }
          ]
         },
         "layout": {
          "annotationdefaults": {
           "arrowcolor": "#2a3f5f",
           "arrowhead": 0,
           "arrowwidth": 1
          },
          "autotypenumbers": "strict",
          "coloraxis": {
           "colorbar": {
            "outlinewidth": 0,
            "ticks": ""
           }
          },
          "colorscale": {
           "diverging": [
            [
             0,
             "#8e0152"
            ],
            [
             0.1,
             "#c51b7d"
            ],
            [
             0.2,
             "#de77ae"
            ],
            [
             0.3,
             "#f1b6da"
            ],
            [
             0.4,
             "#fde0ef"
            ],
            [
             0.5,
             "#f7f7f7"
            ],
            [
             0.6,
             "#e6f5d0"
            ],
            [
             0.7,
             "#b8e186"
            ],
            [
             0.8,
             "#7fbc41"
            ],
            [
             0.9,
             "#4d9221"
            ],
            [
             1,
             "#276419"
            ]
           ],
           "sequential": [
            [
             0,
             "#0d0887"
            ],
            [
             0.1111111111111111,
             "#46039f"
            ],
            [
             0.2222222222222222,
             "#7201a8"
            ],
            [
             0.3333333333333333,
             "#9c179e"
            ],
            [
             0.4444444444444444,
             "#bd3786"
            ],
            [
             0.5555555555555556,
             "#d8576b"
            ],
            [
             0.6666666666666666,
             "#ed7953"
            ],
            [
             0.7777777777777778,
             "#fb9f3a"
            ],
            [
             0.8888888888888888,
             "#fdca26"
            ],
            [
             1,
             "#f0f921"
            ]
           ],
           "sequentialminus": [
            [
             0,
             "#0d0887"
            ],
            [
             0.1111111111111111,
             "#46039f"
            ],
            [
             0.2222222222222222,
             "#7201a8"
            ],
            [
             0.3333333333333333,
             "#9c179e"
            ],
            [
             0.4444444444444444,
             "#bd3786"
            ],
            [
             0.5555555555555556,
             "#d8576b"
            ],
            [
             0.6666666666666666,
             "#ed7953"
            ],
            [
             0.7777777777777778,
             "#fb9f3a"
            ],
            [
             0.8888888888888888,
             "#fdca26"
            ],
            [
             1,
             "#f0f921"
            ]
           ]
          },
          "colorway": [
           "#636efa",
           "#EF553B",
           "#00cc96",
           "#ab63fa",
           "#FFA15A",
           "#19d3f3",
           "#FF6692",
           "#B6E880",
           "#FF97FF",
           "#FECB52"
          ],
          "font": {
           "color": "#2a3f5f"
          },
          "geo": {
           "bgcolor": "white",
           "lakecolor": "white",
           "landcolor": "white",
           "showlakes": true,
           "showland": true,
           "subunitcolor": "#C8D4E3"
          },
          "hoverlabel": {
           "align": "left"
          },
          "hovermode": "closest",
          "mapbox": {
           "style": "light"
          },
          "paper_bgcolor": "white",
          "plot_bgcolor": "white",
          "polar": {
           "angularaxis": {
            "gridcolor": "#EBF0F8",
            "linecolor": "#EBF0F8",
            "ticks": ""
           },
           "bgcolor": "white",
           "radialaxis": {
            "gridcolor": "#EBF0F8",
            "linecolor": "#EBF0F8",
            "ticks": ""
           }
          },
          "scene": {
           "xaxis": {
            "backgroundcolor": "white",
            "gridcolor": "#DFE8F3",
            "gridwidth": 2,
            "linecolor": "#EBF0F8",
            "showbackground": true,
            "ticks": "",
            "zerolinecolor": "#EBF0F8"
           },
           "yaxis": {
            "backgroundcolor": "white",
            "gridcolor": "#DFE8F3",
            "gridwidth": 2,
            "linecolor": "#EBF0F8",
            "showbackground": true,
            "ticks": "",
            "zerolinecolor": "#EBF0F8"
           },
           "zaxis": {
            "backgroundcolor": "white",
            "gridcolor": "#DFE8F3",
            "gridwidth": 2,
            "linecolor": "#EBF0F8",
            "showbackground": true,
            "ticks": "",
            "zerolinecolor": "#EBF0F8"
           }
          },
          "shapedefaults": {
           "line": {
            "color": "#2a3f5f"
           }
          },
          "ternary": {
           "aaxis": {
            "gridcolor": "#DFE8F3",
            "linecolor": "#A2B1C6",
            "ticks": ""
           },
           "baxis": {
            "gridcolor": "#DFE8F3",
            "linecolor": "#A2B1C6",
            "ticks": ""
           },
           "bgcolor": "white",
           "caxis": {
            "gridcolor": "#DFE8F3",
            "linecolor": "#A2B1C6",
            "ticks": ""
           }
          },
          "title": {
           "x": 0.05
          },
          "xaxis": {
           "automargin": true,
           "gridcolor": "#EBF0F8",
           "linecolor": "#EBF0F8",
           "ticks": "",
           "title": {
            "standoff": 15
           },
           "zerolinecolor": "#EBF0F8",
           "zerolinewidth": 2
          },
          "yaxis": {
           "automargin": true,
           "gridcolor": "#EBF0F8",
           "linecolor": "#EBF0F8",
           "ticks": "",
           "title": {
            "standoff": 15
           },
           "zerolinecolor": "#EBF0F8",
           "zerolinewidth": 2
          }
         }
        },
        "title": {
         "text": "Compare CAGR / Max Drawdown 2022 - 2024"
        },
        "xaxis": {
         "title": {
          "text": "Annual Return"
         }
        },
        "yaxis": {
         "title": {
          "text": "Max Drawdown"
         }
        }
       }
      },
      "text/html": [
       "<div>                            <div id=\"62632ff2-5019-4fa6-b0a8-eca38a21f74c\" class=\"plotly-graph-div\" style=\"height:525px; width:100%;\"></div>            <script type=\"text/javascript\">                require([\"plotly\"], function(Plotly) {                    window.PLOTLYENV=window.PLOTLYENV || {};                                    if (document.getElementById(\"62632ff2-5019-4fa6-b0a8-eca38a21f74c\")) {                    Plotly.newPlot(                        \"62632ff2-5019-4fa6-b0a8-eca38a21f74c\",                        [{\"marker\":{\"color\":\"lightgray\",\"size\":10},\"mode\":\"markers\",\"name\":\"VNM US Equity\",\"x\":[-0.21723152159317438],\"y\":[-0.493727983715978],\"type\":\"scatter\"},{\"marker\":{\"color\":\"lightgray\",\"size\":10},\"mode\":\"markers\",\"name\":\"AFCVICI KY Equity\",\"x\":[-0.010113874400002665],\"y\":[-0.2811702328131157],\"type\":\"scatter\"},{\"marker\":{\"color\":\"lightgray\",\"size\":10},\"mode\":\"markers\",\"name\":\"LUMENUS LE Equity\",\"x\":[-0.03018471304804149],\"y\":[-0.4786091600394727],\"type\":\"scatter\"},{\"marker\":{\"color\":\"lightgray\",\"size\":10},\"mode\":\"markers\",\"name\":\"XFVT GY Equity\",\"x\":[-0.21484210960227879],\"y\":[-0.4879869372521582],\"type\":\"scatter\"},{\"marker\":{\"color\":\"lightgray\",\"size\":10},\"mode\":\"markers\",\"name\":\"GAVNBCU LX Equity\",\"x\":[-0.029403854718766498],\"y\":[-0.3833017657481516],\"type\":\"scatter\"},{\"marker\":{\"color\":\"lightgray\",\"size\":10},\"mode\":\"markers\",\"name\":\"LCVIETU SP Equity\",\"x\":[-0.08152243303882944],\"y\":[-0.4301675977653632],\"type\":\"scatter\"},{\"marker\":{\"color\":\"lightgray\",\"size\":10},\"mode\":\"markers\",\"name\":\"FOVCPVA LX Equity\",\"x\":[0.002469112229080528],\"y\":[-0.3871794871794869],\"type\":\"scatter\"},{\"marker\":{\"color\":\"lightgray\",\"size\":10},\"mode\":\"markers\",\"name\":\"GAVTNIU LX Equity\",\"x\":[-0.029389303932292665],\"y\":[-0.3809723386420787],\"type\":\"scatter\"},{\"marker\":{\"color\":\"lightgray\",\"size\":10},\"mode\":\"markers\",\"name\":\"AFCVIET KY Equity\",\"x\":[-0.015728318094524685],\"y\":[-0.2832661478827902],\"type\":\"scatter\"},{\"marker\":{\"color\":\"lightgray\",\"size\":10},\"mode\":\"markers\",\"name\":\"VIETNAM ID Equity\",\"x\":[-0.09720813491515357],\"y\":[-0.4968184043073907],\"type\":\"scatter\"},{\"marker\":{\"color\":\"lightgray\",\"size\":10},\"mode\":\"markers\",\"name\":\"E1VFVN30 VN Equity\",\"x\":[-0.055814341033961545],\"y\":[-0.4220532319391637],\"type\":\"scatter\"},{\"marker\":{\"color\":\"lightgray\",\"size\":10},\"mode\":\"markers\",\"name\":\"XVTD LN Equity\",\"x\":[-0.23973746587226463],\"y\":[-0.5328324413338824],\"type\":\"scatter\"},{\"marker\":{\"color\":\"lightgray\",\"size\":10},\"mode\":\"markers\",\"name\":\"KVIETNE TB Equity\",\"x\":[-0.056192450061077315],\"y\":[-0.3790369860569452],\"type\":\"scatter\"},{\"marker\":{\"color\":\"lightgray\",\"size\":10},\"mode\":\"markers\",\"name\":\"00885 TT Equity\",\"x\":[-0.15525471829939175],\"y\":[-0.4469026548672554],\"type\":\"scatter\"},{\"marker\":{\"color\":\"lightgray\",\"size\":10},\"mode\":\"markers\",\"name\":\"3087 HK Equity\",\"x\":[-0.24563854549276953],\"y\":[-0.5097035040431261],\"type\":\"scatter\"},{\"marker\":{\"color\":\"maroon\",\"size\":15,\"symbol\":\"diamond\"},\"mode\":\"markers\",\"name\":\"SSICOAD VN Equity\",\"x\":[0.08322846191908329],\"y\":[-0.4474815607555027],\"type\":\"scatter\"},{\"marker\":{\"color\":\"lightgray\",\"size\":10},\"mode\":\"markers\",\"name\":\"XFVT GR Equity\",\"x\":[-0.21162202233434135],\"y\":[-0.4927281257330514],\"type\":\"scatter\"},{\"marker\":{\"color\":\"lightgray\",\"size\":10},\"mode\":\"markers\",\"name\":\"GAVT SW Equity\",\"x\":[-0.0455919684712881],\"y\":[-0.4084914763589583],\"type\":\"scatter\"},{\"marker\":{\"color\":\"lightgray\",\"size\":10},\"mode\":\"markers\",\"name\":\"LCVIETS SP Equity\",\"x\":[-0.0861700410990589],\"y\":[-0.4256368118323751],\"type\":\"scatter\"},{\"marker\":{\"color\":\"lightgray\",\"size\":10},\"mode\":\"markers\",\"name\":\"LUMENCH LE Equity\",\"x\":[-0.08460650064798159],\"y\":[-0.5034185160277967],\"type\":\"scatter\"},{\"marker\":{\"color\":\"lightgray\",\"size\":10},\"mode\":\"markers\",\"name\":\"VNAM US Equity\",\"x\":[-0.215083321186731],\"y\":[-0.5284208969571488],\"type\":\"scatter\"},{\"marker\":{\"color\":\"lightgray\",\"size\":10},\"mode\":\"markers\",\"name\":\"VTNPHXA KY Equity\",\"x\":[-0.014935793866949099],\"y\":[-0.3333900902434873],\"type\":\"scatter\"},{\"marker\":{\"color\":\"lightgray\",\"size\":10},\"mode\":\"markers\",\"name\":\"FUESSVFL VN Equity\",\"x\":[-0.01783157353539666],\"y\":[-0.5317991631799167],\"type\":\"scatter\"},{\"marker\":{\"color\":\"lightgray\",\"size\":10},\"mode\":\"markers\",\"name\":\"CPVNEQA TB Equity\",\"x\":[-0.06227073978159514],\"y\":[-0.4299888160003137],\"type\":\"scatter\"},{\"marker\":{\"color\":\"lightgray\",\"size\":10},\"mode\":\"markers\",\"name\":\"KIMVGIU LX Equity\",\"x\":[-0.024902824313146832],\"y\":[-0.4488592591645987],\"type\":\"scatter\"},{\"marker\":{\"color\":\"lightgray\",\"size\":10},\"mode\":\"markers\",\"name\":\"VIETEUR ID Equity\",\"x\":[-0.0590797465104681],\"y\":[-0.4656113824957699],\"type\":\"scatter\"},{\"marker\":{\"color\":\"lightgray\",\"size\":10},\"mode\":\"markers\",\"name\":\"9A311108 JP Equity\",\"x\":[0.03395868725120588],\"y\":[-0.3764745159136439],\"type\":\"scatter\"},{\"marker\":{\"color\":\"lightgray\",\"size\":10},\"mode\":\"markers\",\"name\":\"LUMCHFI LE Equity\",\"x\":[-0.08077116974910026],\"y\":[-0.5022207778138881],\"type\":\"scatter\"},{\"marker\":{\"color\":\"lightgray\",\"size\":10},\"mode\":\"markers\",\"name\":\"LUMENEI LE Equity\",\"x\":[-0.05762320602920945],\"y\":[-0.4948354729231222],\"type\":\"scatter\"},{\"marker\":{\"color\":\"lightgray\",\"size\":10},\"mode\":\"markers\",\"name\":\"CTBCVET TT Equity\",\"x\":[-0.03793243926531209],\"y\":[-0.4318046456223946],\"type\":\"scatter\"},{\"marker\":{\"color\":\"lightgray\",\"size\":10},\"mode\":\"markers\",\"name\":\"XFVT GT Equity\",\"x\":[-0.21484210960227879],\"y\":[-0.4879869372521582],\"type\":\"scatter\"},{\"marker\":{\"color\":\"lightgray\",\"size\":10},\"mode\":\"markers\",\"name\":\"XFVT SP Equity\",\"x\":[-0.24399363480297132],\"y\":[-0.5322245322245326],\"type\":\"scatter\"},{\"marker\":{\"color\":\"lightgray\",\"size\":10},\"mode\":\"markers\",\"name\":\"TCMVN NA Equity\",\"x\":[-0.023258538405198426],\"y\":[-0.4828833843584746],\"type\":\"scatter\"},{\"marker\":{\"color\":\"lightgray\",\"size\":10},\"mode\":\"markers\",\"name\":\"2804 HK Equity\",\"x\":[-0.23892902683217354],\"y\":[-0.5016332244517034],\"type\":\"scatter\"},{\"marker\":{\"color\":\"lightgray\",\"size\":10},\"mode\":\"markers\",\"name\":\"VCVOF US Equity\",\"x\":[-0.02964308465537313],\"y\":[-0.3499940266411803],\"type\":\"scatter\"},{\"marker\":{\"color\":\"lightgray\",\"size\":10},\"mode\":\"markers\",\"name\":\"FUESSV50 VN Equity\",\"x\":[-0.029348091913293795],\"y\":[-0.535246939636978],\"type\":\"scatter\"},{\"marker\":{\"color\":\"lightgray\",\"size\":10},\"mode\":\"markers\",\"name\":\"THVMEFA CH Equity\",\"x\":[-0.040067011135036856],\"y\":[-0.4119127516778522],\"type\":\"scatter\"},{\"marker\":{\"color\":\"lightgray\",\"size\":10},\"mode\":\"markers\",\"name\":\"AB311171 JP Equity\",\"x\":[0.022376387468828085],\"y\":[-0.4391891891891889],\"type\":\"scatter\"},{\"marker\":{\"color\":\"lightgray\",\"size\":10},\"mode\":\"markers\",\"name\":\"IOFVTEQ LX Equity\",\"x\":[-0.042176402586895034],\"y\":[-0.3779827907389336],\"type\":\"scatter\"},{\"marker\":{\"color\":\"lightgray\",\"size\":10},\"mode\":\"markers\",\"name\":\"SGVIEOP HK Equity\",\"x\":[-0.06362368999705592],\"y\":[-0.4120282295182569],\"type\":\"scatter\"},{\"marker\":{\"color\":\"lightgray\",\"size\":10},\"mode\":\"markers\",\"name\":\"VFMVF1 VN Equity\",\"x\":[-0.022299764243015607],\"y\":[-0.4136007970573292],\"type\":\"scatter\"},{\"marker\":{\"color\":\"lightgray\",\"size\":10},\"mode\":\"markers\",\"name\":\"FOVIEDE LX Equity\",\"x\":[0.022000213542436642],\"y\":[-0.3600849256900208],\"type\":\"scatter\"},{\"marker\":{\"color\":\"lightgray\",\"size\":10},\"mode\":\"markers\",\"name\":\"GAVT SE Equity\",\"x\":[-0.0455919684712881],\"y\":[-0.4084914763589583],\"type\":\"scatter\"},{\"marker\":{\"color\":\"lightgray\",\"size\":10},\"mode\":\"markers\",\"name\":\"GELIONV SP Equity\",\"x\":[-0.08657904224139512],\"y\":[-0.4252559726962458],\"type\":\"scatter\"},{\"marker\":{\"color\":\"lightgray\",\"size\":10},\"mode\":\"markers\",\"name\":\"YDVNLDR KY Equity\",\"x\":[-0.11652221160607812],\"y\":[-0.432660453782066],\"type\":\"scatter\"},{\"marker\":{\"color\":\"lightgray\",\"size\":10},\"mode\":\"markers\",\"name\":\"0431216C JP Equity\",\"x\":[0.0825270977078072],\"y\":[-0.3274057352419996],\"type\":\"scatter\"},{\"marker\":{\"color\":\"lightgray\",\"size\":10},\"mode\":\"markers\",\"name\":\"SSIVLGF VN Equity\",\"x\":[0.06389794307356023],\"y\":[-0.3263486567357061],\"type\":\"scatter\"},{\"marker\":{\"color\":\"maroon\",\"size\":15,\"symbol\":\"diamond\"},\"mode\":\"markers\",\"name\":\"49311186 JP Equity\",\"x\":[0.08706061016431832],\"y\":[-0.3351828756397223],\"type\":\"scatter\"},{\"marker\":{\"color\":\"lightgray\",\"size\":10},\"mode\":\"markers\",\"name\":\"ASPVIET TB Equity\",\"x\":[-0.154287959434804],\"y\":[-0.4979593984171245],\"type\":\"scatter\"},{\"marker\":{\"color\":\"lightgray\",\"size\":10},\"mode\":\"markers\",\"name\":\"1AR0081 KS Equity\",\"x\":[-0.04457279250743673],\"y\":[-0.3632607310050772],\"type\":\"scatter\"},{\"marker\":{\"color\":\"lightgray\",\"size\":10},\"mode\":\"markers\",\"name\":\"47311156 JP Equity\",\"x\":[0.057949079672492854],\"y\":[-0.3535127411288403],\"type\":\"scatter\"},{\"marker\":{\"color\":\"lightgray\",\"size\":10},\"mode\":\"markers\",\"name\":\"ASPVRMF TB Equity\",\"x\":[-0.1637802589369879],\"y\":[-0.4943606952443269],\"type\":\"scatter\"},{\"marker\":{\"color\":\"lightgray\",\"size\":10},\"mode\":\"markers\",\"name\":\"VCBFTBF VN Equity\",\"x\":[0.0699495151223728],\"y\":[-0.2301169574110489],\"type\":\"scatter\"},{\"marker\":{\"color\":\"lightgray\",\"size\":10},\"mode\":\"markers\",\"name\":\"VCBFMGF VN Equity\",\"x\":[0.08007392661864321],\"y\":[-0.3697212696476264],\"type\":\"scatter\"},{\"marker\":{\"color\":\"maroon\",\"size\":15,\"symbol\":\"diamond\"},\"mode\":\"markers\",\"name\":\"FUCTVGF3 VN Equity\",\"x\":[0.09005115142998021],\"y\":[-0.2232142857142857],\"type\":\"scatter\"},{\"marker\":{\"color\":\"lightgray\",\"size\":10},\"mode\":\"markers\",\"name\":\"FUESSV30 VN Equity\",\"x\":[-0.04638046789772243],\"y\":[-0.4345794392523371],\"type\":\"scatter\"},{\"marker\":{\"color\":\"lightgray\",\"size\":10},\"mode\":\"markers\",\"name\":\"SSISCA\",\"x\":[0.05675707831732879],\"y\":[-0.4474815607555027],\"type\":\"scatter\"},{\"marker\":{\"color\":\"lightgray\",\"size\":10},\"mode\":\"markers\",\"name\":\"BVPF\",\"x\":[0.06360414933211644],\"y\":[-0.2258884651522692],\"type\":\"scatter\"},{\"marker\":{\"color\":\"lightgray\",\"size\":10},\"mode\":\"markers\",\"name\":\"VESAF\",\"x\":[0.04255175817507606],\"y\":[-0.3952867032691468],\"type\":\"scatter\"},{\"marker\":{\"color\":\"lightgray\",\"size\":10},\"mode\":\"markers\",\"name\":\"VCBF-BCF\",\"x\":[0.06967069423158057],\"y\":[-0.3241773864493208],\"type\":\"scatter\"},{\"marker\":{\"color\":\"lightgray\",\"size\":10},\"mode\":\"markers\",\"name\":\"VEOF\",\"x\":[0.04276584629746072],\"y\":[-0.3820458388043897],\"type\":\"scatter\"},{\"marker\":{\"color\":\"lightgray\",\"size\":10},\"mode\":\"markers\",\"name\":\"MBVF\",\"x\":[0.035196821954549096],\"y\":[-0.3006552809452558],\"type\":\"scatter\"},{\"marker\":{\"color\":\"lightgray\",\"size\":10},\"mode\":\"markers\",\"name\":\"MAGEF\",\"x\":[0.009169223394251969],\"y\":[-0.3424051002246667],\"type\":\"scatter\"},{\"marker\":{\"color\":\"lightgray\",\"size\":10},\"mode\":\"markers\",\"name\":\"DCDS\",\"x\":[-0.03412176538420819],\"y\":[-0.4117571639531231],\"type\":\"scatter\"},{\"marker\":{\"color\":\"lightgray\",\"size\":10},\"mode\":\"markers\",\"name\":\"VNDAF\",\"x\":[-0.011406220024457792],\"y\":[-0.3465199763718746],\"type\":\"scatter\"},{\"marker\":{\"color\":\"lightgray\",\"size\":10},\"mode\":\"markers\",\"name\":\"DCDE\",\"x\":[-0.056519752314214466],\"y\":[-0.3911841195533921],\"type\":\"scatter\"},{\"marker\":{\"color\":\"lightgray\",\"size\":10},\"mode\":\"markers\",\"name\":\"DCAF\",\"x\":[-0.021034230750341942],\"y\":[-0.3149560057916428],\"type\":\"scatter\"},{\"marker\":{\"color\":\"lightgray\",\"size\":10},\"mode\":\"markers\",\"name\":\"BVFED\",\"x\":[-0.017928534772112092],\"y\":[-0.4048738248391888],\"type\":\"scatter\"},{\"marker\":{\"color\":\"lightgray\",\"size\":10},\"mode\":\"markers\",\"name\":\"MAFEQI\",\"x\":[-0.03720418628861355],\"y\":[-0.3939345739886538],\"type\":\"scatter\"},{\"marker\":{\"color\":\"purple\",\"size\":25,\"symbol\":\"square\"},\"mode\":\"markers\",\"name\":\"VNI\",\"x\":[-0.0806909666766924],\"y\":[-0.4034293489993919],\"type\":\"scatter\"},{\"marker\":{\"color\":\"blue\",\"size\":30},\"mode\":\"markers\",\"name\":\"HIEP.NS\",\"x\":[0.17732437801902834],\"y\":[-0.12],\"type\":\"scatter\"},{\"marker\":{\"color\":\"green\",\"size\":30},\"mode\":\"markers\",\"name\":\"NAM.TH.CS\",\"x\":[0.09569972653914705],\"y\":[-0.1153],\"type\":\"scatter\"},{\"marker\":{\"color\":\"red\",\"size\":30},\"mode\":\"markers\",\"name\":\"NAM.TH.PS\",\"x\":[0.09737866163066378],\"y\":[-0.2],\"type\":\"scatter\"},{\"marker\":{\"color\":\"orange\",\"size\":30},\"mode\":\"markers\",\"name\":\"MANDATE VND\",\"x\":[0.1499999999999999],\"y\":[-0.18],\"type\":\"scatter\"}],                        {\"template\":{\"data\":{\"histogram2dcontour\":[{\"type\":\"histogram2dcontour\",\"colorbar\":{\"outlinewidth\":0,\"ticks\":\"\"},\"colorscale\":[[0.0,\"#0d0887\"],[0.1111111111111111,\"#46039f\"],[0.2222222222222222,\"#7201a8\"],[0.3333333333333333,\"#9c179e\"],[0.4444444444444444,\"#bd3786\"],[0.5555555555555556,\"#d8576b\"],[0.6666666666666666,\"#ed7953\"],[0.7777777777777778,\"#fb9f3a\"],[0.8888888888888888,\"#fdca26\"],[1.0,\"#f0f921\"]]}],\"choropleth\":[{\"type\":\"choropleth\",\"colorbar\":{\"outlinewidth\":0,\"ticks\":\"\"}}],\"histogram2d\":[{\"type\":\"histogram2d\",\"colorbar\":{\"outlinewidth\":0,\"ticks\":\"\"},\"colorscale\":[[0.0,\"#0d0887\"],[0.1111111111111111,\"#46039f\"],[0.2222222222222222,\"#7201a8\"],[0.3333333333333333,\"#9c179e\"],[0.4444444444444444,\"#bd3786\"],[0.5555555555555556,\"#d8576b\"],[0.6666666666666666,\"#ed7953\"],[0.7777777777777778,\"#fb9f3a\"],[0.8888888888888888,\"#fdca26\"],[1.0,\"#f0f921\"]]}],\"heatmap\":[{\"type\":\"heatmap\",\"colorbar\":{\"outlinewidth\":0,\"ticks\":\"\"},\"colorscale\":[[0.0,\"#0d0887\"],[0.1111111111111111,\"#46039f\"],[0.2222222222222222,\"#7201a8\"],[0.3333333333333333,\"#9c179e\"],[0.4444444444444444,\"#bd3786\"],[0.5555555555555556,\"#d8576b\"],[0.6666666666666666,\"#ed7953\"],[0.7777777777777778,\"#fb9f3a\"],[0.8888888888888888,\"#fdca26\"],[1.0,\"#f0f921\"]]}],\"heatmapgl\":[{\"type\":\"heatmapgl\",\"colorbar\":{\"outlinewidth\":0,\"ticks\":\"\"},\"colorscale\":[[0.0,\"#0d0887\"],[0.1111111111111111,\"#46039f\"],[0.2222222222222222,\"#7201a8\"],[0.3333333333333333,\"#9c179e\"],[0.4444444444444444,\"#bd3786\"],[0.5555555555555556,\"#d8576b\"],[0.6666666666666666,\"#ed7953\"],[0.7777777777777778,\"#fb9f3a\"],[0.8888888888888888,\"#fdca26\"],[1.0,\"#f0f921\"]]}],\"contourcarpet\":[{\"type\":\"contourcarpet\",\"colorbar\":{\"outlinewidth\":0,\"ticks\":\"\"}}],\"contour\":[{\"type\":\"contour\",\"colorbar\":{\"outlinewidth\":0,\"ticks\":\"\"},\"colorscale\":[[0.0,\"#0d0887\"],[0.1111111111111111,\"#46039f\"],[0.2222222222222222,\"#7201a8\"],[0.3333333333333333,\"#9c179e\"],[0.4444444444444444,\"#bd3786\"],[0.5555555555555556,\"#d8576b\"],[0.6666666666666666,\"#ed7953\"],[0.7777777777777778,\"#fb9f3a\"],[0.8888888888888888,\"#fdca26\"],[1.0,\"#f0f921\"]]}],\"surface\":[{\"type\":\"surface\",\"colorbar\":{\"outlinewidth\":0,\"ticks\":\"\"},\"colorscale\":[[0.0,\"#0d0887\"],[0.1111111111111111,\"#46039f\"],[0.2222222222222222,\"#7201a8\"],[0.3333333333333333,\"#9c179e\"],[0.4444444444444444,\"#bd3786\"],[0.5555555555555556,\"#d8576b\"],[0.6666666666666666,\"#ed7953\"],[0.7777777777777778,\"#fb9f3a\"],[0.8888888888888888,\"#fdca26\"],[1.0,\"#f0f921\"]]}],\"mesh3d\":[{\"type\":\"mesh3d\",\"colorbar\":{\"outlinewidth\":0,\"ticks\":\"\"}}],\"scatter\":[{\"fillpattern\":{\"fillmode\":\"overlay\",\"size\":10,\"solidity\":0.2},\"type\":\"scatter\"}],\"parcoords\":[{\"type\":\"parcoords\",\"line\":{\"colorbar\":{\"outlinewidth\":0,\"ticks\":\"\"}}}],\"scatterpolargl\":[{\"type\":\"scatterpolargl\",\"marker\":{\"colorbar\":{\"outlinewidth\":0,\"ticks\":\"\"}}}],\"bar\":[{\"error_x\":{\"color\":\"#2a3f5f\"},\"error_y\":{\"color\":\"#2a3f5f\"},\"marker\":{\"line\":{\"color\":\"white\",\"width\":0.5},\"pattern\":{\"fillmode\":\"overlay\",\"size\":10,\"solidity\":0.2}},\"type\":\"bar\"}],\"scattergeo\":[{\"type\":\"scattergeo\",\"marker\":{\"colorbar\":{\"outlinewidth\":0,\"ticks\":\"\"}}}],\"scatterpolar\":[{\"type\":\"scatterpolar\",\"marker\":{\"colorbar\":{\"outlinewidth\":0,\"ticks\":\"\"}}}],\"histogram\":[{\"marker\":{\"pattern\":{\"fillmode\":\"overlay\",\"size\":10,\"solidity\":0.2}},\"type\":\"histogram\"}],\"scattergl\":[{\"type\":\"scattergl\",\"marker\":{\"colorbar\":{\"outlinewidth\":0,\"ticks\":\"\"}}}],\"scatter3d\":[{\"type\":\"scatter3d\",\"line\":{\"colorbar\":{\"outlinewidth\":0,\"ticks\":\"\"}},\"marker\":{\"colorbar\":{\"outlinewidth\":0,\"ticks\":\"\"}}}],\"scattermapbox\":[{\"type\":\"scattermapbox\",\"marker\":{\"colorbar\":{\"outlinewidth\":0,\"ticks\":\"\"}}}],\"scatterternary\":[{\"type\":\"scatterternary\",\"marker\":{\"colorbar\":{\"outlinewidth\":0,\"ticks\":\"\"}}}],\"scattercarpet\":[{\"type\":\"scattercarpet\",\"marker\":{\"colorbar\":{\"outlinewidth\":0,\"ticks\":\"\"}}}],\"carpet\":[{\"aaxis\":{\"endlinecolor\":\"#2a3f5f\",\"gridcolor\":\"#C8D4E3\",\"linecolor\":\"#C8D4E3\",\"minorgridcolor\":\"#C8D4E3\",\"startlinecolor\":\"#2a3f5f\"},\"baxis\":{\"endlinecolor\":\"#2a3f5f\",\"gridcolor\":\"#C8D4E3\",\"linecolor\":\"#C8D4E3\",\"minorgridcolor\":\"#C8D4E3\",\"startlinecolor\":\"#2a3f5f\"},\"type\":\"carpet\"}],\"table\":[{\"cells\":{\"fill\":{\"color\":\"#EBF0F8\"},\"line\":{\"color\":\"white\"}},\"header\":{\"fill\":{\"color\":\"#C8D4E3\"},\"line\":{\"color\":\"white\"}},\"type\":\"table\"}],\"barpolar\":[{\"marker\":{\"line\":{\"color\":\"white\",\"width\":0.5},\"pattern\":{\"fillmode\":\"overlay\",\"size\":10,\"solidity\":0.2}},\"type\":\"barpolar\"}],\"pie\":[{\"automargin\":true,\"type\":\"pie\"}]},\"layout\":{\"autotypenumbers\":\"strict\",\"colorway\":[\"#636efa\",\"#EF553B\",\"#00cc96\",\"#ab63fa\",\"#FFA15A\",\"#19d3f3\",\"#FF6692\",\"#B6E880\",\"#FF97FF\",\"#FECB52\"],\"font\":{\"color\":\"#2a3f5f\"},\"hovermode\":\"closest\",\"hoverlabel\":{\"align\":\"left\"},\"paper_bgcolor\":\"white\",\"plot_bgcolor\":\"white\",\"polar\":{\"bgcolor\":\"white\",\"angularaxis\":{\"gridcolor\":\"#EBF0F8\",\"linecolor\":\"#EBF0F8\",\"ticks\":\"\"},\"radialaxis\":{\"gridcolor\":\"#EBF0F8\",\"linecolor\":\"#EBF0F8\",\"ticks\":\"\"}},\"ternary\":{\"bgcolor\":\"white\",\"aaxis\":{\"gridcolor\":\"#DFE8F3\",\"linecolor\":\"#A2B1C6\",\"ticks\":\"\"},\"baxis\":{\"gridcolor\":\"#DFE8F3\",\"linecolor\":\"#A2B1C6\",\"ticks\":\"\"},\"caxis\":{\"gridcolor\":\"#DFE8F3\",\"linecolor\":\"#A2B1C6\",\"ticks\":\"\"}},\"coloraxis\":{\"colorbar\":{\"outlinewidth\":0,\"ticks\":\"\"}},\"colorscale\":{\"sequential\":[[0.0,\"#0d0887\"],[0.1111111111111111,\"#46039f\"],[0.2222222222222222,\"#7201a8\"],[0.3333333333333333,\"#9c179e\"],[0.4444444444444444,\"#bd3786\"],[0.5555555555555556,\"#d8576b\"],[0.6666666666666666,\"#ed7953\"],[0.7777777777777778,\"#fb9f3a\"],[0.8888888888888888,\"#fdca26\"],[1.0,\"#f0f921\"]],\"sequentialminus\":[[0.0,\"#0d0887\"],[0.1111111111111111,\"#46039f\"],[0.2222222222222222,\"#7201a8\"],[0.3333333333333333,\"#9c179e\"],[0.4444444444444444,\"#bd3786\"],[0.5555555555555556,\"#d8576b\"],[0.6666666666666666,\"#ed7953\"],[0.7777777777777778,\"#fb9f3a\"],[0.8888888888888888,\"#fdca26\"],[1.0,\"#f0f921\"]],\"diverging\":[[0,\"#8e0152\"],[0.1,\"#c51b7d\"],[0.2,\"#de77ae\"],[0.3,\"#f1b6da\"],[0.4,\"#fde0ef\"],[0.5,\"#f7f7f7\"],[0.6,\"#e6f5d0\"],[0.7,\"#b8e186\"],[0.8,\"#7fbc41\"],[0.9,\"#4d9221\"],[1,\"#276419\"]]},\"xaxis\":{\"gridcolor\":\"#EBF0F8\",\"linecolor\":\"#EBF0F8\",\"ticks\":\"\",\"title\":{\"standoff\":15},\"zerolinecolor\":\"#EBF0F8\",\"automargin\":true,\"zerolinewidth\":2},\"yaxis\":{\"gridcolor\":\"#EBF0F8\",\"linecolor\":\"#EBF0F8\",\"ticks\":\"\",\"title\":{\"standoff\":15},\"zerolinecolor\":\"#EBF0F8\",\"automargin\":true,\"zerolinewidth\":2},\"scene\":{\"xaxis\":{\"backgroundcolor\":\"white\",\"gridcolor\":\"#DFE8F3\",\"linecolor\":\"#EBF0F8\",\"showbackground\":true,\"ticks\":\"\",\"zerolinecolor\":\"#EBF0F8\",\"gridwidth\":2},\"yaxis\":{\"backgroundcolor\":\"white\",\"gridcolor\":\"#DFE8F3\",\"linecolor\":\"#EBF0F8\",\"showbackground\":true,\"ticks\":\"\",\"zerolinecolor\":\"#EBF0F8\",\"gridwidth\":2},\"zaxis\":{\"backgroundcolor\":\"white\",\"gridcolor\":\"#DFE8F3\",\"linecolor\":\"#EBF0F8\",\"showbackground\":true,\"ticks\":\"\",\"zerolinecolor\":\"#EBF0F8\",\"gridwidth\":2}},\"shapedefaults\":{\"line\":{\"color\":\"#2a3f5f\"}},\"annotationdefaults\":{\"arrowcolor\":\"#2a3f5f\",\"arrowhead\":0,\"arrowwidth\":1},\"geo\":{\"bgcolor\":\"white\",\"landcolor\":\"white\",\"subunitcolor\":\"#C8D4E3\",\"showland\":true,\"showlakes\":true,\"lakecolor\":\"white\"},\"title\":{\"x\":0.05},\"mapbox\":{\"style\":\"light\"}}},\"title\":{\"text\":\"Compare CAGR / Max Drawdown 2022 - 2024\"},\"xaxis\":{\"title\":{\"text\":\"Annual Return\"}},\"yaxis\":{\"title\":{\"text\":\"Max Drawdown\"}}},                        {\"responsive\": true}                    ).then(function(){\n",
       "                            \n",
       "var gd = document.getElementById('62632ff2-5019-4fa6-b0a8-eca38a21f74c');\n",
       "var x = new MutationObserver(function (mutations, observer) {{\n",
       "        var display = window.getComputedStyle(gd).display;\n",
       "        if (!display || display === 'none') {{\n",
       "            console.log([gd, 'removed!']);\n",
       "            Plotly.purge(gd);\n",
       "            observer.disconnect();\n",
       "        }}\n",
       "}});\n",
       "\n",
       "// Listen for the removal of the full notebook cells\n",
       "var notebookContainer = gd.closest('#notebook-container');\n",
       "if (notebookContainer) {{\n",
       "    x.observe(notebookContainer, {childList: true});\n",
       "}}\n",
       "\n",
       "// Listen for the clearing of the current output cell\n",
       "var outputEl = gd.closest('.output');\n",
       "if (outputEl) {{\n",
       "    x.observe(outputEl, {childList: true});\n",
       "}}\n",
       "\n",
       "                        })                };                });            </script>        </div>"
      ]
     },
     "metadata": {},
     "output_type": "display_data"
    }
   ],
   "source": [
    "fig = go.Figure()\n",
    "top_3_3Y = performance_3Y[performance_3Y.index.isin(inside_list) == False].sort_values(by = 'CAGR', ascending = False)[:3].index\n",
    "\n",
    "for col in performance_3Y.index:\n",
    "    if col == 'NAM.TH.PS':\n",
    "        fig.add_trace(go.Scatter(x=[performance_3Y.loc[col]['CAGR']], y=[performance_3Y.loc[col]['Max Drawdown']],\n",
    "                         mode='markers', name=col, marker=dict(color='red', size=30))) # Set color to red and increase thickness\n",
    "    elif col == 'NAM.TH.CS':\n",
    "        fig.add_trace(go.Scatter(x=[performance_3Y.loc[col]['CAGR']], y=[performance_3Y.loc[col]['Max Drawdown']],\n",
    "                         mode='markers', name=col, marker=dict(color='green', size=30))) # Set color to red and increase thickness\n",
    "    elif col == 'HIEP.NS':\n",
    "        fig.add_trace(go.Scatter(x=[performance_3Y.loc[col]['CAGR']], y=[performance_3Y.loc[col]['Max Drawdown']],\n",
    "                         mode='markers', name=col, marker=dict(color='blue', size=30))) # Set color to red and increase thickness\n",
    "    elif col == 'MANDATE VND':\n",
    "        fig.add_trace(go.Scatter(x=[performance_3Y.loc[col]['CAGR']], y=[performance_3Y.loc[col]['Max Drawdown']],\n",
    "                         mode='markers', name=col, marker=dict(color='orange', size=30))) # Set color to red and increase thickness\n",
    "    elif col == 'VNI':\n",
    "        fig.add_trace(go.Scatter(x=[performance_3Y.loc[col]['CAGR']], y=[performance_3Y.loc[col]['Max Drawdown']],\n",
    "                             mode='markers', name=col, marker=dict(color='purple', size=25, symbol = \"square\"))) # Set color to red and increase thickness\n",
    "    elif col in top_3_3Y:\n",
    "        fig.add_trace(go.Scatter(x=[performance_3Y.loc[col]['CAGR']], y=[performance_3Y.loc[col]['Max Drawdown']],\n",
    "                             mode='markers', name=col, marker=dict(color='maroon', size = 15, symbol = \"diamond\"))) # Set color to blur gray and reduce thickness\n",
    "    else:\n",
    "        fig.add_trace(go.Scatter(x=[performance_3Y.loc[col]['CAGR']], y=[performance_3Y.loc[col]['Max Drawdown']],\n",
    "                         mode='markers', name=col, marker=dict(color='lightgray', size = 10))) # Set color to blur gray and reduce thickness\n",
    "\n",
    "fig.update_layout(title='Compare CAGR / Max Drawdown 2022 - 2024',\n",
    "                  xaxis_title='Annual Return',\n",
    "                  yaxis_title='Max Drawdown')\n",
    "\n",
    "fig.show()"
   ]
  }
 ],
 "metadata": {
  "kernelspec": {
   "display_name": "Python 3 (ipykernel)",
   "language": "python",
   "name": "python3"
  },
  "language_info": {
   "codemirror_mode": {
    "name": "ipython",
    "version": 3
   },
   "file_extension": ".py",
   "mimetype": "text/x-python",
   "name": "python",
   "nbconvert_exporter": "python",
   "pygments_lexer": "ipython3",
   "version": "3.9.13"
  }
 },
 "nbformat": 4,
 "nbformat_minor": 5
}
